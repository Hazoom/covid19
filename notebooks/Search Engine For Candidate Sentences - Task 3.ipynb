{
 "cells": [
  {
   "cell_type": "markdown",
   "metadata": {},
   "source": [
    "# Search Engine For Candidate Sentences"
   ]
  },
  {
   "cell_type": "markdown",
   "metadata": {},
   "source": [
    "## Demonstration of how to use the simple search engine for fetching relevant sentences"
   ]
  },
  {
   "cell_type": "markdown",
   "metadata": {},
   "source": [
    "Let's import our search engine for `src` directory.\n",
    "\n",
    "First, one needs to set the Python source files environment variables for Juptyer Notebook. If you haven't done this, please run those two command BEFORE running Juptyer Notebook:\n",
    "1. `export PYTHONPATH=/path/to/covid19/src`\n",
    "2. `export JUPYTER_PATH=/path/to/covid19/src`"
   ]
  },
  {
   "cell_type": "code",
   "execution_count": 1,
   "metadata": {},
   "outputs": [
    {
     "name": "stderr",
     "output_type": "stream",
     "text": [
      "unable to import 'smart_open.gcs', disabling that module\n"
     ]
    }
   ],
   "source": [
    "from search.searchengine import SearchEngine\n",
    "from pprint import pprint\n",
    "import os"
   ]
  },
  {
   "cell_type": "code",
   "execution_count": 2,
   "metadata": {},
   "outputs": [],
   "source": [
    "data_dir = \"../../../workspace/kaggle/covid19/data\""
   ]
  },
  {
   "cell_type": "markdown",
   "metadata": {},
   "source": [
    "Initialize out SearchEngine object with:\n",
    "1. Sentences metadata\n",
    "2. bi-gram model\n",
    "3. tri-gram model\n",
    "4. Trained FastText vectors"
   ]
  },
  {
   "cell_type": "code",
   "execution_count": 3,
   "metadata": {},
   "outputs": [
    {
     "name": "stdout",
     "output_type": "stream",
     "text": [
      "Loading CSV: ../../../workspace/kaggle/covid19/data/sentences_with_metadata.csv and building mapping dictionary...\n",
      "Finished loading CSV: ../../../workspace/kaggle/covid19/data/sentences_with_metadata.csv and building mapping dictionary\n",
      "Loaded 249343 sentences\n",
      "Loading bi-gram model: ../../../workspace/kaggle/covid19/data/covid_bigram_model_v0.pkl\n",
      "Finished loading bi-gram model: ../../../workspace/kaggle/covid19/data/covid_bigram_model_v0.pkl\n",
      "Loading tri-gram model: ../../../workspace/kaggle/covid19/data/covid_trigram_model_v0.pkl\n",
      "Finished loading tri-gram model: ../../../workspace/kaggle/covid19/data/covid_trigram_model_v0.pkl\n",
      "Loading fasttext model: ../../../workspace/kaggle/covid19/data/fasttext_no_subwords_trigrams/word-vectors-100d.txt\n",
      "Finished loading fasttext model: ../../../workspace/kaggle/covid19/data/fasttext_no_subwords_trigrams/word-vectors-100d.txt\n"
     ]
    }
   ],
   "source": [
    "search_engine = SearchEngine(\n",
    "    os.path.join(data_dir, \"sentences_with_metadata.csv\"),\n",
    "    os.path.join(data_dir, \"covid_bigram_model_v0.pkl\"),\n",
    "    os.path.join(data_dir, \"covid_trigram_model_v0.pkl\"),\n",
    "    os.path.join(data_dir, \"fasttext_no_subwords_trigrams/word-vectors-100d.txt\"),\n",
    ")"
   ]
  },
  {
   "cell_type": "markdown",
   "metadata": {},
   "source": [
    "Simple search function that gets a list of keywords to search:"
   ]
  },
  {
   "cell_type": "code",
   "execution_count": 4,
   "metadata": {},
   "outputs": [],
   "source": [
    "def search(keywords, optional_keywords=None, top_n=10, synonyms_threshold=0.8, only_sentences=False):\n",
    "    print(f\"\\nSearch for terms {keywords}\\n\\n\")\n",
    "    results = search_engine.search(\n",
    "        keywords, optional_keywords=optional_keywords, top_n=top_n, synonyms_threshold=synonyms_threshold\n",
    "    )\n",
    "    print(\"\\nResults:\\n\")\n",
    "    \n",
    "    if only_sentences:\n",
    "        for result in results:\n",
    "            print(result['sentence'] + \"\\n\")\n",
    "    else:\n",
    "        pprint(results)"
   ]
  },
  {
   "cell_type": "markdown",
   "metadata": {},
   "source": [
    "Let's see some examples:"
   ]
  },
  {
   "cell_type": "code",
   "execution_count": 8,
   "metadata": {},
   "outputs": [
    {
     "name": "stdout",
     "output_type": "stream",
     "text": [
      "\n",
      "Search for terms ['tracking', 'genomes', 'diagnostics', 'therapeutics', 'variations']\n",
      "\n",
      "\n",
      "Search terms after cleaning, bigrams, trigrams and synonym expansion: ['tracking', 'genomes', 'diagnostics_therapeutics', 'variations', 'genome', 'viral_genomes', 'virus_genomes', 'avenues_development', 'new_frontier', 'fundamental_research', 'diagnostic_therapeutic_agents', 'advancement_field', 'antibody_engineering_techniques', 'basic_research_clinical', 'current_developments', 'opportunities_design', 'tremendous_efforts_have_been', 'variation']\n",
      "Optional search terms after cleaning, bigrams, trigrams and synonym expansion: ['newcoronavirus', 'coronavirus_covid19', '2019ncov_covid19', 'outbreak_2019_novel', 'sarscov2_2019ncov', 'coronavirus_2019ncov', 'ongoing_outbreak_novel_coronavirus', 'since_late_december', 'ongoing_outbreak_covid19', 'originating_wuhan_china', 'novel_coronavirus_outbreak', 'wuhan_coronavirus']\n",
      "\n",
      "Results:\n",
      "\n",
      "All assembled query genomes in FASTA format were analyzed using Genome  To understand the variation in genomes from various geographical areas used in the study, we performed a phylogenetic analysis.\n",
      "\n",
      "Their data showed that the 2019-nCoV viral genomes have about 79% homology to the genome of severe acute respiratory syndrome (SARS) coronavirus (SARS-CoV), about 52% homology to that of Middle East respiratory syndrome coronavirus (MERS-CoV), and about 87% homology to the genomes of two strains of batderived SARS-like coronavirus identified in Zhoushan in 2015.\n",
      "\n",
      "After excluding very short genomes, we collected in total 3,051 Coronavirinae virus genomes.\n",
      "\n",
      "385 To estimate the minimum data requirements for genome assembling and intra-individual 386 variation analysis, we applied gradient-based sampling to the HCoV-19 genome align-387 ments (referred to BAM files) to each dataset using Samtools (v1.9) 34 For amplicon sequencing data, only base positions covered by ≥100X reads were used for 417 iSNVs calling.\n",
      "\n",
      "Knowledge of the range of flexible variation here is potentially useful for structurebased drug design and/or fragment screening, since attention can be focussed on candidate molecules that interact robustly with the binding site and tolerate its flexibility, in preference to molecules that interact well only with the crystal structure and not with its flexible variations.\n",
      "\n",
      "To discover the evolutionary history of the viruses, we analyzed the genomes of 2019-nCoVs, compared their variations in both nucleotide and amino acid sequence levels, and determined their molecular clock related characteristics such as the nucleotide substitution rate and the most recent common ancestor.\n",
      "\n",
      "However, the fifth gene in the Betacoronavirus core genome, the envelope protein (E), varied among genomes, defining three distinct subclusters within the envelope protein E of Betacoronaviruses ( Figure 2 ).\n",
      "\n",
      "Further tracking the genome mutations with additional strains of 2019-nCoV isolated from patients in 20 different locations at different time points will provide insights to understand the molecular evolution of this rapid spreading viruses.\n",
      "\n",
      "Besides haplotypes of a virus quasispecies, the terms strains and isolates are in common use to refer to virus variants with larger genome variations, although there are different opinions as to which term should be used in a specific context.\n",
      "\n",
      "The phylogenetics heterogeneity between different strains is explored by genome variation profiling to find alterations in genetic information during the course of evolution, outbreak, and clinical spectrum caused by the different strains.\n",
      "\n"
     ]
    }
   ],
   "source": [
    "search([\"tracking\", \"genomes\", \"diagnostics\", \"therapeutics\", \"variations\"],\n",
    "       optional_keywords=[\"new_coronavirus\", \"coronavirus\", \"covid19\"],\n",
    "       top_n=10, only_sentences=True)"
   ]
  },
  {
   "cell_type": "code",
   "execution_count": 16,
   "metadata": {},
   "outputs": [
    {
     "name": "stdout",
     "output_type": "stream",
     "text": [
      "\n",
      "Search for terms ['circulation', 'geographic', 'genome', 'sample sets', 'Nagoya Protocol']\n",
      "\n",
      "\n",
      "Search terms after cleaning, bigrams, trigrams and synonym expansion: ['circulation', 'geographic', 'genome', 'sample_sets', 'nagoya_protocol', 'geographical', 'genomes', 'benefit_sharing', 'agreement_traderelated_aspects_intellectual', 'agreement_trade', 'sanitary_phytosanitary_measures', 'fair_equitable_sharing', 'dualuse_issues', 'essential_medicines_•', 'convention_biological_diversity', 'implementation_regulations', 'property_rights_trips']\n",
      "Optional search terms after cleaning, bigrams, trigrams and synonym expansion: ['newcoronavirus', 'coronavirus_covid19', '2019ncov_covid19', 'outbreak_2019_novel', 'sarscov2_2019ncov', 'coronavirus_2019ncov', 'ongoing_outbreak_novel_coronavirus', 'since_late_december', 'ongoing_outbreak_covid19', 'originating_wuhan_china', 'novel_coronavirus_outbreak', 'wuhan_coronavirus']\n",
      "\n",
      "Results:\n",
      "\n",
      "However, the fifth gene in the Betacoronavirus core genome, the envelope protein (E), varied among genomes, defining three distinct subclusters within the envelope protein E of Betacoronaviruses ( Figure 2 ).\n",
      "\n",
      "All assembled query genomes in FASTA format were analyzed using Genome  To understand the variation in genomes from various geographical areas used in the study, we performed a phylogenetic analysis.\n",
      "\n",
      "The two genomes were merged using the easymerge.pl subcommand from VirMAP to create the final pangolin-associated coronavirus (Pangolin-CoV) genome.\n",
      "\n",
      "The genomes and the combination of genome and protein sequences were used to develop a phylogenetic tree and phylogenetic profiling, respectively.\n",
      "\n",
      "Their data showed that the 2019-nCoV viral genomes have about 79% homology to the genome of severe acute respiratory syndrome (SARS) coronavirus (SARS-CoV), about 52% homology to that of Middle East respiratory syndrome coronavirus (MERS-CoV), and about 87% homology to the genomes of two strains of batderived SARS-like coronavirus identified in Zhoushan in 2015.\n",
      "\n",
      "The genomes and the combination of genome and protein sequences were used to develop a phylogenetic tree and phylogenetic profiling, respectively.\n",
      "\n",
      "Since plasmids can be considered as \"genomes\" within the bacterial genome, a fully sequence approach may help to identify the characteristics enhancing the successful spread of specific plasmid families, but also the ability of plasmids to support the host survival and spread.\n",
      "\n",
      "Comparison of genomes of these three strains showed that they are almost Cell Host & Microbe 27, March 11, 2020 ª 2020 Published by Elsevier Inc. 1 identical, with only five nucleotide differences in the genome of~29.8 kb nucleotides ( Figure S1 ).\n",
      "\n",
      "Since random, even lethal, errors and drift are inherent in a quasispecies, lethal valleys can be readily crossed by such variable genomes, allowing the master genome to adapt by natural selection to a new fitness peak.\n",
      "\n",
      "Genome Structure: Hantavirus has three negative-strand RNA genomes of 6.8, 4.5, and 0.9 kb, termed L, M, and S segments ( Fig. 16.7) .\n",
      "\n",
      "Genomes of other origin may also be a source of innovation for a genome through the use of specially evolved mechanisms of genetic exchange (recombination).\n",
      "\n",
      "A 29-bp insertion in ORF 8 of bat-SARS-CoV genome, not found in most human SARS-CoV genomes, was suggestive of a common ancestor with civet SARS-CoV (Lau et al., 2005) .\n",
      "\n",
      "We sequenced Zika virus genomes from nine infected Florida travelers arriving from Cuba during 2017 and 2018 and obtained one Cuban Zika virus genome from GenBank: MF438286.\n",
      "\n",
      "Additional BIGSdb functionality, called the Genome Comparator, enables rapid comparison of genomes based on user-selected schemes.\n",
      "\n",
      "At the core of this approach, the genome is split into chunks after which the BLAST algorithm is used to compare genomes.\n",
      "\n"
     ]
    }
   ],
   "source": [
    "search([\"circulation\", \"geographic\", \"genome\", \"sample sets\", \"Nagoya Protocol\"],\n",
    "       optional_keywords=[\"new_coronavirus\", \"coronavirus\", \"covid19\"],\n",
    "       top_n=15, only_sentences=True)"
   ]
  },
  {
   "cell_type": "code",
   "execution_count": 14,
   "metadata": {},
   "outputs": [
    {
     "name": "stdout",
     "output_type": "stream",
     "text": [
      "\n",
      "Search for terms ['geographic distribution', 'genomic differences', 'geographic']\n",
      "\n",
      "\n",
      "Search terms after cleaning, bigrams, trigrams and synonym expansion: ['geographic_distribution', 'genomic', 'differences', 'geographic', 'geographical_distribution', 'difference', 'differences_between', 'geographical']\n",
      "Optional search terms after cleaning, bigrams, trigrams and synonym expansion: ['newcoronavirus', 'coronavirus_covid19', '2019ncov_covid19', 'outbreak_2019_novel', 'sarscov2_2019ncov', 'coronavirus_2019ncov', 'ongoing_outbreak_novel_coronavirus', 'since_late_december', 'ongoing_outbreak_covid19', 'originating_wuhan_china', 'novel_coronavirus_outbreak', 'wuhan_coronavirus']\n",
      "\n",
      "Results:\n",
      "\n",
      "Individual differences between donors from different sources may lead to differences in the analysis results of the two scRNA-seq datasets.\n",
      "\n",
      "Adjusting for differences in underlying demography and assuming no overall difference in the attack rate by age, we estimate a high level of under-ascertainment of cases in younger agegroups in both Wuhan and outside Wuhan (Figure 3 C-D).\n",
      "\n",
      "When three-way ANOVA results indicated significant 331 differences on the basis of sex (weight loss, histopathology, and footpad swelling), the strain-332 based differences between infected animals of a single sex were analyzed using multiple t-tests 333 with the Benjamini and Hochberg correction for false discoveries in Prism.\n",
      "\n",
      "The projected number of prevalent critically ill patients at the peak of a Wuhan-like outbreak in US cities ranges from 2.1 to 4.0 per 10,000 adults when we took into account of the difference in age distribution (Figure 3, top) , and from 2.6 to 4.9 per 10,000 adults when we took into account of the differences in comorbidity (hypertension) prevalence (Figure 3, bottom) .\n",
      "\n",
      "Surprisingly, the exponent µ does not vary substantially with a typical value of µ = 2.1 ± 0.3 for the confirmed case curves in other substantially affected provinces (confirmed case counts larger than 500 on Feb. 12th), despite geographical, socio-economical differences, differences in containment strategies, and heterogeneties that may have variable impacts on how the local epidemic unfolds, cf.\n",
      "\n",
      "Although there were numeric differences between colony count of plates inoculated by WASP and manually, no differences in clinical interpretation was observed.\n",
      "\n",
      "The reasons for this difference are unknown but likely to involve differences across the species related to diet, genetics, toxin exposures, and/or physiology.\n",
      "\n",
      "There are several important unknown issues regarding diabetes and COVID-19 .It is unclear whether there are differences in rates and severity of infections in men versus women with diabetes and whether there is a difference in rates of infection and severity of infection in type 1 versus type 2 diabetic patients.\n",
      "\n",
      "Differences between species, as calculated from alignment, may be quantified as either pairwise distances forming a distance matrix or position-specific substitution columns (discrete characters of states of alignment), the latter preserving the knowledge about location of differences.\n",
      "\n",
      "Even though there are high similarities between SARS-CoV-2 S and RaTG13 S, there are two distinct differences: one is an \"RRAR\" furin recognition site formed by an insertion residues in the S1/S2 protease cleavage site in SARS-CoV-2, rather than the single Arginine in SARS-CoV [97] [98] [99] [100] [101] ; the other difference is the presence of 29 variant residues between SARS-CoV-2 S and RaTG13 S, 17 of which mapped to the receptor binding domain (RBD) [97] .\n",
      "\n",
      "18 With the ongoing outbreak of COVID-19 disease, differences between the SARS-CoV-2 and the 20 original SARS-CoV could be leveraged to inform disease progression and eventual treatment 21 options.\n",
      "\n",
      "An in-depth annotation of the newly discovered coronavirus (2019-nCoV) genome has revealed differences between 2019-nCoV and severe acute respiratory syndrome (SARS) or SARS-like coronaviruses.\n",
      "\n",
      "Third, the case data used in this study likely varies in quality and completeness due to the timeliness of reporting, varying laboratory diagnosis capacities, and differences in details announced on health authority websites.\n",
      "\n",
      "To obtain widely used gene entities that are precisely related to the subject and to determine the significance of the gene distribution in the specific texts, we calculated the difference in the distribution proportions.\n",
      "\n",
      "Using exactly the same parameters and seeding the infection in the same initial wards resulted in a difference in peak timing of +/-10 days (figure 2).\n",
      "\n"
     ]
    }
   ],
   "source": [
    "search([\"geographic distribution\", \"genomic differences\", \"geographic\"],\n",
    "       optional_keywords=[\"new_coronavirus\", \"coronavirus\", \"covid19\"],\n",
    "       top_n=15, only_sentences=True)"
   ]
  },
  {
   "cell_type": "code",
   "execution_count": 32,
   "metadata": {},
   "outputs": [
    {
     "name": "stdout",
     "output_type": "stream",
     "text": [
      "\n",
      "Search for terms ['wildlife', 'animals', 'infections', 'host range']\n",
      "\n",
      "\n",
      "Search terms after cleaning, bigrams, trigrams and synonym expansion: ['wildlife', 'animals', 'infections', 'host_range', 'wildlife_species', 'domestic_animal', 'wildlife_populations', 'wildlife_conservation', 'wild_animals', 'infection', 'host_tropism', 'host_ranges']\n",
      "Optional search terms after cleaning, bigrams, trigrams and synonym expansion: ['newcoronavirus', 'coronavirus_covid19', '2019ncov_covid19', 'outbreak_2019_novel', 'sarscov2_2019ncov', 'coronavirus_2019ncov', 'ongoing_outbreak_novel_coronavirus', 'since_late_december', 'ongoing_outbreak_covid19', 'originating_wuhan_china', 'novel_coronavirus_outbreak', 'wuhan_coronavirus']\n",
      "\n",
      "Results:\n",
      "\n",
      "This chain poses a great risk for the contact between human and these wild animals, which may put the handlers at risk of infection not only for coronaviruses but also for other pathogens that these animals and birds may harbor.\n",
      "\n",
      "While we did not look at other healthcare settings, this seems to suggest that minimizing the risk of COVID19 infection to HCW in general may be important to preventing hospital-acquired COVID19 infections in patients as well. .\n",
      "\n",
      "Many mild infections are typically not reported and, depending on their contagiousness, may support stealth transmission and the spread of documented infection.\n",
      "\n",
      "In addition, is the fraction of documented infections, Z is the average latency period and D is the average duration of infection.\n",
      "\n",
      "Although infections were reported prior to January 10, these cases were sporadic and the EAKF adjustment can account for the effects of these early infections (by selecting elevated exposed and unreported infection levels).\n",
      "\n",
      "/2020 hunting and management of such wild animals are at high risk of infection, likely live in mountain or rural areas and are more likely to be undetected when having such an infection for various reasons.\n",
      "\n",
      "In animals and in isolates from early human infections, the ORF8 gene codes for a single ORF8 protein.\n",
      "\n",
      "The effectiveness of isolation and contact tracing methods hinges on two key epidemiological parameters: the number of secondary infections generated by each new infection and the proportion of transmission that occurs prior to symptom onset 5 .\n",
      "\n",
      "The ongoing outbreak of viral pneumonia in China and beyond is associated with a novel 28 coronavirus, provisionally termed 2019-nCoV. This outbreak has been tentatively associated 29 with a seafood market in Wuhan, China, where the sale of wild animals may be the source of 30 zoonotic infection.\n",
      "\n",
      "Note that 0 is likely to be later than the date of the first infection event, because multiple infections may be needed before the onset of exponential growth (9) .\n",
      "\n",
      "We therefore hypothesize that these symptoms may reflect other respiratory infections which are prevalent in Israel during this period (such as an infection caused by an influenza virus), as many of these diseases share common symptoms 9 .\n",
      "\n",
      "Here we attempt to adjust for these biases in data sources to obtain estimates of the CFR (proportion of all cases that will eventually die) and infection fatality ratio (IFR, the proportion of all infections that will eventually die) using both individual-level case report data and aggregate case and death counts from mainland China, administrative regions and international case reports.\n",
      "\n",
      "We estimate the prevalence of infection in Wuhan on 31 st January by: where is an additional scaling factor for all infections, ̂, ′ is the estimated incidence of cases on 31 st January in Wuhan (after the other age-based and Wuhan specific scalings detailed above), is the population of Wuhan (assumed to be 11,081,000 people), r is the epidemic growth rate (assumed r = 0.14) and D is the detection window (duration that an infection remains detectable).\n",
      "\n",
      "Based on previous studies 16, 17 , lymphopenia is typical laboratory indicator during highly pathogenic coronavirus infections, such as the SARS-CoV and MERS-CoV infection, and is believed to be associated with disease severity.\n",
      "\n",
      "In this regard, infections in the young group lead to mild symptoms [30] that, without test, are often confused with those of a common cold, whereas for old individuals the infection evolves towards more severe symptoms and usually requires hospitalization.\n",
      "\n"
     ]
    }
   ],
   "source": [
    "search([\"wildlife\", \"animals\", \"infections\", \"host range\"],\n",
    "       optional_keywords=[\"new_coronavirus\", \"coronavirus\", \"covid19\"],\n",
    "       top_n=15, only_sentences=True)"
   ]
  },
  {
   "cell_type": "code",
   "execution_count": 34,
   "metadata": {},
   "outputs": [
    {
     "name": "stdout",
     "output_type": "stream",
     "text": [
      "\n",
      "Search for terms ['Animal host', 'wildlife', 'spill-over', 'animal to human']\n",
      "\n",
      "\n",
      "Search terms after cleaning, bigrams, trigrams and synonym expansion: ['animal', 'host', 'wildlife', 'spillover', 'animal_human', 'wildlife_species', 'domestic_animal', 'wildlife_populations', 'wildlife_conservation', 'wild_animals', 'spillover_events', 'spillover_from', 'spillover_humans', 'spillover_infections', 'human_animal']\n",
      "Optional search terms after cleaning, bigrams, trigrams and synonym expansion: ['newcoronavirus', 'coronavirus_covid19', '2019ncov_covid19', 'outbreak_2019_novel', 'sarscov2_2019ncov', 'coronavirus_2019ncov', 'ongoing_outbreak_novel_coronavirus', 'since_late_december', 'ongoing_outbreak_covid19', 'originating_wuhan_china', 'novel_coronavirus_outbreak', 'wuhan_coronavirus']\n",
      "\n",
      "Results:\n",
      "\n",
      "SARS-CoV-2 is likely a batorigin coronavirus that was transmitted to humans through a spillover from bats or through yet undetermined intermediate animal host (avian, swine, phocine, bovine, canine, other species) or wild animals.\n",
      "\n",
      "SARS-CoV-2 is likely a bat-origin coronavirus that was transmitted to humans through a spill over from bats or through an undetermined yet intermediate animal host (avian, swine, phocine, bovine, canine, other species) or wild animals.\n",
      "\n",
      "SARS-CoV-2 is likely a bat-origin coronavirus that was transmitted to humans through a spill over from bats or through an undetermined yet intermediate animal host (avian, swine, phocine, bovine, canine, other species) or wild animals.\n",
      "\n",
      "However, the drugs Amantadine, Hexamethylene amiloride and also BIT225 (BIT225 is in clinical trials) completely block the IC activity of SARS-CoV-1 9,10 and restrict its reproduction, leading to better survival of the animal host.\n",
      "\n",
      "The present outbreak of lower respiratory tract infections, including respiratory distress syndrome, is the third spillover, in only two decades, of an animal coronavirus to humans resulting in a major epidemic.\n",
      "\n",
      "Studies have shown that the virus has 79% homology with SARS virus 3 , potential intermediate animal host is still unknown, it has been demonstrated this virus did not come directly from pangolins 4 .\n",
      "\n",
      "Search key words included \"zoonotic\", \"zoonoses\", \"emerging disease\", \"viral spillover\", \"animal to human transmission\", and \"animal reservoir virus\".\n",
      "\n",
      "The basic reproduction number (R 0 ) was calculated from the RP model to assess the transmissibility of the 2019-nCoV.  We assumed that the virus transmitted among the bats population, and then transmitted to an unknown host (probably be wild animals).\n",
      "\n",
      "The virus is likely of bat origin, with a possible intermediate animal host, and most of the first documented cases were linked to environmental exposure in the Huanan Seafood Wholesale Market in early December 2019.\n",
      "\n",
      "This insertion may become critical point for the host of RaTG13 turning from animal to human.\n",
      "\n",
      "To prevent the next epidemic and pandemic related to these interfaces, we call for research and investment in three areas: 1) surveillance among wildlife to identify the high-risk pathogens they carry; 2) surveillance among people who have contact with wildlife to identify early spillover events; and 3) improvement of market biosecurity regarding the wildlife trade.\n",
      "\n",
      "To prevent the next epidemic and pandemic related to these interfaces, we call for research and investment in three areas: 1) surveillance among wildlife to identify the high-risk pathogens they carry; 2) surveillance among people who have contact with wildlife to identify early spillover events; and 3) improvement of market biosecurity regarding the wildlife trade.\n",
      "\n",
      "At the time of writing, the host from which the SARS-CoV-2 entered the human population is unknown although the suspicion is that food markets are likely sources for the original spillover.\n",
      "\n",
      "At the time of writing, the host from which the SARS-CoV-2 entered the human population is unknown although the suspicion is that food markets are likely sources for the original spillover.\n",
      "\n",
      "At the time of writing, the host from which the SARS-CoV-2 entered the human population is unknown although the suspicion is that food markets are likely sources for the original spillover.\n",
      "\n"
     ]
    }
   ],
   "source": [
    "search([\"Animal host\", \"wildlife\", \"spill-over\", \"animal to human\"],\n",
    "       optional_keywords=[\"new_coronavirus\", \"coronavirus\", \"covid19\"],\n",
    "       top_n=15, only_sentences=True)"
   ]
  },
  {
   "cell_type": "code",
   "execution_count": 41,
   "metadata": {},
   "outputs": [
    {
     "name": "stdout",
     "output_type": "stream",
     "text": [
      "\n",
      "Search for terms ['spill-over', 'Socioeconomic']\n",
      "\n",
      "\n",
      "Search terms after cleaning, bigrams, trigrams and synonym expansion: ['spillover', 'socioeconomic', 'spillover_events', 'spillover_from', 'spillover_humans', 'spillover_infections', 'social_determinants', 'poverty_social', 'social_inequality', 'social_economic', 'societal_factors', 'socioeconomical', 'social_economic_factors', 'political_socioeconomic', 'socioeconomic_cultural', 'social_cultural_economic']\n",
      "Optional search terms after cleaning, bigrams, trigrams and synonym expansion: ['newcoronavirus', 'coronavirus_covid19', '2019ncov_covid19', 'outbreak_2019_novel', 'sarscov2_2019ncov', 'coronavirus_2019ncov', 'ongoing_outbreak_novel_coronavirus', 'since_late_december', 'ongoing_outbreak_covid19', 'originating_wuhan_china', 'novel_coronavirus_outbreak', 'wuhan_coronavirus']\n",
      "\n",
      "Results:\n",
      "\n",
      "Every location has a different socio-economic profile such that the growth rate of the epidemic (and hence R 0 ) might differ.\n",
      "\n",
      "\" 6 At this time of severe crisis, policy makers are called to define containment measures which are often difficult to sustain in the long run and which have immense repercussions in terms of socio-economic sustainability.\n",
      "\n",
      "The reversion of the avian 306 conformation containing the glutamic acid residue, to the mammalian conformation containing 307 offers another angle for interpretation, especially in regards to identifying possible spill-over or 353 re-assortment events and is depicted in Figure 6 .\n",
      "\n",
      "The present outbreak of lower respiratory tract infections, including respiratory distress syndrome, is the third spillover, in only two decades, of an animal coronavirus to humans resulting in a major epidemic.\n",
      "\n",
      "If genetic variability is instrumental in producing cross-species infections, genome size should be positively related to the likelihood of viral spillover events provided lethal substitutions do not substantially reduce the mean fitness of the viral population.\n",
      "\n",
      "Search key words included \"zoonotic\", \"zoonoses\", \"emerging disease\", \"viral spillover\", \"animal to human transmission\", and \"animal reservoir virus\".\n",
      "\n",
      "The COVID-19 pandemic may cause excess mortality over the next year in the population both because of deaths among those infected, and because people who are not infected are experiencing social and economic upheaval; meanwhile the ability of health services to provide high quality of care for both infected and uninfected patients is increasingly threatened.\n",
      "\n",
      "The prediction is expected to provide practical significance on social and economic application.\n",
      "\n",
      "The close proximity of animals of different species in a wet market setting may increase the potential for cross-species spillover infections, by enabling recombination between more distant coronaviruses and the emergence of recombinants with novel phenotypes.\n",
      "\n",
      "However, with rare direct contacts between such bats and humans, similar to SARS-CoV and MERS-CoV, it seems to be more likely that the spillover of 2019-nCoV to humans from another intermediate host rather than directly from bats.\n",
      "\n",
      "The ongoing outbreak is accompanied by many human casualties and significant socio-economic losses globally and has now reached the proportions of a pandemic, with more than 81,000 COVID-19 confirmed cases and more than 2,760 related fatalities worldwide (February 26, 2020) .\n",
      "\n",
      "A main objective of this paper is to quantify the effect of various social and economic factors in mediating the transmission rates of the virus, which may help identify potential behavioral and socioeconomic risk factors for infections.\n",
      "\n",
      "We investigate the impacts of many social, economic and environmental variables in mediating the transmission rates (Eq. (3)).\n",
      "\n",
      "Tailored and sustainable approaches should be adopted in a different situation, striking a balance among the control of infection and death number, confining epidemic regions, and maintaining socioeconomic vitality.\n",
      "\n",
      "The universality of this behavior indicates that, in spite of social, regional, demographical, geographical, and socio-economical heterogeneities of affected Chinese provinces, this outbreak is dominated by fundamental mechanisms that are not captured by standard epidemiological models.\n",
      "\n"
     ]
    }
   ],
   "source": [
    "search([\"spill-over\", \"Socioeconomic\"],\n",
    "       optional_keywords=[\"new_coronavirus\", \"coronavirus\", \"covid19\"],\n",
    "       top_n=15, only_sentences=True)"
   ]
  },
  {
   "cell_type": "code",
   "execution_count": 42,
   "metadata": {},
   "outputs": [
    {
     "name": "stdout",
     "output_type": "stream",
     "text": [
      "\n",
      "Search for terms ['Sustainable', 'risk reduction', 'strategies']\n",
      "\n",
      "\n",
      "Search terms after cleaning, bigrams, trigrams and synonym expansion: ['sustainable', 'risk_reduction', 'strategies', 'strategy']\n",
      "Optional search terms after cleaning, bigrams, trigrams and synonym expansion: ['newcoronavirus', 'coronavirus_covid19', '2019ncov_covid19', 'outbreak_2019_novel', 'sarscov2_2019ncov', 'coronavirus_2019ncov', 'ongoing_outbreak_novel_coronavirus', 'since_late_december', 'ongoing_outbreak_covid19', 'originating_wuhan_china', 'novel_coronavirus_outbreak', 'wuhan_coronavirus']\n",
      "\n",
      "Results:\n",
      "\n",
      "Interpretation As strong social distancing intervention strategies had the most effect in reducing the epidemic peak, this strategy may be considered when weaker strategies are first tried and found to be less effective.\n",
      "\n",
      "The lockdown resulted in a downward trend in national and provincial epidemic curves, however, these measures are not sustainable and eventually there will be a strategy to return to normality.\n",
      "\n",
      "Strategies include airport screening, health communication to passengers at risk, reduction or prevention of travel (such as the lock down of Wuhan which occurred on January 23 rd 2020).\n",
      "\n",
      "The lockdown resulted in a downward trend in national and provincial epidemic curves, however, these measures are not sustainable and eventually there will be a strategy to return to normality.\n",
      "\n",
      "In a post hoc analysis of the Clopidogrel for the Reduction of Events during Observation trial, a study of prolonged clopidogrel therapy following percutaneous coronary intervention (PCI), there was a signifi cant (44%) rela tive risk reduction in the combined end point of death, myocardial infarction, or stroke at conditions, including sepsis and ALI, there are far fewer data to support targeted antiplatelet strategies as therapeutic options for managing affl icted patients.\n",
      "\n",
      "Differing nutritional management strategies for dairy calves, in particular colostrum feeding, plane of nutrition, and weaning strategy, can result in great differences in growth performance, health, and gastrointestinal development.\n",
      "\n",
      "In this work, we developed a Prophylactic Antiviral CRISPR in huMAN cells (PAC-MAN) strategy as a form of genetic intervention to target SARS-CoV-2, IAV, and potentially all sequenced coronaviruses.\n",
      "\n",
      "Since we do not yet have access to live SARS-CoV-2 virus, as a proof-of-concept we elected to test the CRISPR-Cas13d strategy on inhibiting H1N1 IAV, a RNA virus with a similar tropism as SARS-CoV-2 for respiratory tract epithelial cells.\n",
      "\n",
      "Here, we have repurposed the RNA-guided RNA endonuclease activity of Cas13d in mammalian cells against emergent viral targets, SARS-CoV-2 and IAV, in our PAC-MAN strategy.\n",
      "\n",
      "While this strategy is a proof-of-concept and will require further testing using replication-competent SARS-CoV-2 viruses and validation in animal models before clinical tests in humans, it represents a unique approach to implement a rapid and broad antiviral defense in humans against emerging pathogens for which there are no effective vaccines.\n",
      "\n",
      "There are several potential strategies that could be employed for transient in vivo expression of CRISPR components.\n",
      "\n",
      "In addition, a DNA-based liposomal delivery strategy, such as the recently developed HEDGES platform is also attractive 41 .\n",
      "\n",
      "If the delivery barriers are overcome and a strategy like this is able to be used therapeutically, there are many potential benefits over traditional vaccines.\n",
      "\n",
      "In contrast, here we have demonstrated a genetic strategy that is able to target highly conserved regions, which would be expected to make it much more unlikely for the virus to escape inhibition through mutation.\n",
      "\n",
      "As a further advantage, we demonstrate a potential pan-coronavirus strategy to target not only viruses that circulate in humans, but also those that currently are found in animal reservoirs that might transfer to humans to cause disease.\n",
      "\n"
     ]
    }
   ],
   "source": [
    "search([\"Sustainable\", \"risk reduction\", \"strategies\"],\n",
    "       optional_keywords=[\"new_coronavirus\", \"coronavirus\", \"covid19\"],\n",
    "       top_n=15, only_sentences=True)"
   ]
  },
  {
   "cell_type": "code",
   "execution_count": null,
   "metadata": {},
   "outputs": [],
   "source": []
  }
 ],
 "metadata": {
  "kernelspec": {
   "display_name": "covid19",
   "language": "python",
   "name": "covid19"
  },
  "language_info": {
   "codemirror_mode": {
    "name": "ipython",
    "version": 3
   },
   "file_extension": ".py",
   "mimetype": "text/x-python",
   "name": "python",
   "nbconvert_exporter": "python",
   "pygments_lexer": "ipython3",
   "version": "3.6.8"
  }
 },
 "nbformat": 4,
 "nbformat_minor": 2
}
