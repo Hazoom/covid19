{
 "cells": [
  {
   "cell_type": "markdown",
   "metadata": {},
   "source": [
    "# Search Engine For Candidate Sentences"
   ]
  },
  {
   "cell_type": "markdown",
   "metadata": {},
   "source": [
    "## Demonstration of how to use the simple search engine for fetching relevant sentences"
   ]
  },
  {
   "cell_type": "markdown",
   "metadata": {},
   "source": [
    "Let's import our search engine for `src` directory.\n",
    "\n",
    "First, one needs to set the Python source files environment variables for Juptyer Notebook. If you haven't done this, please run those two command BEFORE running Juptyer Notebook:\n",
    "1. `export PYTHONPATH=/path/to/covid19/src`\n",
    "2. `export JUPYTER_PATH=/path/to/covid19/src`"
   ]
  },
  {
   "cell_type": "code",
   "execution_count": 1,
   "metadata": {},
   "outputs": [
    {
     "name": "stderr",
     "output_type": "stream",
     "text": [
      "unable to import 'smart_open.gcs', disabling that module\n"
     ]
    }
   ],
   "source": [
    "from search.searchengine import SearchEngine\n",
    "from pprint import pprint\n",
    "import os"
   ]
  },
  {
   "cell_type": "code",
   "execution_count": 2,
   "metadata": {},
   "outputs": [],
   "source": [
    "data_dir = \"../../../workspace/kaggle/covid19/data\""
   ]
  },
  {
   "cell_type": "markdown",
   "metadata": {},
   "source": [
    "Initialize out SearchEngine object with:\n",
    "1. Sentences metadata\n",
    "2. bi-gram model\n",
    "3. tri-gram model\n",
    "4. Trained FastText vectors"
   ]
  },
  {
   "cell_type": "code",
   "execution_count": 3,
   "metadata": {},
   "outputs": [
    {
     "name": "stdout",
     "output_type": "stream",
     "text": [
      "Loading CSV: ../../../workspace/kaggle/covid19/data/sentences_with_metadata.csv and building mapping dictionary...\n",
      "Finished loading CSV: ../../../workspace/kaggle/covid19/data/sentences_with_metadata.csv and building mapping dictionary\n",
      "Loaded 249343 sentences\n",
      "Loading bi-gram model: ../../../workspace/kaggle/covid19/data/covid_bigram_model_v0.pkl\n",
      "Finished loading bi-gram model: ../../../workspace/kaggle/covid19/data/covid_bigram_model_v0.pkl\n",
      "Loading tri-gram model: ../../../workspace/kaggle/covid19/data/covid_trigram_model_v0.pkl\n",
      "Finished loading tri-gram model: ../../../workspace/kaggle/covid19/data/covid_trigram_model_v0.pkl\n",
      "Loading fasttext model: ../../../workspace/kaggle/covid19/data/fasttext_no_subwords_trigrams/word-vectors-100d.txt\n",
      "Finished loading fasttext model: ../../../workspace/kaggle/covid19/data/fasttext_no_subwords_trigrams/word-vectors-100d.txt\n"
     ]
    }
   ],
   "source": [
    "search_engine = SearchEngine(\n",
    "    os.path.join(data_dir, \"sentences_with_metadata.csv\"),\n",
    "    os.path.join(data_dir, \"covid_bigram_model_v0.pkl\"),\n",
    "    os.path.join(data_dir, \"covid_trigram_model_v0.pkl\"),\n",
    "    os.path.join(data_dir, \"fasttext_no_subwords_trigrams/word-vectors-100d.txt\"),\n",
    ")"
   ]
  },
  {
   "cell_type": "markdown",
   "metadata": {},
   "source": [
    "Simple search function that gets a list of keywords to search:"
   ]
  },
  {
   "cell_type": "code",
   "execution_count": 4,
   "metadata": {},
   "outputs": [],
   "source": [
    "def search(keywords, optional_keywords=None, top_n=10, synonyms_threshold=0.8, only_sentences=False):\n",
    "    print(f\"\\nSearch for terms {keywords}\\n\\n\")\n",
    "    results = search_engine.search(\n",
    "        keywords, optional_keywords=optional_keywords, top_n=top_n, synonyms_threshold=synonyms_threshold\n",
    "    )\n",
    "    print(\"\\nResults:\\n\")\n",
    "    \n",
    "    if only_sentences:\n",
    "        for result in results:\n",
    "            print(result['sentence'] + \"\\n\")\n",
    "    else:\n",
    "        pprint(results)"
   ]
  },
  {
   "cell_type": "markdown",
   "metadata": {},
   "source": [
    "Let's see some examples:"
   ]
  },
  {
   "cell_type": "code",
   "execution_count": 9,
   "metadata": {},
   "outputs": [
    {
     "name": "stdout",
     "output_type": "stream",
     "text": [
      "\n",
      "Search for terms ['demographic', 'Sampling methods', 'asymptomatic', 'serosurveys', 'convalescent samples', 'screening', 'ELISAs']\n",
      "\n",
      "\n",
      "Search terms after cleaning, bigrams, trigrams and synonym expansion: ['demographic', 'sampling_methods', 'asymptomatic', 'serosurveys', 'convalescent_samples', 'screening', 'elisas', 'demographics', 'demography', 'sociodemographic', 'sampling_techniques', 'symptomatic', 'seroprevalence_studies', 'serological_surveys', 'serologic_surveys', 'seroepidemiological_studies', 'serological_surveillance', 'serologic_investigations', 'serosurvey', 'serological_studies', 'serological_investigations', 'convalescentphase_serum_sample', '≥_4fold_increase', 'increase_igg_titer', 'elisa_macelisa', 'acutephase_samples', 'convalescent_serology', 'serum_samples_taken', '4fold_increase_antibody_titer', 'fourfold_increase_titer', 'between_acuteand', 'elisa_tests', 'elisa', 'indirect_elisas', 'enzymelinked_immunosorbent_assays_elisas', 'two_elisas', 'enzymelinked_immunosorbent_assay_elisa', 'elisa_assays']\n",
      "Optional search terms after cleaning, bigrams, trigrams and synonym expansion: ['newcoronavirus', 'coronavirus_covid19', '2019ncov_covid19', 'outbreak_2019_novel', 'sarscov2_2019ncov', 'coronavirus_2019ncov', 'ongoing_outbreak_novel_coronavirus', 'since_late_december', 'ongoing_outbreak_covid19', 'originating_wuhan_china', 'novel_coronavirus_outbreak', 'wuhan_coronavirus']\n",
      "\n",
      "Results:\n",
      "\n",
      "In other words, if someone is symptomatic and confirmed to be COVID19+ on any of the days between t+1 to t+14, then s/he was infected but asymptomatic on day t. Using publicly available data for the state of Washington for dates Feb. 28-March 16, 2020, our math shows that on Feb. 28, 2020, there were at least 567 asymptomatic infected cases, despite there being only 1 officially confirmed case reported for that day.\n",
      "\n",
      "Distinct periods are shown as unexposed (gray), exposed (white), infected but asymptomatic (pink), symptomatic (purple) and reported (blue).\n",
      "\n",
      "2 [ Figure 1 ] 3 [ Table 2 ] 4 Preliminary ELISA evaluation of recombinant proteins 5 Indirect ELISAs were used to preliminarily evaluate the six recombinant proteins.\n",
      "\n",
      "Of note, the asymptomatic group was significantly younger than the symptomatic group, with median ages of 34 and 44 years (P=0.02), respectively.\n",
      "\n",
      "Ratio from aggregate case data Assuming homogeneous attack rates across the different age groups, the demographic distribution of cases by age across each location should broadly match the demography of the populations in Wuhan and across the rest of China.\n",
      "\n",
      "Whether an individual was symptomatic was R α 0 0, ] α ∈ [ 1 determined by a Bernoulli trial with probability equal to the proportion of infections that were asymptomatic in that replicate.\n",
      "\n",
      "β1 is the transmission coefficient of the asymptomatic infected cases, β2 is the transmission coefficient of the symptomatic infected cases (mild infected person and severe patients) to the susceptible, β3 is the transmission coefficient of the hospitalized cases to the susceptible, 1/ is the mean incubation period, 1/ is the mean time between symptom onset to hospitalization, 1/k1 is the mean infectious period of asymptomatic infected person for survivors, 1/k2 is the mean duration for hospitalized cases for survivors, 1/ is the mean time from hospitalization to death, γ is the clinical outbreak rate in all the infected cases.\n",
      "\n",
      "Our model incorporates the following essential ingredients of COVID-19 epidemics: (1) the number of asymptomatic infectious individuals (with very mild or no symptoms), (2) the number of symptomatic reported infectious individuals (with severe symptoms) and (3) the number of symptomatic unreported infectious individuals (with mild symptoms).\n",
      "\n",
      "The rate asymptomatic infectious become reported symptomatic is ν 1 = f ν, the rate asymptomatic infectious become unreported symptomatic is The cumulative number of reported cases at time t is given by the formula and the cumulative number of unreported\n",
      "\n",
      "Fraction of asymptomatic infectious that become reported symptomatic infectious fixedt ν 1 = f ν Rate at which asymptomatic infectious become reported symptomatic fitted Rate at which asymptomatic infectious become unreported symptomatic fitted 1/η Average time symptomatic infectious have symptoms fixed Table 1 : Parameters and initial conditions of the model.  \n",
      "\n"
     ]
    }
   ],
   "source": [
    "search([\"demographic\", \"Sampling methods\", \"asymptomatic\", \"serosurveys\", \"convalescent samples\", \"screening\", \"ELISAs\"],\n",
    "       optional_keywords=[\"new_coronavirus\", \"coronavirus\", \"covid19\"],\n",
    "       top_n=10, only_sentences=True)"
   ]
  },
  {
   "cell_type": "code",
   "execution_count": 12,
   "metadata": {},
   "outputs": [
    {
     "name": "stdout",
     "output_type": "stream",
     "text": [
      "\n",
      "Search for terms ['Denominators', 'testing', 'demographics', 'sharing information']\n",
      "\n",
      "\n",
      "Search terms after cleaning, bigrams, trigrams and synonym expansion: ['denominators', 'testing', 'demographics', 'sharing_information', 'numerators', 'denominator_calculate', 'using_multiple_imputation', 'random_effects_models', 'burden_influenza_ah1n1pdm09', 'appropriate_denominators', 'fit_lognormal_distribution', 'reporting_completeness_proportions', 'sex_age_groups', 'national_estimates', 'demographic', 'demographic_characteristics', 'demographic_data', 'sociodemographic', 'questionnaire_addressed', 'demographic_features', 'informationsharing', 'communication_cooperation', 'electronic_communications', 'information_sharing', 'sharing_surveillance', 'datasharing', 'international_coordination', 'nhcmoh', 'sharing_information_between', 'ihr_2005_implementation']\n",
      "Optional search terms after cleaning, bigrams, trigrams and synonym expansion: ['newcoronavirus', 'coronavirus_covid19', '2019ncov_covid19', 'outbreak_2019_novel', 'sarscov2_2019ncov', 'coronavirus_2019ncov', 'ongoing_outbreak_novel_coronavirus', 'since_late_december', 'ongoing_outbreak_covid19', 'originating_wuhan_china', 'novel_coronavirus_outbreak', 'wuhan_coronavirus']\n",
      "\n",
      "Results:\n",
      "\n",
      "18 Thus, our elective surgery patient population only includes uninfected individuals and asymptomatic or pre-symptomatic individuals (whose COVID19 status would not be discovered given current testing limitations).\n",
      "\n",
      "2 Due to the current state of COVID19 testing, US statistics on confirmed COVID19 cases may not be the most reliable, either.\n",
      "\n",
      "26 In addition, COVID19 testing shortages may make the US statistics on COVID19 cases less reliable.\n",
      "\n",
      "SARS-CoV-2 is a large RNA virus and testing of all overlapping peptides in vitro to deconvolute an immune response is not feasible.\n",
      "\n",
      "We find that the false positive rate is high for all tested tools when testing for predicted HLA-binding peptides from SARS-CoV-2 virus.\n",
      "\n",
      "While this strategy is a proof-of-concept and will require further testing using replication-competent SARS-CoV-2 viruses and validation in animal models before clinical tests in humans, it represents a unique approach to implement a rapid and broad antiviral defense in humans against emerging pathogens for which there are no effective vaccines.\n",
      "\n",
      "The diagnosis of COVID-19 relies on the following criteria: clinical symptoms, epidemiological history and positive CT images, as well as positive pathogenic testing.\n",
      "\n",
      "Once someone is identified as a PUI (person under investigation), lower respiratory specimens, such as bronchoalveolar lavage, tracheal aspirate or sputum, will be collected for pathogenic testing.\n",
      "\n",
      "More interestingly, testing CT images from COVID-19 patients when initial pathogenic testing came negative, our model has achieved the accuracy of 85.2% for correctly predicting COVID-19.\n",
      "\n",
      "Therefore, further optimizing and testing this system is warranted.\n",
      "\n"
     ]
    }
   ],
   "source": [
    "search([\"Denominators\", \"testing\", \"demographics\", \"sharing information\"],\n",
    "       optional_keywords=[\"new_coronavirus\", \"coronavirus\", \"covid19\"],\n",
    "       top_n=10, only_sentences=True)"
   ]
  },
  {
   "cell_type": "code",
   "execution_count": 14,
   "metadata": {},
   "outputs": [
    {
     "name": "stdout",
     "output_type": "stream",
     "text": [
      "\n",
      "Search for terms ['mitigation', 'government', 'strategies']\n",
      "\n",
      "\n",
      "Search terms after cleaning, bigrams, trigrams and synonym expansion: ['mitigation', 'government', 'strategies', 'local_government', 'governments', 'central_government', 'national_government', 'governmental', 'local_agencies', 'government_s', 'stateowned_enterprises_soes', 'chinese_government', 'central_local_governments', 'strategy']\n",
      "Optional search terms after cleaning, bigrams, trigrams and synonym expansion: ['newcoronavirus', 'coronavirus_covid19', '2019ncov_covid19', 'outbreak_2019_novel', 'sarscov2_2019ncov', 'coronavirus_2019ncov', 'ongoing_outbreak_novel_coronavirus', 'since_late_december', 'ongoing_outbreak_covid19', 'originating_wuhan_china', 'novel_coronavirus_outbreak', 'wuhan_coronavirus']\n",
      "\n",
      "Results:\n",
      "\n",
      "As the virus spreads globally it is likely that government strategies will shift from containment and delay towards mitigation (4) .\n",
      "\n",
      "4 As a result, some of the public health precautionary strategies are selfinitiated by the community in attempts to influence the government's policies; for instance, health-care staff held a strike to press for a total border closure, which the government was reluctant to endorse.\n",
      "\n",
      "However, whether the daily incidence can decay symmetrically to the increase phase will depend largely on the strategy of the government.\n",
      "\n",
      "City officials, public health planners, policy-makers and governments in countries that are beginning to see the spread of this disease domestically need to act quickly, effectively and decisively, as the government of China did, to prevent a serious global pandemic.\n",
      "\n",
      "These strategies include the direct government acquisition of stockpiles of vaccines, the use of prizes, priority review vouchers, and the establishment of advance market commitments, each of which is described in more detail in Supplemental Materials.\n",
      "\n",
      "Governments can catalyze outside investments through a range of strategies, including guaranteed commitments.\n",
      "\n",
      "One strategy is a broader-scale contact rate 29 reduction enforced by governments which was used during previous outbreaks, e.g., the 1918 influenza pandemic and 30 the 2009 influenza A/H1N1 pandemic in Mexico.\n",
      "\n",
      "14 Findings The majority of the participants expressed a great extent of trust in the 15 information and preventive instructions provided by the central government than by the 16 local government.\n",
      "\n",
      "These mandatory strategies carried out by the government showed significant effects on containing the contagion of COVID-19, and the number of new confirmed cases remarkably decreased at the end of February 2020.\n",
      "\n",
      "rd Wuhan was locked down, and most parts of China shortly adopted a similar strategy; 2) On January 26 th , the government announced to extend the Chinese Traditional New Year Festival holiday so self-isolation/protection was maximized; 3) On February 7 th the Chinese government created the partnership between each one of the 16 provinces to its sister-city in the epicenter, the Hubei province, to reinforce the health care workers and equipment in the sister-city in Hubei; 4) On February 12 th the Hubei province started to include the clinically diagnosed cases into the confirmed cases to enhance its quarantine/isolation measure; 5) On February 14 th , Wuhan refined its management protocol of residential quarters; 6) On February 16 th , the National Health 18, 19 .\n",
      "\n"
     ]
    }
   ],
   "source": [
    "search([\"mitigation\", \"government\", \"strategies\"],\n",
    "       optional_keywords=[\"new_coronavirus\", \"coronavirus\", \"covid19\"],\n",
    "       top_n=10, only_sentences=True)"
   ]
  },
  {
   "cell_type": "code",
   "execution_count": 21,
   "metadata": {},
   "outputs": [
    {
     "name": "stdout",
     "output_type": "stream",
     "text": [
      "\n",
      "Search for terms ['existing diagnostic platforms', 'burden']\n",
      "\n",
      "\n",
      "Search terms after cleaning, bigrams, trigrams and synonym expansion: ['existing', 'diagnostic_platforms', 'burden', 'naatbased', 'tests_nats', 'nucleic_acidbased_amplification', 'simultaneously_detect_multiple', 'rapid_turnaround_times', 'dipstick_assays', 'detection_platforms', 'over_conventional_methods', 'detection_capabilities', 'poc_diagnosis']\n",
      "Optional search terms after cleaning, bigrams, trigrams and synonym expansion: ['newcoronavirus', 'coronavirus_covid19', '2019ncov_covid19', 'outbreak_2019_novel', 'sarscov2_2019ncov', 'coronavirus_2019ncov', 'ongoing_outbreak_novel_coronavirus', 'since_late_december', 'ongoing_outbreak_covid19', 'originating_wuhan_china', 'novel_coronavirus_outbreak', 'wuhan_coronavirus']\n",
      "\n",
      "Results:\n",
      "\n",
      "Taken together, our observations suggest that any conclusion drawn, at present, about existing lineages and direction of viral spread, based on phylogenetic analysis of SARS-CoV-2 sequence data, is potentially misleading.\n",
      "\n",
      "A recent work analyzed 103 SARS-CoV-2 genomes and indicated that there are two major types (L and S) of SARS-CoV-2 existing with different viral signature sequences 4 .\n",
      "\n",
      "We adapted an existing national-scale metapopulation model to capture the spread of CoVID-19 in England and Wales.\n",
      "\n",
      "We use an existing national-scale stochastic metapopulation model of disease transmission in England and Wales.\n",
      "\n",
      "All 77 existing SARS/MERS vaccines were reported to induce neutralizing antibodies and partial 78 protection against the viral challenges in animal models (Table 2) , but it is desired to induce 79 complete protection or sterile immunity.\n",
      "\n",
      "97 In this study, we first surveyed the existing coronavirus vaccine development status, and 98 then applied the Vaxign RV and Vaxign-ML approaches to predict COVID-19 protein 99 candidates for vaccine development.\n",
      "\n",
      "The subfractionation of existing heparin preparations against anticoagulant activities (with proven low-toxicity profiles, good bioavailability and industrial-scale manufacturing) for off-label pathologies, provides an attractive strategy for quickly and effectively responding to COVID-19 and for the development of next generation heparin-based therapeutics.\n",
      "\n",
      "Secondly and may be the most reasonable, an existing medical investigation reported that the expression and distribution of angiotension converting enzyme 2 (ACE2) was wider in male patients than those in females [5] .\n",
      "\n",
      "Based on this structure and existing experimental datasets for SARS 3CL protease inhibitors, we develop an SBDR model based on machine learning and mathematics to screen 1465 drugs in the DrugBank that have been approved by the U.S. Food and Drug Administration (FDA).\n",
      "\n",
      "A more effective approach is to search for anti-2019-nCoV therapies from the existing FDA-approved drug database.\n",
      "\n",
      "The latter is used as a major criterion for searching anti-2019-nCoV therapies from the existing FDA-approved drugs.\n",
      "\n",
      "In the future, the burden of AI experts could be lifted significantly by automatic machine learning (AutoML) [25] .\n",
      "\n",
      "However, the existing studies used swiss-model need further optimization, for example, the ligand binding site on the predicted S-protein structure are still not clear.\n",
      "\n",
      "After a pronounced low in 2020-2024, prevalence recovers and settles into a seasonal pattern, similar to that of the four existing seasonal CoVs.\n",
      "\n",
      "We found only two studies that attempted to quantify the potential child care burden of school closures for healthcare workers.\n",
      "\n"
     ]
    }
   ],
   "source": [
    "search([\"existing diagnostic platforms\", \"burden\"],\n",
    "       optional_keywords=[\"new_coronavirus\", \"coronavirus\", \"covid19\"],\n",
    "       top_n=15, only_sentences=True)"
   ]
  },
  {
   "cell_type": "code",
   "execution_count": 27,
   "metadata": {},
   "outputs": [
    {
     "name": "stdout",
     "output_type": "stream",
     "text": [
      "\n",
      "Search for terms ['Recruit', 'expertise', 'capacity']\n",
      "\n",
      "\n",
      "Search terms after cleaning, bigrams, trigrams and synonym expansion: ['recruit', 'expertise', 'capacity', 'recruited', 'recruits', 'capability', 'capacities', 'capabilities']\n",
      "Optional search terms after cleaning, bigrams, trigrams and synonym expansion: ['newcoronavirus', 'coronavirus_covid19', '2019ncov_covid19', 'outbreak_2019_novel', 'sarscov2_2019ncov', 'coronavirus_2019ncov', 'ongoing_outbreak_novel_coronavirus', 'since_late_december', 'ongoing_outbreak_covid19', 'originating_wuhan_china', 'novel_coronavirus_outbreak', 'wuhan_coronavirus']\n",
      "\n",
      "Results:\n",
      "\n",
      "South Korea, as of writing, has the most extensive capabilities of testing individuals with a capacity of around 20,000 tests a day.\n",
      "\n",
      "We assessed the required expertise and capacity for molecular detection of 2019-nCoV in specialised laboratories in 30 European Union/European Economic Area (EU/EEA) countries.\n",
      "\n",
      "Organisations such as the Global Outbreak Alert and Response Network (GOARN), the Coalition for Epidemic Preparedness Innovations (CEPI), the Global Research Collaboration For Infectious Disease Preparedness (GloPID-R) and the Global Initiative on Sharing All Influenza Data (GISAID) have been supported by the WHO Research Blueprint and its Global Coordinating Mechanism to provide a forum where those with the expertise and capacity to contribute to managing new threats can come together both between and during outbreaks to develop innovative solutions to emerging problems.\n",
      "\n",
      "Therefore, it was possible that cancer cells might gain superior capacity to uptake or utilize some AAs compared to the capability of normal cells via multiple signaling pathways, such as GCN2-ATF4 axis [72] [73] [74] [75] , or by decreasing AA catabolisms, such as BCAA [76] .\n",
      "\n",
      "Singapore's systematic enhancement in capacity and capabilities for pandemic preparednessfrom establishing a purpose-build National Centre for Infectious Diseases to stockpiling personal protective equipment (PPE) at the national level -seeks to limit the mortality and morbidity from the next communicable disease outbreak, such as COVID-19, while safeguarding the occupational health of its frontline healthcare workers.\n",
      "\n",
      "16 The 2018 SPAR database 17 contains 24 indicator scores, organised and grouped according to the following capacities (bracketed number shows indicators per capacity 10 ): legislation (three), IHR Coordination (two), zoonoses (one), food safety (one), laboratory (three), surveillance (two), human resource (one), national health emergency framework (three), health service provision (three), communication (one), points of entry (two), chemical events (one), and radi ation emergency (one).\n",
      "\n",
      "The aftermath of recent epidemics and pandemics (eg, severe acute respiratory syndrome, H1N1 pandemic, Middle East respiratory syndrome, and Ebola) have highlighted the need to reinforce national public health capabilities and infrastructures, including diseasesurveillance systems and laboratory networks, as well as human capacity (eg, training in surveillance, epidemic response, and diagnostic testing).\n",
      "\n",
      "Thus, the ability to react to a number of chemokines provides cells of immunological significance with the capacity to be recruited to wherever they are needed.\n",
      "\n",
      "13, 14  We analysed 2018 SPAR submissions to review health security capacities on the basis of the following indices: capacities to (1) prevent, (2) detect, (3) respond, (4) enabling function (resources and coordination capacity), and (5) operational readiness.\n",
      "\n",
      "A country's response capacity depends on the strength of its emergency preparedness and the regular testing and updating of national plans and capacities.\n",
      "\n",
      "The Government was already drawing on the expertise and capacity of Public Health England (PHE), the Ministry of Defence (MOD) and the Department of Health (DoH), to drive its response but social scientists had no seat at the table.\n",
      "\n",
      "Increased governmental and donor investments are required to advance locally led, world-class public health work with surveillance, data and analytics capabilities and further expanding state-of-the-art laboratory capacities with more J o u r n a l P r e -p r o o f trained personnel to sustain capacity to rapidly respond to outbreaks at their source.\n",
      "\n",
      "Third, the case data used in this study likely varies in quality and completeness due to the timeliness of reporting, varying laboratory diagnosis capacities, and differences in details announced on health authority websites.\n",
      "\n",
      "Faced with the current large-scale public health emergency, collecting, sorting, and analyzing biomedical information related to the \"coronavirus\" should be done as quickly as possible to gain a global perspective, which is a basic requirement for strengthening epidemic control capacity.\n",
      "\n",
      "That is to say, we do not rely on transportation data (which is most of the time given as the maximum flow capacity between subpopulations), but on a real dataset gathered for this occasion (see Materials and Methods).\n",
      "\n"
     ]
    }
   ],
   "source": [
    "search([\"Recruit\", \"expertise\", \"capacity\"],\n",
    "       optional_keywords=[\"new_coronavirus\", \"coronavirus\", \"covid19\"],\n",
    "       top_n=15, only_sentences=True)"
   ]
  },
  {
   "cell_type": "code",
   "execution_count": 29,
   "metadata": {},
   "outputs": [
    {
     "name": "stdout",
     "output_type": "stream",
     "text": [
      "\n",
      "Search for terms ['government', 'best practices', 'guidelines', 'public', 'public health']\n",
      "\n",
      "\n",
      "Search terms after cleaning, bigrams, trigrams and synonym expansion: ['government', 'best_practices', 'guidelines', 'public', 'public_health', 'local_government', 'governments', 'central_government', 'national_government', 'governmental', 'local_agencies', 'government_s', 'stateowned_enterprises_soes', 'chinese_government', 'central_local_governments', 'recommendations', 'international_guidelines', 'national_guidelines', 'published_guidelines', 'guideline', 'guidance', 'standards_guidelines', 'newspapers_internet', 'medical_public_health']\n",
      "Optional search terms after cleaning, bigrams, trigrams and synonym expansion: ['newcoronavirus', 'coronavirus_covid19', '2019ncov_covid19', 'outbreak_2019_novel', 'sarscov2_2019ncov', 'coronavirus_2019ncov', 'ongoing_outbreak_novel_coronavirus', 'since_late_december', 'ongoing_outbreak_covid19', 'originating_wuhan_china', 'novel_coronavirus_outbreak', 'wuhan_coronavirus']\n",
      "\n",
      "Results:\n",
      "\n",
      "A series of mandatory actions have been taken by the municipal and provincial governments supported by the central government, such as measures to restrict travels across cities, case detection and contact tracing, quarantine, guidance and information to the public, detection kit development, etc.\n",
      "\n",
      "City officials, public health planners, policy-makers and governments in countries that are beginning to see the spread of this disease domestically need to act quickly, effectively and decisively, as the government of China did, to prevent a serious global pandemic.\n",
      "\n",
      "While containing the virus as quickly as possible is the urgent public health priority, there have been few public health guidelines for the public as to what people can or should do in terms of maintaining their daily exercise or physical activity routines.\n",
      "\n",
      "While containing the virus as quickly as possible is the urgent public health priority, there have been few public health guidelines for the public as to what people can or should do in terms of maintaining their daily exercise or physical activity routines.\n",
      "\n",
      "While containing the virus as quickly as possible is the urgent public health priority, there have been few public health guidelines for the public as to what people can or should do in terms of maintaining their daily exercise or physical activity routines.\n",
      "\n",
      "4 As a result, some of the public health precautionary strategies are selfinitiated by the community in attempts to influence the government's policies; for instance, health-care staff held a strike to press for a total border closure, which the government was reluctant to endorse.\n",
      "\n",
      "11 As part of these social distancing policies, Chinese government encouraged people to stay at home as much as possible, cancelled or postponed large public events and mass gatherings, and closed libraries, museums, and workplaces.\n",
      "\n",
      "Slow response of government, presymptomatic and asymptomatic transmission and insufficient protection measures taken by the public together could lead to an out-of-control epidemic, as with the current situation in many countries.\n",
      "\n",
      "Figure 1 shows the cumulative numbers of confirmed cases and deaths of the COVID-19 and the public health measures introduced by the Chinese government from 31 Dec 2019 to 15 Feb 2020, e.g., identification of pathogen, activation of different levels of emergency response, announcement of protocols and guidelines for healthcare workers and the general population to follow, legislation facemask wearing in public, and lockdown of about 13 cities in Hubei province.\n",
      "\n",
      "1101 /2020 During the COVID-19 outbreak, the Chinese government introduced various measures, such as lockdown of cities, shutdown of the transportation system, and legislation on mandatory facemasks wearing in public 23 .\n",
      "\n",
      "Our results are in line with the most recent recommendations from the World Health Organization, namely, that the best strategy is the early detection and isolation of individuals with symptoms, followed by interventions and public recommendations aimed at reducing the transmissibility of the disease, which although not efficacious for disease eradication, would produce as a second order effect a delay of several days in the raise of the number of infected cases. .\n",
      "\n",
      "The official guidelines (the Guidelines of the National Health Commission of China for COVID-19, 5 th edition; 2 and the WHO interim guideline 3 ) currently recommend two laboratory parameters, \"normal/ decreased number of leukocytes\" or \"decreased number of lymphocytes\", as one of the criteria for diagnosis of COVID-19 infection.\n",
      "\n",
      "To this end, a hotline for psychological guidance can be set up, and guidelines for this hotline should be formulated to effectively alleviate the tension and panic of the public.\n",
      "\n",
      "This would allow governments to attempt to tackle the pandemic more effectively in terms of public health, as it provides a valuable and dynamic metric of the pandemic.\n",
      "\n",
      "This approach is used to obtain timely access to public responses so that the government and the health department can better communicate with the public on health issues and take appropriate measures to prevent and control the epidemic 35, 39 .\n",
      "\n"
     ]
    }
   ],
   "source": [
    "search([\"government\", \"best practices\", \"guidelines\", \"public\", \"public health\"],\n",
    "       optional_keywords=[\"new_coronavirus\", \"coronavirus\", \"covid19\"],\n",
    "       top_n=15, only_sentences=True)"
   ]
  },
  {
   "cell_type": "code",
   "execution_count": 30,
   "metadata": {},
   "outputs": [
    {
     "name": "stdout",
     "output_type": "stream",
     "text": [
      "\n",
      "Search for terms ['point-of-care test', 'rapid influenza test', 'speed', 'accuracy']\n",
      "\n",
      "\n",
      "Search terms after cleaning, bigrams, trigrams and synonym expansion: ['pointofcare_test', 'rapid', 'influenza', 'test', 'speed_accuracy', 'liat', 'alere_i', 'filmarray_respiratory_panel', 'verigene_respiratory', 'xpress_flursv', 'easytoperform', 'cliawaived', 'panel_rp', 'pointofcare_settings', 'cepheid_sunnyvale_ca_usa', 'influenza_virus', 'influenza_a', 'infl_uenza', 'influenza_a_b', 'tests', 'economical_method', 'speed_cost', 'accuracy_sensitivity', 'efficiency_speed', 'multiplexing_capacity', 'metagenomics_datasets', 'standardization_automation', 'automatization', 'sophisticated_tools', 'fast_turnaround_time']\n",
      "Optional search terms after cleaning, bigrams, trigrams and synonym expansion: ['newcoronavirus', 'coronavirus_covid19', '2019ncov_covid19', 'outbreak_2019_novel', 'sarscov2_2019ncov', 'coronavirus_2019ncov', 'ongoing_outbreak_novel_coronavirus', 'since_late_december', 'ongoing_outbreak_covid19', 'originating_wuhan_china', 'novel_coronavirus_outbreak', 'wuhan_coronavirus']\n",
      "\n",
      "Results:\n",
      "\n",
      "Respiratory samples of the patients were tested for influenza A and B viruses and respiratory syncytial virus using the Xpert Xpress Flu/RSV assay (GeneXpert System, Cepheid, Sunnyvale, CA, USA) according to the manufacturer's instructions.\n",
      "\n",
      "Influenza was diagnosed with commercial multiplex PCR platforms. : 179 patients had 277 episodes of ILI, being 79 episodes of influenza A and 20 episodes of influenza B. Influenza A and B cases were mild and had similar presentation.\n",
      "\n",
      "While this strategy is a proof-of-concept and will require further testing using replication-competent SARS-CoV-2 viruses and validation in animal models before clinical tests in humans, it represents a unique approach to implement a rapid and broad antiviral defense in humans against emerging pathogens for which there are no effective vaccines.\n",
      "\n",
      "To perform this test, for example for influenza, all the influenza virus-antibody sequences were removed from the training set and the obtained model were tested on all samples of Influenza and the accuracy is reported here.\n",
      "\n",
      "If such tests were fast, there may be 349 potential to test suspected cases in real time based on questionnaire responses, travel origin, or 350 borderline symptoms.\n",
      "\n",
      "11.20034363 doi: medRxiv preprint to the much larger efforts to test the population, with a ratio of close to 4 tests per 1000 inhabitants, compared with 0.066 tests per 1000 inhabitants for Japan.\n",
      "\n",
      "For Influenza A, the World Health Organization nomenclature for Influenza strain 740 identification, which is encoded in the FASTA header, was parsed for labeling of human 741 isolate 41 .\n",
      "\n",
      "Non-COVID-19 group included several other respiratory viruses such as influenza A, B and adenovirus infection cases, these cases were negative for anti-2019-nCoV specific antibody detection, indicating that the antibody detection has a good ability to resist interference and differential Considering that COVID-19 has broken out in many countries around the world, more than 80000 people have been diagnosed and the number is growing rapidly, the main problem at present is the need for highly sensitive tests to screen the suspected cases and to prevent missed diagnosis by nucleic acid tests, lower false positive rates for antibody testing are acceptable.\n",
      "\n",
      "Influenza sequences are the second most abundant and the National Center of Biotechnology Information (NCBI), where GenBank is housed, has expended considerable effort to organize flu sequences and streamline the submission of new influenza virus sequences, including a tool to validate and annotate flu submissions called FLAN [2] .\n",
      "\n",
      "The test could be used at the point-of-care by field and local personnel for the rapid diagnosis of individuals for optimal treatment, isolation, and rapid contact tracking as well as the investigation of outbreaks of unknown respiratory diseases.\n",
      "\n",
      "Wang et al. also reported that some patients were negative in the first three tests and turned to positive on the fourth test [18] .\n",
      "\n",
      "The most common pathogen was influenza (including influenza A and B), followed by Mycoplasma pneumoniae, and metapneumovirus.\n",
      "\n",
      "Our study discovered that, in low epidemic regions outside Hubei province such as Eastern-China region, the current reliable first approach to the unexplained pneumonia should be a combination of chest CT, SARS-COV-2 RT-PCR and multi-plex PCR (rapid influenza antigen tests and RT-PCR could also be used as a substitute).\n",
      "\n",
      "1.5 Clinical and test indicators: Symptoms such as fever, cough, fatigue and soreness at the time of examination and the results of tests were compared between the two groups.\n",
      "\n",
      "More refined case definitions, screening by experts using telemedicine 103 approaches [11], or rapid home tests [12] could all be options which reduce the pool of those 104 considered at risk of being infected with the novel pathogen, thus increasing .\n",
      "\n"
     ]
    }
   ],
   "source": [
    "search([\"point-of-care test\", \"rapid influenza test\", \"speed\", \"accuracy\"],\n",
    "       optional_keywords=[\"new_coronavirus\", \"coronavirus\", \"covid19\"],\n",
    "       top_n=15, only_sentences=True)"
   ]
  },
  {
   "cell_type": "code",
   "execution_count": 54,
   "metadata": {},
   "outputs": [
    {
     "name": "stdout",
     "output_type": "stream",
     "text": [
      "\n",
      "Search for terms ['PCR', 'test', 'longitudinal study']\n",
      "\n",
      "\n",
      "Search terms after cleaning, bigrams, trigrams and synonym expansion: ['pcr_test', 'longitudinal_study', 'pcr_tests']\n",
      "Optional search terms after cleaning, bigrams, trigrams and synonym expansion: ['newcoronavirus', 'coronavirus_covid19', '2019ncov_covid19', 'outbreak_2019_novel', 'sarscov2_2019ncov', 'coronavirus_2019ncov', 'ongoing_outbreak_novel_coronavirus', 'since_late_december', 'ongoing_outbreak_covid19', 'originating_wuhan_china', 'novel_coronavirus_outbreak', 'wuhan_coronavirus']\n",
      "\n",
      "Results:\n",
      "\n",
      "In subsequent research in this project, a longitudinal study should be conducted that uses a wider sample and measures the mental health status of medical personnel from multiple dimensions, which can help better identify the mutual influence between demographic data and mental health status.\n",
      "\n",
      "346 347 The availability of rapid PCR tests would also be beneficial for case identification at arrival, and 348 would address concerns with false-positive detections.\n",
      "\n",
      "Asymptomatic travellers will be missed by symptom-based surveillance; and, even if tested, some asymptomatic contacts may be missed due to the imperfect sensitivity of the PCR test 20 .\n",
      "\n",
      "With the aim to fast screen the potential infections, their family members took the PCR test.\n",
      "\n",
      "Weather C'3 is an asymptomatic infection did not been identified by PCR test, but the same contact history and the similar onset time of her three relatives indicate that C'3 was an asymptomatic COVID-19-carrier.\n",
      "\n",
      "doi: medRxiv preprint mother), C94 (C'4' s father-in-law) and C102 (C'4' s daughter), C102 also had no symptoms with a positive result of PCR test.\n",
      "\n",
      "Though we did not take a PCR test to confirm whether C'3 was a virus-carrier, the same contact history and the similar onset time of her three relatives indicate that C'3 was an asymptomatic COVID-19-carrier.\n",
      "\n",
      "A cycle threshold value less than 37 was defined as PCR test positive.\n",
      "\n",
      "A way of accelerating triage process and prioritizing CT examination and PCR tests for suspected SARS-CoV-2 patients would be to identify a useful practical marker.\n",
      "\n",
      "Overall 3,063 PCR tests were performed among passengers and crew members.\n",
      "\n",
      "We performed a detailed sensitivity analysis on the availability of PCR tests, doubling time, and incubation periods.\n",
      "\n",
      "He visited outpatient clinics 1 day after symptom onset and was admitted in hospital confirming with COVID-19 in the same day by PCR test.\n",
      "\n",
      "The Chinese scientists were able to isolate a 2019-nCoV from a patient within a short time on 7 Jan 2020 and perform genome sequencing of the 2019-nCoV. The genetic sequence of the 2019-nCoV has become available to the WHO on 12 Jan 2020 and this has facilitated the laboratories in different countries to produce specific diagnostic PCR tests for detecting the novel infection (WHO, 2020b) .\n",
      "\n",
      "The Chinese scientists were able to isolate a 2019-nCoV from a patient within a short time on 7 Jan 2020 and perform genome sequencing of the 2019-nCoV. The genetic sequence of the 2019-nCoV has become available to the WHO on 12 Jan 2020 and this has facilitated the laboratories in different countries to produce specific diagnostic PCR tests for detecting the novel infection (WHO, 2020b) .\n",
      "\n",
      "During the 2 weeks after the first PCR test on 27 January, a rapidly increasing number of case contacts in Bavaria was identified and their respiratory samples were tested.\n",
      "\n"
     ]
    }
   ],
   "source": [
    "search([\"PCR\", \"test\", \"longitudinal study\"],\n",
    "       optional_keywords=[\"new_coronavirus\", \"coronavirus\", \"covid19\"],\n",
    "       top_n=15, only_sentences=True)"
   ]
  },
  {
   "cell_type": "code",
   "execution_count": 59,
   "metadata": {},
   "outputs": [
    {
     "name": "stdout",
     "output_type": "stream",
     "text": [
      "\n",
      "Search for terms ['assays', 'development', 'issues', 'private sector']\n",
      "\n",
      "\n",
      "Search terms after cleaning, bigrams, trigrams and synonym expansion: ['assays', 'development', 'issues', 'private_sector', 'assay', 'developing', 'issues_related', 'concerns', 'issue', 'public_sector', 'privatesector', 'private_health_care', 'publicsector', 'forprofit', 'public_sectors', 'nongovernmental_organisations', 'fi_nanced', 'bilateral_aid', 'corporations']\n",
      "Optional search terms after cleaning, bigrams, trigrams and synonym expansion: ['newcoronavirus', 'coronavirus_covid19', '2019ncov_covid19', 'outbreak_2019_novel', 'sarscov2_2019ncov', 'coronavirus_2019ncov', 'ongoing_outbreak_novel_coronavirus', 'since_late_december', 'ongoing_outbreak_covid19', 'originating_wuhan_china', 'novel_coronavirus_outbreak', 'wuhan_coronavirus']\n",
      "\n",
      "Results:\n",
      "\n",
      "The Lancet Infectious Diseases Commission will discuss disruptive factors and how preparedness planning must consider this new ecology by exploring current preparedness platforms and their vulnerability to disruptive factors; by addressing key disruptions, iden tifying possible solutions, and providing recommendations for countries to strengthen preparedness; by developing a multidisciplinary approach including National governments; international agencies; non-governmental organisations and charities; corporate entities; academic institutions Weakness in behavioural change guidance from national and international organisations; scarcity of sustainable leadership and financing in failed states leading to neglected or uncoordinated health systems; increasing duration and frequency of insecurity or conflict zones hindering efforts to recognise and respond to health threats; failure of countries to report disease outbreaks because of fear of economic consequences Social Travel patterns, migration, and interconnectivity; trade; technology and digital revolution, including those that affect human interaction; expansion and control of information; patterns of communication including social media; expectations and definition of expertise; social conflict and privacy Failure of host countries to protect the health of refugees and migrants; epidemic of devastating rumours and fake news on social media due to increased digital connectivity; emergence of social influencers exerting influence on politicians and institutions; increased resistance and hesitancy within communities to health interventions because of opposition by local experts Environment Geography affecting biological diversity; planned and unplanned urbanisation; climate change; interaction between humans, animals, and vectors; human development; state of the economy; state of health systems Climate change resulting in increased flooding with failed sanitation and safe water; altered distribution of zoonotic disease reservoirs and vectors; emerging zoonosis with increased agricultural production and human encroachment into animal environments; changing national priorities resulting in sharply reduced investment in health systems Pathogenesis Changing disease biomes; relationship between hosts and pathogens; pathogen evolution and changes; technologies such as synthetic biology, and the risks of manufacturing pathogens and their accidental or deliberate release; characteristics of a population such as underlying disease condition Increased opportunities for mutation or reassortment of infectious agents; increasingly reduced effectiveness of conventional vaccines and therapeutics for prevention and treatment of diseases; failure of conventional control measures to break the chain of transmission of infectious agents To tackle the wide-ranging issues, the Commission has brought together experts from academic, public health, policy making, international, non-governmental, and corporate institutions.\n",
      "\n",
      "Under current business conditions, we determine a private sector solution for the comprehensive development of EID vaccines is not yet feasible, and quantify the gap so as to inform current policy discussions regarding the need for public-sector intervention.\n",
      "\n",
      "In this issue of Eurosurveillance, we are publishing two articles on different aspects of the newly emerged 2019-nCoV. One is a research article by Corman et al. on the development of a diagnostic methodology based on RT-PCR of the E and RdRp genes, without the need for virus material; the assays were validated in five international laboratories [5] .\n",
      "\n",
      "We limited our search to include only the experimentally-determined epitopes that were associated with at least one positive assay: (i) positive B cell assays (e.g., enzyme-linked immunosorbent assay (ELISA)based qualitative binding) for B cell epitopes; and (ii) either positive T cell assays (such as enzymelinked immune absorbent spot (ELISPOT) or intracellular cytokine staining (ICS) IFN-γ release), or positive major histocompatibility complex (MHC) binding assays for T cell epitopes.\n",
      "\n",
      "The designs are outputs of algorithms that we are developing for rapidly designing nucleic acid detection assays that are comprehensive across genomic diversity and predicted to be highly sensitive and specific.\n",
      "\n",
      "We have been developing algorithms and machine learning models for rapidly designing nucleic acid detection assays, linked in a system called ADAPT (manuscript in preparation).\n",
      "\n",
      "Each assay targets a single species or subspecies and can be used individually (e.g., point-of-care detection); additionally, owing to how they are designed, multiple assays can be grouped together to test for multiple targets and distinguish them with high specificity.\n",
      "\n",
      "We analyze the economic returns of a portfolio of EID vaccine assets, and find that under realistic financing assumptions, the expected returns are significantly negative, implying that the private sector is unlikely to address this need without public-sector intervention.\n",
      "\n",
      "These results are consistent with the biopharma industry's trend towards fewer companies willing to engage in vaccine R&D, underscoring the infeasibility of a private-sector EID vaccine portfolio given current cost and revenue estimates, and the need for some form of public-sector intervention.\n",
      "\n",
      "Our results suggest that investment in this space is highly unattractive to the private sector, requiring commitments of the aforementioned magnitude for development viability; as highlighted above, either the price per regimen or the demand from outbreaks would have to increase by orders of magnitude to have the same effect.\n",
      "\n",
      "CDC and NIID assays contain single-quencher probes in each assay; however, we originally generated the double-quencher technology in YCH assays to reduce background signal.\n",
      "\n",
      "As observed, the Ct values in both the N1 and N2 sites of the NIID assay were relatively higher compared to those of the YCH assay (Figure 2 ), although the primer and probe sequence was the same between NIID and YCH assays.\n",
      "\n",
      "There are also particular issues in an outbreak of a novel pathogen due to difficulties in mobilizing the response and in development of testing capacities, as well as changes over time in the definition of SARS-CoV-2 infection symptoms.\n",
      "\n",
      "119 We also did not take into account other factors which could cause the delay in development of In conclusion, we provided proof of concept that the available SARS-CoV antibody 133 assays can reliably detect antibodies in patients with COVID-19 which could be used in this 134 current outbreak situation for serosurveys and as a diagnostic tool for under resourced countries. .\n",
      "\n",
      "Assays using quantitative reverse 55 transcription-polymerase chain reaction (qRT-PCR) approaches for detection of the 56 virus in 4-6 hours have been developed by several laboratories, including an 57 Emergency Use Authorization (EUA)-approved assay developed by the US CDC 6 .\n",
      "\n"
     ]
    }
   ],
   "source": [
    "search([\"assays\", \"development\", \"issues\", \"private sector\"],\n",
    "       optional_keywords=[\"new_coronavirus\", \"coronavirus\", \"covid19\"],\n",
    "       top_n=15, only_sentences=True)"
   ]
  },
  {
   "cell_type": "code",
   "execution_count": 60,
   "metadata": {},
   "outputs": [
    {
     "name": "stdout",
     "output_type": "stream",
     "text": [
      "\n",
      "Search for terms ['track', 'tracking', 'evolution', 'mutations']\n",
      "\n",
      "\n",
      "Search terms after cleaning, bigrams, trigrams and synonym expansion: ['track', 'tracking', 'evolution', 'mutations', 'evolutionary_process', 'mutation', 'point_mutations', 'substitutions', 'point_mutation', 'mutations_within']\n",
      "Optional search terms after cleaning, bigrams, trigrams and synonym expansion: ['newcoronavirus', 'coronavirus_covid19', '2019ncov_covid19', 'outbreak_2019_novel', 'sarscov2_2019ncov', 'coronavirus_2019ncov', 'ongoing_outbreak_novel_coronavirus', 'since_late_december', 'ongoing_outbreak_covid19', 'originating_wuhan_china', 'novel_coronavirus_outbreak', 'wuhan_coronavirus']\n",
      "\n",
      "Results:\n",
      "\n",
      "Mutation plays an important role in the evolution of antibiotic resistance mechanisms in bacteria either by refining existing horizontally acquired genetic determinants (e.g. those encoding b-lactamases), or by giving rise to variant drug targets with decreased affinity for antibiotics through point mutations (e.g. in the case of resistance to fluroquinolones.\n",
      "\n",
      "Therefore, in-depth detection and tracking of the mutation and evolution of the virus in the population, as well as a cross-species transmission mechanism, are urgent tasks to be carried out at present.\n",
      "\n",
      "These two differences were located on positions: 22551G>T & 26016G>T), which caused three amino acid mutations (E2 glycoprotein Protein mutation: V354F (22551G>T) , sars3a protein mutations: G250V (26016G>T) and sars3b protein mutations: V110F (26016G>T)) (Detailed in Supplementary  Table 4C -II).\n",
      "\n",
      "This allows accurate identification of other coronavirus species and the tracking of new viral mutations as the outbreak expands globally.\n",
      "\n",
      "Since the Chinese situation has provided the most information, great statistical importance was given to the Sars-Cov-2 evolution in the Hubei region, with the implicit assumption of \"very significant local mutations\" absence necessary for generalizing the reports through classical inference.\n",
      "\n",
      "Thanks to the comparison between real and theoretical evolution, it is likely to estimate the presence of essential mutations and/or the limitation strategy effectiveness through similarities, anomalies, or substantial deviations from each other.\n",
      "\n",
      "Based on 15 these potentially inheritable mutations and the identifying times and locations, we generated a mutation tree map to track individual shared mutations and show the relationships among different isolates (Fig 2A and S2 ).\n",
      "\n",
      "We have systematically analyzed and tracked the genome mutations among 120 different strains of 2019-nCoV. Although most substitutions are de novo mutations, we have identified 2019-nCoV as a member of the betacoronaviruses, shares similar genome structures as bat SARS, human SARS, MERS with nucleotide identity over 88%, 79%, about and 50%,respectively 23 .\n",
      "\n",
      "Beside point mutations, there is also a potential evidence of recombination as a mechanism for the evolution of 2019-nCoV. We found that 2019-nCoV shares high identity with RaTG13 throughout the genome except for the RBD of spike protein, which is closer to Pangolin-CoV isolated in Guangdong 17 .\n",
      "\n",
      "Further tracking the genome mutations with additional strains of 2019-nCoV isolated from patients in 20 different locations at different time points will provide insights to understand the molecular evolution of this rapid spreading viruses.\n",
      "\n",
      "We tried to infer the possible evolution pathway and track the cotransmission of 2019-nCoV. To avoid random mutations that may mislead the inference, we removed the substitution that appeared only once among all the sample genomes.\n",
      "\n",
      "In this work, we investigated the mutation pattern of SARS-CoV-2 by comprehensive comparative genomic analysis of the nonsynonymous/ synonymous substitution, relative synonymous codon usage (RSCU) and selective pressure in order to explore their potential in evolution and function.\n",
      "\n",
      "Consequently, these mutations may be subjected to Darwin's choice and will become evidence of adaptive protein evolution.\n",
      "\n",
      "Parallel and/convergent evolution, which occur through point mutation, could contribute to our observed evolutionary convergence, but it could not account for the unusually high incidence of convergent sites observed in this study, representing a rare finding in previous studies 20- 26 .\n",
      "\n",
      "First, we found that all protein binding sites of non-structural proteins involving in the intra-viral heteromeric complexes, wNSP7-wNsp8-wNsp12, wNsp10-wNsp14, and wNsp10-wNsp16, are either fully conserved or allow at most one mutation on the periphery of the binding region, in spite of the fact that each proteins had multiple mutations on their surfaces (Fig. 4A , see Suppl.\n",
      "\n"
     ]
    }
   ],
   "source": [
    "search([\"track\", \"tracking\", \"evolution\", \"mutations\"],\n",
    "       optional_keywords=[\"new_coronavirus\", \"coronavirus\", \"covid19\"],\n",
    "       top_n=15, only_sentences=True)"
   ]
  },
  {
   "cell_type": "code",
   "execution_count": 62,
   "metadata": {},
   "outputs": [
    {
     "name": "stdout",
     "output_type": "stream",
     "text": [
      "\n",
      "Search for terms ['Latency', 'viral load', 'pathogen', 'sampling issue']\n",
      "\n",
      "\n",
      "Search terms after cleaning, bigrams, trigrams and synonym expansion: ['latency', 'viral_load', 'pathogen', 'sampling', 'issue', 'viral_loads', 'virus_load', 'pathogens', 'issues']\n",
      "Optional search terms after cleaning, bigrams, trigrams and synonym expansion: ['newcoronavirus', 'coronavirus_covid19', '2019ncov_covid19', 'outbreak_2019_novel', 'sarscov2_2019ncov', 'coronavirus_2019ncov', 'ongoing_outbreak_novel_coronavirus', 'since_late_december', 'ongoing_outbreak_covid19', 'originating_wuhan_china', 'novel_coronavirus_outbreak', 'wuhan_coronavirus']\n",
      "\n",
      "Results:\n",
      "\n",
      "As a result, relying on R 0 alone is often misleading when comparing different pathogens or outbreaks of the same pathogen in different settings [13] [14] [15] .\n",
      "\n",
      "The low level of genetic variation in SARS-CoV-2 could merely be a sampling issue due to the short time this virus has circulated in humans.\n",
      "\n",
      "Thus, positive pathogen results (especially virus and atypical pathogens, which is a type of common pathogens detection in unexplained pneumonia) cannot be the exclusive criteria to COVID-2019 during unexplained pneumonia diagnosis.\n",
      "\n",
      "Exposed: Individual has been infected with a pathogen, but due to the pathogens incubation period, is not yet infectious.\n",
      "\n",
      "Accordingly, not 1 3 1 only the pathogens but also the pathogen induced cytokine storm should be 1 3 2 considered during the treatment.\n",
      "\n",
      "Second, Zou et al. reported that the viral load detected in asymptomatic patients was similar to that found in symptomatic patients; however, the viral loads from patients with severe diseases were higher than those in patients with mild-to-moderate presentations.\n",
      "\n",
      "Second, Zou et al. reported that the viral load detected in asymptomatic patients was similar to that found in symptomatic patients; however, the viral loads from patients with severe diseases were higher than those in patients with mild-to-moderate presentations.\n",
      "\n",
      "Ideally, such algorithms would not only filter out artefacts and perform mapping to the reference genome, but also suggest the most represented pathogen in each sample, narrowing down the spectrum of considered pathogens.\n",
      "\n",
      "In summary, the most notable deterrents for clinical metagenomics are: (1) the complexity and high costs of sample preparation, (2) the requirement for special bioinformatic education and skills, (3) the need for a powerful data processing infrastructure and (4) the possible inconsistency between results owing to uneven pathogen distribution in a body and/or quality of sampling.\n",
      "\n",
      "Given these characteristics, we then calculated the probability that the ongoing outbreak was due to a known pathogen or unknown Disease X. On the first day of calculation (i.e., 30 December 2019)-the day that we became aware of the outbreak-the only explanatory factor we included was diagnosis of atypical pneumonia, which was common to all pathogens considered in our dataset.\n",
      "\n",
      "To assess the probability that the emerging outbreak was caused by a known pathogen, we first calculated the distance between the set of characteristics of the ongoing outbreak and those of previously known pathogens.\n",
      "\n",
      "Then, by Bayes' theorem, Pr bserved characteristics | pathogen ∑ Pr observed characteristics | pathogen (1) in which the sum in the denominator is over all possible pathogens i (i.e., each of the columns of Table 1 , including the column describing the current outbreak).\n",
      "\n",
      "Combining Equations (1) and (2), and assuming uninformative priors for qi, gives, The probability that the outbreak was driven by Disease X corresponds to the distance 0, and represents a risk score taking values between the reciprocal of the number of candidate pathogens including Disease X itself and one: Pr Disease X | observed characteristics If there are n known pathogens that can potentially cause atypical pneumonia, the probability of observing Disease X without any information would be identical to the probability of observing any other listed pathogen (i.e., 1/(1 + n)).\n",
      "\n",
      "If no further information had become available during the outbreak, other than the gradual ruling out of candidate pathogens through laboratory tests, then the inferred uninformative probability for each candidate pathogen would have been given by the dotted gray lines in Figure 1 .\n",
      "\n",
      "The probability that the outbreak is due to an unknown pathogen (Disease X) increases as more information becomes available, for two reasons: (i) the current outbreak can be seen to exhibit characteristics that are not similar to those observed in previous outbreaks, and; (ii) previously observed pathogens are ruled out by laboratory test results.\n",
      "\n"
     ]
    }
   ],
   "source": [
    "search([\"Latency\", \"viral load\", \"pathogen\", \"sampling issue\"],\n",
    "       optional_keywords=[\"new_coronavirus\", \"coronavirus\", \"covid19\"],\n",
    "       top_n=15, only_sentences=True)"
   ]
  },
  {
   "cell_type": "code",
   "execution_count": 67,
   "metadata": {},
   "outputs": [
    {
     "name": "stdout",
     "output_type": "stream",
     "text": [
      "\n",
      "Search for terms ['cytokines', 'severe']\n",
      "\n",
      "\n",
      "Search terms after cleaning, bigrams, trigrams and synonym expansion: ['cytokines', 'severe', 'cytokines_chemokines', 'cytokine', 'other_cytokines', 'cytokines_including', 'inflammatory_cytokines']\n",
      "Optional search terms after cleaning, bigrams, trigrams and synonym expansion: ['newcoronavirus', 'coronavirus_covid19', '2019ncov_covid19', 'outbreak_2019_novel', 'sarscov2_2019ncov', 'coronavirus_2019ncov', 'ongoing_outbreak_novel_coronavirus', 'since_late_december', 'ongoing_outbreak_covid19', 'originating_wuhan_china', 'novel_coronavirus_outbreak', 'wuhan_coronavirus']\n",
      "\n",
      "Results:\n",
      "\n",
      "The proportion of CD8 + T reduction in the mild and severe group was 28.43% and 61.9%, 43 respectively; The proportion of B cell reduction was 25.49% and 28.57%; The proportion of NK 44 cell reduction was 34.31% and 47.62%; The detection value of IL-6 was 0 in 55.88% of the mild 45 group, mild group has a significantly lower proportion of patients with IL-6 higher than normal than 46 severe group; There was no significant linear correlation between the lymphocyte subsets and 47 cytokines, while significant differences were noticed between the two groups in CD4 + T, CD8 + T, 48 IL-6 and IL-10.\n",
      "\n",
      "Two independent-samples t test was performed on the lymphocyte 158 subsets and cytokines of the mild group and the severe group, with α= 0.05 as the inspection level.\n",
      "\n",
      "By analyzing the differences of lymphocyte subsets and 194 cytokines in peripheral blood between the mild and severe patients, we found that only CD4 + T, 195 CD8 + T, IL-6, IL-10 had statistical significance between the mild and severe groups, suggesting 196 that the immunosuppression of severe patients with 2019-nCoV infection was more obvious, which 197 was consistent with the opinions of many experts.\n",
      "\n",
      "In contrast, the severe patient group showed more significant fluctuations in the serum levels of these cytokines ( Figure 3 ).\n",
      "\n",
      "All examined cytokines reached similar levels between the severe and mild patient groups at 16 days after disease onset ( Figure 3 ).\n",
      "\n",
      "Cytokines profiles (IL2, IL4, IL6, IL10, TNF-α, IFN-γ and IL17A) were detected with human Th1/2/17 cytokine kit (Jiangxi CellGene Biotechnology Limited, Jiangxi, China).\n",
      "\n",
      "Further analysis of plasma cytokines demonstrated that the median concentrations of IFN-γ, TNF-α, IL10, IL6, IL4, IL2 and IL17A in severe group were higher than mild group.\n",
      "\n",
      "We found that serum IL-2, IL-6, IL-10 and TNF-α were mainly up-regulated in severe patients, while the first three cytokines exhibited a more meaningful increase.\n",
      "\n",
      "In this study, a retrospective analysis was conducted about cytokines and other inflammatory indicators of 100 patients (including 66 severe or critical patients), and more indicators were expected to better identify critical patients and help clinical decision-making. .\n",
      "\n",
      "The underlined mechanism of SARS-CoV-2 inflicted harmful effects leading to severe condition or death in COVID-19 patients is the over response against the virus by immune system and large amount of cytokines production (cytokine storm) [13] .\n",
      "\n",
      "The 1 3 9 results of our study suggested a crucial role of IP-10 in the pathogenesis of 1 4 0 SARS-CoV-2, which has also been shown to be associated with disease severity of In summary, we compared the differences of cytokines profiles between severe and 1 4 7 moderate COVID-19 cases, and found that IP-10, MCP-3 and IL-1ra were antibodies against theses cytokines, especially IP-10.\n",
      "\n",
      "Clinically, for those severe patients, the main symptoms of 2019-nCoV pneumonia are fever, decreased white blood cell and lymphocyte count, increased C reaction protein and abnormally expressed cytokines [6] .\n",
      "\n",
      "This may have reflected the ability of the CVVH module to eliminate inflammatory cytokines at a clearance rate slower than that of cytokine release, as well as ineffective clearance of protein-bound cytokines by hemofiltration [18] .\n",
      "\n",
      "Except for IL-4, the presence of cytokines was shown to be significantly higher in the severe group than in the mild group.\n",
      "\n",
      "Eight different cytokines were detected, and 7 cytokines were much higher in severe group than in mild group.\n",
      "\n"
     ]
    }
   ],
   "source": [
    "search([\"cytokines\", \"severe\"],\n",
    "       optional_keywords=[\"new_coronavirus\", \"coronavirus\", \"covid19\"],\n",
    "       top_n=15, only_sentences=True)"
   ]
  },
  {
   "cell_type": "code",
   "execution_count": 68,
   "metadata": {},
   "outputs": [
    {
     "name": "stdout",
     "output_type": "stream",
     "text": [
      "\n",
      "Search for terms ['protocols', 'screening', 'testing']\n",
      "\n",
      "\n",
      "Search terms after cleaning, bigrams, trigrams and synonym expansion: ['protocols', 'screening', 'testing', 'procedures', 'protocol']\n",
      "Optional search terms after cleaning, bigrams, trigrams and synonym expansion: ['newcoronavirus', 'coronavirus_covid19', '2019ncov_covid19', 'outbreak_2019_novel', 'sarscov2_2019ncov', 'coronavirus_2019ncov', 'ongoing_outbreak_novel_coronavirus', 'since_late_december', 'ongoing_outbreak_covid19', 'originating_wuhan_china', 'novel_coronavirus_outbreak', 'wuhan_coronavirus']\n",
      "\n",
      "Results:\n",
      "\n",
      "Interventions: Screening and management of patients using a hospital-specific protocol, which included fever triage, monitoring visitors and patients, emergency response, personnel training for healthcare team members, health education for patients and family, medical materials management, disinfection and wastes disposal protocols. :\n",
      "\n",
      "One important lesson gained from our recent experience suggests the need of updating the model parameters and model setting to reflect the rapid improvement of screening, diagnosing and testing techniques/procedures, accompanied by intensive contact tracing, quarantine and isolation.\n",
      "\n",
      "Since testing began, local procedures and national guidelines have changed in response to changing understanding of the disease and demand for testing.\n",
      "\n",
      "The NHS is responding to this challenge by moving to a community provider screening model, which will deliver the majority of testing in the home.\n",
      "\n",
      "Moreover, our provided protocol can be extended for testing the other 66 provided designs.\n",
      "\n",
      "A protocol for performing this assay is provided in the Methods section and can be used for testing any of the other designs we have provided.  \n",
      "\n",
      "doi: medRxiv preprint Shown were the concrete procedures of patients screening.\n",
      "\n",
      "To report our experiences screening and managing patients with suspected or confirmed novel coronavirus (COVID-19) disease using a hospital-specific protocol.\n",
      "\n",
      "► Key components of the protocol included: a three-level fever triage process; monitoring visitors and inpatients, formation of an emergency response team for COVID-19, personnel training for healthcare team members, health education for patients and family, medical materials management, and disinfection and wastes disposal protocols.\n",
      "\n",
      "A hospital-specific protocol for screening and management is necessary if an epidemic outbreak occurs.\n",
      "\n",
      "RT-LAMP meets these requirements and therefore has large value for screening and testing for COVID-19 in potentially exposed populations.\n",
      "\n",
      "RT-qPCR testing of respiratory secretions is routinely used to detect causative viruses in acute respiratory infection and, during a Public Health Emergency of International Concern, the establishment of standardized processes and protocols, as well as sharing of specimens, data, and information is critical.\n",
      "\n",
      "Secondly, some cases had incomplete record of the radiologic and laboratory testing, given the different procedures among different hospitals.\n",
      "\n",
      "In some of these places, testing may be already increasing, but if not, our results would suggest that these places should be targets for increased screening and testing for SARS-CoV-2.\n",
      "\n",
      "This is not true later when, for example, public health protocols may institute randomized testing.\n",
      "\n"
     ]
    }
   ],
   "source": [
    "search([\"protocols\", \"screening\", \"testing\"],\n",
    "       optional_keywords=[\"new_coronavirus\", \"coronavirus\", \"covid19\"],\n",
    "       top_n=15, only_sentences=True)"
   ]
  },
  {
   "cell_type": "code",
   "execution_count": 76,
   "metadata": {},
   "outputs": [
    {
     "name": "stdout",
     "output_type": "stream",
     "text": [
      "\n",
      "Search for terms ['supplies', 'tests']\n",
      "\n",
      "\n",
      "Search terms after cleaning, bigrams, trigrams and synonym expansion: ['supplies', 'tests', 'supply', 'test']\n",
      "Optional search terms after cleaning, bigrams, trigrams and synonym expansion: ['newcoronavirus', 'coronavirus_covid19', '2019ncov_covid19', 'outbreak_2019_novel', 'sarscov2_2019ncov', 'coronavirus_2019ncov', 'ongoing_outbreak_novel_coronavirus', 'since_late_december', 'ongoing_outbreak_covid19', 'originating_wuhan_china', 'novel_coronavirus_outbreak', 'wuhan_coronavirus']\n",
      "\n",
      "Results:\n",
      "\n",
      "If such tests were fast, there may be 349 potential to test suspected cases in real time based on questionnaire responses, travel origin, or 350 borderline symptoms.\n",
      "\n",
      "11.20034363 doi: medRxiv preprint to the much larger efforts to test the population, with a ratio of close to 4 tests per 1000 inhabitants, compared with 0.066 tests per 1000 inhabitants for Japan.\n",
      "\n",
      "Wang et al. also reported that some patients were negative in the first three tests and turned to positive on the fourth test [18] .\n",
      "\n",
      "1.5 Clinical and test indicators: Symptoms such as fever, cough, fatigue and soreness at the time of examination and the results of tests were compared between the two groups.\n",
      "\n",
      "Fluorescence tests are four experimental replicas (two-tailed student's 566 test;\n",
      "\n",
      "All tests are four experimental replicas (two-tailed student's test; * P < 584 0.05, ** P < 0.01, *** P < 0.001, *\n",
      "\n",
      "Friedman tests were used to test for the difference of blood test results across time within the same subjects.\n",
      "\n",
      "In this case, when the ratio of the diagnosis test rates is 318 constant, if there are no errors in the diagnosis tests then the surveillance accurately 319 reflects the real disease process though it may overestimate or underestimate actual 320 incidence.\n",
      "\n",
      "If such tests were fast, there may be potential to test suspected cases in real time based on questionnaire responses, travel origin, or borderline symptoms; at least one PCR test for SARS-CoV-2 claimed to take less than an hour has already been announced (Biomeme, 2020) .\n",
      "\n",
      "If such tests were fast, there may be potential to test suspected cases in real time based on questionnaire responses, travel origin, or borderline symptoms; at least one PCR test for SARS-CoV-2 claimed to take less than an hour has already been announced (Biomeme, 2020) .\n",
      "\n"
     ]
    }
   ],
   "source": [
    "search([\"protocols\", \"effects\", \"supply\", \"test\"],\n",
    "       optional_keywords=[\"new_coronavirus\", \"coronavirus\", \"covid19\"],\n",
    "       top_n=10, only_sentences=True)"
   ]
  },
  {
   "cell_type": "code",
   "execution_count": 78,
   "metadata": {},
   "outputs": [
    {
     "name": "stdout",
     "output_type": "stream",
     "text": [
      "\n",
      "Search for terms ['Technology', 'product', 'development', 'roadmap', 'diagnostics']\n",
      "\n",
      "\n",
      "Search terms after cleaning, bigrams, trigrams and synonym expansion: ['technology', 'product_development', 'roadmap', 'diagnostics', 'technologies', 'development_manufacturing', 'road_map', 'blueprint', 'gvap', 'progress_challenges', 'mcmi', 'apsed_2010', 'strategic_goals', 'accelerate_research', 'roadmaps', 'address_gaps']\n",
      "Optional search terms after cleaning, bigrams, trigrams and synonym expansion: ['newcoronavirus', 'coronavirus_covid19', '2019ncov_covid19', 'outbreak_2019_novel', 'sarscov2_2019ncov', 'coronavirus_2019ncov', 'ongoing_outbreak_novel_coronavirus', 'since_late_december', 'ongoing_outbreak_covid19', 'originating_wuhan_china', 'novel_coronavirus_outbreak', 'wuhan_coronavirus']\n",
      "\n",
      "Results:\n",
      "\n",
      "77 An updated roadmap for MERS-CoV product development lists all available diagnostics and other diagnostics in the developmental phase.\n",
      "\n",
      "Since the initial description of LAMP, a number of advancements in detection technology have helped establish LAMP as a standard method for simple isothermal diagnostics.\n",
      "\n",
      "Polymerase chain reaction (PCR) method is the most commonly used technology for pathogen nucleic acid detection and has been considered as a \"gold standard\" for disease diagnostics due to high sensitivity and specificity.\n",
      "\n",
      "The Lancet Infectious Diseases Commission will discuss disruptive factors and how preparedness planning must consider this new ecology by exploring current preparedness platforms and their vulnerability to disruptive factors; by addressing key disruptions, iden tifying possible solutions, and providing recommendations for countries to strengthen preparedness; by developing a multidisciplinary approach including National governments; international agencies; non-governmental organisations and charities; corporate entities; academic institutions Weakness in behavioural change guidance from national and international organisations; scarcity of sustainable leadership and financing in failed states leading to neglected or uncoordinated health systems; increasing duration and frequency of insecurity or conflict zones hindering efforts to recognise and respond to health threats; failure of countries to report disease outbreaks because of fear of economic consequences Social Travel patterns, migration, and interconnectivity; trade; technology and digital revolution, including those that affect human interaction; expansion and control of information; patterns of communication including social media; expectations and definition of expertise; social conflict and privacy Failure of host countries to protect the health of refugees and migrants; epidemic of devastating rumours and fake news on social media due to increased digital connectivity; emergence of social influencers exerting influence on politicians and institutions; increased resistance and hesitancy within communities to health interventions because of opposition by local experts Environment Geography affecting biological diversity; planned and unplanned urbanisation; climate change; interaction between humans, animals, and vectors; human development; state of the economy; state of health systems Climate change resulting in increased flooding with failed sanitation and safe water; altered distribution of zoonotic disease reservoirs and vectors; emerging zoonosis with increased agricultural production and human encroachment into animal environments; changing national priorities resulting in sharply reduced investment in health systems Pathogenesis Changing disease biomes; relationship between hosts and pathogens; pathogen evolution and changes; technologies such as synthetic biology, and the risks of manufacturing pathogens and their accidental or deliberate release; characteristics of a population such as underlying disease condition Increased opportunities for mutation or reassortment of infectious agents; increasingly reduced effectiveness of conventional vaccines and therapeutics for prevention and treatment of diseases; failure of conventional control measures to break the chain of transmission of infectious agents To tackle the wide-ranging issues, the Commission has brought together experts from academic, public health, policy making, international, non-governmental, and corporate institutions.\n",
      "\n",
      "This technology may provide new targets for diagnostics and for the development of selective drugs for hospital-adapted Efm.\n",
      "\n",
      "While technology (notably with the democratization of travelling) might have been one of the factors that made COVID-19 reach a pandemic status, technology -and particularly online technologies -will also be a key element for us to survive this crisis.\n",
      "\n",
      "[8, 9] 71 Currently, metagenomics and RT-PCR are two molecular approaches most commonly used 72 diagnostics for this novel virus.\n",
      "\n",
      "This expands the applications of CRISPR-Cas13 systems in addition to their uses for diagnostics such as SHERLOCK and live-cell imaging [30] [31] [32] [33] .\n",
      "\n",
      "This laboratory technology is based on real-time RT-PCR All rights reserved.\n",
      "\n",
      "Our study represents the first study to apply artificial intelligence technologies to CT images for effectively screening for COVID-19.\n",
      "\n"
     ]
    }
   ],
   "source": [
    "search([\"Technology\", \"product\", \"development\", \"roadmap\", \"diagnostics\"],\n",
    "       optional_keywords=[\"new_coronavirus\", \"coronavirus\", \"covid19\"],\n",
    "       top_n=10, only_sentences=True)"
   ]
  },
  {
   "cell_type": "code",
   "execution_count": 81,
   "metadata": {},
   "outputs": [
    {
     "name": "stdout",
     "output_type": "stream",
     "text": [
      "\n",
      "Search for terms ['market forces', 'diagnostic', 'Coalition for Epidemic Preparedness Innovations', 'funding']\n",
      "\n",
      "\n",
      "Search terms after cleaning, bigrams, trigrams and synonym expansion: ['market_forces', 'diagnostic', 'coalition_epidemic_preparedness_innovations', 'funding', 'free_market', 'insurance_medicare', 'international_intellectual_property', 'economic_policy', 'policy_priorities', 'cost_cutting', 'policy_goal', 'government_involvement', 'patent_system', 'revitalise', 'coalition_epidemic_preparedness_innovation', 'cepi_has', 'global_alliance', 'vaccine_institute_ivi', 'launched_global_health', 'global_health_security_agenda', 'us_agency_international', 'global_fund_fight_aids', 'who_rotary_international', 'vaccine_initiative', 'funds', 'funding_support', 'financial_support', 'research_funding', 'government_funding', 'fund', 'grants']\n",
      "Optional search terms after cleaning, bigrams, trigrams and synonym expansion: ['newcoronavirus', 'coronavirus_covid19', '2019ncov_covid19', 'outbreak_2019_novel', 'sarscov2_2019ncov', 'coronavirus_2019ncov', 'ongoing_outbreak_novel_coronavirus', 'since_late_december', 'ongoing_outbreak_covid19', 'originating_wuhan_china', 'novel_coronavirus_outbreak', 'wuhan_coronavirus']\n",
      "\n",
      "Results:\n",
      "\n",
      "Funding G.C. is supported by NSF grants 1610429 and 1633381.\n",
      "\n",
      "Funding: G.C. is supported by NSF grants 1610429 and 1633381.\n",
      "\n",
      "On 23 January 2020, the Coalition for Epidemic Preparedness Innovations (CEPI) announced that they will fund vaccine development programmes with Inovio, The University of Queensland and Moderna, Inc respectively, with the aim to test the experimental vaccines clinically in 16 weeks (By June 2020).\n",
      "\n",
      "Plumbing work on research funding and development pipelines through recent changes in the structure of government funding, 2 new public and private joint ventures and specialist undergraduate and postgraduate courses now aim to incorporate pathways to translation at the earliest stages.\n",
      "\n",
      "In Japan, funding has been provided through routine financing and contingency funds.\n",
      "\n",
      "In terms of funding, the French announced $49 billion, Italy announced a $28 billion plan on March 11 to be divided over two separate spending packages, while the UK announced a £5 billion COVID-19 fund (UKGov, 2020).\n",
      "\n",
      "2 Academics are largely incentivised to write scientific articles and to fund their work through individually led grants.\n",
      "\n",
      "Most of this funding is in the form of grants to academic institutions and health-related agencies.\n",
      "\n",
      "79 State Medicaid and State Children's Health Insurance Program funds also are provided for vaccine purchase, although the level of Medicaid funding varies from state to state.\n",
      "\n",
      "All listed authors declare no financial support, grants, financial interests or consultancy that could lead to conflicts of interest.\n",
      "\n"
     ]
    }
   ],
   "source": [
    "search([\"scaling\", \"diagnostic\", \"Coalition for Epidemic Preparedness Innovations\", \"funding\"],\n",
    "       optional_keywords=[\"new_coronavirus\", \"coronavirus\", \"covid19\"],\n",
    "       top_n=10, only_sentences=True)"
   ]
  },
  {
   "cell_type": "code",
   "execution_count": 82,
   "metadata": {},
   "outputs": [
    {
     "name": "stdout",
     "output_type": "stream",
     "text": [
      "\n",
      "Search for terms ['technology', 'platforms', 'CRISPR', 'response times', 'holistic approaches']\n",
      "\n",
      "\n",
      "Search terms after cleaning, bigrams, trigrams and synonym expansion: ['technology_platforms', 'crispr', 'response', 'times', 'holistic_approaches', 'proteomic_technologies', 'enabling_technology', 'advances_nextgeneration', 'unbiased_nextgeneration_sequencing_ngs', 'manufacturing_technologies', 'advances_genomics', 'recent_technological', 'much_popularity', 'high_throughput_sequencing_technology', 'analytical_systems', 'crisprcas9', 'genome_editing', 'responses', 'collaborative_transdisciplinary', 'real_time_problem_solving', 'callaghan_2016', 'eids_biological_invasions', 'evidencedriven', 'collaborative_interdisciplinary', 'societal_relevance', 'seeks_address', 'challenge_lies', 'evolutionarily_enlightened']\n",
      "Optional search terms after cleaning, bigrams, trigrams and synonym expansion: ['newcoronavirus', 'coronavirus_covid19', '2019ncov_covid19', 'outbreak_2019_novel', 'sarscov2_2019ncov', 'coronavirus_2019ncov', 'ongoing_outbreak_novel_coronavirus', 'since_late_december', 'ongoing_outbreak_covid19', 'originating_wuhan_china', 'novel_coronavirus_outbreak', 'wuhan_coronavirus']\n",
      "\n",
      "Results:\n",
      "\n",
      "The diagnostic performance of CRISPR-nCoV was assessed 44 and also compared across three technology platforms (mNGS, RT-PCR and CRISPR) 45 Results 46 2019-nCoVs sequenced in our study were conserved with the Wuhan strain, and shared 47 certain genetic similarity with SARS-CoV. A high degree of variation in the level of viral 48 All rights reserved.\n",
      "\n",
      "These responses are concerning, and preemptive targeted messaging by the public health agencies is required to ensure a compassionate response to this outbreak.\n",
      "\n",
      "IL-6, when promptly and transiently produced in response to infections and tissue injuries, contributes to host defense through the stimulation of acute phase responses or immune reactions.\n",
      "\n",
      "In this study, we applied high-throughput technologies coupled with methods for integrative data analyses as powerful tools to investigate a large spectrum of innate cell surface markers, cytokines, and gene expression to determine whether early innate immune responses can serve as correlates of antibody induction in response to the rVSV-ZEBOV vaccine.\n",
      "\n",
      "This response is one of the swiftest, coordinated global responses to an emerging infectious disease the world has seen in modern times, but is it the appropriate response, will it be effective and is it sustainable?\n",
      "\n",
      "Health-Emergency Disaster Risk Management (Health-EDRM) emerged as the latest knowledge, research and policy paradigm shift from response to preparedness and health risk management in non-emergency times [1] .\n",
      "\n",
      "Health-Emergency Disaster Risk Management (Health-EDRM) emerged as the latest knowledge, research and policy paradigm shift from response to preparedness and health risk management in non-emergency times [1] .\n",
      "\n",
      "With the expectation of slow response times in mind, we designed the epidemiology service with a cache.\n",
      "\n",
      "However, the argument would have to be that antibiotics prevent a T H1 response to bacteria, and this predisposes to T H2 responses.\n",
      "\n",
      "Glucose responses of the immobilized sensor are reversible and stable, showing the best sensor response using NieNTA functionalized agarose beads (Kd of 13 mM (agarose) and 20 mM (polystyrene)).\n",
      "\n"
     ]
    }
   ],
   "source": [
    "search([\"technology\", \"platforms\", \"CRISPR\", \"response times\", \"holistic approaches\"],\n",
    "       optional_keywords=[\"new_coronavirus\", \"coronavirus\", \"covid19\"],\n",
    "       top_n=10, only_sentences=True)"
   ]
  },
  {
   "cell_type": "code",
   "execution_count": 84,
   "metadata": {},
   "outputs": [
    {
     "name": "stdout",
     "output_type": "stream",
     "text": [
      "\n",
      "Search for terms ['Coupling genomics', 'large scale']\n",
      "\n",
      "\n",
      "Search terms after cleaning, bigrams, trigrams and synonym expansion: ['coupling', 'genomics', 'large_scale', 'largescale']\n",
      "Optional search terms after cleaning, bigrams, trigrams and synonym expansion: ['newcoronavirus', 'coronavirus_covid19', '2019ncov_covid19', 'outbreak_2019_novel', 'sarscov2_2019ncov', 'coronavirus_2019ncov', 'ongoing_outbreak_novel_coronavirus', 'since_late_december', 'ongoing_outbreak_covid19', 'originating_wuhan_china', 'novel_coronavirus_outbreak', 'wuhan_coronavirus']\n",
      "\n",
      "Results:\n",
      "\n",
      "Emerging infectious diseases (EIDs) such as Ebola, influenza, SARS, MERS, and, most recently, coronavirus (2019-nCoV) cause large-scale mortality and morbidity, disrupt trade and travel networks, and stimulate civil unrest (9) .\n",
      "\n",
      "Emerging infectious diseases (EIDs) such as Ebola, influenza, SARS, MERS, and, most recently, coronavirus (2019-nCoV) cause large-scale mortality and morbidity, disrupt trade and travel networks, and stimulate civil unrest (9) .\n",
      "\n",
      "Faced with the current large-scale public health emergency, collecting, sorting, and analyzing biomedical information related to the \"coronavirus\" should be done as quickly as possible to gain a global perspective, which is a basic requirement for strengthening epidemic control capacity.\n",
      "\n",
      "Since December 2019, there has been an outbreak of large-scale pneumonia cases of unknown cause in Wuhan, China.\n",
      "\n",
      "Understanding how to deal with such behavioral changes is key for the development of more realistic descriptions of the large-scale spreading of diseases.\n",
      "\n",
      "Since COVID-19 emerged in early December, 2019 in Wuhan and swept across China Mainland, a series of large-scale public health interventions, especially Wuhan lock-down combined with nationwide traffic restrictions and Stay At Home Movement, have been taken by the government to control the epidemic.\n",
      "\n",
      "The Chinese government has implemented a series of large-scale public health interventions to control the epidemic, many of which have far exceeded what International Health Regulations required, especially Wuhan lock-down, nationwide traffic restrictions and Stay At Home Movement.\n",
      "\n",
      "Do these large-scale public health interventions really work well in China?\n",
      "\n",
      "Fortunately, China Government has implemented a series of large-scale public health interventions to control the epidemic.\n",
      "\n",
      "This method has been used in a large scale field survey of Wolbachia-containing mosquitos (10), Grapevine red blotch virus without DNA extraction (11) , testing urine samples for Zika virus (12) and even amplification detection on the International Space Station (13) .\n",
      "\n"
     ]
    }
   ],
   "source": [
    "search([\"Coupling genomics\", \"diagnostic testing\", \"large scale\"],\n",
    "       optional_keywords=[\"new_coronavirus\", \"coronavirus\", \"covid19\"],\n",
    "       top_n=10, only_sentences=True)"
   ]
  },
  {
   "cell_type": "code",
   "execution_count": 85,
   "metadata": {},
   "outputs": [
    {
     "name": "stdout",
     "output_type": "stream",
     "text": [
      "\n",
      "Search for terms ['rapid sequencing', 'bioinformatics', 'genome', 'specificity']\n",
      "\n",
      "\n",
      "Search terms after cleaning, bigrams, trigrams and synonym expansion: ['rapid', 'sequencing_bioinformatics', 'genome', 'specificity', 'highthroughput_sequencing_techniques', 'microarrays_deep_sequencing', 'advances_nextgeneration', 'highthroughput_sequencing_methods', 'combined_next_generation', 'massive_parallel_sequencing', 'sample_preparation_sequencing', 'benchtop_sequencing', 'highthroughput_sequencing_technologies', 'high_throughput_dna_sequencing', 'genomes']\n",
      "Optional search terms after cleaning, bigrams, trigrams and synonym expansion: ['newcoronavirus', 'coronavirus_covid19', '2019ncov_covid19', 'outbreak_2019_novel', 'sarscov2_2019ncov', 'coronavirus_2019ncov', 'ongoing_outbreak_novel_coronavirus', 'since_late_december', 'ongoing_outbreak_covid19', 'originating_wuhan_china', 'novel_coronavirus_outbreak', 'wuhan_coronavirus']\n",
      "\n",
      "Results:\n",
      "\n",
      "However, the fifth gene in the Betacoronavirus core genome, the envelope protein (E), varied among genomes, defining three distinct subclusters within the envelope protein E of Betacoronaviruses ( Figure 2 ).\n",
      "\n",
      "Further tracking the genome mutations with additional strains of 2019-nCoV isolated from patients in 20 different locations at different time points will provide insights to understand the molecular evolution of this rapid spreading viruses.\n",
      "\n",
      "All assembled query genomes in FASTA format were analyzed using Genome  To understand the variation in genomes from various geographical areas used in the study, we performed a phylogenetic analysis.\n",
      "\n",
      "structural genomics initiatives focusing on determining the 3D structures of proteins on a genome scale [34] and specific efforts on rapid structural characterization of proteins in emerging viruses [35] [36] [37] [38] , multiple works have used comparative modeling to predict the structures of protein-protein interaction complexes [39] [40] [41] , facilitating structure-based drug discovery [33, 42, 43] , inferring protein functions [44] , determining the macromolecular interaction network [45] [46] [47] , and providing molecular insights into viral evolution [48] [49] [50] .\n",
      "\n",
      "The two genomes were merged using the easymerge.pl subcommand from VirMAP to create the final pangolin-associated coronavirus (Pangolin-CoV) genome.\n",
      "\n",
      "Key advantages of our approach over 127 existing methods such as qRT-PCR include (1) isothermal signal amplification for rapid 128 target detection obviating the need for thermocycling, (2) single nucleotide target 129 specificity (guide RNAs at the N2 site can distinguish SARS-CoV-2 from SARS-CoV 130 and MERS-CoV), (3) integration with portable, low-cost reporting formats such as lateral 131 flow strips, and (4) quick development cycle to address emerging threats from novel 132 zoonotic viruses (<2 weeks for SARS-CoV-2, Supplementary Fig. 6) .\n",
      "\n",
      "The genomes and the combination of genome and protein sequences were used to develop a phylogenetic tree and phylogenetic profiling, respectively.\n",
      "\n",
      "Their data showed that the 2019-nCoV viral genomes have about 79% homology to the genome of severe acute respiratory syndrome (SARS) coronavirus (SARS-CoV), about 52% homology to that of Middle East respiratory syndrome coronavirus (MERS-CoV), and about 87% homology to the genomes of two strains of batderived SARS-like coronavirus identified in Zhoushan in 2015.\n",
      "\n",
      "The genomes and the combination of genome and protein sequences were used to develop a phylogenetic tree and phylogenetic profiling, respectively.\n",
      "\n",
      "The rapid sequencing of the nearly 30,000 nucleotide 2019-nCoV genome by Dr. Zhang's group at Fudan University and several other groups in China illustrate the dedication and increased capacity of the scientific infrastructure in China [4, 5] .\n",
      "\n"
     ]
    }
   ],
   "source": [
    "search([\"rapid sequencing\", \"bioinformatics\", \"genome\", \"specificity\"],\n",
    "       optional_keywords=[\"new_coronavirus\", \"coronavirus\", \"covid19\"],\n",
    "       top_n=10, only_sentences=True)"
   ]
  },
  {
   "cell_type": "code",
   "execution_count": 86,
   "metadata": {},
   "outputs": [
    {
     "name": "stdout",
     "output_type": "stream",
     "text": [
      "\n",
      "Search for terms ['sequencing', 'analytics', 'unknown pathogen', 'distinguishing', 'naturally-occurring pathogens', 'intentional']\n",
      "\n",
      "\n",
      "Search terms after cleaning, bigrams, trigrams and synonym expansion: ['sequencing', 'analytics', 'unknown', 'pathogen', 'distinguishing', 'naturallyoccurring', 'pathogens', 'intentional', 'dna_sequencing', 'sanger_sequencing', 'direct_sequencing', 'realtime_online', 'smart_healthcare', 'pathogens', 'distinguishing_between', 'differentiating', 'potential_pathogens', 'infectious_agents', 'viruses_bacteria', 'viral_pathogens', 'bacterial_pathogens', 'microbes', 'bacteria_viruses', 'other_pathogens', 'pathogen', 'pathogenic_agents']\n",
      "Optional search terms after cleaning, bigrams, trigrams and synonym expansion: ['newcoronavirus', 'coronavirus_covid19', '2019ncov_covid19', 'outbreak_2019_novel', 'sarscov2_2019ncov', 'coronavirus_2019ncov', 'ongoing_outbreak_novel_coronavirus', 'since_late_december', 'ongoing_outbreak_covid19', 'originating_wuhan_china', 'novel_coronavirus_outbreak', 'wuhan_coronavirus']\n",
      "\n",
      "Results:\n",
      "\n",
      "Given these characteristics, we then calculated the probability that the ongoing outbreak was due to a known pathogen or unknown Disease X. On the first day of calculation (i.e., 30 December 2019)-the day that we became aware of the outbreak-the only explanatory factor we included was diagnosis of atypical pneumonia, which was common to all pathogens considered in our dataset.\n",
      "\n",
      "The probability that the outbreak is due to an unknown pathogen (Disease X) increases as more information becomes available, for two reasons: (i) the current outbreak can be seen to exhibit characteristics that are not similar to those observed in previous outbreaks, and; (ii) previously observed pathogens are ruled out by laboratory test results.\n",
      "\n",
      "The talk will discuss recent work to examine evolutionary concepts based on (a) stimulated phylogenetic trees for pathogens within a transmission framework and (b) the evolution of drug resistance in pathogen populations including both viruses and bacteria, and the parasitic tropical diseases.\n",
      "\n",
      "As a result, relying on R 0 alone is often misleading when comparing different pathogens or outbreaks of the same pathogen in different settings [13] [14] [15] .\n",
      "\n",
      "Thus, positive pathogen results (especially virus and atypical pathogens, which is a type of common pathogens detection in unexplained pneumonia) cannot be the exclusive criteria to COVID-2019 during unexplained pneumonia diagnosis.\n",
      "\n",
      "Exposed: Individual has been infected with a pathogen, but due to the pathogens incubation period, is not yet infectious.\n",
      "\n",
      "Accordingly, not 1 3 1 only the pathogens but also the pathogen induced cytokine storm should be 1 3 2 considered during the treatment.\n",
      "\n",
      "Ideally, such algorithms would not only filter out artefacts and perform mapping to the reference genome, but also suggest the most represented pathogen in each sample, narrowing down the spectrum of considered pathogens.\n",
      "\n",
      "To assess the probability that the emerging outbreak was caused by a known pathogen, we first calculated the distance between the set of characteristics of the ongoing outbreak and those of previously known pathogens.\n",
      "\n",
      "Then, by Bayes' theorem, Pr bserved characteristics | pathogen ∑ Pr observed characteristics | pathogen (1) in which the sum in the denominator is over all possible pathogens i (i.e., each of the columns of Table 1 , including the column describing the current outbreak).\n",
      "\n"
     ]
    }
   ],
   "source": [
    "search([\"sequencing\", \"analytics\", \"unknown pathogen\", \"distinguishing\", \"naturally-occurring pathogens\", \"intentional\"],\n",
    "       optional_keywords=[\"new_coronavirus\", \"coronavirus\", \"covid19\"],\n",
    "       top_n=10, only_sentences=True)"
   ]
  },
  {
   "cell_type": "code",
   "execution_count": 87,
   "metadata": {},
   "outputs": [
    {
     "name": "stdout",
     "output_type": "stream",
     "text": [
      "\n",
      "Search for terms ['One Health', 'surveillance', 'spillover', 'bats', 'wildlife', 'future']\n",
      "\n",
      "\n",
      "Search terms after cleaning, bigrams, trigrams and synonym expansion: ['one_health', 'surveillance', 'spillover', 'bats', 'wildlife', 'future', 'onehealth', 'ecohealth', 'spillover_events', 'spillover_from', 'spillover_humans', 'spillover_infections', 'bat_species', 'fruit_bats', 'insectivorous_bats', 'species_bats', 'bat', 'wildlife_species', 'domestic_animal', 'wildlife_populations', 'wildlife_conservation', 'wild_animals']\n",
      "Optional search terms after cleaning, bigrams, trigrams and synonym expansion: ['newcoronavirus', 'coronavirus_covid19', '2019ncov_covid19', 'outbreak_2019_novel', 'sarscov2_2019ncov', 'coronavirus_2019ncov', 'ongoing_outbreak_novel_coronavirus', 'since_late_december', 'ongoing_outbreak_covid19', 'originating_wuhan_china', 'novel_coronavirus_outbreak', 'wuhan_coronavirus']\n",
      "\n",
      "Results:\n",
      "\n",
      "To prevent the next epidemic and pandemic related to these interfaces, we call for research and investment in three areas: 1) surveillance among wildlife to identify the high-risk pathogens they carry; 2) surveillance among people who have contact with wildlife to identify early spillover events; and 3) improvement of market biosecurity regarding the wildlife trade.\n",
      "\n",
      "To prevent the next epidemic and pandemic related to these interfaces, we call for research and investment in three areas: 1) surveillance among wildlife to identify the high-risk pathogens they carry; 2) surveillance among people who have contact with wildlife to identify early spillover events; and 3) improvement of market biosecurity regarding the wildlife trade.\n",
      "\n",
      "SARS-CoV-2 is likely a batorigin coronavirus that was transmitted to humans through a spillover from bats or through yet undetermined intermediate animal host (avian, swine, phocine, bovine, canine, other species) or wild animals.\n",
      "\n",
      "A broad surveillance for SARS-CoV-2 among different animals is warranted within Huanan Seafood Market and the vicinities, and should include potential reservoir hosts such as bats (both in the wild and if found in live animal markets) as well as potential intermediate hosts such as pigs, live poultry, fish, reptiles, and wild animals in close proximity to humans, which not only allow virus transmission among them but also lead to the generation of new viral strains.\n",
      "\n",
      "Surveillance for SARS-CoV-2 in nonhuman hosts including swine and wild animals and further genetic analysis of SARS-CoV-2, and other SARS-like CoVs may reveal the possible intermediate host of the recently emerged human SARS-CoV-2 responsible for the current outbreak and is a very important One Health measure.\n",
      "\n",
      "Although humans and bats live in different environments, some wildlife species are susceptible to the novel coronaviruses in nature, highlighting that the need of tracing its origin of 2019 human coronavirus in wild animals.\n",
      "\n",
      "Although the 158 inserted residues (and hence nucleotides) are not the same as those in RmYN02, and hence 159 are indicative of an independent insertion event, that they are presented in wildlife (bats) 160 strongly suggests that they are of natural origin and have likely acquired by recombination.\n",
      "\n",
      "SARS-CoV, MERS-CoV, and 2019-nCoV are all betacoronaviruses, a genus that includes many viruses that infect humans, bats, and other wild animals (ICTV, 2018).\n",
      "\n",
      "The basic reproduction number (R 0 ) was calculated from the RP model to assess the transmissibility of the 2019-nCoV.  We assumed that the virus transmitted among the bats population, and then transmitted to an unknown host (probably be wild animals).\n",
      "\n",
      "These included PRJNA573298 3 (pangolin), PRJNA597258 (fruit bats) and PRJNA379515 (bats).\n",
      "\n"
     ]
    }
   ],
   "source": [
    "search([\"One Health\", \"surveillance\", \"spillover\", \"bats\", \"wildlife\", \"future\"],\n",
    "       optional_keywords=[\"new_coronavirus\", \"coronavirus\", \"covid19\"],\n",
    "       top_n=10, only_sentences=True)"
   ]
  },
  {
   "cell_type": "code",
   "execution_count": null,
   "metadata": {},
   "outputs": [],
   "source": []
  }
 ],
 "metadata": {
  "kernelspec": {
   "display_name": "covid19",
   "language": "python",
   "name": "covid19"
  },
  "language_info": {
   "codemirror_mode": {
    "name": "ipython",
    "version": 3
   },
   "file_extension": ".py",
   "mimetype": "text/x-python",
   "name": "python",
   "nbconvert_exporter": "python",
   "pygments_lexer": "ipython3",
   "version": "3.6.8"
  }
 },
 "nbformat": 4,
 "nbformat_minor": 2
}
