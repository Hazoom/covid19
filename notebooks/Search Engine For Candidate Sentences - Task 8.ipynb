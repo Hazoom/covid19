{
 "cells": [
  {
   "cell_type": "markdown",
   "metadata": {},
   "source": [
    "# Search Engine For Candidate Sentences"
   ]
  },
  {
   "cell_type": "markdown",
   "metadata": {},
   "source": [
    "## Demonstration of how to use the simple search engine for fetching relevant sentences"
   ]
  },
  {
   "cell_type": "markdown",
   "metadata": {},
   "source": [
    "Let's import our search engine for `src` directory.\n",
    "\n",
    "First, one needs to set the Python source files environment variables for Juptyer Notebook. If you haven't done this, please run those two command BEFORE running Juptyer Notebook:\n",
    "1. `export PYTHONPATH=/path/to/covid19/src`\n",
    "2. `export JUPYTER_PATH=/path/to/covid19/src`"
   ]
  },
  {
   "cell_type": "code",
   "execution_count": 1,
   "metadata": {},
   "outputs": [
    {
     "name": "stderr",
     "output_type": "stream",
     "text": [
      "unable to import 'smart_open.gcs', disabling that module\n"
     ]
    }
   ],
   "source": [
    "from search.searchengine import SearchEngine\n",
    "from pprint import pprint\n",
    "import os"
   ]
  },
  {
   "cell_type": "code",
   "execution_count": 2,
   "metadata": {},
   "outputs": [],
   "source": [
    "data_dir = \"../../../workspace/kaggle/covid19/data\""
   ]
  },
  {
   "cell_type": "markdown",
   "metadata": {},
   "source": [
    "Initialize out SearchEngine object with:\n",
    "1. Sentences metadata\n",
    "2. bi-gram model\n",
    "3. tri-gram model\n",
    "4. Trained FastText vectors"
   ]
  },
  {
   "cell_type": "code",
   "execution_count": 3,
   "metadata": {},
   "outputs": [
    {
     "name": "stdout",
     "output_type": "stream",
     "text": [
      "Loading CSV: ../../../workspace/kaggle/covid19/data/sentences_with_metadata.csv and building mapping dictionary...\n",
      "Finished loading CSV: ../../../workspace/kaggle/covid19/data/sentences_with_metadata.csv and building mapping dictionary\n",
      "Loaded 249343 sentences\n",
      "Loading bi-gram model: ../../../workspace/kaggle/covid19/data/covid_bigram_model_v0.pkl\n",
      "Finished loading bi-gram model: ../../../workspace/kaggle/covid19/data/covid_bigram_model_v0.pkl\n",
      "Loading tri-gram model: ../../../workspace/kaggle/covid19/data/covid_trigram_model_v0.pkl\n",
      "Finished loading tri-gram model: ../../../workspace/kaggle/covid19/data/covid_trigram_model_v0.pkl\n",
      "Loading fasttext model: ../../../workspace/kaggle/covid19/data/fasttext_no_subwords_trigrams/word-vectors-100d.txt\n",
      "Finished loading fasttext model: ../../../workspace/kaggle/covid19/data/fasttext_no_subwords_trigrams/word-vectors-100d.txt\n"
     ]
    }
   ],
   "source": [
    "search_engine = SearchEngine(\n",
    "    os.path.join(data_dir, \"sentences_with_metadata.csv\"),\n",
    "    os.path.join(data_dir, \"covid_bigram_model_v0.pkl\"),\n",
    "    os.path.join(data_dir, \"covid_trigram_model_v0.pkl\"),\n",
    "    os.path.join(data_dir, \"fasttext_no_subwords_trigrams/word-vectors-100d.txt\"),\n",
    ")"
   ]
  },
  {
   "cell_type": "markdown",
   "metadata": {},
   "source": [
    "Simple search function that gets a list of keywords to search:"
   ]
  },
  {
   "cell_type": "code",
   "execution_count": 4,
   "metadata": {},
   "outputs": [],
   "source": [
    "def search(keywords, optional_keywords=None, top_n=10, synonyms_threshold=0.8, only_sentences=False):\n",
    "    print(f\"\\nSearch for terms {keywords}\\n\\n\")\n",
    "    results = search_engine.search(\n",
    "        keywords, optional_keywords=optional_keywords, top_n=top_n, synonyms_threshold=synonyms_threshold\n",
    "    )\n",
    "    print(\"\\nResults:\\n\")\n",
    "    \n",
    "    if only_sentences:\n",
    "        for result in results:\n",
    "            print(result['sentence'] + \"\\n\")\n",
    "    else:\n",
    "        pprint(results)"
   ]
  },
  {
   "cell_type": "markdown",
   "metadata": {},
   "source": [
    "Let's see some examples:"
   ]
  },
  {
   "cell_type": "code",
   "execution_count": 9,
   "metadata": {},
   "outputs": [
    {
     "name": "stdout",
     "output_type": "stream",
     "text": [
      "\n",
      "Search for terms ['demographic', 'Sampling methods', 'asymptomatic', 'serosurveys', 'convalescent samples', 'screening', 'ELISAs']\n",
      "\n",
      "\n",
      "Search terms after cleaning, bigrams, trigrams and synonym expansion: ['demographic', 'sampling_methods', 'asymptomatic', 'serosurveys', 'convalescent_samples', 'screening', 'elisas', 'demographics', 'demography', 'sociodemographic', 'sampling_techniques', 'symptomatic', 'seroprevalence_studies', 'serological_surveys', 'serologic_surveys', 'seroepidemiological_studies', 'serological_surveillance', 'serologic_investigations', 'serosurvey', 'serological_studies', 'serological_investigations', 'convalescentphase_serum_sample', '≥_4fold_increase', 'increase_igg_titer', 'elisa_macelisa', 'acutephase_samples', 'convalescent_serology', 'serum_samples_taken', '4fold_increase_antibody_titer', 'fourfold_increase_titer', 'between_acuteand', 'elisa_tests', 'elisa', 'indirect_elisas', 'enzymelinked_immunosorbent_assays_elisas', 'two_elisas', 'enzymelinked_immunosorbent_assay_elisa', 'elisa_assays']\n",
      "Optional search terms after cleaning, bigrams, trigrams and synonym expansion: ['newcoronavirus', 'coronavirus_covid19', '2019ncov_covid19', 'outbreak_2019_novel', 'sarscov2_2019ncov', 'coronavirus_2019ncov', 'ongoing_outbreak_novel_coronavirus', 'since_late_december', 'ongoing_outbreak_covid19', 'originating_wuhan_china', 'novel_coronavirus_outbreak', 'wuhan_coronavirus']\n",
      "\n",
      "Results:\n",
      "\n",
      "In other words, if someone is symptomatic and confirmed to be COVID19+ on any of the days between t+1 to t+14, then s/he was infected but asymptomatic on day t. Using publicly available data for the state of Washington for dates Feb. 28-March 16, 2020, our math shows that on Feb. 28, 2020, there were at least 567 asymptomatic infected cases, despite there being only 1 officially confirmed case reported for that day.\n",
      "\n",
      "Distinct periods are shown as unexposed (gray), exposed (white), infected but asymptomatic (pink), symptomatic (purple) and reported (blue).\n",
      "\n",
      "2 [ Figure 1 ] 3 [ Table 2 ] 4 Preliminary ELISA evaluation of recombinant proteins 5 Indirect ELISAs were used to preliminarily evaluate the six recombinant proteins.\n",
      "\n",
      "Of note, the asymptomatic group was significantly younger than the symptomatic group, with median ages of 34 and 44 years (P=0.02), respectively.\n",
      "\n",
      "Ratio from aggregate case data Assuming homogeneous attack rates across the different age groups, the demographic distribution of cases by age across each location should broadly match the demography of the populations in Wuhan and across the rest of China.\n",
      "\n",
      "Whether an individual was symptomatic was R α 0 0, ] α ∈ [ 1 determined by a Bernoulli trial with probability equal to the proportion of infections that were asymptomatic in that replicate.\n",
      "\n",
      "β1 is the transmission coefficient of the asymptomatic infected cases, β2 is the transmission coefficient of the symptomatic infected cases (mild infected person and severe patients) to the susceptible, β3 is the transmission coefficient of the hospitalized cases to the susceptible, 1/ is the mean incubation period, 1/ is the mean time between symptom onset to hospitalization, 1/k1 is the mean infectious period of asymptomatic infected person for survivors, 1/k2 is the mean duration for hospitalized cases for survivors, 1/ is the mean time from hospitalization to death, γ is the clinical outbreak rate in all the infected cases.\n",
      "\n",
      "Our model incorporates the following essential ingredients of COVID-19 epidemics: (1) the number of asymptomatic infectious individuals (with very mild or no symptoms), (2) the number of symptomatic reported infectious individuals (with severe symptoms) and (3) the number of symptomatic unreported infectious individuals (with mild symptoms).\n",
      "\n",
      "The rate asymptomatic infectious become reported symptomatic is ν 1 = f ν, the rate asymptomatic infectious become unreported symptomatic is The cumulative number of reported cases at time t is given by the formula and the cumulative number of unreported\n",
      "\n",
      "Fraction of asymptomatic infectious that become reported symptomatic infectious fixedt ν 1 = f ν Rate at which asymptomatic infectious become reported symptomatic fitted Rate at which asymptomatic infectious become unreported symptomatic fitted 1/η Average time symptomatic infectious have symptoms fixed Table 1 : Parameters and initial conditions of the model.  \n",
      "\n"
     ]
    }
   ],
   "source": [
    "search([\"demographic\", \"Sampling methods\", \"asymptomatic\", \"serosurveys\", \"convalescent samples\", \"screening\", \"ELISAs\"],\n",
    "       optional_keywords=[\"new_coronavirus\", \"coronavirus\", \"covid19\"],\n",
    "       top_n=10, only_sentences=True)"
   ]
  },
  {
   "cell_type": "code",
   "execution_count": 12,
   "metadata": {},
   "outputs": [
    {
     "name": "stdout",
     "output_type": "stream",
     "text": [
      "\n",
      "Search for terms ['Denominators', 'testing', 'demographics', 'sharing information']\n",
      "\n",
      "\n",
      "Search terms after cleaning, bigrams, trigrams and synonym expansion: ['denominators', 'testing', 'demographics', 'sharing_information', 'numerators', 'denominator_calculate', 'using_multiple_imputation', 'random_effects_models', 'burden_influenza_ah1n1pdm09', 'appropriate_denominators', 'fit_lognormal_distribution', 'reporting_completeness_proportions', 'sex_age_groups', 'national_estimates', 'demographic', 'demographic_characteristics', 'demographic_data', 'sociodemographic', 'questionnaire_addressed', 'demographic_features', 'informationsharing', 'communication_cooperation', 'electronic_communications', 'information_sharing', 'sharing_surveillance', 'datasharing', 'international_coordination', 'nhcmoh', 'sharing_information_between', 'ihr_2005_implementation']\n",
      "Optional search terms after cleaning, bigrams, trigrams and synonym expansion: ['newcoronavirus', 'coronavirus_covid19', '2019ncov_covid19', 'outbreak_2019_novel', 'sarscov2_2019ncov', 'coronavirus_2019ncov', 'ongoing_outbreak_novel_coronavirus', 'since_late_december', 'ongoing_outbreak_covid19', 'originating_wuhan_china', 'novel_coronavirus_outbreak', 'wuhan_coronavirus']\n",
      "\n",
      "Results:\n",
      "\n",
      "18 Thus, our elective surgery patient population only includes uninfected individuals and asymptomatic or pre-symptomatic individuals (whose COVID19 status would not be discovered given current testing limitations).\n",
      "\n",
      "2 Due to the current state of COVID19 testing, US statistics on confirmed COVID19 cases may not be the most reliable, either.\n",
      "\n",
      "26 In addition, COVID19 testing shortages may make the US statistics on COVID19 cases less reliable.\n",
      "\n",
      "SARS-CoV-2 is a large RNA virus and testing of all overlapping peptides in vitro to deconvolute an immune response is not feasible.\n",
      "\n",
      "We find that the false positive rate is high for all tested tools when testing for predicted HLA-binding peptides from SARS-CoV-2 virus.\n",
      "\n",
      "While this strategy is a proof-of-concept and will require further testing using replication-competent SARS-CoV-2 viruses and validation in animal models before clinical tests in humans, it represents a unique approach to implement a rapid and broad antiviral defense in humans against emerging pathogens for which there are no effective vaccines.\n",
      "\n",
      "The diagnosis of COVID-19 relies on the following criteria: clinical symptoms, epidemiological history and positive CT images, as well as positive pathogenic testing.\n",
      "\n",
      "Once someone is identified as a PUI (person under investigation), lower respiratory specimens, such as bronchoalveolar lavage, tracheal aspirate or sputum, will be collected for pathogenic testing.\n",
      "\n",
      "More interestingly, testing CT images from COVID-19 patients when initial pathogenic testing came negative, our model has achieved the accuracy of 85.2% for correctly predicting COVID-19.\n",
      "\n",
      "Therefore, further optimizing and testing this system is warranted.\n",
      "\n"
     ]
    }
   ],
   "source": [
    "search([\"Denominators\", \"testing\", \"demographics\", \"sharing information\"],\n",
    "       optional_keywords=[\"new_coronavirus\", \"coronavirus\", \"covid19\"],\n",
    "       top_n=10, only_sentences=True)"
   ]
  },
  {
   "cell_type": "code",
   "execution_count": 14,
   "metadata": {},
   "outputs": [
    {
     "name": "stdout",
     "output_type": "stream",
     "text": [
      "\n",
      "Search for terms ['mitigation', 'government', 'strategies']\n",
      "\n",
      "\n",
      "Search terms after cleaning, bigrams, trigrams and synonym expansion: ['mitigation', 'government', 'strategies', 'local_government', 'governments', 'central_government', 'national_government', 'governmental', 'local_agencies', 'government_s', 'stateowned_enterprises_soes', 'chinese_government', 'central_local_governments', 'strategy']\n",
      "Optional search terms after cleaning, bigrams, trigrams and synonym expansion: ['newcoronavirus', 'coronavirus_covid19', '2019ncov_covid19', 'outbreak_2019_novel', 'sarscov2_2019ncov', 'coronavirus_2019ncov', 'ongoing_outbreak_novel_coronavirus', 'since_late_december', 'ongoing_outbreak_covid19', 'originating_wuhan_china', 'novel_coronavirus_outbreak', 'wuhan_coronavirus']\n",
      "\n",
      "Results:\n",
      "\n",
      "As the virus spreads globally it is likely that government strategies will shift from containment and delay towards mitigation (4) .\n",
      "\n",
      "4 As a result, some of the public health precautionary strategies are selfinitiated by the community in attempts to influence the government's policies; for instance, health-care staff held a strike to press for a total border closure, which the government was reluctant to endorse.\n",
      "\n",
      "However, whether the daily incidence can decay symmetrically to the increase phase will depend largely on the strategy of the government.\n",
      "\n",
      "City officials, public health planners, policy-makers and governments in countries that are beginning to see the spread of this disease domestically need to act quickly, effectively and decisively, as the government of China did, to prevent a serious global pandemic.\n",
      "\n",
      "These strategies include the direct government acquisition of stockpiles of vaccines, the use of prizes, priority review vouchers, and the establishment of advance market commitments, each of which is described in more detail in Supplemental Materials.\n",
      "\n",
      "Governments can catalyze outside investments through a range of strategies, including guaranteed commitments.\n",
      "\n",
      "One strategy is a broader-scale contact rate 29 reduction enforced by governments which was used during previous outbreaks, e.g., the 1918 influenza pandemic and 30 the 2009 influenza A/H1N1 pandemic in Mexico.\n",
      "\n",
      "14 Findings The majority of the participants expressed a great extent of trust in the 15 information and preventive instructions provided by the central government than by the 16 local government.\n",
      "\n",
      "These mandatory strategies carried out by the government showed significant effects on containing the contagion of COVID-19, and the number of new confirmed cases remarkably decreased at the end of February 2020.\n",
      "\n",
      "rd Wuhan was locked down, and most parts of China shortly adopted a similar strategy; 2) On January 26 th , the government announced to extend the Chinese Traditional New Year Festival holiday so self-isolation/protection was maximized; 3) On February 7 th the Chinese government created the partnership between each one of the 16 provinces to its sister-city in the epicenter, the Hubei province, to reinforce the health care workers and equipment in the sister-city in Hubei; 4) On February 12 th the Hubei province started to include the clinically diagnosed cases into the confirmed cases to enhance its quarantine/isolation measure; 5) On February 14 th , Wuhan refined its management protocol of residential quarters; 6) On February 16 th , the National Health 18, 19 .\n",
      "\n"
     ]
    }
   ],
   "source": [
    "search([\"mitigation\", \"government\", \"strategies\"],\n",
    "       optional_keywords=[\"new_coronavirus\", \"coronavirus\", \"covid19\"],\n",
    "       top_n=10, only_sentences=True)"
   ]
  },
  {
   "cell_type": "code",
   "execution_count": 21,
   "metadata": {},
   "outputs": [
    {
     "name": "stdout",
     "output_type": "stream",
     "text": [
      "\n",
      "Search for terms ['existing diagnostic platforms', 'burden']\n",
      "\n",
      "\n",
      "Search terms after cleaning, bigrams, trigrams and synonym expansion: ['existing', 'diagnostic_platforms', 'burden', 'naatbased', 'tests_nats', 'nucleic_acidbased_amplification', 'simultaneously_detect_multiple', 'rapid_turnaround_times', 'dipstick_assays', 'detection_platforms', 'over_conventional_methods', 'detection_capabilities', 'poc_diagnosis']\n",
      "Optional search terms after cleaning, bigrams, trigrams and synonym expansion: ['newcoronavirus', 'coronavirus_covid19', '2019ncov_covid19', 'outbreak_2019_novel', 'sarscov2_2019ncov', 'coronavirus_2019ncov', 'ongoing_outbreak_novel_coronavirus', 'since_late_december', 'ongoing_outbreak_covid19', 'originating_wuhan_china', 'novel_coronavirus_outbreak', 'wuhan_coronavirus']\n",
      "\n",
      "Results:\n",
      "\n",
      "Taken together, our observations suggest that any conclusion drawn, at present, about existing lineages and direction of viral spread, based on phylogenetic analysis of SARS-CoV-2 sequence data, is potentially misleading.\n",
      "\n",
      "A recent work analyzed 103 SARS-CoV-2 genomes and indicated that there are two major types (L and S) of SARS-CoV-2 existing with different viral signature sequences 4 .\n",
      "\n",
      "We adapted an existing national-scale metapopulation model to capture the spread of CoVID-19 in England and Wales.\n",
      "\n",
      "We use an existing national-scale stochastic metapopulation model of disease transmission in England and Wales.\n",
      "\n",
      "All 77 existing SARS/MERS vaccines were reported to induce neutralizing antibodies and partial 78 protection against the viral challenges in animal models (Table 2) , but it is desired to induce 79 complete protection or sterile immunity.\n",
      "\n",
      "97 In this study, we first surveyed the existing coronavirus vaccine development status, and 98 then applied the Vaxign RV and Vaxign-ML approaches to predict COVID-19 protein 99 candidates for vaccine development.\n",
      "\n",
      "The subfractionation of existing heparin preparations against anticoagulant activities (with proven low-toxicity profiles, good bioavailability and industrial-scale manufacturing) for off-label pathologies, provides an attractive strategy for quickly and effectively responding to COVID-19 and for the development of next generation heparin-based therapeutics.\n",
      "\n",
      "Secondly and may be the most reasonable, an existing medical investigation reported that the expression and distribution of angiotension converting enzyme 2 (ACE2) was wider in male patients than those in females [5] .\n",
      "\n",
      "Based on this structure and existing experimental datasets for SARS 3CL protease inhibitors, we develop an SBDR model based on machine learning and mathematics to screen 1465 drugs in the DrugBank that have been approved by the U.S. Food and Drug Administration (FDA).\n",
      "\n",
      "A more effective approach is to search for anti-2019-nCoV therapies from the existing FDA-approved drug database.\n",
      "\n",
      "The latter is used as a major criterion for searching anti-2019-nCoV therapies from the existing FDA-approved drugs.\n",
      "\n",
      "In the future, the burden of AI experts could be lifted significantly by automatic machine learning (AutoML) [25] .\n",
      "\n",
      "However, the existing studies used swiss-model need further optimization, for example, the ligand binding site on the predicted S-protein structure are still not clear.\n",
      "\n",
      "After a pronounced low in 2020-2024, prevalence recovers and settles into a seasonal pattern, similar to that of the four existing seasonal CoVs.\n",
      "\n",
      "We found only two studies that attempted to quantify the potential child care burden of school closures for healthcare workers.\n",
      "\n"
     ]
    }
   ],
   "source": [
    "search([\"existing diagnostic platforms\", \"burden\"],\n",
    "       optional_keywords=[\"new_coronavirus\", \"coronavirus\", \"covid19\"],\n",
    "       top_n=15, only_sentences=True)"
   ]
  },
  {
   "cell_type": "code",
   "execution_count": 27,
   "metadata": {},
   "outputs": [
    {
     "name": "stdout",
     "output_type": "stream",
     "text": [
      "\n",
      "Search for terms ['Recruit', 'expertise', 'capacity']\n",
      "\n",
      "\n",
      "Search terms after cleaning, bigrams, trigrams and synonym expansion: ['recruit', 'expertise', 'capacity', 'recruited', 'recruits', 'capability', 'capacities', 'capabilities']\n",
      "Optional search terms after cleaning, bigrams, trigrams and synonym expansion: ['newcoronavirus', 'coronavirus_covid19', '2019ncov_covid19', 'outbreak_2019_novel', 'sarscov2_2019ncov', 'coronavirus_2019ncov', 'ongoing_outbreak_novel_coronavirus', 'since_late_december', 'ongoing_outbreak_covid19', 'originating_wuhan_china', 'novel_coronavirus_outbreak', 'wuhan_coronavirus']\n",
      "\n",
      "Results:\n",
      "\n",
      "South Korea, as of writing, has the most extensive capabilities of testing individuals with a capacity of around 20,000 tests a day.\n",
      "\n",
      "We assessed the required expertise and capacity for molecular detection of 2019-nCoV in specialised laboratories in 30 European Union/European Economic Area (EU/EEA) countries.\n",
      "\n",
      "Organisations such as the Global Outbreak Alert and Response Network (GOARN), the Coalition for Epidemic Preparedness Innovations (CEPI), the Global Research Collaboration For Infectious Disease Preparedness (GloPID-R) and the Global Initiative on Sharing All Influenza Data (GISAID) have been supported by the WHO Research Blueprint and its Global Coordinating Mechanism to provide a forum where those with the expertise and capacity to contribute to managing new threats can come together both between and during outbreaks to develop innovative solutions to emerging problems.\n",
      "\n",
      "Therefore, it was possible that cancer cells might gain superior capacity to uptake or utilize some AAs compared to the capability of normal cells via multiple signaling pathways, such as GCN2-ATF4 axis [72] [73] [74] [75] , or by decreasing AA catabolisms, such as BCAA [76] .\n",
      "\n",
      "Singapore's systematic enhancement in capacity and capabilities for pandemic preparednessfrom establishing a purpose-build National Centre for Infectious Diseases to stockpiling personal protective equipment (PPE) at the national level -seeks to limit the mortality and morbidity from the next communicable disease outbreak, such as COVID-19, while safeguarding the occupational health of its frontline healthcare workers.\n",
      "\n",
      "16 The 2018 SPAR database 17 contains 24 indicator scores, organised and grouped according to the following capacities (bracketed number shows indicators per capacity 10 ): legislation (three), IHR Coordination (two), zoonoses (one), food safety (one), laboratory (three), surveillance (two), human resource (one), national health emergency framework (three), health service provision (three), communication (one), points of entry (two), chemical events (one), and radi ation emergency (one).\n",
      "\n",
      "The aftermath of recent epidemics and pandemics (eg, severe acute respiratory syndrome, H1N1 pandemic, Middle East respiratory syndrome, and Ebola) have highlighted the need to reinforce national public health capabilities and infrastructures, including diseasesurveillance systems and laboratory networks, as well as human capacity (eg, training in surveillance, epidemic response, and diagnostic testing).\n",
      "\n",
      "Thus, the ability to react to a number of chemokines provides cells of immunological significance with the capacity to be recruited to wherever they are needed.\n",
      "\n",
      "13, 14  We analysed 2018 SPAR submissions to review health security capacities on the basis of the following indices: capacities to (1) prevent, (2) detect, (3) respond, (4) enabling function (resources and coordination capacity), and (5) operational readiness.\n",
      "\n",
      "A country's response capacity depends on the strength of its emergency preparedness and the regular testing and updating of national plans and capacities.\n",
      "\n",
      "The Government was already drawing on the expertise and capacity of Public Health England (PHE), the Ministry of Defence (MOD) and the Department of Health (DoH), to drive its response but social scientists had no seat at the table.\n",
      "\n",
      "Increased governmental and donor investments are required to advance locally led, world-class public health work with surveillance, data and analytics capabilities and further expanding state-of-the-art laboratory capacities with more J o u r n a l P r e -p r o o f trained personnel to sustain capacity to rapidly respond to outbreaks at their source.\n",
      "\n",
      "Third, the case data used in this study likely varies in quality and completeness due to the timeliness of reporting, varying laboratory diagnosis capacities, and differences in details announced on health authority websites.\n",
      "\n",
      "Faced with the current large-scale public health emergency, collecting, sorting, and analyzing biomedical information related to the \"coronavirus\" should be done as quickly as possible to gain a global perspective, which is a basic requirement for strengthening epidemic control capacity.\n",
      "\n",
      "That is to say, we do not rely on transportation data (which is most of the time given as the maximum flow capacity between subpopulations), but on a real dataset gathered for this occasion (see Materials and Methods).\n",
      "\n"
     ]
    }
   ],
   "source": [
    "search([\"Recruit\", \"expertise\", \"capacity\"],\n",
    "       optional_keywords=[\"new_coronavirus\", \"coronavirus\", \"covid19\"],\n",
    "       top_n=15, only_sentences=True)"
   ]
  },
  {
   "cell_type": "code",
   "execution_count": 29,
   "metadata": {},
   "outputs": [
    {
     "name": "stdout",
     "output_type": "stream",
     "text": [
      "\n",
      "Search for terms ['government', 'best practices', 'guidelines', 'public', 'public health']\n",
      "\n",
      "\n",
      "Search terms after cleaning, bigrams, trigrams and synonym expansion: ['government', 'best_practices', 'guidelines', 'public', 'public_health', 'local_government', 'governments', 'central_government', 'national_government', 'governmental', 'local_agencies', 'government_s', 'stateowned_enterprises_soes', 'chinese_government', 'central_local_governments', 'recommendations', 'international_guidelines', 'national_guidelines', 'published_guidelines', 'guideline', 'guidance', 'standards_guidelines', 'newspapers_internet', 'medical_public_health']\n",
      "Optional search terms after cleaning, bigrams, trigrams and synonym expansion: ['newcoronavirus', 'coronavirus_covid19', '2019ncov_covid19', 'outbreak_2019_novel', 'sarscov2_2019ncov', 'coronavirus_2019ncov', 'ongoing_outbreak_novel_coronavirus', 'since_late_december', 'ongoing_outbreak_covid19', 'originating_wuhan_china', 'novel_coronavirus_outbreak', 'wuhan_coronavirus']\n",
      "\n",
      "Results:\n",
      "\n",
      "A series of mandatory actions have been taken by the municipal and provincial governments supported by the central government, such as measures to restrict travels across cities, case detection and contact tracing, quarantine, guidance and information to the public, detection kit development, etc.\n",
      "\n",
      "City officials, public health planners, policy-makers and governments in countries that are beginning to see the spread of this disease domestically need to act quickly, effectively and decisively, as the government of China did, to prevent a serious global pandemic.\n",
      "\n",
      "While containing the virus as quickly as possible is the urgent public health priority, there have been few public health guidelines for the public as to what people can or should do in terms of maintaining their daily exercise or physical activity routines.\n",
      "\n",
      "While containing the virus as quickly as possible is the urgent public health priority, there have been few public health guidelines for the public as to what people can or should do in terms of maintaining their daily exercise or physical activity routines.\n",
      "\n",
      "While containing the virus as quickly as possible is the urgent public health priority, there have been few public health guidelines for the public as to what people can or should do in terms of maintaining their daily exercise or physical activity routines.\n",
      "\n",
      "4 As a result, some of the public health precautionary strategies are selfinitiated by the community in attempts to influence the government's policies; for instance, health-care staff held a strike to press for a total border closure, which the government was reluctant to endorse.\n",
      "\n",
      "11 As part of these social distancing policies, Chinese government encouraged people to stay at home as much as possible, cancelled or postponed large public events and mass gatherings, and closed libraries, museums, and workplaces.\n",
      "\n",
      "Slow response of government, presymptomatic and asymptomatic transmission and insufficient protection measures taken by the public together could lead to an out-of-control epidemic, as with the current situation in many countries.\n",
      "\n",
      "Figure 1 shows the cumulative numbers of confirmed cases and deaths of the COVID-19 and the public health measures introduced by the Chinese government from 31 Dec 2019 to 15 Feb 2020, e.g., identification of pathogen, activation of different levels of emergency response, announcement of protocols and guidelines for healthcare workers and the general population to follow, legislation facemask wearing in public, and lockdown of about 13 cities in Hubei province.\n",
      "\n",
      "1101 /2020 During the COVID-19 outbreak, the Chinese government introduced various measures, such as lockdown of cities, shutdown of the transportation system, and legislation on mandatory facemasks wearing in public 23 .\n",
      "\n",
      "Our results are in line with the most recent recommendations from the World Health Organization, namely, that the best strategy is the early detection and isolation of individuals with symptoms, followed by interventions and public recommendations aimed at reducing the transmissibility of the disease, which although not efficacious for disease eradication, would produce as a second order effect a delay of several days in the raise of the number of infected cases. .\n",
      "\n",
      "The official guidelines (the Guidelines of the National Health Commission of China for COVID-19, 5 th edition; 2 and the WHO interim guideline 3 ) currently recommend two laboratory parameters, \"normal/ decreased number of leukocytes\" or \"decreased number of lymphocytes\", as one of the criteria for diagnosis of COVID-19 infection.\n",
      "\n",
      "To this end, a hotline for psychological guidance can be set up, and guidelines for this hotline should be formulated to effectively alleviate the tension and panic of the public.\n",
      "\n",
      "This would allow governments to attempt to tackle the pandemic more effectively in terms of public health, as it provides a valuable and dynamic metric of the pandemic.\n",
      "\n",
      "This approach is used to obtain timely access to public responses so that the government and the health department can better communicate with the public on health issues and take appropriate measures to prevent and control the epidemic 35, 39 .\n",
      "\n"
     ]
    }
   ],
   "source": [
    "search([\"government\", \"best practices\", \"guidelines\", \"public\", \"public health\"],\n",
    "       optional_keywords=[\"new_coronavirus\", \"coronavirus\", \"covid19\"],\n",
    "       top_n=15, only_sentences=True)"
   ]
  },
  {
   "cell_type": "code",
   "execution_count": 30,
   "metadata": {},
   "outputs": [
    {
     "name": "stdout",
     "output_type": "stream",
     "text": [
      "\n",
      "Search for terms ['point-of-care test', 'rapid influenza test', 'speed', 'accuracy']\n",
      "\n",
      "\n",
      "Search terms after cleaning, bigrams, trigrams and synonym expansion: ['pointofcare_test', 'rapid', 'influenza', 'test', 'speed_accuracy', 'liat', 'alere_i', 'filmarray_respiratory_panel', 'verigene_respiratory', 'xpress_flursv', 'easytoperform', 'cliawaived', 'panel_rp', 'pointofcare_settings', 'cepheid_sunnyvale_ca_usa', 'influenza_virus', 'influenza_a', 'infl_uenza', 'influenza_a_b', 'tests', 'economical_method', 'speed_cost', 'accuracy_sensitivity', 'efficiency_speed', 'multiplexing_capacity', 'metagenomics_datasets', 'standardization_automation', 'automatization', 'sophisticated_tools', 'fast_turnaround_time']\n",
      "Optional search terms after cleaning, bigrams, trigrams and synonym expansion: ['newcoronavirus', 'coronavirus_covid19', '2019ncov_covid19', 'outbreak_2019_novel', 'sarscov2_2019ncov', 'coronavirus_2019ncov', 'ongoing_outbreak_novel_coronavirus', 'since_late_december', 'ongoing_outbreak_covid19', 'originating_wuhan_china', 'novel_coronavirus_outbreak', 'wuhan_coronavirus']\n",
      "\n",
      "Results:\n",
      "\n",
      "Respiratory samples of the patients were tested for influenza A and B viruses and respiratory syncytial virus using the Xpert Xpress Flu/RSV assay (GeneXpert System, Cepheid, Sunnyvale, CA, USA) according to the manufacturer's instructions.\n",
      "\n",
      "Influenza was diagnosed with commercial multiplex PCR platforms. : 179 patients had 277 episodes of ILI, being 79 episodes of influenza A and 20 episodes of influenza B. Influenza A and B cases were mild and had similar presentation.\n",
      "\n",
      "While this strategy is a proof-of-concept and will require further testing using replication-competent SARS-CoV-2 viruses and validation in animal models before clinical tests in humans, it represents a unique approach to implement a rapid and broad antiviral defense in humans against emerging pathogens for which there are no effective vaccines.\n",
      "\n",
      "To perform this test, for example for influenza, all the influenza virus-antibody sequences were removed from the training set and the obtained model were tested on all samples of Influenza and the accuracy is reported here.\n",
      "\n",
      "If such tests were fast, there may be 349 potential to test suspected cases in real time based on questionnaire responses, travel origin, or 350 borderline symptoms.\n",
      "\n",
      "11.20034363 doi: medRxiv preprint to the much larger efforts to test the population, with a ratio of close to 4 tests per 1000 inhabitants, compared with 0.066 tests per 1000 inhabitants for Japan.\n",
      "\n",
      "For Influenza A, the World Health Organization nomenclature for Influenza strain 740 identification, which is encoded in the FASTA header, was parsed for labeling of human 741 isolate 41 .\n",
      "\n",
      "Non-COVID-19 group included several other respiratory viruses such as influenza A, B and adenovirus infection cases, these cases were negative for anti-2019-nCoV specific antibody detection, indicating that the antibody detection has a good ability to resist interference and differential Considering that COVID-19 has broken out in many countries around the world, more than 80000 people have been diagnosed and the number is growing rapidly, the main problem at present is the need for highly sensitive tests to screen the suspected cases and to prevent missed diagnosis by nucleic acid tests, lower false positive rates for antibody testing are acceptable.\n",
      "\n",
      "Influenza sequences are the second most abundant and the National Center of Biotechnology Information (NCBI), where GenBank is housed, has expended considerable effort to organize flu sequences and streamline the submission of new influenza virus sequences, including a tool to validate and annotate flu submissions called FLAN [2] .\n",
      "\n",
      "The test could be used at the point-of-care by field and local personnel for the rapid diagnosis of individuals for optimal treatment, isolation, and rapid contact tracking as well as the investigation of outbreaks of unknown respiratory diseases.\n",
      "\n",
      "Wang et al. also reported that some patients were negative in the first three tests and turned to positive on the fourth test [18] .\n",
      "\n",
      "The most common pathogen was influenza (including influenza A and B), followed by Mycoplasma pneumoniae, and metapneumovirus.\n",
      "\n",
      "Our study discovered that, in low epidemic regions outside Hubei province such as Eastern-China region, the current reliable first approach to the unexplained pneumonia should be a combination of chest CT, SARS-COV-2 RT-PCR and multi-plex PCR (rapid influenza antigen tests and RT-PCR could also be used as a substitute).\n",
      "\n",
      "1.5 Clinical and test indicators: Symptoms such as fever, cough, fatigue and soreness at the time of examination and the results of tests were compared between the two groups.\n",
      "\n",
      "More refined case definitions, screening by experts using telemedicine 103 approaches [11], or rapid home tests [12] could all be options which reduce the pool of those 104 considered at risk of being infected with the novel pathogen, thus increasing .\n",
      "\n"
     ]
    }
   ],
   "source": [
    "search([\"point-of-care test\", \"rapid influenza test\", \"speed\", \"accuracy\"],\n",
    "       optional_keywords=[\"new_coronavirus\", \"coronavirus\", \"covid19\"],\n",
    "       top_n=15, only_sentences=True)"
   ]
  },
  {
   "cell_type": "code",
   "execution_count": 36,
   "metadata": {},
   "outputs": [
    {
     "name": "stdout",
     "output_type": "stream",
     "text": [
      "\n",
      "Search for terms ['PCR', 'testers', 'report', 'area']\n",
      "\n",
      "\n",
      "Search terms after cleaning, bigrams, trigrams and synonym expansion: ['pcr', 'testers', 'report', 'area', 'polymerase_chain_reaction_pcr', 'skincontact', 'accessory_device', 'sensors_attached', 'must_kept_clean', 'monitored_periodically', 'indirect_ophthalmoscope', 'fluorescent_powder', 'rhinolaryngoscope', 'measuring_tape', 'removing_clothing', 'areas']\n",
      "Optional search terms after cleaning, bigrams, trigrams and synonym expansion: ['newcoronavirus', 'coronavirus_covid19', '2019ncov_covid19', 'outbreak_2019_novel', 'sarscov2_2019ncov', 'coronavirus_2019ncov', 'ongoing_outbreak_novel_coronavirus', 'since_late_december', 'ongoing_outbreak_covid19', 'originating_wuhan_china', 'novel_coronavirus_outbreak', 'wuhan_coronavirus']\n",
      "\n",
      "Results:\n",
      "\n",
      "Subsequently, total 10 treatment areas (with 162 doctors and 322 nurses) were successively established within one week, which included respiratory intensive care unit (RICU) ( for critical patients), 2 severe patients treatment area, 3 common patients treatment area, 2 suspected cases treatment area, one transitional area after nucleic acid removal, and one isolation area before patients discharge.\n",
      "\n",
      "If there was perfect compliance and 54 the restricted area encompassed all areas with community transmission of the virus, then these 55 measures could in theory eliminate the necessity of wider traveller screening.\n",
      "\n",
      "However, the distance from other areas to Hubei and the number of plateaus had little influence on when a province or area arrived at Speedmax.\n",
      "\n",
      "For COVID-19 data, we collected the number of cumulative confirmed patients from January 21, 2020 to February 23, 2020 because almost all areas in China began to report confirmed cases from January 21, 2020, and the growth speed reached zero around most areas except Hubei before February 23, 2020.\n",
      "\n",
      "But the PCR report of the throat-swab is suspected.\n",
      "\n",
      "Contamination as a reason for unspecific signals was ruled out, as stringent prevention measures were taken, e.g. strict separation of working areas: oligonucleotides and PCR mastermix reagents were handled in one room under a PCR hood with specified laboratory coats.\n",
      "\n",
      "In particular, a larger area acting as seed of exportation that includes Shanghai and Beijing (two cities with larger number of travellers to more widespread areas in Europe) would likely result in a higher and more widespread risk for Europe.\n",
      "\n",
      "The semicontaminated area includes the fever-CT control room, fever-DR control room, and other patient examination access areas.\n",
      "\n",
      "The buffer zone includes access areas for medical personnel and a dressing area for technologists.\n",
      "\n",
      "Sumich et al. [1] report a volume reduction of temporal areas in psychotic patients.\n",
      "\n",
      "The drinking water samples were tap-water collected from houses from three different municipalities of the area, the lake water samples were collected from two lakes (Pamvotis and Voulkaria) representing two different ecosystems (polluted/urban and rural/unpolluted) both used for recreational activities and the marine water samples were collected from five different point sources of Ionian Sea, including areas of recreational activities.\n",
      "\n",
      "We have also followed 200 heart transplant patients in Hubei area by telephone and found a third confirmed patient who is currently under treatment in another hospital, but the case details are not available to us and therefore not included in our report.\n",
      "\n",
      "In an area with limited resources, where all animals cannot be tested, it is imperative to concentrate on those areas with high concentrations of animals, such as slaughterhouses, and on areas in which humans come into close contact with animals and thus represent a high risk of transmission (see conference by P. Daszak).\n",
      "\n",
      "The lesion may have quick changes with formation of new lesions in other areas and extend from the peripheral to the central area if deteriorated.\n",
      "\n",
      "Advantages of endoscopy include its ease, noninvasive nature, ability to detect mucosal lesions allowing one to direct the biopsy to those areas, and ability to take multiple samples from one area.\n",
      "\n"
     ]
    }
   ],
   "source": [
    "search([\"PCR\", \"testers\", \"report\", \"area\"],\n",
    "       optional_keywords=[\"new_coronavirus\", \"coronavirus\", \"covid19\"],\n",
    "       top_n=15, only_sentences=True)"
   ]
  },
  {
   "cell_type": "code",
   "execution_count": null,
   "metadata": {},
   "outputs": [],
   "source": []
  }
 ],
 "metadata": {
  "kernelspec": {
   "display_name": "covid19",
   "language": "python",
   "name": "covid19"
  },
  "language_info": {
   "codemirror_mode": {
    "name": "ipython",
    "version": 3
   },
   "file_extension": ".py",
   "mimetype": "text/x-python",
   "name": "python",
   "nbconvert_exporter": "python",
   "pygments_lexer": "ipython3",
   "version": "3.6.8"
  }
 },
 "nbformat": 4,
 "nbformat_minor": 2
}
