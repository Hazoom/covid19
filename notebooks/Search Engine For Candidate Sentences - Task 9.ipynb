{
 "cells": [
  {
   "cell_type": "markdown",
   "metadata": {},
   "source": [
    "# Search Engine For Candidate Sentences"
   ]
  },
  {
   "cell_type": "markdown",
   "metadata": {},
   "source": [
    "## Demonstration of how to use the simple search engine for fetching relevant sentences"
   ]
  },
  {
   "cell_type": "markdown",
   "metadata": {},
   "source": [
    "Let's import our search engine for `src` directory.\n",
    "\n",
    "First, one needs to set the Python source files environment variables for Juptyer Notebook. If you haven't done this, please run those two command BEFORE running Juptyer Notebook:\n",
    "1. `export PYTHONPATH=/path/to/covid19/src`\n",
    "2. `export JUPYTER_PATH=/path/to/covid19/src`"
   ]
  },
  {
   "cell_type": "code",
   "execution_count": 1,
   "metadata": {},
   "outputs": [
    {
     "name": "stderr",
     "output_type": "stream",
     "text": [
      "unable to import 'smart_open.gcs', disabling that module\n"
     ]
    }
   ],
   "source": [
    "from search.searchengine import SearchEngine\n",
    "from pprint import pprint\n",
    "import os"
   ]
  },
  {
   "cell_type": "code",
   "execution_count": 2,
   "metadata": {},
   "outputs": [],
   "source": [
    "data_dir = \"../../../workspace/kaggle/covid19/data\""
   ]
  },
  {
   "cell_type": "markdown",
   "metadata": {},
   "source": [
    "Initialize out SearchEngine object with:\n",
    "1. Sentences metadata\n",
    "2. bi-gram model\n",
    "3. tri-gram model\n",
    "4. Trained FastText vectors"
   ]
  },
  {
   "cell_type": "code",
   "execution_count": 3,
   "metadata": {},
   "outputs": [
    {
     "name": "stdout",
     "output_type": "stream",
     "text": [
      "Loading CSV: ../../../workspace/kaggle/covid19/data/sentences_with_metadata.csv and building mapping dictionary...\n",
      "Finished loading CSV: ../../../workspace/kaggle/covid19/data/sentences_with_metadata.csv and building mapping dictionary\n",
      "Loaded 249343 sentences\n",
      "Loading bi-gram model: ../../../workspace/kaggle/covid19/data/covid_bigram_model_v0.pkl\n",
      "Finished loading bi-gram model: ../../../workspace/kaggle/covid19/data/covid_bigram_model_v0.pkl\n",
      "Loading tri-gram model: ../../../workspace/kaggle/covid19/data/covid_trigram_model_v0.pkl\n",
      "Finished loading tri-gram model: ../../../workspace/kaggle/covid19/data/covid_trigram_model_v0.pkl\n",
      "Loading fasttext model: ../../../workspace/kaggle/covid19/data/fasttext_no_subwords_trigrams/word-vectors-100d.txt\n",
      "Finished loading fasttext model: ../../../workspace/kaggle/covid19/data/fasttext_no_subwords_trigrams/word-vectors-100d.txt\n"
     ]
    }
   ],
   "source": [
    "search_engine = SearchEngine(\n",
    "    os.path.join(data_dir, \"sentences_with_metadata.csv\"),\n",
    "    os.path.join(data_dir, \"covid_bigram_model_v0.pkl\"),\n",
    "    os.path.join(data_dir, \"covid_trigram_model_v0.pkl\"),\n",
    "    os.path.join(data_dir, \"fasttext_no_subwords_trigrams/word-vectors-100d.txt\"),\n",
    ")"
   ]
  },
  {
   "cell_type": "markdown",
   "metadata": {},
   "source": [
    "Simple search function that gets a list of keywords to search:"
   ]
  },
  {
   "cell_type": "code",
   "execution_count": 4,
   "metadata": {},
   "outputs": [],
   "source": [
    "def search(keywords, optional_keywords=None, top_n=10, synonyms_threshold=0.8, only_sentences=False):\n",
    "    print(f\"\\nSearch for terms {keywords}\\n\\n\")\n",
    "    results = search_engine.search(\n",
    "        keywords, optional_keywords=optional_keywords, top_n=top_n, synonyms_threshold=synonyms_threshold\n",
    "    )\n",
    "    print(\"\\nResults:\\n\")\n",
    "    \n",
    "    if only_sentences:\n",
    "        for result in results:\n",
    "            print(result['sentence'] + \"\\n\")\n",
    "    else:\n",
    "        pprint(results)"
   ]
  },
  {
   "cell_type": "markdown",
   "metadata": {},
   "source": [
    "Let's see some examples:"
   ]
  },
  {
   "cell_type": "code",
   "execution_count": 12,
   "metadata": {},
   "outputs": [
    {
     "name": "stdout",
     "output_type": "stream",
     "text": [
      "\n",
      "Search for terms ['ethical principles', 'articulate', 'translate']\n",
      "\n",
      "\n",
      "Search terms after cleaning, bigrams, trigrams and synonym expansion: ['ethical_principles', 'articulate', 'translate', 'ethical_standards', 'nonmaleficence', 'respect_persons', 'beneficence_justice', 'bioethical', 'guiding_principles', 'statutes_regulations', 'professional_codes', 'belmont_report', 'bioethical_principles', 'public_deliberation', 'interpretative_frameworks', 'different_audiences', 'articulating', 'communicate_clearly', 'moral_values']\n",
      "Optional search terms after cleaning, bigrams, trigrams and synonym expansion: ['newcoronavirus', 'coronavirus_covid19', '2019ncov_covid19', 'outbreak_2019_novel', 'sarscov2_2019ncov', 'coronavirus_2019ncov', 'ongoing_outbreak_novel_coronavirus', 'since_late_december', 'ongoing_outbreak_covid19', 'originating_wuhan_china', 'novel_coronavirus_outbreak', 'wuhan_coronavirus']\n",
      "\n",
      "Results:\n",
      "\n",
      "For example, methods exist to reconstruct transmission trees for sampled sequences using simple mutational models to construct a likelihood for a specific transmission tree [46, 47] and translate coalescent rates into key epidemiological parameters [48] [49] [50] .\n",
      "\n",
      "ChEMBL [14] , an open database that brings chemical, bioactivity, and genomic data together to translate genomic information into effective new drugs, is employed to construct our 2019-nCoV training set.\n",
      "\n",
      "In order to translate the transmission probability matrix into a transmission network a multinomial sample of size 1 and probability vector row v i reduces the vector v i to a binary vector with exactly one element 1 and the rest zero.\n",
      "\n",
      "We removed repeated sequences and applied the whole procedure to translate the data into the sequence feature space.\n",
      "\n",
      "Then, we applied the whole procedure to translate the data into the sequence feature space, and we run the same state-of-the-art feature selection algorithm [36] .\n",
      "\n",
      "Then, we we applied the whole procedure to translate the data into the sequence feature space and run the feature reduction algorithm [36] .\n",
      "\n",
      "The basic guiding principles and evaluation criteria are summarized in Section II.\n",
      "\n",
      "These findings can help the government and health departments better communicate with the public on health and translate public health needs into practice to create targeted measures to prevent and control the spread of COVID-19.\n",
      "\n",
      "These findings can help the government and health departments better communicate with the public about public health and then translate public health needs into practice to create targeted measures to prevent and control the spread of COVID-19.\n",
      "\n",
      "RDKit 22 is used for to translate SMILES strings into 2D fingerprints.\n",
      "\n"
     ]
    }
   ],
   "source": [
    "search([\"ethical principles\", \"issues\", \"articulate\", \"translate\"],\n",
    "       optional_keywords=[\"new_coronavirus\", \"coronavirus\", \"covid19\"],\n",
    "       top_n=10, only_sentences=True)"
   ]
  },
  {
   "cell_type": "code",
   "execution_count": 14,
   "metadata": {},
   "outputs": [
    {
     "name": "stdout",
     "output_type": "stream",
     "text": [
      "\n",
      "Search for terms ['ethics', 'ethical issues', 'thematic', 'oversight']\n",
      "\n",
      "\n",
      "Search terms after cleaning, bigrams, trigrams and synonym expansion: ['ethics', 'ethical_issues', 'thematic', 'oversight', 'medical_ethics', 'bioethics', 'ethical_legal', 'ethical', 'ethical_aspects', 'ethical_challenges', 'ethical_concerns', 'ethical_questions', 'ethical_considerations', 'practical_ethical', 'ethical_legal', 'legal_issues', 'practicalities', 'ethical', 'hashtags', 'semantic_networks', 'recurring_themes', 'three_main_themes', 'meaning_units', 'online_discussion', 'coding_framework', 'covid19_epidemic_sina_microblog', 'categories_themes', 'federal_agency', 'rdna_research', 'security_requirements', 'scientific_advice', 'national_authority', 'regulatory_oversight', 'federal_state_local', 'select_agent_research', 'codes_practice', 'federal_agencies']\n",
      "Optional search terms after cleaning, bigrams, trigrams and synonym expansion: ['newcoronavirus', 'coronavirus_covid19', '2019ncov_covid19', 'outbreak_2019_novel', 'sarscov2_2019ncov', 'coronavirus_2019ncov', 'ongoing_outbreak_novel_coronavirus', 'since_late_december', 'ongoing_outbreak_covid19', 'originating_wuhan_china', 'novel_coronavirus_outbreak', 'wuhan_coronavirus']\n",
      "\n",
      "Results:\n",
      "\n",
      "It is worth noting that 22.84% of the studies failed ethical verification.\n",
      "\n",
      "Here, we address epidemiological issues that affect the feasibility of an algorithmic approach to instantaneous contact tracing; ethical and implementation issues are addressed separately.\n",
      "\n",
      "There is a heavy current investment in animal research, as in addition to the difficulties in epidemiological research starting from the genome already discussed, there are important ethical barriers which will not be easily overcome.\n",
      "\n",
      "J. Wojkowska-Mach, D. Romaniszyn*, A. Chmielarczyk, B. Wojcik-Stojek, B. Gryglewska, T. Grodzicki, M. Pobiega, P.B. Heczko (Cracow, PL) Nosocomial infections have been a very well-know public health problem with many consequences like medical, economical, ethical etc.\n",
      "\n",
      "The involvement of social workers and ethics committee members might help to alleviate some of the ethical hurdles encountered during the management of a patient receiving ECMO in such highpressure settings.\n",
      "\n",
      "The vital ethical issue is whether administration of chloroquine in the setting of COVID-19 is experimental, and therefore requires ethical trial approval, or off-label (i.e. ethically justifiable as the best available treatment).\n",
      "\n",
      "The ethical approach to off-label drug use also differs between countries, raising questions regarding equity.\n",
      "\n",
      "There is a heavy current investment in animal research, as in addition to the difficulties in epidemiological research starting from the genome already discussed, there are important ethical barriers which will not be easily overcome.\n",
      "\n",
      "\" 8 Pharmacists, like any other health professionals, are responsible for providing safe and ethical care to the public in accordance to the professional standards at all times.\n",
      "\n",
      "We acknowledge the support of the non-profit foundation HTCR, which holds human tissue on trust, making it broadly available for research on an ethical and legal basis.\n",
      "\n"
     ]
    }
   ],
   "source": [
    "search([\"ethics\", \"ethical issues\", \"thematic\", \"oversight\"],\n",
    "       optional_keywords=[\"new_coronavirus\", \"coronavirus\", \"covid19\"],\n",
    "       top_n=10, only_sentences=True)"
   ]
  },
  {
   "cell_type": "code",
   "execution_count": 21,
   "metadata": {},
   "outputs": [
    {
     "name": "stdout",
     "output_type": "stream",
     "text": [
      "\n",
      "Search for terms ['methods', 'ethics', 'access', 'information']\n",
      "\n",
      "\n",
      "Search terms after cleaning, bigrams, trigrams and synonym expansion: ['methods', 'ethics', 'access_information', 'methodologies', 'medical_ethics', 'bioethics', 'ethical_legal', 'ethical', 'ethical_aspects', 'health_alerts', 'access_uptodate', 'teleconferencing', 'electronic_communication', 'use_internet', 'electronic_communications', 'requesters', 'access_internet', 'handhelds', 'online_training']\n",
      "Optional search terms after cleaning, bigrams, trigrams and synonym expansion: ['newcoronavirus', 'coronavirus_covid19', '2019ncov_covid19', 'outbreak_2019_novel', 'sarscov2_2019ncov', 'coronavirus_2019ncov', 'ongoing_outbreak_novel_coronavirus', 'since_late_december', 'ongoing_outbreak_covid19', 'originating_wuhan_china', 'novel_coronavirus_outbreak', 'wuhan_coronavirus']\n",
      "\n",
      "Results:\n",
      "\n",
      "Medical ethics review should strictly abide by the review work content of the \"Ethical Review Methods for Biomedical Research Involving Humans\" [17] , and here are two suggestions: (1) undertake experimental projects that match actual capabilities; (2) design of experimental schemes An appropriate research method must be selected based on the nature of the problem to be solved.\n",
      "\n",
      "Methods: The fungal isolates were rechecked to certify their authentication by mycology methodologies and then characterized by ITS gene sequencing.\n",
      "\n",
      "If the automatic vigilance methods of the author and collaborators (and indeed more standard use of the Internet by the author) have failed in this respect, then they will need to be improved.\n",
      "\n",
      "16.20034470 doi: medRxiv preprint Each bi-directional arrow, and corresponding number, connects two tip branches that were switched to generate an alternative tree topology to be tested (see Table 1 , Methods).\n",
      "\n",
      "According to our definition outlined in the methods, the 17 high-risk secondary cities outside of Hubei Province were identified as: Beijing, Shanghai, Guangzhou, Zhengzhou, Tianjin, Hangzhou, Jiaxing, Changsha, Xi'an, Nanjing, Shenzhen, Chongqing, Nanchang, Chengdu, Hefei, Fuzhou, and Dongguan ( Figure 5) .\n",
      "\n",
      "Methods: Using previously published information on elective ambulatory or outpatient surgical procedures and publicly available data on COVID19 infections in the US and on the Diamond Princess cruise ship, we calculated a transmission rate and generated a mathematical model to predict a lower bound for the number of healthcare-acquired COVID19 infections that could be prevented by canceling or postponing elective outpatient surgeries in Washington state.\n",
      "\n",
      "38 Currently, metagenomic next-generation sequencing (mNGS) and reverse-transcription PCR 39 (RT-PCR) are the most widely used molecular diagnostics for 2019-nCoV. 40 Methods 41 2019-nCoV infections were confirmed in 52 specimens by mNGS.\n",
      "\n",
      "Since coronaviruses causing COVID-19, Severe Acute Respiratory Syndrome (SARS), and Middle East Respiratory Syndrome (MERS) are able to suddenly transfer to humans from diverse animal hosts that act as viral reservoirs, there is a pressing need to develop methods to combat other potential coronaviruses that may emerge in the future [1] [2] [3] .\n",
      "\n",
      "Both MM/GBSA and SIE methods voted for nelfinavir, with the binding free energy of -24.69±0.52 kcal/mol and -9.42±0.04 kcal/mol, respectively.\n",
      "\n",
      "Binding free energy calculation were then performed for 4 of the 6 drugs using MM/GBSA and SIE methods.\n",
      "\n"
     ]
    }
   ],
   "source": [
    "search([\"methods\", \"ethics\", \"access\", \"information\"],\n",
    "       optional_keywords=[\"new_coronavirus\", \"coronavirus\", \"covid19\"],\n",
    "       top_n=10, only_sentences=True)"
   ]
  },
  {
   "cell_type": "code",
   "execution_count": 24,
   "metadata": {},
   "outputs": [
    {
     "name": "stdout",
     "output_type": "stream",
     "text": [
      "\n",
      "Search for terms ['WHO', 'research', 'platform', 'connect', 'global']\n",
      "\n",
      "\n",
      "Search terms after cleaning, bigrams, trigrams and synonym expansion: ['who', 'research', 'platform', 'connect', 'global', 'platforms']\n",
      "Optional search terms after cleaning, bigrams, trigrams and synonym expansion: ['newcoronavirus', 'coronavirus_covid19', '2019ncov_covid19', 'outbreak_2019_novel', 'sarscov2_2019ncov', 'coronavirus_2019ncov', 'ongoing_outbreak_novel_coronavirus', 'since_late_december', 'ongoing_outbreak_covid19', 'originating_wuhan_china', 'novel_coronavirus_outbreak', 'wuhan_coronavirus']\n",
      "\n",
      "Results:\n",
      "\n",
      "Organisations such as the Global Outbreak Alert and Response Network (GOARN), the Coalition for Epidemic Preparedness Innovations (CEPI), the Global Research Collaboration For Infectious Disease Preparedness (GloPID-R) and the Global Initiative on Sharing All Influenza Data (GISAID) have been supported by the WHO Research Blueprint and its Global Coordinating Mechanism to provide a forum where those with the expertise and capacity to contribute to managing new threats can come together both between and during outbreaks to develop innovative solutions to emerging problems.\n",
      "\n",
      "Major Health-EDRM research evidence gaps were found during a global research agenda setting meeting of the 2018 WHO Health-EDRM global research group in Kobe.\n",
      "\n",
      "Major Health-EDRM research evidence gaps were found during a global research agenda setting meeting of the 2018 WHO Health-EDRM global research group in Kobe.\n",
      "\n",
      "STAG-IH's most recent formal meeting on March 12, 2020, included an update of the global COVID-19 situation and an overview of the research priorities established by the WHO Research and Development Blueprint Scientific Advisory Group that met on March 2, 2020, in Geneva, Switzerland, to prioritise the recommendations of an earlier meeting on COVID-19 research held in early February, 2020.\n",
      "\n",
      "Organisations such as the Global Outbreak Alert and Response Network, the Coalition for Epidemic Preparedness Innovations, and the Global Research Collaboration For Infectious Disease Preparedness, supported by the WHO Research Blueprint and its Global Coordinating Mechanism, were able to accelerate the outbreak response and rapidly initiate technical platforms for the development of vaccines and therapeutics.\n",
      "\n",
      "Based on the 147 unified geographical framework, this research quickly absorbed and in-148 tegrated geographical big data, including the WHO data released inter-149 nationally, daily domestic health and disease control data, professional 150 population health platform data, Tencent location request data, Baidu 151 migration data, microblog text data, patient spatiotemporal trajectory 152 data, international airline data, census data, education enrollment data, 153 land cover data, remote sensing imagery and other multisource data 154 graduated symbols, heat maps, and three-dimensional maps.\n",
      "\n",
      "Using a wellcharacterized cohort of serum samples from PCR-confirmed SARS-CoV-2 and patients PCR-confirmed to be infected with seasonal coronaviruses and other respiratory pathogens, we validated and tested various antigens in different platforms developed in-house as well as a commercial platform.\n",
      "\n",
      "The WHO recently upgraded the global risk of the epidemic to 'very high'.\n",
      "\n",
      "We used the CALIBER resource as an open research platform with validated, reusable definitions of several hundred underlying conditions (13, 14) .\n",
      "\n",
      "This study adds to the existing report of the WHO and literature by systematically evaluating the global changing .\n",
      "\n"
     ]
    }
   ],
   "source": [
    "search([\"WHO\", \"research\", \"platform\", \"connect\", \"global\"],\n",
    "       optional_keywords=[\"new_coronavirus\", \"coronavirus\", \"covid19\"],\n",
    "       top_n=10, only_sentences=True)"
   ]
  },
  {
   "cell_type": "code",
   "execution_count": 27,
   "metadata": {},
   "outputs": [
    {
     "name": "stdout",
     "output_type": "stream",
     "text": [
      "\n",
      "Search for terms ['efforts', 'public health', 'measures', 'surgical masks', 'SRH', 'school closures', 'effective']\n",
      "\n",
      "\n",
      "Search terms after cleaning, bigrams, trigrams and synonym expansion: ['efforts', 'public_health_measures', 'surgical_masks', 'srh', 'school_closures', 'effective', 'effort', 'containment_measures', 'pharmaceutical_measures', 'quarantining_contacts', 'quarantine_measures', 'control_measures_implemented', 'nonpharmaceutical_interventions_npis', 'public_health_interventions', 'isolation_quarantine', 'travel_bans', 'border_control_measures', 'medical_masks', 'n95_respirators', 'n95_masks', 'face_masks', 'respirators', 'surgical_mask', 'n95_ffrs', 'cloth_masks', 'n95_respirator', 'ffrs', 'school_closure', 'closing_schools', 'school_closings', 'social_distancing_measures', 'social_distancing', 'most_effective', 'very_effective', 'highly_effective']\n",
      "Optional search terms after cleaning, bigrams, trigrams and synonym expansion: ['newcoronavirus', 'coronavirus_covid19', '2019ncov_covid19', 'outbreak_2019_novel', 'sarscov2_2019ncov', 'coronavirus_2019ncov', 'ongoing_outbreak_novel_coronavirus', 'since_late_december', 'ongoing_outbreak_covid19', 'originating_wuhan_china', 'novel_coronavirus_outbreak', 'wuhan_coronavirus']\n",
      "\n",
      "Results:\n",
      "\n",
      "The containment strategy of integrated nonpharmaceutical interventions (NPIs) including travel bans and restrictions, contact reductions and social distancing, early case identification and isolation have been rapidly deloyed across China to contain the outbreak, and the combination of these interventions appears to be effective.\n",
      "\n",
      "Travel bans and social distancing measures are effective public health tools to control epidemic diseases (2), and Australia successfully delayed the introduction of the 1918 pandemic by 1 year and reduced the total mortality compared to other countries (3) .\n",
      "\n",
      "Effective public health interventions, including social distancing, contact tracing, and isolation/quarantine rely on the rapid and accurate identification of confirmed cases.\n",
      "\n",
      "These coordinated global efforts were remarkably effective at curtailing the spread of the disease, and this strategy was effective, together with isolation of infected patients and public health measures to contain the epidemic and avoiding SARS reemergence.\n",
      "\n",
      "Extensive control measures were put into place, starting with massive decontamination efforts and, ultimately, closure of the Huanan Seafood Wholesale Market, banning the trade of wildlife and poultry in wet markets, contact tracing of cases, exit screening at airports, lockdown and quarantine measures that progressed to include adjacent cities (an estimated 50e60 million people affected), school closures, extension of the Lunar New Year holiday, prohibition of mass gatherings, and building of two new hospitals (1000 and 1600 beds) to care for infected individuals.\n",
      "\n",
      "Here we present a simple yet effective model based on Baidu Migration data and the confirmed cases data to quantify the consequences and importance of Wuhan lock-down combined with nationwide traffic restrictions and Stay At Home Movement on the ongoing spread of COVID-19 across China Mainland, and preliminarily assess the efforts of 29 Provinces and 44 prefecture-level cities during the epidemic. .\n",
      "\n",
      "The COVID-19 outbreak containment strategies in China based on non-pharmaceutical interventions (NPIs) appear to be effective.\n",
      "\n",
      "5 For example, social distancing measures have been effective in past influenza epidemics by curbing human-to-human transmission and reducing morbidity and mortality.\n",
      "\n",
      "1, 2 Following the Wuhan lockdown and other extreme social distancing measures conducted by the Chinese government, several countries with massive outbreaks also implemented similar measures, including shutting down the entire cities or communities, banning international or domestic travel, conducting border control with symptom screening, and implementing isolation and quarantine to slow down the epidemic.\n",
      "\n",
      "A 15% decline in the healthcare labor force, combined with reasonable parameters for COVID-19 such as a 15% case reduction from school closings and 2% baseline mortality rate implies that a 15% loss in the healthcare labor force must decrease the survival probability per percent healthcare worker lost by 17.6% for a school closure to increase cumulative mortality.\n",
      "\n"
     ]
    }
   ],
   "source": [
    "search([\"efforts\", \"public health\", \"measures\", \"surgical masks\", \"SRH\", \"school closures\", \"effective\"],\n",
    "       optional_keywords=[\"new_coronavirus\", \"coronavirus\", \"covid19\"],\n",
    "       top_n=10, only_sentences=True)"
   ]
  },
  {
   "cell_type": "code",
   "execution_count": 36,
   "metadata": {},
   "outputs": [
    {
     "name": "stdout",
     "output_type": "stream",
     "text": [
      "\n",
      "Search for terms ['psychological stress', 'health', 'nurse', 'doctor']\n",
      "\n",
      "\n",
      "Search terms after cleaning, bigrams, trigrams and synonym expansion: ['psychological_stress', 'health', 'nurse_doctor', 'psychological_responses', 'emotional_stress', 'wellbeing', 'health_wellbeing', 'medical_appointments', 'remind_them', 'meditation_training', 'complete_diary', 'off_duty', 'ppe_should_worn', 'hospital_administrator', 'were_asked_refrain', 'scheduled_appointments', 'registration_clerk']\n",
      "Optional search terms after cleaning, bigrams, trigrams and synonym expansion: ['newcoronavirus', 'coronavirus_covid19', '2019ncov_covid19', 'outbreak_2019_novel', 'sarscov2_2019ncov', 'coronavirus_2019ncov', 'ongoing_outbreak_novel_coronavirus', 'since_late_december', 'ongoing_outbreak_covid19', 'originating_wuhan_china', 'novel_coronavirus_outbreak', 'wuhan_coronavirus']\n",
      "\n",
      "Results:\n",
      "\n",
      "This is the most quoted definition of health, which clearly stresses \"well-being.\n",
      "\n",
      "The reported vulnerability analysis informs public health response to the 2019-nCoV epidemic in multiple ways.\n",
      "\n",
      "The content is solely the responsibility of the authors and does not necessarily represent the official views of the National Institute of General Medical Sciences, the National Institute for Allergy and Infectious Diseases, or the National Institutes of Health.\n",
      "\n",
      "Therefore, based on the transmission route of SARS-CoV, current preventive measures, including maintaining good personal and environmental health, and implementing strict contact and droplet prevention measures in the community, can effectively prevent the spread of SARS-CoV 6 .\n",
      "\n",
      "For example, 35% of medical assistants and 31% of nursing, psychiatric, and home health aide households have child care obligations, while only 24% of emergency medical personnel have childcare obligations.\n",
      "\n",
      "Psychological stress, especially vicarious traumatization (VT) caused by the COVID-19 pandemic, should not be ignored.\n",
      "\n",
      "[8] [9] [10] The VT questionnaire adopted in the current study has a total of 38 items, which are composed of two dimensions, namely, physiological responses (11 items) and psychological responses [i.e., emotional responses (nine items), behavioral responses (seven items), cognitive responses (five items), and life belief (six items)].\n",
      "\n",
      "A significant difference was noted for psychological responses, which consist of behavioral responses, emotional responses, and life beliefs.\n",
      "\n",
      "Therefore, early intervention of VT and psychological stress for the GP and medical staff, as well as the transparent announcement of epidemic information can facilitate the psychological treatment and control of COVID-19.\n",
      "\n",
      "In addition to the MEDLINE/EMBASE/Global Health search, citation tracking was used to identify any remaining relevant published studies, though none were identified.\n",
      "\n"
     ]
    }
   ],
   "source": [
    "search([\"psychological stress\", \"health\", \"nurse\", \"doctor\"],\n",
    "       optional_keywords=[\"new_coronavirus\", \"coronavirus\", \"covid19\"],\n",
    "       top_n=10, only_sentences=True)"
   ]
  },
  {
   "cell_type": "code",
   "execution_count": 37,
   "metadata": {},
   "outputs": [
    {
     "name": "stdout",
     "output_type": "stream",
     "text": [
      "\n",
      "Search for terms ['fear', 'anxiety', 'stigma', 'misinformation', 'fake news', 'social media']\n",
      "\n",
      "\n",
      "Search terms after cleaning, bigrams, trigrams and synonym expansion: ['fear_anxiety', 'stigma', 'misinformation', 'fake_news', 'social_media', 'anxiety_fear', 'living_upper_floors', 'negative_feelings', 'helplessness', 'fear_death', 'fear_frustration', 'strange_environments', 'hopelessness', 'feelings_anxiety', 'anger_fear', 'stigmatization', 'shame', 'rumors', 'fake_news', 'myths', 'rumour', 'false_information', 'sensationalist', 'sentiments', 'misconceptions', 'sensationalist', 'disinformation', 'public_discourse', 'hoax', 'patriotism', 'some_commentators', 'myths', 'false_information', 'rumour', 'communicating_information', 'twitter', 'mass_media', 'facebook', 'facebook_twitter', 'youtube', 'use_social_media', 'blogs', 'through_social_media', 'healthrelated_information', 'weibo']\n",
      "Optional search terms after cleaning, bigrams, trigrams and synonym expansion: ['newcoronavirus', 'coronavirus_covid19', '2019ncov_covid19', 'outbreak_2019_novel', 'sarscov2_2019ncov', 'coronavirus_2019ncov', 'ongoing_outbreak_novel_coronavirus', 'since_late_december', 'ongoing_outbreak_covid19', 'originating_wuhan_china', 'novel_coronavirus_outbreak', 'wuhan_coronavirus']\n",
      "\n",
      "Results:\n",
      "\n",
      "Similarly, the current COVID-19 outbreak and response have been accompanied by a massive \"infodemic\"-an overabundance of information-some accurate and many not-that makes it hard for people to find trustworthy sources and reliable guidance [10] , as most turn to social media, it is vital to track and respond to myths and rumors, an up-to-date reference should be maintained.\n",
      "\n",
      "Reassuringly, DXY.cn maintains a special section dedicated to debunking fake news, myths, and rumours about the COVID-19 outbreak.\n",
      "\n",
      "Reassuringly, DXY.cn maintains a special section dedicated to debunking fake news, myths, and rumours about the COVID-19 outbreak.\n",
      "\n",
      "Despite (social) media are often vehicle for fake news and boast news hype, it is also worth noting the tremendous effort of the scientific community to provide free, up-to-date information on ongoing studies, as well as critical evaluations.\n",
      "\n",
      "The unpredictable future of this epidemic has been exacerbated by myths and misinformation, often driven by erroneous news reports and the public's misunderstanding of health messages, thus causing worry in the population.\n",
      "\n",
      "2 The second is that the spread of fake news and misinformation constitutes a major unresolved challenge.\n",
      "\n",
      "Hence, misinformation regularly relies on fake news to amplify existing divisions, instigate social conflicts, trigger political instability, and sabotage public trust and confidence in the Taiwanese government.\n",
      "\n",
      "In Taiwan, the key member of Chinese Unification Promotion Party hosts radio programs in the southern cities in conjunction with new social media, such as live streaming Facebook fans page, to convey the pro-China ideology and disinformation to local people.\n",
      "\n",
      "Alarm bells rang, not only through the different levels of the official Chinese Center for Disease Control and Prevention (China CDC) reporting system but also through social media traced back to eight doctors who were wrongly accused of spreading \"fake news\".\n",
      "\n",
      "The Lancet Infectious Diseases Commission will discuss disruptive factors and how preparedness planning must consider this new ecology by exploring current preparedness platforms and their vulnerability to disruptive factors; by addressing key disruptions, iden tifying possible solutions, and providing recommendations for countries to strengthen preparedness; by developing a multidisciplinary approach including National governments; international agencies; non-governmental organisations and charities; corporate entities; academic institutions Weakness in behavioural change guidance from national and international organisations; scarcity of sustainable leadership and financing in failed states leading to neglected or uncoordinated health systems; increasing duration and frequency of insecurity or conflict zones hindering efforts to recognise and respond to health threats; failure of countries to report disease outbreaks because of fear of economic consequences Social Travel patterns, migration, and interconnectivity; trade; technology and digital revolution, including those that affect human interaction; expansion and control of information; patterns of communication including social media; expectations and definition of expertise; social conflict and privacy Failure of host countries to protect the health of refugees and migrants; epidemic of devastating rumours and fake news on social media due to increased digital connectivity; emergence of social influencers exerting influence on politicians and institutions; increased resistance and hesitancy within communities to health interventions because of opposition by local experts Environment Geography affecting biological diversity; planned and unplanned urbanisation; climate change; interaction between humans, animals, and vectors; human development; state of the economy; state of health systems Climate change resulting in increased flooding with failed sanitation and safe water; altered distribution of zoonotic disease reservoirs and vectors; emerging zoonosis with increased agricultural production and human encroachment into animal environments; changing national priorities resulting in sharply reduced investment in health systems Pathogenesis Changing disease biomes; relationship between hosts and pathogens; pathogen evolution and changes; technologies such as synthetic biology, and the risks of manufacturing pathogens and their accidental or deliberate release; characteristics of a population such as underlying disease condition Increased opportunities for mutation or reassortment of infectious agents; increasingly reduced effectiveness of conventional vaccines and therapeutics for prevention and treatment of diseases; failure of conventional control measures to break the chain of transmission of infectious agents To tackle the wide-ranging issues, the Commission has brought together experts from academic, public health, policy making, international, non-governmental, and corporate institutions.\n",
      "\n"
     ]
    }
   ],
   "source": [
    "search([\"fear\", \"anxiety\", \"stigma\", \"misinformation\", \"fake news\", \"social media\"],\n",
    "       optional_keywords=[\"new_coronavirus\", \"coronavirus\", \"covid19\"],\n",
    "       top_n=10, only_sentences=True)"
   ]
  },
  {
   "cell_type": "code",
   "execution_count": null,
   "metadata": {},
   "outputs": [],
   "source": []
  }
 ],
 "metadata": {
  "kernelspec": {
   "display_name": "covid19",
   "language": "python",
   "name": "covid19"
  },
  "language_info": {
   "codemirror_mode": {
    "name": "ipython",
    "version": 3
   },
   "file_extension": ".py",
   "mimetype": "text/x-python",
   "name": "python",
   "nbconvert_exporter": "python",
   "pygments_lexer": "ipython3",
   "version": "3.6.8"
  }
 },
 "nbformat": 4,
 "nbformat_minor": 2
}
