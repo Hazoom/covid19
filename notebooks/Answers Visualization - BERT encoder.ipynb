{
 "cells": [
  {
   "cell_type": "code",
   "execution_count": 1,
   "metadata": {},
   "outputs": [],
   "source": [
    "import json\n",
    "import os\n",
    "from pprint import pprint\n",
    "\n",
    "from resources.similarity import CovidSimilarityResource\n",
    "from corpus_index import load_corpus_index\n",
    "from encoders.bert_encoder import BertEncoder\n",
    "from encoders.simple_encoder import SimpleEncoder\n",
    "import pandas as pd"
   ]
  },
  {
   "cell_type": "code",
   "execution_count": 23,
   "metadata": {},
   "outputs": [],
   "source": [
    "corpus_index_folder = '../../../workspace/kaggle/covid19/data/corpus_index_bert'"
   ]
  },
  {
   "cell_type": "code",
   "execution_count": 5,
   "metadata": {},
   "outputs": [],
   "source": [
    "corpus_index_fname = os.path.join(corpus_index_folder, 'bert-encoder-nmslib-768d.bin')\n",
    "corpus_index = load_corpus_index(corpus_index_fname)"
   ]
  },
  {
   "cell_type": "code",
   "execution_count": 6,
   "metadata": {},
   "outputs": [],
   "source": [
    "data_dir = \"../../../workspace/kaggle/covid19/data\""
   ]
  },
  {
   "cell_type": "code",
   "execution_count": 7,
   "metadata": {},
   "outputs": [],
   "source": [
    "sentences_df = pd.read_csv(os.path.join(data_dir, \"sentences_with_metadata_no_phrases_blingfire.csv\"))"
   ]
  },
  {
   "cell_type": "code",
   "execution_count": 8,
   "metadata": {},
   "outputs": [],
   "source": [
    "def create_articles_metadata_mapping(sentences_df: pd.DataFrame) -> dict:\n",
    "    sentence_id_to_metadata = {}\n",
    "    for row_count, row in sentences_df.iterrows():\n",
    "        sentence_id_to_metadata[row_count] = dict(\n",
    "            paper_id=row['paper_id'],\n",
    "            cord_uid=row['cord_uid'],\n",
    "            source=row['source'],\n",
    "            url=row['url'],\n",
    "            publish_time=row['publish_time'],\n",
    "            authors=row['authors'],\n",
    "            section=row['section'],\n",
    "            sentence=row['sentence'],\n",
    "        )\n",
    "    return sentence_id_to_metadata"
   ]
  },
  {
   "cell_type": "code",
   "execution_count": 9,
   "metadata": {},
   "outputs": [],
   "source": [
    "sentence_id_to_metadata = create_articles_metadata_mapping(sentences_df)"
   ]
  },
  {
   "cell_type": "code",
   "execution_count": 10,
   "metadata": {},
   "outputs": [],
   "source": [
    "sentence_encoder = BertEncoder()"
   ]
  },
  {
   "cell_type": "code",
   "execution_count": 11,
   "metadata": {},
   "outputs": [],
   "source": [
    "from nlp import text_tokenizer\n",
    "from nlp.cleaning import clean_tokenized_sentence\n",
    "\n",
    "def clean_sentence(sentence) -> str:\n",
    "    doc = text_tokenizer.tokenize_text(sentence)\n",
    "    tokens = [str(token) for token in doc]\n",
    "    return clean_tokenized_sentence(tokens)"
   ]
  },
  {
   "cell_type": "code",
   "execution_count": 18,
   "metadata": {},
   "outputs": [],
   "source": [
    "import murmurhash\n",
    "import numpy as np\n",
    "import scipy.spatial\n",
    "\n",
    "from corpus_index.base_index import Aggregation\n",
    "from nlp.textrank import calc_textrank\n",
    "\n",
    "class CovidSimilarity:\n",
    "    def __init__(self, corpus_index, sentence_encoder, sentence_id_to_metadata, bigram_model=None, trigram_model=None):\n",
    "        self.corpus_index = corpus_index\n",
    "        self.sentence_encoder = sentence_encoder\n",
    "        self.sentence_id_to_metadata = sentence_id_to_metadata\n",
    "        self.bigram_model = bigram_model\n",
    "        self.trigram_model = trigram_model\n",
    "\n",
    "    def similar_k(self, input_sentences, limit=10, method='union', group_by='cosine', clean_sentences=True, threshold=0.7):\n",
    "        \"\"\"Find similar sentences.\n",
    "\n",
    "        Args:\n",
    "            input_sentences (str/list[str]): one or more input sentences.\n",
    "            sentence_encoder  : encoder\n",
    "            limit (int): limit result set size to ``limit``.\n",
    "            corpus_index : type of corpus where to fetch the suggestions from\n",
    "            db_session  : Database to get neighbors from\n",
    "            method (str): aggregation method ('union', 'mean', 'pc1', 'pc2').\n",
    "            group_by (str): distance metric to use to group the result set. Default is 'cosine'.\n",
    "\n",
    "        Returns:\n",
    "            list<dict>\n",
    "        \"\"\"\n",
    "        res = []\n",
    "        nearest = dict()\n",
    "\n",
    "        if not clean_sentences:\n",
    "            cleaned_sentences = input_sentences  # in case of BERT there is no need for pre-processing\n",
    "        else:\n",
    "            cleaned_sentences = [clean_sentence(sentence) for sentence in input_sentences]\n",
    "\n",
    "            if self.bigram_model and self.trigram_model:\n",
    "                tokenzied_sentences = [sentence.split(' ') for sentence in cleaned_sentences]\n",
    "                sentences_with_bigrams = self.bigram_model[tokenzied_sentences]\n",
    "                sentences_with_trigrams = self.trigram_model[sentences_with_bigrams]\n",
    "                cleaned_sentences = [' '.join(sentence) for sentence in sentences_with_trigrams]\n",
    "\n",
    "        embeddings = self.sentence_encoder.encode(cleaned_sentences)\n",
    "\n",
    "        for idx, dist in self.corpus_index.knn_query_batch(embeddings, limit=limit, method=method):\n",
    "            similarity = 1.0 - dist\n",
    "            if idx not in nearest:\n",
    "                nearest[idx] = similarity\n",
    "            else:\n",
    "                nearest[idx] = max(nearest[idx], similarity)\n",
    "\n",
    "        results = []\n",
    "        for idx, sim in nearest.items():\n",
    "            if not threshold or (threshold and sim >= 0.7):\n",
    "                results.append(dict(similarity=sim, metadata=self.sentence_id_to_metadata[idx], id=idx))\n",
    "\n",
    "        return {\n",
    "            \"results\": results,\n",
    "            \"sentencs\": cleaned_sentences\n",
    "        }"
   ]
  },
  {
   "cell_type": "code",
   "execution_count": 19,
   "metadata": {},
   "outputs": [],
   "source": [
    "covid_similarity = CovidSimilarity(corpus_index, sentence_encoder, sentence_id_to_metadata)"
   ]
  },
  {
   "cell_type": "code",
   "execution_count": 20,
   "metadata": {},
   "outputs": [],
   "source": [
    "def find_similar_sentences(sentences, method=\"union\", limit=10):\n",
    "    return covid_similarity.similar_k(sentences, method=method, limit=limit, clean_sentences=False, threshold=0.7)"
   ]
  },
  {
   "cell_type": "code",
   "execution_count": 41,
   "metadata": {},
   "outputs": [
    {
     "name": "stderr",
     "output_type": "stream",
     "text": [
      "Batches: 100%|██████████| 1/1 [00:00<00:00, 16.11it/s]\n"
     ]
    },
    {
     "data": {
      "text/plain": [
       "{'results': [{'similarity': 0.7755008935928345,\n",
       "   'metadata': {'paper_id': 'c630ebcdf30652f0422c3ec12a00b50241dc9bd9',\n",
       "    'cord_uid': 'qzbqxjdi',\n",
       "    'source': 'CZI',\n",
       "    'url': 'https://doi.org/10.1007/s00134-020-05985-9',\n",
       "    'publish_time': '2020',\n",
       "    'authors': 'Haibo Zhang, Josef M Penninger, Yimin Li, Nanshan Zhong, Arthur S Slutsky',\n",
       "    'section': 'body',\n",
       "    'sentence': 'A phylogenetic analysis [3, 4] found a bat origin for the SARS-CoV-2.'},\n",
       "   'id': 67275},\n",
       "  {'similarity': 0.7687021493911743,\n",
       "   'metadata': {'paper_id': '628224850a2206055fd6792b865f83674e3d3c29',\n",
       "    'cord_uid': '1a8uevk8',\n",
       "    'source': 'Elsevier',\n",
       "    'url': 'https://doi.org/10.1016/j.ijantimicag.2020.105948',\n",
       "    'publish_time': '2020-03-19',\n",
       "    'authors': 'Li-Sheng Wang, Yi-Ru Wang, Da-Wei Ye, Qing-Quan Liu',\n",
       "    'section': 'body',\n",
       "    'sentence': 'The most likely source of SARS-CoV-2 is bats.'},\n",
       "   'id': 126111},\n",
       "  {'similarity': 0.7329314947128296,\n",
       "   'metadata': {'paper_id': 'e3b40cc8e0e137c416b4a2273a4dca94ae8178cc',\n",
       "    'cord_uid': 'ol2exczc',\n",
       "    'source': 'CZI',\n",
       "    'url': 'https://doi.org/10.3390/jcm9020575',\n",
       "    'publish_time': '2020',\n",
       "    'authors': 'Sheng-Qun Deng, Hong-Juan Peng',\n",
       "    'section': 'body',\n",
       "    'sentence': 'Therefore, a bat is probably the original host of SARS-CoV-2, although the intermediate host may still exist in the process of transmission from bats to human beings.'},\n",
       "   'id': 81939},\n",
       "  {'similarity': 0.7198295593261719,\n",
       "   'metadata': {'paper_id': 'bbba5ff9ab9eccef99a0bbc6ea557a373158bbcd',\n",
       "    'cord_uid': '8l1vfsbc',\n",
       "    'source': 'medrxiv',\n",
       "    'url': 'https://doi.org/10.1101/2020.02.23.20026690',\n",
       "    'publish_time': '2020-02-26',\n",
       "    'section': 'body',\n",
       "    'sentence': 'The genome analysis showed that the SARS-CoV-2 is a SARS-CoV like β-lineage coronavirus [2] and likely originates from bats [3] .'},\n",
       "   'id': 45208},\n",
       "  {'similarity': 0.7181240320205688,\n",
       "   'metadata': {'paper_id': 'c7f56ac99072a397fddf17d3f1d2e34d4146edbe',\n",
       "    'cord_uid': 'fw4pmaoc',\n",
       "    'source': 'biorxiv',\n",
       "    'url': 'https://doi.org/10.1101/2020.03.16.993816',\n",
       "    'publish_time': '2020-03-17',\n",
       "    'authors': 'Jiao-Mei Huang, Syed Sajid Jan, Xiaobin Wei, Yi Wan 1#, Songying Ouyang',\n",
       "    'section': 'body',\n",
       "    'sentence': 'The ML phylogenetic tree demonstrates that CoVs from bat source are found in the inner joint or neighboring clade of SARS-CoV-2.'},\n",
       "   'id': 47750},\n",
       "  {'similarity': 0.7074888944625854,\n",
       "   'metadata': {'paper_id': '9ba90347cdedd122a6fc8fd3baf1d15f3911e6c2',\n",
       "    'cord_uid': 'ztcyvsoi',\n",
       "    'source': 'PMC',\n",
       "    'url': 'https://www.ncbi.nlm.nih.gov/pmc/articles/PMC7090728/',\n",
       "    'publish_time': '2020-03-13',\n",
       "    'authors': 'Tanu Singhal',\n",
       "    'section': 'body',\n",
       "    'sentence': 'Though the SARS-CoV-2 originated from bats, the intermediary animal through which it crossed over to humans is uncertain.'},\n",
       "   'id': 157386}],\n",
       " 'sentencs': ['sars-covid-2 originated from bats']}"
      ]
     },
     "execution_count": 41,
     "metadata": {},
     "output_type": "execute_result"
    }
   ],
   "source": [
    "find_similar_sentences([\"sars-covid-2 originated from bats\"])"
   ]
  },
  {
   "cell_type": "code",
   "execution_count": 40,
   "metadata": {},
   "outputs": [
    {
     "name": "stderr",
     "output_type": "stream",
     "text": [
      "\r",
      "Batches:   0%|          | 0/1 [00:00<?, ?it/s]"
     ]
    },
    {
     "name": "stdout",
     "output_type": "stream",
     "text": [
      "What is known about transmission, incubation, and environmental stability?\n",
      "Working on task: Range of incubation periods for the disease in humans (and how this varies across age and health status)\n"
     ]
    },
    {
     "name": "stderr",
     "output_type": "stream",
     "text": [
      "Batches: 100%|██████████| 1/1 [00:00<00:00,  1.13it/s]\n",
      "Batches:   0%|          | 0/1 [00:00<?, ?it/s]"
     ]
    },
    {
     "name": "stdout",
     "output_type": "stream",
     "text": [
      "Working on task: How long individuals are contagious, even after recovery.\n"
     ]
    },
    {
     "name": "stderr",
     "output_type": "stream",
     "text": [
      "Batches: 100%|██████████| 1/1 [00:00<00:00,  2.14it/s]\n",
      "Batches:   0%|          | 0/1 [00:00<?, ?it/s]"
     ]
    },
    {
     "name": "stdout",
     "output_type": "stream",
     "text": [
      "Working on task: Prevalence of asymptomatic shedding and transmission (e.g., particularly children).\n"
     ]
    },
    {
     "name": "stderr",
     "output_type": "stream",
     "text": [
      "Batches: 100%|██████████| 1/1 [00:00<00:00,  3.59it/s]\n",
      "Batches:   0%|          | 0/1 [00:00<?, ?it/s]"
     ]
    },
    {
     "name": "stdout",
     "output_type": "stream",
     "text": [
      "Working on task: seasonality of transition\n"
     ]
    },
    {
     "name": "stderr",
     "output_type": "stream",
     "text": [
      "Batches: 100%|██████████| 1/1 [00:00<00:00,  1.75it/s]\n",
      "Batches:   0%|          | 0/1 [00:00<?, ?it/s]"
     ]
    },
    {
     "name": "stdout",
     "output_type": "stream",
     "text": [
      "Working on task: Physical science of the coronavirus (e.g., charge distribution, adhesion to hydrophilic/phobic surfaces, environmental survival to inform decontamination efforts for affected areas and provide information about viral shedding).\n"
     ]
    },
    {
     "name": "stderr",
     "output_type": "stream",
     "text": [
      "Batches: 100%|██████████| 1/1 [00:00<00:00,  2.90it/s]\n",
      "Batches: 100%|██████████| 1/1 [00:00<00:00,  8.06it/s]\n",
      "Batches:   0%|          | 0/1 [00:00<?, ?it/s]"
     ]
    },
    {
     "name": "stdout",
     "output_type": "stream",
     "text": [
      "Working on task: Persistence and stability on a multitude of substrates and sources (e.g., nasal discharge, sputum, urine, fecal matter, blood).\n",
      "Working on task: Persistence of virus on surfaces of different materials (e,g., copper, stainless steel, plastic).\n"
     ]
    },
    {
     "name": "stderr",
     "output_type": "stream",
     "text": [
      "Batches: 100%|██████████| 1/1 [00:00<00:00,  7.37it/s]\n",
      "Batches:   0%|          | 0/1 [00:00<?, ?it/s]"
     ]
    },
    {
     "name": "stdout",
     "output_type": "stream",
     "text": [
      "Working on task: Natural history of the virus and shedding of it from an infected person\n"
     ]
    },
    {
     "name": "stderr",
     "output_type": "stream",
     "text": [
      "Batches: 100%|██████████| 1/1 [00:00<00:00,  2.73it/s]\n",
      "Batches:   0%|          | 0/1 [00:00<?, ?it/s]"
     ]
    },
    {
     "name": "stdout",
     "output_type": "stream",
     "text": [
      "Working on task: Implementation of diagnostics and products to improve clinical processes\n"
     ]
    },
    {
     "name": "stderr",
     "output_type": "stream",
     "text": [
      "Batches: 100%|██████████| 1/1 [00:00<00:00,  3.01it/s]\n",
      "Batches:   0%|          | 0/1 [00:00<?, ?it/s]"
     ]
    },
    {
     "name": "stdout",
     "output_type": "stream",
     "text": [
      "Working on task: Disease models, including animal models for infection, disease and transmission\n"
     ]
    },
    {
     "name": "stderr",
     "output_type": "stream",
     "text": [
      "Batches: 100%|██████████| 1/1 [00:00<00:00,  1.80it/s]\n",
      "Batches:   0%|          | 0/1 [00:00<?, ?it/s]"
     ]
    },
    {
     "name": "stdout",
     "output_type": "stream",
     "text": [
      "Working on task: Tools and studies to monitor phenotypic change and potential adaptation of the virus\n"
     ]
    },
    {
     "name": "stderr",
     "output_type": "stream",
     "text": [
      "Batches: 100%|██████████| 1/1 [00:00<00:00,  2.99it/s]\n",
      "Batches:   0%|          | 0/1 [00:00<?, ?it/s]"
     ]
    },
    {
     "name": "stdout",
     "output_type": "stream",
     "text": [
      "Working on task: Immune response and immunity\n"
     ]
    },
    {
     "name": "stderr",
     "output_type": "stream",
     "text": [
      "Batches: 100%|██████████| 1/1 [00:00<00:00,  2.59it/s]\n",
      "Batches:   0%|          | 0/1 [00:00<?, ?it/s]"
     ]
    },
    {
     "name": "stdout",
     "output_type": "stream",
     "text": [
      "Working on task: Effectiveness of movement control strategies to prevent secondary transmission in health care and community settings\n"
     ]
    },
    {
     "name": "stderr",
     "output_type": "stream",
     "text": [
      "Batches: 100%|██████████| 1/1 [00:00<00:00,  2.02it/s]\n",
      "Batches: 100%|██████████| 1/1 [00:00<00:00,  7.31it/s]\n",
      "Batches:   0%|          | 0/1 [00:00<?, ?it/s]"
     ]
    },
    {
     "name": "stdout",
     "output_type": "stream",
     "text": [
      "Working on task: Effectiveness of personal protective equipment (PPE) and its usefulness to reduce risk of transmission in health care and community settings\n",
      "Working on task: Role of the environment in transmission\n"
     ]
    },
    {
     "name": "stderr",
     "output_type": "stream",
     "text": [
      "Batches: 100%|██████████| 1/1 [00:00<00:00,  1.64it/s]\n",
      "Batches:   0%|          | 0/1 [00:00<?, ?it/s]"
     ]
    },
    {
     "name": "stdout",
     "output_type": "stream",
     "text": [
      "What do we know about COVID-19 risk factors?\n",
      "Working on task: Data on potential risks factors: 1. Smoking, pre-existing pulmonary disease\n"
     ]
    },
    {
     "name": "stderr",
     "output_type": "stream",
     "text": [
      "Batches: 100%|██████████| 1/1 [00:00<00:00,  2.95it/s]\n",
      "Batches:   0%|          | 0/1 [00:00<?, ?it/s]"
     ]
    },
    {
     "name": "stdout",
     "output_type": "stream",
     "text": [
      "Working on task: Data on potential risks factors: 2. Co-infections (determine whether co-existing respiratory/viral infections make the virus more transmissible or virulent) and other co-morbidities\n"
     ]
    },
    {
     "name": "stderr",
     "output_type": "stream",
     "text": [
      "Batches: 100%|██████████| 1/1 [00:00<00:00,  1.54it/s]\n",
      "Batches:   0%|          | 0/1 [00:00<?, ?it/s]"
     ]
    },
    {
     "name": "stdout",
     "output_type": "stream",
     "text": [
      "Working on task: Data on potential risks factors: 3. Neonates and Pregnant women\n"
     ]
    },
    {
     "name": "stderr",
     "output_type": "stream",
     "text": [
      "Batches: 100%|██████████| 1/1 [00:00<00:00,  3.68it/s]\n",
      "Batches:   0%|          | 0/1 [00:00<?, ?it/s]"
     ]
    },
    {
     "name": "stdout",
     "output_type": "stream",
     "text": [
      "Working on task: Data on potential risks factors: 4. Socio-economic and behavioral factors to understand the economic impact of the virus and whether there were differences.\n"
     ]
    },
    {
     "name": "stderr",
     "output_type": "stream",
     "text": [
      "Batches: 100%|██████████| 1/1 [00:00<00:00,  2.65it/s]\n",
      "Batches:   0%|          | 0/1 [00:00<?, ?it/s]"
     ]
    },
    {
     "name": "stdout",
     "output_type": "stream",
     "text": [
      "Working on task: Transmission dynamics of the virus, including the basic reproductive number, incubation period, serial interval, modes of transmission and environmental factors\n"
     ]
    },
    {
     "name": "stderr",
     "output_type": "stream",
     "text": [
      "Batches: 100%|██████████| 1/1 [00:00<00:00,  1.20it/s]\n",
      "Batches:   0%|          | 0/1 [00:00<?, ?it/s]"
     ]
    },
    {
     "name": "stdout",
     "output_type": "stream",
     "text": [
      "Working on task: Severity of disease, including risk of fatality among symptomatic hospitalized patients, and high-risk patient groups\n"
     ]
    },
    {
     "name": "stderr",
     "output_type": "stream",
     "text": [
      "Batches: 100%|██████████| 1/1 [00:00<00:00,  1.68it/s]\n",
      "Batches:   0%|          | 0/1 [00:00<?, ?it/s]"
     ]
    },
    {
     "name": "stdout",
     "output_type": "stream",
     "text": [
      "Working on task: Susceptibility of populations\n"
     ]
    },
    {
     "name": "stderr",
     "output_type": "stream",
     "text": [
      "Batches: 100%|██████████| 1/1 [00:00<00:00,  2.06it/s]\n",
      "Batches:   0%|          | 0/1 [00:00<?, ?it/s]"
     ]
    },
    {
     "name": "stdout",
     "output_type": "stream",
     "text": [
      "Working on task: Public health mitigation measures that could be effective for control\n"
     ]
    },
    {
     "name": "stderr",
     "output_type": "stream",
     "text": [
      "Batches: 100%|██████████| 1/1 [00:00<00:00,  4.21it/s]\n",
      "Batches:   0%|          | 0/1 [00:00<?, ?it/s]"
     ]
    },
    {
     "name": "stdout",
     "output_type": "stream",
     "text": [
      "What do we know about virus genetics, origin, and evolution?\n",
      "Working on task: Real-time tracking of whole genomes and a mechanism for coordinating the rapid dissemination of that information to inform the development of diagnostics and therapeutics and to track variations of the virus over time.\n"
     ]
    },
    {
     "name": "stderr",
     "output_type": "stream",
     "text": [
      "Batches: 100%|██████████| 1/1 [00:00<00:00,  1.18it/s]\n",
      "Batches:   0%|          | 0/1 [00:00<?, ?it/s]"
     ]
    },
    {
     "name": "stdout",
     "output_type": "stream",
     "text": [
      "Working on task: Access to geographic and temporal diverse sample sets to understand geographic distribution and genomic differences, and determine whether there is more than one strain in circulation. Multi-lateral agreements such as the Nagoya Protocol could be leveraged.\n"
     ]
    },
    {
     "name": "stderr",
     "output_type": "stream",
     "text": [
      "Batches: 100%|██████████| 1/1 [00:00<00:00,  3.79it/s]\n",
      "Batches:   0%|          | 0/1 [00:00<?, ?it/s]"
     ]
    },
    {
     "name": "stdout",
     "output_type": "stream",
     "text": [
      "Working on task: Evidence that livestock could be infected (e.g., field surveillance, genetic sequencing, receptor binding) and serve as a reservoir after the epidemic appears to be over. 1. Evidence of whether farmers are infected, and whether farmers could have played a role in the origin\n"
     ]
    },
    {
     "name": "stderr",
     "output_type": "stream",
     "text": [
      "Batches: 100%|██████████| 1/1 [00:00<00:00,  1.62it/s]\n",
      "Batches:   0%|          | 0/1 [00:00<?, ?it/s]"
     ]
    },
    {
     "name": "stdout",
     "output_type": "stream",
     "text": [
      "Working on task: Evidence that livestock could be infected (e.g., field surveillance, genetic sequencing, receptor binding) and serve as a reservoir after the epidemic appears to be over. 2. Surveillance of mixed wildlife- livestock farms for SARS-CoV-2 and other coronaviruses in Southeast Asia.\n"
     ]
    },
    {
     "name": "stderr",
     "output_type": "stream",
     "text": [
      "Batches: 100%|██████████| 1/1 [00:00<00:00,  2.43it/s]\n",
      "Batches:   0%|          | 0/1 [00:00<?, ?it/s]"
     ]
    },
    {
     "name": "stdout",
     "output_type": "stream",
     "text": [
      "Working on task: Evidence that livestock could be infected (e.g., field surveillance, genetic sequencing, receptor binding) and serve as a reservoir after the epidemic appears to be over. 3. Experimental infections to test host range for this pathogen.\n"
     ]
    },
    {
     "name": "stderr",
     "output_type": "stream",
     "text": [
      "Batches: 100%|██████████| 1/1 [00:00<00:00,  2.55it/s]\n",
      "Batches:   0%|          | 0/1 [00:00<?, ?it/s]"
     ]
    },
    {
     "name": "stdout",
     "output_type": "stream",
     "text": [
      "Working on task: Animal host(s) and any evidence of continued spill-over to humans\n"
     ]
    },
    {
     "name": "stderr",
     "output_type": "stream",
     "text": [
      "Batches: 100%|██████████| 1/1 [00:00<00:00,  4.05it/s]\n",
      "Batches: 100%|██████████| 1/1 [00:00<00:00,  5.68it/s]\n",
      "Batches:   0%|          | 0/1 [00:00<?, ?it/s]"
     ]
    },
    {
     "name": "stdout",
     "output_type": "stream",
     "text": [
      "Working on task: Socioeconomic and behavioral risk factors for this spill-over\n",
      "Working on task: Sustainable risk reduction strategies\n"
     ]
    },
    {
     "name": "stderr",
     "output_type": "stream",
     "text": [
      "Batches: 100%|██████████| 1/1 [00:00<00:00,  5.85it/s]\n",
      "Batches:   0%|          | 0/1 [00:00<?, ?it/s]"
     ]
    },
    {
     "name": "stdout",
     "output_type": "stream",
     "text": [
      "What do we know about vaccines and therapeutics?\n",
      "Working on task: Effectiveness of drugs being developed and tried to treat COVID-19 patients.\n"
     ]
    },
    {
     "name": "stderr",
     "output_type": "stream",
     "text": [
      "Batches: 100%|██████████| 1/1 [00:00<00:00,  4.35it/s]\n",
      "Batches:   0%|          | 0/1 [00:00<?, ?it/s]"
     ]
    },
    {
     "name": "stdout",
     "output_type": "stream",
     "text": [
      "Working on task: Methods evaluating potential complication of Antibody-Dependent Enhancement (ADE) in vaccine recipients.\n"
     ]
    },
    {
     "name": "stderr",
     "output_type": "stream",
     "text": [
      "Batches: 100%|██████████| 1/1 [00:00<00:00,  3.23it/s]\n",
      "Batches: 100%|██████████| 1/1 [00:00<00:00,  8.62it/s]\n",
      "Batches:   0%|          | 0/1 [00:00<?, ?it/s]"
     ]
    },
    {
     "name": "stdout",
     "output_type": "stream",
     "text": [
      "Working on task: Exploration of use of best animal models and their predictive value for a human vaccine.\n",
      "Working on task: Capabilities to discover a therapeutic (not vaccine) for the disease, and clinical effectiveness studies to discover therapeutics, to include antiviral agents.\n"
     ]
    },
    {
     "name": "stderr",
     "output_type": "stream",
     "text": [
      "Batches: 100%|██████████| 1/1 [00:00<00:00,  2.38it/s]\n",
      "Batches: 100%|██████████| 1/1 [00:00<00:00,  5.04it/s]"
     ]
    },
    {
     "name": "stdout",
     "output_type": "stream",
     "text": [
      "Working on task: Alternative models to aid decision makers in determining how to prioritize and distribute scarce, newly proven therapeutics as production ramps up. This could include identifying approaches for expanding production capacity to ensure equitable and timely distribution to populations in need.\n"
     ]
    },
    {
     "name": "stderr",
     "output_type": "stream",
     "text": [
      "\n",
      "Batches: 100%|██████████| 1/1 [00:00<00:00,  6.71it/s]\n",
      "Batches:   0%|          | 0/1 [00:00<?, ?it/s]"
     ]
    },
    {
     "name": "stdout",
     "output_type": "stream",
     "text": [
      "Working on task: Efforts targeted at a universal coronavirus vaccine.\n",
      "Working on task: Efforts to develop animal models and standardize challenge studies\n"
     ]
    },
    {
     "name": "stderr",
     "output_type": "stream",
     "text": [
      "Batches: 100%|██████████| 1/1 [00:00<00:00,  4.35it/s]\n",
      "Batches: 100%|██████████| 1/1 [00:00<00:00,  6.71it/s]\n",
      "Batches:   0%|          | 0/1 [00:00<?, ?it/s]"
     ]
    },
    {
     "name": "stdout",
     "output_type": "stream",
     "text": [
      "Working on task: Efforts to develop prophylaxis clinical studies and prioritize in healthcare workers\n",
      "Working on task: Assays to evaluate vaccine immune response and process development for vaccines, alongside suitable animal models [in conjunction with therapeutics\n"
     ]
    },
    {
     "name": "stderr",
     "output_type": "stream",
     "text": [
      "Batches: 100%|██████████| 1/1 [00:00<00:00,  4.92it/s]\n",
      "Batches: 100%|██████████| 1/1 [00:00<00:00, 11.72it/s]\n",
      "Batches:   0%|          | 0/1 [00:00<?, ?it/s]"
     ]
    },
    {
     "name": "stdout",
     "output_type": "stream",
     "text": [
      "What has been published about medical care?\n",
      "Working on task: Resources to support skilled nursing facilities and long term care facilities.\n",
      "Working on task: Mobilization of surge medical staff to address shortages in overwhelmed communities\n"
     ]
    },
    {
     "name": "stderr",
     "output_type": "stream",
     "text": [
      "Batches: 100%|██████████| 1/1 [00:00<00:00,  6.42it/s]\n",
      "Batches:   0%|          | 0/1 [00:00<?, ?it/s]"
     ]
    },
    {
     "name": "stdout",
     "output_type": "stream",
     "text": [
      "Working on task: Age-adjusted mortality data for Acute Respiratory Distress Syndrome (ARDS) with/without other organ failure – particularly for viral etiologies\n"
     ]
    },
    {
     "name": "stderr",
     "output_type": "stream",
     "text": [
      "Batches: 100%|██████████| 1/1 [00:00<00:00,  4.36it/s]\n",
      "Batches: 100%|██████████| 1/1 [00:00<00:00,  7.43it/s]\n",
      "Batches:   0%|          | 0/1 [00:00<?, ?it/s]"
     ]
    },
    {
     "name": "stdout",
     "output_type": "stream",
     "text": [
      "Working on task: Extracorporeal membrane oxygenation (ECMO) outcomes data of COVID-19 patients\n",
      "Working on task: Outcomes data for COVID-19 after mechanical ventilation adjusted for age.\n"
     ]
    },
    {
     "name": "stderr",
     "output_type": "stream",
     "text": [
      "Batches: 100%|██████████| 1/1 [00:00<00:00,  5.62it/s]\n",
      "Batches:   0%|          | 0/1 [00:00<?, ?it/s]"
     ]
    },
    {
     "name": "stdout",
     "output_type": "stream",
     "text": [
      "Working on task: Knowledge of the frequency, manifestations, and course of extrapulmonary manifestations of COVID-19, including, but not limited to, possible cardiomyopathy and cardiac arrest.\n"
     ]
    },
    {
     "name": "stderr",
     "output_type": "stream",
     "text": [
      "Batches: 100%|██████████| 1/1 [00:00<00:00,  4.16it/s]\n",
      "Batches:   0%|          | 0/1 [00:00<?, ?it/s]"
     ]
    },
    {
     "name": "stdout",
     "output_type": "stream",
     "text": [
      "Working on task: Application of regulatory standards (e.g., EUA, CLIA) and ability to adapt care to crisis standards of care level.\n"
     ]
    },
    {
     "name": "stderr",
     "output_type": "stream",
     "text": [
      "Batches: 100%|██████████| 1/1 [00:00<00:00,  1.93it/s]\n",
      "Batches:   0%|          | 0/1 [00:00<?, ?it/s]"
     ]
    },
    {
     "name": "stdout",
     "output_type": "stream",
     "text": [
      "Working on task: Approaches for encouraging and facilitating the production of elastomeric respirators, which can save thousands of N95 masks.\n"
     ]
    },
    {
     "name": "stderr",
     "output_type": "stream",
     "text": [
      "Batches: 100%|██████████| 1/1 [00:00<00:00,  4.48it/s]\n",
      "Batches:   0%|          | 0/1 [00:00<?, ?it/s]"
     ]
    },
    {
     "name": "stdout",
     "output_type": "stream",
     "text": [
      "Working on task: Best telemedicine practices, barriers and faciitators, and specific actions to remove/expand them within and across state boundaries.\n"
     ]
    },
    {
     "name": "stderr",
     "output_type": "stream",
     "text": [
      "Batches: 100%|██████████| 1/1 [00:00<00:00,  3.18it/s]\n",
      "Batches:   0%|          | 0/1 [00:00<?, ?it/s]"
     ]
    },
    {
     "name": "stdout",
     "output_type": "stream",
     "text": [
      "Working on task: Guidance on the simple things people can do at home to take care of sick people and manage disease.\n"
     ]
    },
    {
     "name": "stderr",
     "output_type": "stream",
     "text": [
      "Batches: 100%|██████████| 1/1 [00:00<00:00,  4.11it/s]\n",
      "Batches:   0%|          | 0/1 [00:00<?, ?it/s]"
     ]
    },
    {
     "name": "stdout",
     "output_type": "stream",
     "text": [
      "Working on task: Oral medications that might potentially work.\n"
     ]
    },
    {
     "name": "stderr",
     "output_type": "stream",
     "text": [
      "Batches: 100%|██████████| 1/1 [00:00<00:00,  2.49it/s]\n",
      "Batches:   0%|          | 0/1 [00:00<?, ?it/s]"
     ]
    },
    {
     "name": "stdout",
     "output_type": "stream",
     "text": [
      "Working on task: Use of AI in real-time health care delivery to evaluate interventions, risk factors, and outcomes in a way that could not be done manually.\n"
     ]
    },
    {
     "name": "stderr",
     "output_type": "stream",
     "text": [
      "Batches: 100%|██████████| 1/1 [00:00<00:00,  4.09it/s]\n",
      "Batches:   0%|          | 0/1 [00:00<?, ?it/s]"
     ]
    },
    {
     "name": "stdout",
     "output_type": "stream",
     "text": [
      "Working on task: Best practices and critical challenges and innovative solutions and technologies in hospital flow and organization, workforce protection, workforce allocation, community-based support resources, payment, and supply chain management to enhance capacity, efficiency, and outcomes.\n"
     ]
    },
    {
     "name": "stderr",
     "output_type": "stream",
     "text": [
      "Batches: 100%|██████████| 1/1 [00:00<00:00,  1.67it/s]\n",
      "Batches:   0%|          | 0/1 [00:00<?, ?it/s]"
     ]
    },
    {
     "name": "stdout",
     "output_type": "stream",
     "text": [
      "Working on task: Efforts to define the natural history of disease to inform clinical care, public health interventions, infection prevention control, transmission, and clinical trials\n"
     ]
    },
    {
     "name": "stderr",
     "output_type": "stream",
     "text": [
      "Batches: 100%|██████████| 1/1 [00:00<00:00,  2.26it/s]\n",
      "Batches:   0%|          | 0/1 [00:00<?, ?it/s]"
     ]
    },
    {
     "name": "stdout",
     "output_type": "stream",
     "text": [
      "Working on task: Efforts to develop a core clinical outcome set to maximize usability of data across a range of trials\n"
     ]
    },
    {
     "name": "stderr",
     "output_type": "stream",
     "text": [
      "Batches: 100%|██████████| 1/1 [00:00<00:00,  3.88it/s]\n",
      "Batches:   0%|          | 0/1 [00:00<?, ?it/s]"
     ]
    },
    {
     "name": "stdout",
     "output_type": "stream",
     "text": [
      "Working on task: Efforts to determine adjunctive and supportive interventions that can improve the clinical outcomes of infected patients (e.g. steroids, high flow oxygen)\n"
     ]
    },
    {
     "name": "stderr",
     "output_type": "stream",
     "text": [
      "Batches: 100%|██████████| 1/1 [00:00<00:00,  2.82it/s]\n",
      "Batches:   0%|          | 0/1 [00:00<?, ?it/s]"
     ]
    },
    {
     "name": "stdout",
     "output_type": "stream",
     "text": [
      "What do we know about non-pharmaceutical interventions?\n",
      "Working on task: Guidance on ways to scale up NPIs in a more coordinated way (e.g., establish funding, infrastructure and authorities to support real time, authoritative (qualified participants)\n"
     ]
    },
    {
     "name": "stderr",
     "output_type": "stream",
     "text": [
      "Batches: 100%|██████████| 1/1 [00:00<00:00,  3.62it/s]\n",
      "Batches:   0%|          | 0/1 [00:00<?, ?it/s]"
     ]
    },
    {
     "name": "stdout",
     "output_type": "stream",
     "text": [
      "Working on task: collaboration with all states to gain consensus on consistent guidance\n"
     ]
    },
    {
     "name": "stderr",
     "output_type": "stream",
     "text": [
      "Batches: 100%|██████████| 1/1 [00:00<00:00,  1.78it/s]\n",
      "Batches:   0%|          | 0/1 [00:00<?, ?it/s]"
     ]
    },
    {
     "name": "stdout",
     "output_type": "stream",
     "text": [
      "Working on task: mobilize resources to geographic areas where critical shortfalls are identified)\n"
     ]
    },
    {
     "name": "stderr",
     "output_type": "stream",
     "text": [
      "Batches: 100%|██████████| 1/1 [00:00<00:00,  3.29it/s]\n",
      "Batches:   0%|          | 0/1 [00:00<?, ?it/s]"
     ]
    },
    {
     "name": "stdout",
     "output_type": "stream",
     "text": [
      "Working on task: Rapid design and execution of experiments to examine and compare NPIs currently being implemented.\n"
     ]
    },
    {
     "name": "stderr",
     "output_type": "stream",
     "text": [
      "Batches: 100%|██████████| 1/1 [00:00<00:00,  1.59it/s]\n",
      "Batches:   0%|          | 0/1 [00:00<?, ?it/s]"
     ]
    },
    {
     "name": "stdout",
     "output_type": "stream",
     "text": [
      "Working on task: Rapid assessment of the likely efficacy of school closures, travel bans, bans on mass gatherings of various sizes, and other social distancing approaches.\n"
     ]
    },
    {
     "name": "stderr",
     "output_type": "stream",
     "text": [
      "Batches: 100%|██████████| 1/1 [00:00<00:00,  1.47it/s]\n",
      "Batches:   0%|          | 0/1 [00:00<?, ?it/s]"
     ]
    },
    {
     "name": "stdout",
     "output_type": "stream",
     "text": [
      "Working on task: Methods to control the spread in communities, barriers to compliance and how these vary among different populations.\n"
     ]
    },
    {
     "name": "stderr",
     "output_type": "stream",
     "text": [
      "Batches: 100%|██████████| 1/1 [00:00<00:00,  1.61it/s]\n",
      "Batches:   0%|          | 0/1 [00:00<?, ?it/s]"
     ]
    },
    {
     "name": "stdout",
     "output_type": "stream",
     "text": [
      "Working on task: Models of potential interventions to predict costs and benefits that take account of such factors as race, income, disability, age, geographic location, immigration status, housing status, employment status, and health insurance status.\n"
     ]
    },
    {
     "name": "stderr",
     "output_type": "stream",
     "text": [
      "Batches: 100%|██████████| 1/1 [00:00<00:00,  2.08it/s]\n",
      "Batches:   0%|          | 0/1 [00:00<?, ?it/s]"
     ]
    },
    {
     "name": "stdout",
     "output_type": "stream",
     "text": [
      "Working on task: Policy changes necessary to enable the compliance of individuals with limited resources and the underserved with NPIs.\n"
     ]
    },
    {
     "name": "stderr",
     "output_type": "stream",
     "text": [
      "Batches: 100%|██████████| 1/1 [00:00<00:00,  4.48it/s]\n",
      "Batches:   0%|          | 0/1 [00:00<?, ?it/s]"
     ]
    },
    {
     "name": "stdout",
     "output_type": "stream",
     "text": [
      "Working on task: Research on why people fail to comply with public health advice, even if they want to do so (e.g., social or financial costs may be too high).\n"
     ]
    },
    {
     "name": "stderr",
     "output_type": "stream",
     "text": [
      "Batches: 100%|██████████| 1/1 [00:00<00:00,  4.33it/s]\n",
      "Batches:   0%|          | 0/1 [00:00<?, ?it/s]"
     ]
    },
    {
     "name": "stdout",
     "output_type": "stream",
     "text": [
      "Working on task: Research on the economic impact of this or any pandemic.\n"
     ]
    },
    {
     "name": "stderr",
     "output_type": "stream",
     "text": [
      "Batches: 100%|██████████| 1/1 [00:00<00:00,  2.37it/s]\n",
      "Batches:   0%|          | 0/1 [00:00<?, ?it/s]"
     ]
    },
    {
     "name": "stdout",
     "output_type": "stream",
     "text": [
      "Working on task: This would include identifying policy and programmatic alternatives that lessen/mitigate risks to critical government services, food distribution and supplies, access to critical household supplies, and access to health diagnoses, treatment, and needed care, regardless of ability to pay.\n"
     ]
    },
    {
     "name": "stderr",
     "output_type": "stream",
     "text": [
      "Batches: 100%|██████████| 1/1 [00:00<00:00,  3.25it/s]\n",
      "Batches:   0%|          | 0/1 [00:00<?, ?it/s]"
     ]
    },
    {
     "name": "stdout",
     "output_type": "stream",
     "text": [
      "What do we know about diagnostics and surveillance?\n",
      "Working on task: How widespread current exposure is to be able to make immediate policy recommendations on mitigation measures.\n"
     ]
    },
    {
     "name": "stderr",
     "output_type": "stream",
     "text": [
      "Batches: 100%|██████████| 1/1 [00:00<00:00,  3.12it/s]\n",
      "Batches: 100%|██████████| 1/1 [00:00<00:00,  5.87it/s]\n",
      "Batches:   0%|          | 0/1 [00:00<?, ?it/s]"
     ]
    },
    {
     "name": "stdout",
     "output_type": "stream",
     "text": [
      "Working on task: Denominators for testing and a mechanism for rapidly sharing that information, including demographics, to the extent possible.\n",
      "Working on task: Sampling methods to determine asymptomatic disease (e.g., use of serosurveys (such as convalescent samples) and early detection of disease (e.g., use of screening of neutralizing antibodies such as ELISAs).\n"
     ]
    },
    {
     "name": "stderr",
     "output_type": "stream",
     "text": [
      "Batches: 100%|██████████| 1/1 [00:00<00:00,  1.17it/s]\n",
      "Batches:   0%|          | 0/1 [00:00<?, ?it/s]"
     ]
    },
    {
     "name": "stdout",
     "output_type": "stream",
     "text": [
      "Working on task: Efforts to increase capacity on existing diagnostic platforms and tap into existing surveillance platforms.\n"
     ]
    },
    {
     "name": "stderr",
     "output_type": "stream",
     "text": [
      "Batches: 100%|██████████| 1/1 [00:00<00:00,  2.40it/s]\n",
      "Batches:   0%|          | 0/1 [00:00<?, ?it/s]"
     ]
    },
    {
     "name": "stdout",
     "output_type": "stream",
     "text": [
      "Working on task: Recruitment, support, and coordination of local expertise and capacity (public, private—commercial, and non-profit, including academic), including legal, ethical, communications, and operational issues.\n"
     ]
    },
    {
     "name": "stderr",
     "output_type": "stream",
     "text": [
      "Batches: 100%|██████████| 1/1 [00:00<00:00,  1.15it/s]\n",
      "Batches:   0%|          | 0/1 [00:00<?, ?it/s]"
     ]
    },
    {
     "name": "stdout",
     "output_type": "stream",
     "text": [
      "Working on task: National guidance and guidelines about best practices to states (e.g., how states might leverage universities and private laboratories for testing purposes, communications to public health officials and the public).\n"
     ]
    },
    {
     "name": "stderr",
     "output_type": "stream",
     "text": [
      "Batches: 100%|██████████| 1/1 [00:00<00:00,  2.38it/s]\n",
      "Batches:   0%|          | 0/1 [00:00<?, ?it/s]"
     ]
    },
    {
     "name": "stdout",
     "output_type": "stream",
     "text": [
      "Working on task: Development of a point-of-care test (like a rapid influenza test) and rapid bed-side tests, recognizing the tradeoffs between speed, accessibility, and accuracy.\n"
     ]
    },
    {
     "name": "stderr",
     "output_type": "stream",
     "text": [
      "Batches: 100%|██████████| 1/1 [00:00<00:00,  1.22it/s]\n",
      "Batches:   0%|          | 0/1 [00:00<?, ?it/s]"
     ]
    },
    {
     "name": "stdout",
     "output_type": "stream",
     "text": [
      "Working on task: Rapid design and execution of targeted surveillance experiments calling for all potential testers using PCR in a defined area to start testing and report to a specific entity. These experiments could aid in collecting longitudinal samples, which are critical to understanding the impact of ad hoc local interventions (which also need to be recorded).\n"
     ]
    },
    {
     "name": "stderr",
     "output_type": "stream",
     "text": [
      "Batches: 100%|██████████| 1/1 [00:00<00:00,  3.44it/s]\n",
      "Batches:   0%|          | 0/1 [00:00<?, ?it/s]"
     ]
    },
    {
     "name": "stdout",
     "output_type": "stream",
     "text": [
      "Working on task: Separation of assay development issues from instruments, and the role of the private sector to help quickly migrate assays onto those devices.\n"
     ]
    },
    {
     "name": "stderr",
     "output_type": "stream",
     "text": [
      "Batches: 100%|██████████| 1/1 [00:00<00:00,  2.33it/s]\n",
      "Batches:   0%|          | 0/1 [00:00<?, ?it/s]"
     ]
    },
    {
     "name": "stdout",
     "output_type": "stream",
     "text": [
      "Working on task: Efforts to track the evolution of the virus (i.e., genetic drift or mutations) and avoid locking into specific reagents and surveillance/detection schemes.\n"
     ]
    },
    {
     "name": "stderr",
     "output_type": "stream",
     "text": [
      "Batches: 100%|██████████| 1/1 [00:00<00:00,  1.80it/s]\n",
      "Batches:   0%|          | 0/1 [00:00<?, ?it/s]"
     ]
    },
    {
     "name": "stdout",
     "output_type": "stream",
     "text": [
      "Working on task: Latency issues and when there is sufficient viral load to detect the pathogen, and understanding of what is needed in terms of biological and environmental sampling.\n"
     ]
    },
    {
     "name": "stderr",
     "output_type": "stream",
     "text": [
      "Batches: 100%|██████████| 1/1 [00:00<00:00,  3.40it/s]\n",
      "Batches:   0%|          | 0/1 [00:00<?, ?it/s]"
     ]
    },
    {
     "name": "stdout",
     "output_type": "stream",
     "text": [
      "Working on task: Use of diagnostics such as host response markers (e.g., cytokines) to detect early disease or predict severe disease progression, which would be important to understanding best clinical practice and efficacy of therapeutic interventions.\n"
     ]
    },
    {
     "name": "stderr",
     "output_type": "stream",
     "text": [
      "Batches: 100%|██████████| 1/1 [00:00<00:00,  2.87it/s]\n",
      "Batches:   0%|          | 0/1 [00:00<?, ?it/s]"
     ]
    },
    {
     "name": "stdout",
     "output_type": "stream",
     "text": [
      "Working on task: Policies and protocols for screening and testing.\n"
     ]
    },
    {
     "name": "stderr",
     "output_type": "stream",
     "text": [
      "Batches: 100%|██████████| 1/1 [00:00<00:00,  2.13it/s]\n",
      "Batches:   0%|          | 0/1 [00:00<?, ?it/s]"
     ]
    },
    {
     "name": "stdout",
     "output_type": "stream",
     "text": [
      "Working on task: Policies to mitigate the effects on supplies associated with mass testing, including swabs and reagents.\n"
     ]
    },
    {
     "name": "stderr",
     "output_type": "stream",
     "text": [
      "Batches: 100%|██████████| 1/1 [00:00<00:00,  3.93it/s]\n",
      "Batches: 100%|██████████| 1/1 [00:00<00:00, 11.95it/s]\n",
      "Batches:   0%|          | 0/1 [00:00<?, ?it/s]"
     ]
    },
    {
     "name": "stdout",
     "output_type": "stream",
     "text": [
      "Working on task: Technology roadmap for diagnostics.\n",
      "Working on task: Barriers to developing and scaling up new diagnostic tests (e.g., market forces), how future coalition and accelerator models (e.g., Coalition for Epidemic Preparedness Innovations) could provide critical funding for diagnostics, and opportunities for a streamlined regulatory environment.\n"
     ]
    },
    {
     "name": "stderr",
     "output_type": "stream",
     "text": [
      "Batches: 100%|██████████| 1/1 [00:00<00:00,  2.67it/s]\n",
      "Batches:   0%|          | 0/1 [00:00<?, ?it/s]"
     ]
    },
    {
     "name": "stdout",
     "output_type": "stream",
     "text": [
      "Working on task: New platforms and technology (e.g., CRISPR) to improve response times and employ more holistic approaches to COVID-19 and future diseases.\n"
     ]
    },
    {
     "name": "stderr",
     "output_type": "stream",
     "text": [
      "Batches: 100%|██████████| 1/1 [00:00<00:00,  4.32it/s]\n",
      "Batches: 100%|██████████| 1/1 [00:00<00:00,  7.24it/s]\n",
      "Batches:   0%|          | 0/1 [00:00<?, ?it/s]"
     ]
    },
    {
     "name": "stdout",
     "output_type": "stream",
     "text": [
      "Working on task: Coupling genomics and diagnostic testing on a large scale.\n",
      "Working on task: Enhance capabilities for rapid sequencing and bioinformatics to target regions of the genome that will allow specificity for a particular variant.\n"
     ]
    },
    {
     "name": "stderr",
     "output_type": "stream",
     "text": [
      "Batches: 100%|██████████| 1/1 [00:00<00:00,  2.46it/s]\n",
      "Batches:   0%|          | 0/1 [00:00<?, ?it/s]"
     ]
    },
    {
     "name": "stdout",
     "output_type": "stream",
     "text": [
      "Working on task: Enhance capacity (people, technology, data) for sequencing with advanced analytics for unknown pathogens, and explore capabilities for distinguishing naturally-occurring pathogens from intentional.\n"
     ]
    },
    {
     "name": "stderr",
     "output_type": "stream",
     "text": [
      "Batches: 100%|██████████| 1/1 [00:00<00:00,  3.09it/s]\n",
      "Batches:   0%|          | 0/1 [00:00<?, ?it/s]"
     ]
    },
    {
     "name": "stdout",
     "output_type": "stream",
     "text": [
      "Working on task: One Health surveillance of humans and potential sources of future spillover or ongoing exposure for this organism and future pathogens, including both evolutionary hosts (e.g., bats) and transmission hosts (e.g., heavily trafficked and farmed wildlife and domestic food and companion species), inclusive of environmental, demographic, and occupational risk factors.\n"
     ]
    },
    {
     "name": "stderr",
     "output_type": "stream",
     "text": [
      "Batches: 100%|██████████| 1/1 [00:00<00:00,  2.34it/s]\n",
      "Batches:   0%|          | 0/1 [00:00<?, ?it/s]"
     ]
    },
    {
     "name": "stdout",
     "output_type": "stream",
     "text": [
      "What has been published about ethical and social science considerations?\n",
      "Working on task: Efforts to articulate and translate existing ethical principles and standards to salient issues in COVID-2019\n"
     ]
    },
    {
     "name": "stderr",
     "output_type": "stream",
     "text": [
      "Batches: 100%|██████████| 1/1 [00:00<00:00,  3.71it/s]\n",
      "Batches:   0%|          | 0/1 [00:00<?, ?it/s]"
     ]
    },
    {
     "name": "stdout",
     "output_type": "stream",
     "text": [
      "Working on task: Efforts to embed ethics across all thematic areas, engage with novel ethical issues that arise and coordinate to minimize duplication of oversight\n"
     ]
    },
    {
     "name": "stderr",
     "output_type": "stream",
     "text": [
      "Batches: 100%|██████████| 1/1 [00:00<00:00,  3.20it/s]\n",
      "Batches: 100%|██████████| 1/1 [00:00<00:00,  7.10it/s]\n",
      "Batches:   0%|          | 0/1 [00:00<?, ?it/s]"
     ]
    },
    {
     "name": "stdout",
     "output_type": "stream",
     "text": [
      "Working on task: Efforts to support sustained education, access, and capacity building in the area of ethics\n",
      "Working on task: Efforts to establish a team at WHO that will be integrated within multidisciplinary research and operational platforms and that will connect with existing and expanded global networks of social sciences.\n"
     ]
    },
    {
     "name": "stderr",
     "output_type": "stream",
     "text": [
      "Batches: 100%|██████████| 1/1 [00:00<00:00,  1.47it/s]\n",
      "Batches:   0%|          | 0/1 [00:00<?, ?it/s]"
     ]
    },
    {
     "name": "stdout",
     "output_type": "stream",
     "text": [
      "Working on task: Efforts to develop qualitative assessment frameworks to systematically collect information related to local barriers and enablers for the uptake and adherence to public health measures for prevention and control. This includes the rapid identification of the secondary impacts of these measures. (e.g. use of surgical masks, modification of health seeking behaviors for SRH, school closures)\n"
     ]
    },
    {
     "name": "stderr",
     "output_type": "stream",
     "text": [
      "Batches: 100%|██████████| 1/1 [00:00<00:00,  2.08it/s]\n",
      "Batches:   0%|          | 0/1 [00:00<?, ?it/s]"
     ]
    },
    {
     "name": "stdout",
     "output_type": "stream",
     "text": [
      "Working on task: Efforts to identify how the burden of responding to the outbreak and implementing public health measures affects the physical and psychological health of those providing care for Covid-19 patients and identify the immediate needs that must be addressed.\n"
     ]
    },
    {
     "name": "stderr",
     "output_type": "stream",
     "text": [
      "Batches: 100%|██████████| 1/1 [00:00<00:00,  1.39it/s]\n",
      "Batches:   0%|          | 0/1 [00:00<?, ?it/s]"
     ]
    },
    {
     "name": "stdout",
     "output_type": "stream",
     "text": [
      "Working on task: Efforts to identify the underlying drivers of fear, anxiety and stigma that fuel misinformation and rumor, particularly through social media.\n"
     ]
    },
    {
     "name": "stderr",
     "output_type": "stream",
     "text": [
      "Batches: 100%|██████████| 1/1 [00:00<00:00,  2.73it/s]\n",
      "Batches:   0%|          | 0/1 [00:00<?, ?it/s]"
     ]
    },
    {
     "name": "stdout",
     "output_type": "stream",
     "text": [
      "What has been published about information sharing and inter-sectoral collaboration?\n",
      "Working on task: Methods for coordinating data-gathering with standardized nomenclature.\n"
     ]
    },
    {
     "name": "stderr",
     "output_type": "stream",
     "text": [
      "Batches: 100%|██████████| 1/1 [00:00<00:00,  3.00it/s]\n",
      "Batches:   0%|          | 0/1 [00:00<?, ?it/s]"
     ]
    },
    {
     "name": "stdout",
     "output_type": "stream",
     "text": [
      "Working on task: Sharing response information among planners, providers, and others.\n"
     ]
    },
    {
     "name": "stderr",
     "output_type": "stream",
     "text": [
      "Batches: 100%|██████████| 1/1 [00:00<00:00,  3.67it/s]\n",
      "Batches:   0%|          | 0/1 [00:00<?, ?it/s]"
     ]
    },
    {
     "name": "stdout",
     "output_type": "stream",
     "text": [
      "Working on task: Understanding and mitigating barriers to information-sharing.\n"
     ]
    },
    {
     "name": "stderr",
     "output_type": "stream",
     "text": [
      "Batches: 100%|██████████| 1/1 [00:00<00:00,  3.45it/s]\n",
      "Batches: 100%|██████████| 1/1 [00:00<00:00,  5.54it/s]\n",
      "Batches:   0%|          | 0/1 [00:00<?, ?it/s]"
     ]
    },
    {
     "name": "stdout",
     "output_type": "stream",
     "text": [
      "Working on task: How to recruit, support, and coordinate local (non-Federal) expertise and capacity relevant to public health emergency response (public, private, commercial and non-profit, including academic).\n",
      "Working on task: Integration of federal/state/local public health surveillance systems.\n"
     ]
    },
    {
     "name": "stderr",
     "output_type": "stream",
     "text": [
      "Batches: 100%|██████████| 1/1 [00:00<00:00,  1.68it/s]\n",
      "Batches:   0%|          | 0/1 [00:00<?, ?it/s]"
     ]
    },
    {
     "name": "stdout",
     "output_type": "stream",
     "text": [
      "Working on task: Value of investments in baseline public health response infrastructure preparedness\n"
     ]
    },
    {
     "name": "stderr",
     "output_type": "stream",
     "text": [
      "Batches: 100%|██████████| 1/1 [00:00<00:00,  3.32it/s]\n",
      "Batches: 100%|██████████| 1/1 [00:00<00:00,  6.80it/s]\n",
      "Batches:   0%|          | 0/1 [00:00<?, ?it/s]"
     ]
    },
    {
     "name": "stdout",
     "output_type": "stream",
     "text": [
      "Working on task: Modes of communicating with target high-risk populations (elderly, health care workers).\n",
      "Working on task: Risk communication and guidelines that are easy to understand and follow (include targeting at risk populations’ families too).\n"
     ]
    },
    {
     "name": "stderr",
     "output_type": "stream",
     "text": [
      "Batches: 100%|██████████| 1/1 [00:00<00:00,  3.90it/s]\n",
      "Batches:   0%|          | 0/1 [00:00<?, ?it/s]"
     ]
    },
    {
     "name": "stdout",
     "output_type": "stream",
     "text": [
      "Working on task: Communication that indicates potential risk of disease to all population groups.\n"
     ]
    },
    {
     "name": "stderr",
     "output_type": "stream",
     "text": [
      "Batches: 100%|██████████| 1/1 [00:00<00:00,  4.36it/s]\n",
      "Batches:   0%|          | 0/1 [00:00<?, ?it/s]"
     ]
    },
    {
     "name": "stdout",
     "output_type": "stream",
     "text": [
      "Working on task: Misunderstanding around containment and mitigation.\n"
     ]
    },
    {
     "name": "stderr",
     "output_type": "stream",
     "text": [
      "Batches: 100%|██████████| 1/1 [00:00<00:00,  1.10it/s]\n",
      "Batches:   0%|          | 0/1 [00:00<?, ?it/s]"
     ]
    },
    {
     "name": "stdout",
     "output_type": "stream",
     "text": [
      "Working on task: Action plan to mitigate gaps and problems of inequity in the Nation’s public health capability, capacity, and funding to ensure all citizens in need are supported and can access information, surveillance, and treatment.\n"
     ]
    },
    {
     "name": "stderr",
     "output_type": "stream",
     "text": [
      "Batches: 100%|██████████| 1/1 [00:00<00:00,  3.69it/s]\n",
      "Batches:   0%|          | 0/1 [00:00<?, ?it/s]"
     ]
    },
    {
     "name": "stdout",
     "output_type": "stream",
     "text": [
      "Working on task: Measures to reach marginalized and disadvantaged populations: Data systems and research priorities and agendas incorporate attention to the needs and circumstances of disadvantaged populations and underrepresented minorities.\n"
     ]
    },
    {
     "name": "stderr",
     "output_type": "stream",
     "text": [
      "Batches: 100%|██████████| 1/1 [00:00<00:00,  1.94it/s]\n",
      "Batches: 100%|██████████| 1/1 [00:00<00:00,  8.52it/s]\n",
      "Batches:   0%|          | 0/1 [00:00<?, ?it/s]"
     ]
    },
    {
     "name": "stdout",
     "output_type": "stream",
     "text": [
      "Working on task: Mitigating threats to incarcerated people from COVID-19, assuring access to information, prevention, diagnosis, and treatment.\n",
      "Working on task: Understanding coverage policies (barriers and opportunities) related to testing, treatment, and care\n"
     ]
    },
    {
     "name": "stderr",
     "output_type": "stream",
     "text": [
      "Batches: 100%|██████████| 1/1 [00:00<00:00,  2.94it/s]\n"
     ]
    }
   ],
   "source": [
    "for task_id in [1, 2, 3, 4, 5, 6, 8, 9, 10]:\n",
    "    with open(f'../answers/{task_id}.json', 'r') as in_fp:\n",
    "        seed_sentences_json = json.load(in_fp)\n",
    "\n",
    "    print(seed_sentences_json[\"taskName\"])\n",
    "\n",
    "    answers_results = []\n",
    "    for sub_task_json in seed_sentences_json[\"subTasks\"]:\n",
    "        sub_task_description = sub_task_json[\"description\"]\n",
    "        print(f\"Working on task: {sub_task_description}\")\n",
    "        best_sentences = sub_task_json[\"bestSentences\"]\n",
    "        relevant_sentences = covid_similarity.similar_k(best_sentences, limit=5 * len(best_sentences), method=\"union\", clean_sentences=False, threshold=0.7)\n",
    "\n",
    "        results = []\n",
    "        for relevant_sentence in relevant_sentences[\"results\"]:\n",
    "            metadata_json = relevant_sentence[\"metadata\"]\n",
    "            if \"authors\" in metadata_json:\n",
    "                del metadata_json[\"authors\"]\n",
    "            results.append(metadata_json)\n",
    "        answers_results.append(dict(sub_task_description=sub_task_description,\n",
    "                                    seed_sentences=best_sentences,\n",
    "                                    relevant_sentences=results))\n",
    "\n",
    "    with open(f'../answers/{task_id}_relevant_sentences.json', 'w+') as out_fp:\n",
    "        result = dict(taskName=seed_sentences_json[\"taskName\"], subTasks=answers_results)\n",
    "        json.dump(result, out_fp)"
   ]
  },
  {
   "cell_type": "code",
   "execution_count": 39,
   "metadata": {},
   "outputs": [],
   "source": []
  },
  {
   "cell_type": "code",
   "execution_count": null,
   "metadata": {},
   "outputs": [],
   "source": []
  }
 ],
 "metadata": {
  "kernelspec": {
   "display_name": "covid19",
   "language": "python",
   "name": "covid19"
  },
  "language_info": {
   "codemirror_mode": {
    "name": "ipython",
    "version": 3
   },
   "file_extension": ".py",
   "mimetype": "text/x-python",
   "name": "python",
   "nbconvert_exporter": "python",
   "pygments_lexer": "ipython3",
   "version": "3.6.8"
  }
 },
 "nbformat": 4,
 "nbformat_minor": 2
}
