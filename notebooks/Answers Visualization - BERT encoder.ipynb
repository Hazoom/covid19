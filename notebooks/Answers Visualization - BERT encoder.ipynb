{
 "cells": [
  {
   "cell_type": "code",
   "execution_count": 12,
   "metadata": {},
   "outputs": [],
   "source": [
    "import json\n",
    "import os\n",
    "from pprint import pprint\n",
    "\n",
    "from resources.similarity import CovidSimilarityResource\n",
    "from corpus_index import load_corpus_index\n",
    "from encoders.bert_encoder import BertEncoder\n",
    "from encoders.simple_encoder import SimpleEncoder\n",
    "import pandas as pd"
   ]
  },
  {
   "cell_type": "code",
   "execution_count": 2,
   "metadata": {},
   "outputs": [],
   "source": [
    "corpus_index_folder = '../../../workspace/kaggle/covid19/data/corpus_index_bert'"
   ]
  },
  {
   "cell_type": "code",
   "execution_count": 3,
   "metadata": {},
   "outputs": [],
   "source": [
    "with open('../answers/1.json', 'r') as in_fp:\n",
    "    seed_sentences_json = json.load(in_fp)"
   ]
  },
  {
   "cell_type": "code",
   "execution_count": 4,
   "metadata": {},
   "outputs": [
    {
     "name": "stdout",
     "output_type": "stream",
     "text": [
      "What is known about transmission, incubation, and environmental stability?\n"
     ]
    }
   ],
   "source": [
    "print(seed_sentences_json['taskName'])"
   ]
  },
  {
   "cell_type": "code",
   "execution_count": 5,
   "metadata": {},
   "outputs": [],
   "source": [
    "corpus_index_fname = os.path.join(corpus_index_folder, 'bert-encoder-nmslib-768d.bin')\n",
    "corpus_index = load_corpus_index(corpus_index_fname)"
   ]
  },
  {
   "cell_type": "code",
   "execution_count": 6,
   "metadata": {},
   "outputs": [],
   "source": [
    "data_dir = \"../../../workspace/kaggle/covid19/data\""
   ]
  },
  {
   "cell_type": "code",
   "execution_count": 7,
   "metadata": {},
   "outputs": [],
   "source": [
    "sentences_df = pd.read_csv(os.path.join(data_dir, \"sentences_with_metadata_no_phrases_blingfire.csv\"))"
   ]
  },
  {
   "cell_type": "code",
   "execution_count": 8,
   "metadata": {},
   "outputs": [],
   "source": [
    "def create_articles_metadata_mapping(sentences_df: pd.DataFrame) -> dict:\n",
    "    sentence_id_to_metadata = {}\n",
    "    for row_count, row in sentences_df.iterrows():\n",
    "        sentence_id_to_metadata[row_count] = dict(\n",
    "            paper_id=row['paper_id'],\n",
    "            cord_uid=row['cord_uid'],\n",
    "            source=row['source'],\n",
    "            url=row['url'],\n",
    "            publish_time=row['publish_time'],\n",
    "            authors=row['authors'],\n",
    "            section=row['section'],\n",
    "            sentence=row['sentence'],\n",
    "        )\n",
    "    return sentence_id_to_metadata"
   ]
  },
  {
   "cell_type": "code",
   "execution_count": 9,
   "metadata": {},
   "outputs": [],
   "source": [
    "sentence_id_to_metadata = create_articles_metadata_mapping(sentences_df)"
   ]
  },
  {
   "cell_type": "code",
   "execution_count": 13,
   "metadata": {},
   "outputs": [],
   "source": [
    "sentence_encoder = BertEncoder()"
   ]
  },
  {
   "cell_type": "code",
   "execution_count": 14,
   "metadata": {},
   "outputs": [],
   "source": [
    "from nlp import text_tokenizer\n",
    "from nlp.cleaning import clean_tokenized_sentence\n",
    "\n",
    "def clean_sentence(sentence) -> str:\n",
    "    doc = text_tokenizer.tokenize_text(sentence)\n",
    "    tokens = [str(token) for token in doc]\n",
    "    return clean_tokenized_sentence(tokens)"
   ]
  },
  {
   "cell_type": "code",
   "execution_count": 19,
   "metadata": {},
   "outputs": [],
   "source": [
    "import murmurhash\n",
    "import numpy as np\n",
    "import scipy.spatial\n",
    "\n",
    "from corpus_index.base_index import Aggregation\n",
    "from nlp.textrank import calc_textrank\n",
    "\n",
    "class CovidSimilarity:\n",
    "    def __init__(self, corpus_index, sentence_encoder, sentence_id_to_metadata, bigram_model=None, trigram_model=None):\n",
    "        self.corpus_index = corpus_index\n",
    "        self.sentence_encoder = sentence_encoder\n",
    "        self.sentence_id_to_metadata = sentence_id_to_metadata\n",
    "        self.bigram_model = bigram_model\n",
    "        self.trigram_model = trigram_model\n",
    "\n",
    "    def similar_k(self, input_sentences, limit=10, method='union', group_by='cosine'):\n",
    "        \"\"\"Find similar sentences.\n",
    "\n",
    "        Args:\n",
    "            input_sentences (str/list[str]): one or more input sentences.\n",
    "            sentence_encoder  : encoder\n",
    "            limit (int): limit result set size to ``limit``.\n",
    "            corpus_index : type of corpus where to fetch the suggestions from\n",
    "            db_session  : Database to get neighbors from\n",
    "            method (str): aggregation method ('union', 'mean', 'pc1', 'pc2').\n",
    "            group_by (str): distance metric to use to group the result set. Default is 'cosine'.\n",
    "\n",
    "        Returns:\n",
    "            list<dict>\n",
    "        \"\"\"\n",
    "        res = []\n",
    "        nearest = dict()\n",
    "\n",
    "        if isinstance(sentence_encoder, SimpleEncoder):\n",
    "            if method == 'textrank':\n",
    "                _, _, _, phrase_list = calc_textrank(input_sentences, num_phrases=5)\n",
    "                input_sentences = [' '.join(phrase[0] for phrase in phrase_list)]\n",
    "                method = Aggregation.UNION\n",
    "\n",
    "            cleaned_sentences = [clean_sentence(sentence) for sentence in input_sentences]\n",
    "\n",
    "            if self.bigram_model and self.trigram_model:\n",
    "                tokenzied_sentences = [sentence.split(' ') for sentence in cleaned_sentences]\n",
    "                sentences_with_bigrams = self.bigram_model[tokenzied_sentences]\n",
    "                sentences_with_trigrams = self.trigram_model[sentences_with_bigrams]\n",
    "                cleaned_sentences = [' '.join(sentence) for sentence in sentences_with_trigrams]\n",
    "        else:\n",
    "            cleaned_sentences = input_sentences\n",
    "\n",
    "        embeddings = self.sentence_encoder.encode(cleaned_sentences)\n",
    "\n",
    "        for idx, dist in self.corpus_index.knn_query_batch(embeddings, limit=limit, method=method):\n",
    "            similarity = 1.0 - dist\n",
    "            if idx not in nearest:\n",
    "                nearest[idx] = similarity\n",
    "            else:\n",
    "                nearest[idx] = max(nearest[idx], similarity)\n",
    "\n",
    "        print(nearest)\n",
    "        \n",
    "        results = []\n",
    "        for idx, sim in nearest.items():\n",
    "            if sim >= 0.7:\n",
    "                results.append(dict(similarity=sim, metadata=self.sentence_id_to_metadata[idx]))\n",
    "\n",
    "        return {\n",
    "            \"results\": results,\n",
    "            \"sentencs\": cleaned_sentences\n",
    "        }\n",
    "\n",
    "        return {\n",
    "            'results': sorted(res, key=lambda x: x['dist']),\n",
    "            'sentences': [\n",
    "                {\n",
    "                    'id': sent_id,\n",
    "                    'text': sent\n",
    "                } for sent_id, sent in zip(indices, cleaned_sentences)\n",
    "            ]\n",
    "        }"
   ]
  },
  {
   "cell_type": "code",
   "execution_count": 20,
   "metadata": {},
   "outputs": [],
   "source": [
    "covid_similarity = CovidSimilarity(corpus_index, sentence_encoder, sentence_id_to_metadata)"
   ]
  },
  {
   "cell_type": "code",
   "execution_count": 21,
   "metadata": {},
   "outputs": [],
   "source": [
    "def find_similar_sentences(sentences, method=\"union\", limit=10):\n",
    "    return covid_similarity.similar_k( sentences, method=method, limit=limit)"
   ]
  },
  {
   "cell_type": "code",
   "execution_count": 22,
   "metadata": {},
   "outputs": [
    {
     "name": "stderr",
     "output_type": "stream",
     "text": [
      "Batches: 100%|██████████| 1/1 [00:00<00:00,  8.68it/s]"
     ]
    },
    {
     "name": "stdout",
     "output_type": "stream",
     "text": [
      "{145948: 0.8387337923049927, 110676: 0.8026413321495056, 153567: 0.799142599105835, 67908: 0.7951556444168091, 64417: 0.7951555252075195, 99679: 0.7919644713401794, 47751: 0.7906805872917175, 49075: 0.7756433486938477, 129499: 0.7725346088409424}\n"
     ]
    },
    {
     "name": "stderr",
     "output_type": "stream",
     "text": [
      "\n"
     ]
    },
    {
     "data": {
      "text/plain": [
       "{'results': [{'similarity': 0.8387337923049927,\n",
       "   'metadata': {'paper_id': '8699664d8100af1e701e25daeb8a4fced18a3daf',\n",
       "    'cord_uid': 'epcel2ez',\n",
       "    'source': 'Elsevier',\n",
       "    'url': 'https://doi.org/10.1016/j.micinf.2020.02.002',\n",
       "    'publish_time': '2020-03-31',\n",
       "    'authors': 'Jin-Yan Li, Zhi You, Qiong Wang, Zhi-Jian Zhou, Ye Qiu, Rui Luo, Xing-Yi Ge',\n",
       "    'section': 'body',\n",
       "    'sentence': 'Indeed, SARS-CoV and MERS-CoV originated from bats, the natural reservoir, but transmitted to humans via intermediate host civets and camels, respectively.'}},\n",
       "  {'similarity': 0.8026413321495056,\n",
       "   'metadata': {'paper_id': '45a5c4910f9537156f3b729c8e938c82bd57d358',\n",
       "    'cord_uid': 'cigv3t0h',\n",
       "    'source': 'Elsevier',\n",
       "    'url': 'https://doi.org/10.1016/j.jinf.2020.03.010',\n",
       "    'publish_time': '2020-03-13',\n",
       "    'authors': nan,\n",
       "    'section': 'body',\n",
       "    'sentence': 'Both SARS-CoV and MERS-CoV are believed to originate in bats, and these infections have been transmitted directly to humans from market civets and dromedary camels, respectively [8] .'}},\n",
       "  {'similarity': 0.799142599105835,\n",
       "   'metadata': {'paper_id': '92675850320915d5158aa841ba5549fe194cb288',\n",
       "    'cord_uid': 'p91hfogv',\n",
       "    'source': 'Elsevier',\n",
       "    'url': 'https://doi.org/10.1016/j.oraloncology.2020.104659',\n",
       "    'publish_time': '2020-03-21',\n",
       "    'authors': nan,\n",
       "    'section': 'body',\n",
       "    'sentence': 'Similarly to the \"SARS-CoV\" (emerged in 2003) and \"MERS-CoV\" (emerged in 2012), SARS-CoV-2 was probably hosted by bat and transmitted from other animals to humans [2] .'}},\n",
       "  {'similarity': 0.7951556444168091,\n",
       "   'metadata': {'paper_id': 'df353c05aae43b69987088703edbdefa1382ef4d',\n",
       "    'cord_uid': 'v38tjof3',\n",
       "    'source': 'CZI',\n",
       "    'url': 'https://doi.org/10.1016/j.meegid.2020.104272',\n",
       "    'publish_time': '2020',\n",
       "    'authors': 'Muhamad Fahmi, Yukihiko Kubota, Masahiro Ito',\n",
       "    'section': 'body',\n",
       "    'sentence': 'Instead, it has been suggested that there is an animal mediator for virus transmission from bats to humans, similar to the previous cases of SARS-CoV and MERS-CoV, wherein the masked palm civet (Paguma larvata) and dromedary camel (Camelus dromedarius) act as intermediate hosts, respectively (Lu et al., 2020) .'}},\n",
       "  {'similarity': 0.7951555252075195,\n",
       "   'metadata': {'paper_id': '601d3c7ae4ebcd2d835e9cf8d7427ebd0b5db83f',\n",
       "    'cord_uid': 'v38tjof3',\n",
       "    'source': 'CZI',\n",
       "    'url': 'https://doi.org/10.1016/j.meegid.2020.104272',\n",
       "    'publish_time': '2020',\n",
       "    'authors': 'Muhamad Fahmi, Yukihiko Kubota, Masahiro Ito',\n",
       "    'section': 'body',\n",
       "    'sentence': 'Instead, it has been suggested that there is an animal mediator for virus transmission from bats to humans, similar to the previous cases of SARS-CoV and MERS-CoV, wherein the masked palm civet (Paguma larvata) and dromedary camel (Camelus dromedarius) act as intermediate hosts, respectively (Lu et al., 2020) .'}},\n",
       "  {'similarity': 0.7919644713401794,\n",
       "   'metadata': {'paper_id': '23d9ab8478954d685ad2320ab407a5b451877139',\n",
       "    'cord_uid': 't7gpi2vo',\n",
       "    'source': 'Elsevier',\n",
       "    'url': 'https://doi.org/10.1016/j.tim.2020.02.001',\n",
       "    'publish_time': '2020-04-30',\n",
       "    'authors': nan,\n",
       "    'section': 'body',\n",
       "    'sentence': 'SARS-CoV and MERS-CoV originated from bats, both jumping species to infect humans through different intermediate hosts [7] ( Figure 1B) .'}},\n",
       "  {'similarity': 0.7906805872917175,\n",
       "   'metadata': {'paper_id': 'c7f56ac99072a397fddf17d3f1d2e34d4146edbe',\n",
       "    'cord_uid': 'fw4pmaoc',\n",
       "    'source': 'biorxiv',\n",
       "    'url': 'https://doi.org/10.1101/2020.03.16.993816',\n",
       "    'publish_time': '2020-03-17',\n",
       "    'authors': 'Jiao-Mei Huang, Syed Sajid Jan, Xiaobin Wei, Yi Wan 1#, Songying Ouyang',\n",
       "    'section': 'body',\n",
       "    'sentence': 'This indicates that bats CoVs particularly Bat/Yunnan/RaTG13 are the source of SARS-CoV-2, and they are emerged and transmitted from bats to humans through some recombination and transformation events in intermediate host.'}},\n",
       "  {'similarity': 0.7756433486938477,\n",
       "   'metadata': {'paper_id': 'cb3974f33a1d54369d630e62052d603148bb12e7',\n",
       "    'cord_uid': '2inlyd0t',\n",
       "    'source': 'biorxiv',\n",
       "    'url': 'https://doi.org/10.1101/2020.02.18.954628',\n",
       "    'publish_time': '2020-02-20',\n",
       "    'authors': 'Ping Liu, Jing-Zhe Jiang, Xiu-Feng Wan, Yan Hua, Xiaohu Wang, Fanghui Hou, Jing Chen, Jiejian Zou, Jinping Chen',\n",
       "    'section': 'body',\n",
       "    'sentence': 'Both SARS-CoV and MERS-CoV are of bat origin, but palm civets were shown to be an intermediate host for SARS-CoV [5] and dromedary camels for MERS-CoV [6] .'}},\n",
       "  {'similarity': 0.7725346088409424,\n",
       "   'metadata': {'paper_id': '6a10b8685933b9ac1002b9a7de81d2f74f5ff0af',\n",
       "    'cord_uid': 'mk62bybt',\n",
       "    'source': 'Elsevier',\n",
       "    'url': 'https://doi.org/10.1016/j.phrs.2020.104761',\n",
       "    'publish_time': '2020-03-20',\n",
       "    'authors': 'Li Runfeng, Hou Yunlong, Huang Jicheng, Pan Weiqi, Ma Qinhai, Shi Yongxia, Li Chufang, Zhao Jin, Jia Zhenhua, Jiang Haiming, Zheng Kui, Huang Shuxiang, Dai Jun, Li Xiaobo, Hou Xiaotao, Wang Lin, Zhong Nanshan, Yang Zifeng, Runfeng L , Yongxia S , Chufang L , Jin Z , Zhenhua J , Haiming J , Kui Z , Shuxiang H , Jun D , Xiaobo L , Xiaotao H , Lin W , Nanshan Z Zifeng, Y Lianhuaqingwen, Huang Shuxiang D ，dai Jun',\n",
       "    'section': 'body',\n",
       "    'sentence': 'Similar to SARS-CoV and MERS-CoV, SARS-CoV-2 is initiated by zoonotic transmission likely from bats and spreads rapidly among humans [6] .'}}],\n",
       " 'sentencs': ['Both SARS-CoV and MERS-CoV are thought to have originated in colonies of bats, eventually transmitted to humans, putatively facilitated by intermediate hosts such as palm civets and dromedary camels, respectively (Cui et al., 2019) .']}"
      ]
     },
     "execution_count": 22,
     "metadata": {},
     "output_type": "execute_result"
    }
   ],
   "source": [
    "find_similar_sentences([\"Both SARS-CoV and MERS-CoV are thought to have originated in colonies of bats, eventually transmitted to humans, putatively facilitated by intermediate hosts such as palm civets and dromedary camels, respectively (Cui et al., 2019) .\"])"
   ]
  },
  {
   "cell_type": "code",
   "execution_count": null,
   "metadata": {},
   "outputs": [],
   "source": []
  }
 ],
 "metadata": {
  "kernelspec": {
   "display_name": "covid19",
   "language": "python",
   "name": "covid19"
  },
  "language_info": {
   "codemirror_mode": {
    "name": "ipython",
    "version": 3
   },
   "file_extension": ".py",
   "mimetype": "text/x-python",
   "name": "python",
   "nbconvert_exporter": "python",
   "pygments_lexer": "ipython3",
   "version": "3.6.8"
  }
 },
 "nbformat": 4,
 "nbformat_minor": 2
}
