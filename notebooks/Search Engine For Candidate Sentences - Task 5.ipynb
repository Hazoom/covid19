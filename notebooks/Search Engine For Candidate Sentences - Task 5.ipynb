{
 "cells": [
  {
   "cell_type": "markdown",
   "metadata": {},
   "source": [
    "# Search Engine For Candidate Sentences"
   ]
  },
  {
   "cell_type": "markdown",
   "metadata": {},
   "source": [
    "## Demonstration of how to use the simple search engine for fetching relevant sentences"
   ]
  },
  {
   "cell_type": "markdown",
   "metadata": {},
   "source": [
    "Let's import our search engine for `src` directory.\n",
    "\n",
    "First, one needs to set the Python source files environment variables for Juptyer Notebook. If you haven't done this, please run those two command BEFORE running Juptyer Notebook:\n",
    "1. `export PYTHONPATH=/path/to/covid19/src`\n",
    "2. `export JUPYTER_PATH=/path/to/covid19/src`"
   ]
  },
  {
   "cell_type": "code",
   "execution_count": 1,
   "metadata": {},
   "outputs": [
    {
     "name": "stderr",
     "output_type": "stream",
     "text": [
      "unable to import 'smart_open.gcs', disabling that module\n"
     ]
    }
   ],
   "source": [
    "from search.searchengine import SearchEngine\n",
    "from pprint import pprint\n",
    "import os"
   ]
  },
  {
   "cell_type": "code",
   "execution_count": 2,
   "metadata": {},
   "outputs": [],
   "source": [
    "data_dir = \"../../../workspace/kaggle/covid19/data\""
   ]
  },
  {
   "cell_type": "markdown",
   "metadata": {},
   "source": [
    "Initialize out SearchEngine object with:\n",
    "1. Sentences metadata\n",
    "2. bi-gram model\n",
    "3. tri-gram model\n",
    "4. Trained FastText vectors"
   ]
  },
  {
   "cell_type": "code",
   "execution_count": null,
   "metadata": {},
   "outputs": [
    {
     "name": "stdout",
     "output_type": "stream",
     "text": [
      "Loading CSV: ../../../workspace/kaggle/covid19/data/sentences_with_metadata.csv and building mapping dictionary...\n",
      "Finished loading CSV: ../../../workspace/kaggle/covid19/data/sentences_with_metadata.csv and building mapping dictionary\n",
      "Loaded 249343 sentences\n",
      "Loading bi-gram model: ../../../workspace/kaggle/covid19/data/covid_bigram_model_v0.pkl\n",
      "Finished loading bi-gram model: ../../../workspace/kaggle/covid19/data/covid_bigram_model_v0.pkl\n",
      "Loading tri-gram model: ../../../workspace/kaggle/covid19/data/covid_trigram_model_v0.pkl\n",
      "Finished loading tri-gram model: ../../../workspace/kaggle/covid19/data/covid_trigram_model_v0.pkl\n",
      "Loading fasttext model: ../../../workspace/kaggle/covid19/data/fasttext_no_subwords_trigrams/word-vectors-100d.txt\n"
     ]
    }
   ],
   "source": [
    "search_engine = SearchEngine(\n",
    "    os.path.join(data_dir, \"sentences_with_metadata.csv\"),\n",
    "    os.path.join(data_dir, \"covid_bigram_model_v0.pkl\"),\n",
    "    os.path.join(data_dir, \"covid_trigram_model_v0.pkl\"),\n",
    "    os.path.join(data_dir, \"fasttext_no_subwords_trigrams/word-vectors-100d.txt\"),\n",
    ")"
   ]
  },
  {
   "cell_type": "markdown",
   "metadata": {},
   "source": [
    "Simple search function that gets a list of keywords to search:"
   ]
  },
  {
   "cell_type": "code",
   "execution_count": null,
   "metadata": {},
   "outputs": [],
   "source": [
    "def search(keywords, optional_keywords=None, top_n=10, synonyms_threshold=0.8, only_sentences=False):\n",
    "    print(f\"\\nSearch for terms {keywords}\\n\\n\")\n",
    "    results = search_engine.search(\n",
    "        keywords, optional_keywords=optional_keywords, top_n=top_n, synonyms_threshold=synonyms_threshold\n",
    "    )\n",
    "    print(\"\\nResults:\\n\")\n",
    "    \n",
    "    if only_sentences:\n",
    "        for result in results:\n",
    "            print(result['sentence'] + \"\\n\")\n",
    "    else:\n",
    "        pprint(results)"
   ]
  },
  {
   "cell_type": "markdown",
   "metadata": {},
   "source": [
    "Guidance on ways to scale up NPIs in a more coordinated way (e.g., establish funding, infrastructure and authorities to support real time, authoritative (qualified participants) collaboration with all states to gain consensus on consistent guidance and to mobilize resources to geographic areas where critical shortfalls are identified) to give us time to enhance our health care delivery system capacity to respond to an increase in cases."
   ]
  },
  {
   "cell_type": "markdown",
   "metadata": {},
   "source": [
    "### Outcomes data for COVID-19 after mechanical ventilation adjusted for age."
   ]
  },
  {
   "cell_type": "code",
   "execution_count": 6,
   "metadata": {},
   "outputs": [
    {
     "name": "stdout",
     "output_type": "stream",
     "text": [
      "\n",
      "Search for terms ['non-pharmaceutical', 'equity', 'equal', 'compliance', 'balance']\n",
      "\n",
      "\n"
     ]
    },
    {
     "name": "stderr",
     "output_type": "stream",
     "text": [
      "C:\\ProgramData\\Anaconda3\\lib\\site-packages\\gensim\\models\\keyedvectors.py:2373: RuntimeWarning: invalid value encountered in true_divide\n",
      "  return (m / dist).astype(REAL)\n"
     ]
    },
    {
     "name": "stdout",
     "output_type": "stream",
     "text": [
      "Search terms after cleaning, bigrams, trigrams and synonym expansion: ['nonpharmaceutical', 'equity', 'equal', 'compliance', 'balance', 'school_closures_social_distancing', 'pharmaceutical_measures', 'nonpharmaceutical_measures', 'community_mitigation', 'nonpharmaceutical_public_health_interventions', 'nonpharmaceutical_intervention', 'nonpharmaceutical_interventions_eg', 'nonpharmaceutical_interventions_npi', 'nonpharmacological_interventions', 'use_nonpharmaceutical_interventions', 'health_equity', 'social_equity', 'demandside', 'public_goods', 'financing', 'financial_risk', 'access_essential_medicines', 'sustainability']\n",
      "Optional search terms after cleaning, bigrams, trigrams and synonym expansion: ['newcoronavirus', 'coronavirus_covid19', '2019ncov_covid19', 'outbreak_2019_novel', 'sarscov2_2019ncov', 'coronavirus_2019ncov', 'ongoing_outbreak_novel_coronavirus', 'since_late_december', 'ongoing_outbreak_covid19', 'originating_wuhan_china', 'novel_coronavirus_outbreak', 'wuhan_coronavirus']\n",
      "\n",
      "Results:\n",
      "\n",
      "[{'authors': 'Jagannath M Muzumdar, Richard R Cline',\n",
      "  'cord_uid': 'zkk5d6gd',\n",
      "  'paper_id': 'b90d85915f51ab637584d162d5bd78a7e02cdae3',\n",
      "  'publish_time': '2009-08-31',\n",
      "  'section': 'body',\n",
      "  'sentence': 'This problem, together with other supply-side (e.g., barriers '\n",
      "              'to entry) and demand-side (e.g., vaccine financing) issues have '\n",
      "              'resulted in market failure (i.e., a quantity and variety of '\n",
      "              'vaccine products supplied that is below the social optimum) in '\n",
      "              'the vaccine market.',\n",
      "  'source': 'Elsevier'},\n",
      " {'authors': 'Hanchu Zhou, Jiannan Yang, Kaicheng Tang, † , Qingpeng Zhang, '\n",
      "             'Zhidong Cao, Dirk Pfeiffer, Daniel Dajun Zeng',\n",
      "  'cord_uid': 'qbemfymp',\n",
      "  'paper_id': '004f0f8bb66cf446678dc13cf2701feec4f36d76',\n",
      "  'publish_time': '2020-02-12',\n",
      "  'section': 'body',\n",
      "  'sentence': 'Two critical questions of operational nature remain, which '\n",
      "              'cities, both in Hubei and other provinces, are most vulnerable '\n",
      "              'to localized outbreaks, and how the public health authorities '\n",
      "              'should balance the healthcare resources under stress to best '\n",
      "              'fight the epidemic and minimize the risks?',\n",
      "  'source': 'medrxiv'},\n",
      " {'authors': 'Xiaoyang Ji, Chunming Zhang, Yubo Zhai, Zhonghai Zhang, Chunli '\n",
      "             'Zhang, Yiqing Xue, Guangming Tan, Gang Niu',\n",
      "  'cord_uid': 'f21dknmb',\n",
      "  'paper_id': '01d162d7fae6aaba8e6e60e563ef4c2fca7b0e18',\n",
      "  'publish_time': '2020-02-26',\n",
      "  'section': 'body',\n",
      "  'sentence': 'By combining this system with generalized interaction '\n",
      "              'databases, we can reveal further associations that can provide '\n",
      "              'a deeper understanding of the biological mechanisms of the '\n",
      "              'disease phenotype caused by virus-host interactions. virus to '\n",
      "              'ACE2 may disrupt this balance, which causes a steady-state '\n",
      "              'imbalance of RAS, leading to subsequent pathological changes.',\n",
      "  'source': 'medrxiv'},\n",
      " {'authors': 'Milan Batista',\n",
      "  'cord_uid': 'h5zfmhqj',\n",
      "  'paper_id': '041bae0a6de2b69979d39460b3f2ee8946534ec2',\n",
      "  'publish_time': '2020-03-16',\n",
      "  'section': 'body',\n",
      "  'sentence': 'Before we proceed, we for convenience, introduce the following '\n",
      "              'epidemy phases (see Fig   2) :  The duration of the '\n",
      "              'fast-growing period is thus equal to 4 r \\uf074 \\uf03d .',\n",
      "  'source': 'medrxiv'},\n",
      " {'authors': 'Laurent Hébert-Dufresne, Benjamin M Althouse, Samuel V Scarpino, '\n",
      "             'Antoine Allard',\n",
      "  'cord_uid': 'zbqbogwu',\n",
      "  'paper_id': '06c1b3535b83251cf92c01258b5048beeab7a460',\n",
      "  'publish_time': '2020-02-12',\n",
      "  'section': 'body',\n",
      "  'sentence': 'Under these assumptions, Kermack and McKendrick show that an '\n",
      "              'epidemic with a given R 0 will infect a fixed fraction R(∞) of '\n",
      "              'the susceptible population by solving This solution describes a '\n",
      "              'final outbreak size equal to 0 when R 0 ≤ 1 and increasing as 1 '\n",
      "              '− exp(−R 0 ) when R 0 > 1.',\n",
      "  'source': 'medrxiv'},\n",
      " {'authors': 'Laurent Hébert-Dufresne, Benjamin M Althouse, Samuel V Scarpino, '\n",
      "             'Antoine Allard',\n",
      "  'cord_uid': 'zbqbogwu',\n",
      "  'paper_id': '06c1b3535b83251cf92c01258b5048beeab7a460',\n",
      "  'publish_time': '2020-02-12',\n",
      "  'section': 'body',\n",
      "  'sentence': 'The raw moments of a normal distribution are quite complicated, '\n",
      "              'but the cumulants are simple: κ 1 is equal to the mean R 0 , κ '\n",
      "              '2 is equal to the variance σ 2 , and all other cumulants are 0.',\n",
      "  'source': 'medrxiv'},\n",
      " {'authors': 'Shuai Wang, Bo Kang, Jinlu Ma, Xianjun Zeng, Mingming Xiao, Jia '\n",
      "             'Guo, Mengjiao Cai, Jingyi Yang, Yaodong Li, Xiangfei Meng, Bo Xu',\n",
      "  'cord_uid': 'u2uswgy3',\n",
      "  'paper_id': '080660f20f078c10524f6186bca263327094acbb',\n",
      "  'publish_time': '2020-02-17',\n",
      "  'section': 'body',\n",
      "  'sentence': 'This study is in compliance with the Institutional Review Board '\n",
      "              'of each participating institutes.',\n",
      "  'source': 'medrxiv'},\n",
      " {'authors': 'Shuai Wang, Bo Kang, Jinlu Ma, Xianjun Zeng, Mingming Xiao, Jia '\n",
      "             'Guo, Mengjiao Cai, Jingyi Yang, Yaodong Li, Xiangfei Meng, Bo Xu',\n",
      "  'cord_uid': 'u2uswgy3',\n",
      "  'paper_id': '080660f20f078c10524f6186bca263327094acbb',\n",
      "  'publish_time': '2020-02-17',\n",
      "  'section': 'body',\n",
      "  'sentence': 'The number of various types of pictures in the training set is '\n",
      "              'equal, with a total number of 320.',\n",
      "  'source': 'medrxiv'},\n",
      " {'authors': 'Juanjuan Zhang, Maria Litvinova, Yuxia Liang, Yan Wang, Wei '\n",
      "             'Wang, Shanlu Zhao, Qianhui Wu, Stefano Merler, Cecile Viboud, '\n",
      "             'Alessandro Vespignani, Marco Ajelli, Hongjie Yu',\n",
      "  'cord_uid': 'y8o5j2be',\n",
      "  'paper_id': '0a27cb2cd52229472fcfc3e49d3a3cb7179867e4',\n",
      "  'publish_time': '2020-03-20',\n",
      "  'section': 'body',\n",
      "  'sentence': 'Because we did not see age differences in the probability of '\n",
      "              'developing symptoms upon infection, we assumed equal '\n",
      "              'infectivity across all age groups.',\n",
      "  'source': 'medrxiv'},\n",
      " {'authors': 'Juanjuan Zhang, Maria Litvinova, Yuxia Liang, Yan Wang, Wei '\n",
      "             'Wang, Shanlu Zhao, Qianhui Wu, Stefano Merler, Cecile Viboud, '\n",
      "             'Alessandro Vespignani, Marco Ajelli, Hongjie Yu',\n",
      "  'cord_uid': 'y8o5j2be',\n",
      "  'paper_id': '0a27cb2cd52229472fcfc3e49d3a3cb7179867e4',\n",
      "  'publish_time': '2020-03-20',\n",
      "  'section': 'body',\n",
      "  'sentence': 'Our conclusions are robust to assuming equal susceptibility in '\n",
      "              'all age groups.',\n",
      "  'source': 'medrxiv'}]\n"
     ]
    }
   ],
   "source": [
    "search(keywords=[\"non-pharmaceutical\",\"equity\",\"equal\",\"compliance\",\"balance\"],\n",
    "       optional_keywords=[\"new_coronavirus\", \"coronavirus\", \"covid19\"],\n",
    "       top_n=20, only_sentences=True)"
   ]
  }
 ],
 "metadata": {
  "kernelspec": {
   "display_name": "covid19",
   "language": "python",
   "name": "covid19"
  },
  "language_info": {
   "codemirror_mode": {
    "name": "ipython",
    "version": 3
   },
   "file_extension": ".py",
   "mimetype": "text/x-python",
   "name": "python",
   "nbconvert_exporter": "python",
   "pygments_lexer": "ipython3",
   "version": "3.6.8"
  }
 },
 "nbformat": 4,
 "nbformat_minor": 2
}
