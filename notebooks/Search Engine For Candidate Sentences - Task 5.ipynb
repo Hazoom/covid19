{
 "cells": [
  {
   "cell_type": "markdown",
   "metadata": {},
   "source": [
    "# Search Engine For Candidate Sentences"
   ]
  },
  {
   "cell_type": "markdown",
   "metadata": {},
   "source": [
    "## Demonstration of how to use the simple search engine for fetching relevant sentences"
   ]
  },
  {
   "cell_type": "markdown",
   "metadata": {},
   "source": [
    "Let's import our search engine for `src` directory.\n",
    "\n",
    "First, one needs to set the Python source files environment variables for Juptyer Notebook. If you haven't done this, please run those two command BEFORE running Juptyer Notebook:\n",
    "1. `export PYTHONPATH=/path/to/covid19/src`\n",
    "2. `export JUPYTER_PATH=/path/to/covid19/src`"
   ]
  },
  {
   "cell_type": "code",
   "execution_count": 1,
   "metadata": {},
   "outputs": [
    {
     "name": "stderr",
     "output_type": "stream",
     "text": [
      "unable to import 'smart_open.gcs', disabling that module\n"
     ]
    }
   ],
   "source": [
    "from search.searchengine import SearchEngine\n",
    "from pprint import pprint\n",
    "import os"
   ]
  },
  {
   "cell_type": "code",
   "execution_count": 2,
   "metadata": {},
   "outputs": [],
   "source": [
    "data_dir = \"../../../workspace/kaggle/covid19/data\""
   ]
  },
  {
   "cell_type": "markdown",
   "metadata": {},
   "source": [
    "Initialize out SearchEngine object with:\n",
    "1. Sentences metadata\n",
    "2. bi-gram model\n",
    "3. tri-gram model\n",
    "4. Trained FastText vectors"
   ]
  },
  {
   "cell_type": "code",
   "execution_count": 3,
   "metadata": {},
   "outputs": [
    {
     "name": "stdout",
     "output_type": "stream",
     "text": [
      "Loading CSV: ../../../workspace/kaggle/covid19/data/sentences_with_metadata.csv and building mapping dictionary...\n",
      "Finished loading CSV: ../../../workspace/kaggle/covid19/data/sentences_with_metadata.csv and building mapping dictionary\n",
      "Loaded 249343 sentences\n",
      "Loading bi-gram model: ../../../workspace/kaggle/covid19/data/covid_bigram_model_v0.pkl\n",
      "Finished loading bi-gram model: ../../../workspace/kaggle/covid19/data/covid_bigram_model_v0.pkl\n",
      "Loading tri-gram model: ../../../workspace/kaggle/covid19/data/covid_trigram_model_v0.pkl\n",
      "Finished loading tri-gram model: ../../../workspace/kaggle/covid19/data/covid_trigram_model_v0.pkl\n",
      "Loading fasttext model: ../../../workspace/kaggle/covid19/data/fasttext_no_subwords_trigrams/word-vectors-100d.txt\n",
      "Finished loading fasttext model: ../../../workspace/kaggle/covid19/data/fasttext_no_subwords_trigrams/word-vectors-100d.txt\n"
     ]
    }
   ],
   "source": [
    "search_engine = SearchEngine(\n",
    "    os.path.join(data_dir, \"sentences_with_metadata.csv\"),\n",
    "    os.path.join(data_dir, \"covid_bigram_model_v0.pkl\"),\n",
    "    os.path.join(data_dir, \"covid_trigram_model_v0.pkl\"),\n",
    "    os.path.join(data_dir, \"fasttext_no_subwords_trigrams/word-vectors-100d.txt\"),\n",
    ")"
   ]
  },
  {
   "cell_type": "markdown",
   "metadata": {},
   "source": [
    "Simple search function that gets a list of keywords to search:"
   ]
  },
  {
   "cell_type": "code",
   "execution_count": 4,
   "metadata": {},
   "outputs": [],
   "source": [
    "def search(keywords, optional_keywords=None, top_n=10, synonyms_threshold=0.8, only_sentences=False):\n",
    "    print(f\"\\nSearch for terms {keywords}\\n\\n\")\n",
    "    results = search_engine.search(\n",
    "        keywords, optional_keywords=optional_keywords, top_n=top_n, synonyms_threshold=synonyms_threshold\n",
    "    )\n",
    "    print(\"\\nResults:\\n\")\n",
    "    \n",
    "    if only_sentences:\n",
    "        for result in results:\n",
    "            print(result['sentence'] + \"\\n\")\n",
    "    else:\n",
    "        pprint(results)"
   ]
  },
  {
   "cell_type": "markdown",
   "metadata": {},
   "source": [
    "Guidance on ways to scale up NPIs in a more coordinated way (e.g., establish funding, infrastructure and authorities to support real time, authoritative (qualified participants) collaboration with all states to gain consensus on consistent guidance and to mobilize resources to geographic areas where critical shortfalls are identified) to give us time to enhance our health care delivery system capacity to respond to an increase in cases."
   ]
  },
  {
   "cell_type": "markdown",
   "metadata": {},
   "source": [
    "### Outcomes data for COVID-19 after mechanical ventilation adjusted for age."
   ]
  },
  {
   "cell_type": "code",
   "execution_count": 10,
   "metadata": {},
   "outputs": [
    {
     "name": "stdout",
     "output_type": "stream",
     "text": [
      "\n",
      "Search for terms ['consequences', 'outcomes', 'mechanical ventilation', 'age']\n",
      "\n",
      "\n",
      "Search terms after cleaning, bigrams, trigrams and synonym expansion: ['consequences', 'outcomes', 'mechanical_ventilation', 'age', 'outcome', 'ventilatory_support', 'ventilator', 'invasive_ventilation', 'assisted_ventilation', 'respiratory_failure', 'ventilation', 'mechanical_ventilator', 'invasive_mechanical_ventilation', 'respiratory_support', 'noninvasive_ventilation']\n",
      "Optional search terms after cleaning, bigrams, trigrams and synonym expansion: ['newcoronavirus', 'coronavirus_covid19', '2019ncov_covid19', 'outbreak_2019_novel', 'sarscov2_2019ncov', 'coronavirus_2019ncov', 'ongoing_outbreak_novel_coronavirus', 'since_late_december', 'ongoing_outbreak_covid19', 'originating_wuhan_china', 'novel_coronavirus_outbreak', 'wuhan_coronavirus']\n",
      "\n",
      "Results:\n",
      "\n",
      "A confirmed patient was considered to be critical if he/she experienced respiratory failure demanding invasive and/or non-invasive ventilation for respiratory support, septic shock, and/or with multiple organ dysfunction/failure demanding intensive care.\n",
      "\n",
      "For example, a routine sequential respiratory support therapy for patients with SPO2 below 93% is: intranasal catheterization of oxygen, oxygen supply through mask, high flow oxygen supply through nasal catheter, non-invasive ventilation support, invasive ventilation support, and ECMO.\n",
      "\n",
      "B. Respiratory support: apply noninvasive mechanical ventilation for two hours, if the condition is not improved, or the patient is intolerable to noninvasive ventilation, accompanied with increased airway secretions, severe coughing, or unstable hemodynamics, the patient should be transferred to invasive mechanical ventilation in time.\n",
      "\n",
      "Both patients developed progressive respiratory failure on day 4 and clinical evidence of ARDS with mechanical ventilation support in intensive care unit was reported on day 6 in the male patient, and, after 12 h on day 7, in the female patient.\n",
      "\n",
      "Titles and abstracts of the articles were screened using the following inclusion criteria to identify all eligible studies: (1) original articles with full text; (2) the mean/median age of the study population above 18 years; (3) at least one of the outcomes was chest CT imaging features of COVID-19; (4) the number of patients with corresponding imaging features was reported in the study.\n",
      "\n",
      "More intensive respiratory support was given to non-survivor due to the severity status but few patients were given invasive ventilation.\n",
      "\n",
      "The consequences of late public interventions may have severe consequences for the epidemic outcome (as illustrated in Figure 6 in [2] ).\n",
      "\n",
      "The epidemiological characteristics (demographic data, exposure history, and underlying comorbidities), clinical (symptoms and signs), laboratory (ie, complete blood count, blood chemistry, coagulation test, liver and renal function, electrolytes) and radiological findings (chest X-ray or computed tomography), treatment (ie, antiviral therapy, corticosteroid therapy, respiratory support) and outcomes (remained in hospital, discharges, death) data were extracted from electronic medical records.\n",
      "\n",
      "Of the 20 patients with respiratory failure, 9(45%) were treated with assisted mechanical ventilation, 7(35%) with nasal catheters and 4(20%) with masks.\n",
      "\n",
      "Secondary outcomes included the time from randomization to fever reduction (patients with fever at the time of enrollment), the time from randomization to cough relief (patients with moderate or severe cough at the time of enrollment), the rate of auxiliary oxygen therapy or noninvasive mechanical ventilation during the trial, the all-cause mortality during the trial, the rate of respiratory failure during the trial (defined as SPO 2 ≤ 90% or PaO 2 /FiO 2 < 300 mmHg without oxygen inhalation, and requires oxygen therapy or higher respiratory support).\n",
      "\n"
     ]
    }
   ],
   "source": [
    "search(keywords=[\"consequences\", \"outcomes\", \"mechanical ventilation\", \"age\"],\n",
    "       optional_keywords=[\"new_coronavirus\", \"coronavirus\", \"covid19\"],\n",
    "       top_n=10, only_sentences=True)"
   ]
  },
  {
   "cell_type": "code",
   "execution_count": null,
   "metadata": {},
   "outputs": [],
   "source": []
  }
 ],
 "metadata": {
  "kernelspec": {
   "display_name": "covid19",
   "language": "python",
   "name": "covid19"
  },
  "language_info": {
   "codemirror_mode": {
    "name": "ipython",
    "version": 3
   },
   "file_extension": ".py",
   "mimetype": "text/x-python",
   "name": "python",
   "nbconvert_exporter": "python",
   "pygments_lexer": "ipython3",
   "version": "3.6.8"
  }
 },
 "nbformat": 4,
 "nbformat_minor": 2
}
