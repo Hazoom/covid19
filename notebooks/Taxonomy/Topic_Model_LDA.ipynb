{
 "cells": [
  {
   "cell_type": "code",
   "execution_count": 44,
   "metadata": {},
   "outputs": [],
   "source": [
    "import re\n",
    "import numpy as np\n",
    "import pandas as pd\n",
    "from pprint import pprint\n",
    "\n",
    "# Gensim\n",
    "import gensim\n",
    "import gensim.corpora as corpora\n",
    "from gensim.utils import simple_preprocess\n",
    "from gensim.models import CoherenceModel\n",
    "from gensim.models.phrases import Phrases, Phraser\n",
    "from gensim.models.word2vec import Text8Corpus"
   ]
  },
  {
   "cell_type": "code",
   "execution_count": 9,
   "metadata": {},
   "outputs": [],
   "source": [
    "f = open(\"sentences_covid19.txt\",'r',encoding='utf-8')\n",
    "message = f.readlines()"
   ]
  },
  {
   "cell_type": "code",
   "execution_count": 32,
   "metadata": {},
   "outputs": [
    {
     "data": {
      "text/plain": [
       "['analysis title regaining perspective sarscov2 molecular tracing its implications\\n',\n",
       " 'during past three months new coronavirus sarscov2 epidemic has been growing exponentially affecting over 100 thousand people worldwide causing enormous distress economies societies affected countries \\n',\n",
       " 'a plethora analyses based viral sequences has already been published scientific journals well through nonpeer reviewed channels investigate sarscov2 genetic heterogeneity spatiotemporal dissemination \\n']"
      ]
     },
     "execution_count": 32,
     "metadata": {},
     "output_type": "execute_result"
    }
   ],
   "source": [
    "message[:3]"
   ]
  },
  {
   "cell_type": "code",
   "execution_count": 21,
   "metadata": {
    "scrolled": true
   },
   "outputs": [
    {
     "data": {
      "text/plain": [
       "'analysis title regaining perspective sarscov2 molecular tracing its implications\\n'"
      ]
     },
     "execution_count": 21,
     "metadata": {},
     "output_type": "execute_result"
    }
   ],
   "source": [
    "message[0]"
   ]
  },
  {
   "cell_type": "code",
   "execution_count": 22,
   "metadata": {},
   "outputs": [
    {
     "data": {
      "text/plain": [
       "['analysis',\n",
       " 'title',\n",
       " 'regaining',\n",
       " 'perspective',\n",
       " 'sarscov2',\n",
       " 'molecular',\n",
       " 'tracing',\n",
       " 'its',\n",
       " 'implications']"
      ]
     },
     "execution_count": 22,
     "metadata": {},
     "output_type": "execute_result"
    }
   ],
   "source": [
    "message[0].strip().split(' ')"
   ]
  },
  {
   "cell_type": "code",
   "execution_count": 12,
   "metadata": {},
   "outputs": [],
   "source": [
    "data_lemmatized = []\n",
    "with open('sentences_covid19.txt', 'r',encoding='utf-8') as in_file:\n",
    "    sentences = in_file.readlines()\n",
    "    sentences = [sentence.strip() for sentence in sentences]\n",
    "    for sentence in sentences:\n",
    "        tokens = sentence.split(' ')\n",
    "        data_lemmatized.append(tokens)"
   ]
  },
  {
   "cell_type": "code",
   "execution_count": 25,
   "metadata": {},
   "outputs": [
    {
     "data": {
      "text/plain": [
       "218759"
      ]
     },
     "execution_count": 25,
     "metadata": {},
     "output_type": "execute_result"
    }
   ],
   "source": [
    "len(data_lemmatized)"
   ]
  },
  {
   "cell_type": "code",
   "execution_count": 31,
   "metadata": {},
   "outputs": [
    {
     "data": {
      "text/plain": [
       "[['analysis',\n",
       "  'title',\n",
       "  'regaining',\n",
       "  'perspective',\n",
       "  'sarscov2',\n",
       "  'molecular',\n",
       "  'tracing',\n",
       "  'its',\n",
       "  'implications']]"
      ]
     },
     "execution_count": 31,
     "metadata": {},
     "output_type": "execute_result"
    }
   ],
   "source": [
    "data_lemmatized[:1]"
   ]
  },
  {
   "cell_type": "markdown",
   "metadata": {},
   "source": [
    "## Using Gensim - https://radimrehurek.com/gensim/corpora/textcorpus.html\n",
    "\n",
    "\n",
    "\n",
    "1) Define Dictionary - using id2word \n",
    "\n",
    "\n",
    "    * Dictionary encapsulates the mapping between normalized words and their integer ids\n",
    "    \n",
    "    \n",
    "2) Structure Corpus - using doc2bow\n",
    "\n",
    "    * Convert each document into the bag-of-words (BoW) format = list of (token_id, token_count) tuples.\n",
    "\n",
    "\n"
   ]
  },
  {
   "cell_type": "code",
   "execution_count": 18,
   "metadata": {},
   "outputs": [],
   "source": [
    "# Create dictionary\n",
    "id2word = corpora.Dictionary(data_lemmatized)"
   ]
  },
  {
   "cell_type": "code",
   "execution_count": 26,
   "metadata": {},
   "outputs": [],
   "source": [
    "# Create Corpus\n",
    "texts = data_lemmatized"
   ]
  },
  {
   "cell_type": "code",
   "execution_count": 27,
   "metadata": {},
   "outputs": [],
   "source": [
    "# Term Document Frequency\n",
    "corpus = [id2word.doc2bow(text) for text in texts]"
   ]
  },
  {
   "cell_type": "code",
   "execution_count": 28,
   "metadata": {},
   "outputs": [
    {
     "name": "stdout",
     "output_type": "stream",
     "text": [
      "[[(0, 1), (1, 1), (2, 1), (3, 1), (4, 1), (5, 1), (6, 1), (7, 1), (8, 1)]]\n"
     ]
    }
   ],
   "source": [
    "# VIew\n",
    "print(corpus[:1])"
   ]
  },
  {
   "cell_type": "code",
   "execution_count": 30,
   "metadata": {},
   "outputs": [
    {
     "data": {
      "text/plain": [
       "'analysis'"
      ]
     },
     "execution_count": 30,
     "metadata": {},
     "output_type": "execute_result"
    }
   ],
   "source": [
    "# pass id for corresponding text embedding \n",
    "id2word[0]"
   ]
  },
  {
   "cell_type": "code",
   "execution_count": 35,
   "metadata": {},
   "outputs": [
    {
     "data": {
      "text/plain": [
       "[[('analysis', 1),\n",
       "  ('implications', 1),\n",
       "  ('its', 1),\n",
       "  ('molecular', 1),\n",
       "  ('perspective', 1),\n",
       "  ('regaining', 1),\n",
       "  ('sarscov2', 1),\n",
       "  ('title', 1),\n",
       "  ('tracing', 1)],\n",
       " [('sarscov2', 1),\n",
       "  ('100', 1),\n",
       "  ('affected', 1),\n",
       "  ('affecting', 1),\n",
       "  ('been', 1),\n",
       "  ('causing', 1),\n",
       "  ('coronavirus', 1),\n",
       "  ('countries', 1),\n",
       "  ('distress', 1),\n",
       "  ('during', 1),\n",
       "  ('economies', 1),\n",
       "  ('enormous', 1),\n",
       "  ('epidemic', 1),\n",
       "  ('exponentially', 1),\n",
       "  ('growing', 1),\n",
       "  ('has', 1),\n",
       "  ('months', 1),\n",
       "  ('new', 1),\n",
       "  ('over', 1),\n",
       "  ('past', 1),\n",
       "  ('people', 1),\n",
       "  ('societies', 1),\n",
       "  ('thousand', 1),\n",
       "  ('three', 1),\n",
       "  ('worldwide', 1)]]"
      ]
     },
     "execution_count": 35,
     "metadata": {},
     "output_type": "execute_result"
    }
   ],
   "source": [
    "# interpret format of term frequency\n",
    "[[(id2word[id], freq) for id, freq in cp] for cp in corpus[:2]]"
   ]
  },
  {
   "cell_type": "markdown",
   "metadata": {},
   "source": [
    "# Building the Topic Model\n",
    "\n",
    "1) Train the LDA model\n",
    "    * define topic scope\n",
    "    * tune parameter sparcity \n",
    "    \n",
    "        - alpha\n",
    "        - eta\n",
    "2) Build model\n",
    "    * chunk training size\n",
    "    * update frequency\n",
    "    * number of training passes"
   ]
  },
  {
   "cell_type": "code",
   "execution_count": 37,
   "metadata": {},
   "outputs": [],
   "source": [
    "# Build the LDA model\n",
    "\n",
    "lda_model = gensim.models.ldamodel.LdaModel(corpus = corpus,\n",
    "                                           id2word = id2word,\n",
    "                                           num_topics = 10,\n",
    "                                           random_state=100,\n",
    "                                           update_every=1,\n",
    "                                           chunksize=100,\n",
    "                                           passes=10,\n",
    "                                           alpha='auto',\n",
    "                                           per_word_topics=True)"
   ]
  },
  {
   "cell_type": "code",
   "execution_count": 38,
   "metadata": {},
   "outputs": [
    {
     "name": "stdout",
     "output_type": "stream",
     "text": [
      "[(0,\n",
      "  '0.079*\"•\" + 0.019*\"blood\" + 0.015*\"associated\" + 0.013*\"cells\" + '\n",
      "  '0.012*\"ace2\" + 0.012*\"protein\" + 0.011*\"important\" + 0.011*\"levels\" + '\n",
      "  '0.010*\"diseases\" + 0.010*\"cell\"'),\n",
      " (1,\n",
      "  '0.110*\"who\" + 0.088*\"it\" + 0.056*\"response\" + 0.043*\"could\" + 0.036*\"under\" '\n",
      "  '+ 0.035*\"available\" + 0.032*\"major\" + 0.032*\"as\" + 0.030*\"without\" + '\n",
      "  '0.024*\"muscle\"'),\n",
      " (2,\n",
      "  '0.173*\"■\" + 0.020*\"some\" + 0.013*\"drugs\" + 0.010*\"transmission\" + '\n",
      "  '0.009*\"surgery\" + 0.009*\"must\" + 0.009*\"drug\" + 0.009*\"there\" + '\n",
      "  '0.008*\"increased\" + 0.008*\"high\"'),\n",
      " (3,\n",
      "  '0.071*\"de\" + 0.036*\"were\" + 0.025*\"patient\" + 0.023*\"1\" + 0.022*\"after\" + '\n",
      "  '0.018*\"a\" + 0.018*\"more\" + 0.015*\"all\" + 0.015*\"when\" + 0.014*\"cause\"'),\n",
      " (4,\n",
      "  '0.044*\"the\" + 0.035*\"from\" + 0.028*\"should\" + 0.019*\"other\" + 0.018*\"risk\" '\n",
      "  '+ 0.017*\"oral\" + 0.017*\"which\" + 0.017*\"in\" + 0.013*\"use\" + 0.013*\"cases\"'),\n",
      " (5,\n",
      "  '0.069*\"may\" + 0.033*\"can\" + 0.031*\"have\" + 0.029*\"disease\" + 0.028*\"dental\" '\n",
      "  '+ 0.022*\"also\" + 0.020*\"has\" + 0.020*\"been\" + 0.018*\"health\" + '\n",
      "  '0.016*\"virus\"'),\n",
      " (6,\n",
      "  '0.051*\"la\" + 0.031*\"en\" + 0.025*\"2\" + 0.023*\"3\" + 0.016*\"que\" + 0.016*\"el\" '\n",
      "  '+ 0.016*\"y\" + 0.014*\"los\" + 0.014*\"4\" + 0.013*\"les\"'),\n",
      " (7,\n",
      "  '0.045*\"s\" + 0.041*\"et\" + 0.031*\"during\" + 0.023*\"al\" + 0.022*\"had\" + '\n",
      "  '0.021*\"people\" + 0.020*\"à\" + 0.018*\"local\" + 0.017*\"days\" + 0.016*\"2020\"'),\n",
      " (8,\n",
      "  '0.062*\"patients\" + 0.030*\"treatment\" + 0.028*\"care\" + 0.020*\"used\" + '\n",
      "  '0.014*\"clinical\" + 0.014*\"infection\" + 0.013*\"common\" + 0.013*\"severe\" + '\n",
      "  '0.013*\"respiratory\" + 0.012*\"dentistry\"'),\n",
      " (9,\n",
      "  '0.030*\"using\" + 0.020*\"areas\" + 0.018*\"ct\" + 0.014*\"described\" + '\n",
      "  '0.014*\"performed\" + 0.013*\"lesions\" + 0.013*\"above\" + 0.012*\"day\" + '\n",
      "  '0.011*\"learning\" + 0.011*\"reactions\"')]\n"
     ]
    }
   ],
   "source": [
    "# Print the Keyword in the 10 topics\n",
    "pprint(lda_model.print_topics())\n",
    "doc_lda = lda_model[corpus]"
   ]
  },
  {
   "cell_type": "code",
   "execution_count": 45,
   "metadata": {},
   "outputs": [],
   "source": [
    "# Export the trained model = use less RAM, faster processing. Model updates no longer possible.\n",
    "phrases = Phrases(data_lemmatized, min_count=1, threshold=1)\n",
    "bigram = Phraser(phrases)"
   ]
  },
  {
   "cell_type": "code",
   "execution_count": 46,
   "metadata": {},
   "outputs": [
    {
     "name": "stderr",
     "output_type": "stream",
     "text": [
      "C:\\ProgramData\\Anaconda3\\lib\\site-packages\\smart_open\\smart_open_lib.py:398: UserWarning: This function is deprecated, use smart_open.open instead. See the migration notes for details: https://github.com/RaRe-Technologies/smart_open/blob/master/README.rst#migrating-to-the-new-open-function\n",
      "  'See the migration notes for details: %s' % _MIGRATION_NOTES_URL\n"
     ]
    }
   ],
   "source": [
    "bigram.save(\"covid_bigram_model_v0.pkl\")"
   ]
  },
  {
   "cell_type": "code",
   "execution_count": 47,
   "metadata": {},
   "outputs": [],
   "source": [
    "bigram_reloaded = Phraser.load(\"covid_bigram_model_v0.pkl\")"
   ]
  },
  {
   "cell_type": "code",
   "execution_count": 59,
   "metadata": {},
   "outputs": [
    {
     "data": {
      "text/plain": [
       "['blood', 'coivd']"
      ]
     },
     "execution_count": 59,
     "metadata": {},
     "output_type": "execute_result"
    }
   ],
   "source": [
    "bigram_reloaded[['blood','coivd']]"
   ]
  },
  {
   "cell_type": "code",
   "execution_count": 54,
   "metadata": {},
   "outputs": [],
   "source": [
    "# not sure if this worked as needed "
   ]
  },
  {
   "cell_type": "code",
   "execution_count": 53,
   "metadata": {},
   "outputs": [],
   "source": [
    "# Compute Perplexity\n",
    "#print('\\nPerplexity: ', lda_model.log_perplexity(corpus))  # a measure of how good the model is. lower the better.\n"
   ]
  },
  {
   "cell_type": "code",
   "execution_count": null,
   "metadata": {},
   "outputs": [],
   "source": []
  }
 ],
 "metadata": {
  "kernelspec": {
   "display_name": "Python 3",
   "language": "python",
   "name": "python3"
  },
  "language_info": {
   "codemirror_mode": {
    "name": "ipython",
    "version": 3
   },
   "file_extension": ".py",
   "mimetype": "text/x-python",
   "name": "python",
   "nbconvert_exporter": "python",
   "pygments_lexer": "ipython3",
   "version": "3.7.3"
  }
 },
 "nbformat": 4,
 "nbformat_minor": 2
}
