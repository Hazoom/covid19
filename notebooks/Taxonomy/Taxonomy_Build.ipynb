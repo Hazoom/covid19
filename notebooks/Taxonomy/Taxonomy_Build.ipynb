{
 "cells": [
  {
   "cell_type": "code",
   "execution_count": 38,
   "metadata": {},
   "outputs": [],
   "source": [
    "import pandas as pd\n",
    "import re\n",
    "import matplotlib.pyplot as plt\n",
    "pd.options.display.max_colwidth = 100\n",
    "pd.set_option('display.max_columns', None)\n",
    "pd.set_option('display.max_rows', None)\n",
    "import pandas as pd\n",
    "from nltk import word_tokenize, pos_tag, ne_chunk\n",
    "from nltk import RegexpParser\n",
    "from nltk import Tree\n",
    "import nltk\n",
    "import numpy as np\n",
    "import collections\n",
    "import networkx as nx"
   ]
  },
  {
   "cell_type": "markdown",
   "metadata": {},
   "source": [
    "# Organize NERTag Taxonomy"
   ]
  },
  {
   "cell_type": "code",
   "execution_count": 17,
   "metadata": {},
   "outputs": [],
   "source": [
    "task_term_active = pd.read_csv(\"Terms/Kaggle_Task/active_form.csv\", sep=';', header=None,names=['term', 'count', 'pos'])"
   ]
  },
  {
   "cell_type": "code",
   "execution_count": 18,
   "metadata": {},
   "outputs": [
    {
     "data": {
      "text/html": [
       "<div>\n",
       "<style scoped>\n",
       "    .dataframe tbody tr th:only-of-type {\n",
       "        vertical-align: middle;\n",
       "    }\n",
       "\n",
       "    .dataframe tbody tr th {\n",
       "        vertical-align: top;\n",
       "    }\n",
       "\n",
       "    .dataframe thead th {\n",
       "        text-align: right;\n",
       "    }\n",
       "</style>\n",
       "<table border=\"1\" class=\"dataframe\">\n",
       "  <thead>\n",
       "    <tr style=\"text-align: right;\">\n",
       "      <th></th>\n",
       "      <th>term</th>\n",
       "      <th>count</th>\n",
       "      <th>pos</th>\n",
       "    </tr>\n",
       "  </thead>\n",
       "  <tbody>\n",
       "    <tr>\n",
       "      <th>0</th>\n",
       "      <td>transmission</td>\n",
       "      <td>10</td>\n",
       "      <td>nom</td>\n",
       "    </tr>\n",
       "  </tbody>\n",
       "</table>\n",
       "</div>"
      ],
      "text/plain": [
       "           term  count  pos\n",
       "0  transmission     10  nom"
      ]
     },
     "execution_count": 18,
     "metadata": {},
     "output_type": "execute_result"
    }
   ],
   "source": [
    "task_term_active.head(1)"
   ]
  },
  {
   "cell_type": "code",
   "execution_count": null,
   "metadata": {},
   "outputs": [],
   "source": []
  },
  {
   "cell_type": "code",
   "execution_count": 21,
   "metadata": {},
   "outputs": [],
   "source": [
    "# input list from active_form sheet\n",
    "s = []\n",
    "for i in task_term_active['term']:\n",
    "    s.append(i.rstrip().lower()+'|')"
   ]
  },
  {
   "cell_type": "code",
   "execution_count": 55,
   "metadata": {},
   "outputs": [],
   "source": [
    "# input list from active_form sheet\n",
    "s = []\n",
    "for i in task_term_active['term']:\n",
    "    s.append(i+' | ')"
   ]
  },
  {
   "cell_type": "code",
   "execution_count": null,
   "metadata": {},
   "outputs": [],
   "source": [
    "# output for VSA"
   ]
  },
  {
   "cell_type": "code",
   "execution_count": 56,
   "metadata": {},
   "outputs": [
    {
     "data": {
      "text/plain": [
       "'transmission |  virus |  risk |  disease |  infection |  health |  factor |  shed |  incubation |  include |  environmental |  control |  viral |  surface |  study |  stability |  specifically |  setting |  report |  potential |  persistence |  period |  patient |  natural |  model |  literature |  learn |  history |  exist |  effectiveness |  economic |  diagnostic |  community |  care |  woman |  virulent |  vary |  usefulness |  urine |  understand |  transmissible |  tool |  theme_transmission |  symptomatic |  susceptibility |  survival |  substrate |  strategy |  steel |  status |  stainless |  sputum |  source |  socio |  smoke |  severity |  serial |  secondary |  seasonality |  science |  role |  response |  respiratory |  reproductive |  reduce |  recovery |  range |  pulmonary |  public |  provide |  protective |  product |  process |  prevention |  prevent |  prevalence |  pregnant |  pre |  ppe |  population |  plastic |  physical |  phobic |  phenotypic |  personal |  person |  origin |  numb |  neonate |  nasal |  multitude |  movement |  morbidity |  monitor |  mode |  mitigation |  measure |  matter |  material |  long |  interval |  information |  inform |  infect |  individual |  improve |  implementation |  impact |  immunity |  immune |  hydrophilic |  human |  hospitalize |  high |  group |  genetics |  fecal |  fatality |  evolution |  equipment |  epidemiological |  epidemic |  environment |  effort |  effective |  dynamic |  distribution |  discharge |  difference |  determine |  decontamination |  datum |  covid |  coronavirus |  copper |  contagious |  clinical |  child |  charge |  change |  blood |  behavioral |  basic |  asymptomatic |  area |  animal |  age |  affect |  adhesion |  adaptation | '"
      ]
     },
     "execution_count": 56,
     "metadata": {},
     "output_type": "execute_result"
    }
   ],
   "source": [
    "\" \".join(s)"
   ]
  },
  {
   "cell_type": "code",
   "execution_count": null,
   "metadata": {},
   "outputs": [],
   "source": []
  },
  {
   "cell_type": "code",
   "execution_count": 31,
   "metadata": {},
   "outputs": [
    {
     "name": "stdout",
     "output_type": "stream",
     "text": [
      "Output for NERTag List: \n",
      "transmission \n",
      "virus \n",
      "risk \n",
      "disease \n",
      "infection \n",
      "health \n",
      "factor \n",
      "shed \n",
      "incubation \n",
      "include \n",
      "environmental \n",
      "control \n",
      "viral \n",
      "surface \n",
      "study \n",
      "stability \n",
      "specifically \n",
      "setting \n",
      "report \n",
      "potential \n",
      "persistence \n",
      "period \n",
      "patient \n",
      "natural \n",
      "model \n",
      "literature \n",
      "learn \n",
      "history \n",
      "exist \n",
      "effectiveness \n",
      "economic \n",
      "diagnostic \n",
      "community \n",
      "care \n",
      "woman \n",
      "virulent \n",
      "vary \n",
      "usefulness \n",
      "urine \n",
      "understand \n",
      "transmissible \n",
      "tool \n",
      "theme_transmission \n",
      "symptomatic \n",
      "susceptibility \n",
      "survival \n",
      "substrate \n",
      "strategy \n",
      "steel \n",
      "status \n",
      "stainless \n",
      "sputum \n",
      "source \n",
      "socio \n",
      "smoke \n",
      "severity \n",
      "serial \n",
      "secondary \n",
      "seasonality \n",
      "science \n",
      "role \n",
      "response \n",
      "respiratory \n",
      "reproductive \n",
      "reduce \n",
      "recovery \n",
      "range \n",
      "pulmonary \n",
      "public \n",
      "provide \n",
      "protective \n",
      "product \n",
      "process \n",
      "prevention \n",
      "prevent \n",
      "prevalence \n",
      "pregnant \n",
      "pre \n",
      "ppe \n",
      "population \n",
      "plastic \n",
      "physical \n",
      "phobic \n",
      "phenotypic \n",
      "personal \n",
      "person \n",
      "origin \n",
      "numb \n",
      "neonate \n",
      "nasal \n",
      "multitude \n",
      "movement \n",
      "morbidity \n",
      "monitor \n",
      "mode \n",
      "mitigation \n",
      "measure \n",
      "matter \n",
      "material \n",
      "long \n",
      "interval \n",
      "information \n",
      "inform \n",
      "infect \n",
      "individual \n",
      "improve \n",
      "implementation \n",
      "impact \n",
      "immunity \n",
      "immune \n",
      "hydrophilic \n",
      "human \n",
      "hospitalize \n",
      "high \n",
      "group \n",
      "genetics \n",
      "fecal \n",
      "fatality \n",
      "evolution \n",
      "equipment \n",
      "epidemiological \n",
      "epidemic \n",
      "environment \n",
      "effort \n",
      "effective \n",
      "dynamic \n",
      "distribution \n",
      "discharge \n",
      "difference \n",
      "determine \n",
      "decontamination \n",
      "datum \n",
      "covid \n",
      "coronavirus \n",
      "copper \n",
      "contagious \n",
      "clinical \n",
      "child \n",
      "charge \n",
      "change \n",
      "blood \n",
      "behavioral \n",
      "basic \n",
      "asymptomatic \n",
      "area \n",
      "animal \n",
      "age \n",
      "affect \n",
      "adhesion \n",
      "adaptation\n"
     ]
    }
   ],
   "source": [
    "# Printing list using map \n",
    "print (\"Output for NERTag List:\", '\\n%s' % ' \\n'.join(map(str, task_term_active['term']))) "
   ]
  },
  {
   "cell_type": "code",
   "execution_count": 90,
   "metadata": {},
   "outputs": [
    {
     "name": "stdout",
     "output_type": "stream",
     "text": [
      "hi bye\n"
     ]
    }
   ],
   "source": [
    "# Printing list using map \n",
    "print('%s' % ' '.join(map(str, ['hi','bye'])))"
   ]
  },
  {
   "cell_type": "code",
   "execution_count": 84,
   "metadata": {},
   "outputs": [],
   "source": [
    "# Printing list using map \n",
    "words = ('%s' % ' '.join(map(str, task_term_active['term'])))"
   ]
  },
  {
   "cell_type": "code",
   "execution_count": 85,
   "metadata": {},
   "outputs": [
    {
     "data": {
      "text/plain": [
       "'transmission virus risk disease infection health factor shed incubation include environmental control viral surface study stability specifically setting report potential persistence period patient natural model literature learn history exist effectiveness economic diagnostic community care woman virulent vary usefulness urine understand transmissible tool theme_transmission symptomatic susceptibility survival substrate strategy steel status stainless sputum source socio smoke severity serial secondary seasonality science role response respiratory reproductive reduce recovery range pulmonary public provide protective product process prevention prevent prevalence pregnant pre ppe population plastic physical phobic phenotypic personal person origin numb neonate nasal multitude movement morbidity monitor mode mitigation measure matter material long interval information inform infect individual improve implementation impact immunity immune hydrophilic human hospitalize high group genetics fecal fatality evolution equipment epidemiological epidemic environment effort effective dynamic distribution discharge difference determine decontamination datum covid coronavirus copper contagious clinical child charge change blood behavioral basic asymptomatic area animal age affect adhesion adaptation'"
      ]
     },
     "execution_count": 85,
     "metadata": {},
     "output_type": "execute_result"
    }
   ],
   "source": [
    "words"
   ]
  },
  {
   "cell_type": "code",
   "execution_count": null,
   "metadata": {},
   "outputs": [],
   "source": [
    "#https://stats.stackexchange.com/questions/123060/clustering-a-long-list-of-strings-words-into-similarity-groups"
   ]
  },
  {
   "cell_type": "code",
   "execution_count": 86,
   "metadata": {},
   "outputs": [],
   "source": [
    "import numpy as np\n",
    "import sklearn.cluster\n",
    "import distance\n",
    "\n",
    "words = words.split(\" \") #Replace this line\n",
    "words = np.asarray(words) #So that indexing with a list will work"
   ]
  },
  {
   "cell_type": "code",
   "execution_count": 97,
   "metadata": {
    "scrolled": true
   },
   "outputs": [
    {
     "name": "stdout",
     "output_type": "stream",
     "text": [
      " - *transmission:* theme_transmission, transmissible, transmission\n",
      " - *factor:* control, factor, health, history, matter, monitor, socio\n",
      " - *incubation:* adaptation, distribution, evolution, incubation, information, mitigation, population\n",
      " - *viral:* animal, behavioral, clinical, disease, fecal, high, hospitalize, human, individual, nasal, natural, steel, viral, virulent, virus, woman\n",
      " - *stability:* fatality, morbidity, seasonality, stability, stainless, susceptibility\n",
      " - *report:* effort, exist, neonate, recovery, reduce, report, respiratory, response\n",
      " - *economic:* diagnostic, dynamic, economic, epidemic, genetics, secondary\n",
      " - *care:* age, area, basic, care, change, charge, child, copper, covid, discharge, include, learn, measure, numb, ppe, pre, range, shed, source, vary\n",
      " - *urine:* determine, group, multitude, origin, provide, risk, science, substrate, surface, urine, usefulness\n",
      " - *symptomatic:* asymptomatic, symptomatic\n",
      " - *status:* datum, literature, sputum, status, strategy, study\n",
      " - *serial:* interval, material, potential, serial, setting, severity, specifically, survival\n",
      " - *prevent:* movement, patient, pregnant, prevalence, prevent, prevention, process, product\n",
      " - *phobic:* hydrophilic, phenotypic, phobic, physical, plastic, public\n",
      " - *person:* adhesion, period, persistence, person, personal, pulmonary, understand\n",
      " - *mode:* blood, improve, long, mode, model, role, smoke, tool\n",
      " - *infect:* affect, difference, impact, infect, infection, inform\n",
      " - *implementation:* implementation\n",
      " - *immunity:* community, immune, immunity\n",
      " - *epidemiological:* epidemiological\n",
      " - *environment:* environment, environmental, equipment\n",
      " - *effective:* effective, effectiveness, protective, reproductive\n",
      " - *decontamination:* decontamination\n",
      " - *coronavirus:* contagious, coronavirus\n"
     ]
    }
   ],
   "source": [
    "lev_similarity = -1*np.array([[distance.levenshtein(w1,w2) for w1 in words] for w2 in words])\n",
    "affprop = sklearn.cluster.AffinityPropagation(affinity=\"precomputed\", damping=0.75)\n",
    "affprop.fit(lev_similarity)\n",
    "for cluster_id in np.unique(affprop.labels_):\n",
    "    exemplar = words[affprop.cluster_centers_indices_[cluster_id]]\n",
    "    cluster = np.unique(words[np.nonzero(affprop.labels_==cluster_id)])\n",
    "    cluster_str = \", \".join(cluster)\n",
    "    print(\" - *%s:* %s\" % (exemplar, cluster_str))"
   ]
  },
  {
   "cell_type": "code",
   "execution_count": 112,
   "metadata": {},
   "outputs": [
    {
     "name": "stdout",
     "output_type": "stream",
     "text": [
      "transmission | theme_transmission | transmissible | transmission|\n",
      "factor | control | factor | health | history | matter | monitor | socio|\n",
      "incubation | adaptation | distribution | evolution | incubation | information | mitigation | population|\n",
      "viral | animal | behavioral | clinical | disease | fecal | high | hospitalize | human | individual | nasal | natural | steel | viral | virulent | virus | woman|\n",
      "stability | fatality | morbidity | seasonality | stability | stainless | susceptibility|\n",
      "report | effort | exist | neonate | recovery | reduce | report | respiratory | response|\n",
      "economic | diagnostic | dynamic | economic | epidemic | genetics | secondary|\n",
      "care | age | area | basic | care | change | charge | child | copper | covid | discharge | include | learn | measure | numb | ppe | pre | range | shed | source | vary|\n",
      "urine | determine | group | multitude | origin | provide | risk | science | substrate | surface | urine | usefulness|\n",
      "symptomatic | asymptomatic | symptomatic|\n",
      "status | datum | literature | sputum | status | strategy | study|\n",
      "serial | interval | material | potential | serial | setting | severity | specifically | survival|\n",
      "prevent | movement | patient | pregnant | prevalence | prevent | prevention | process | product|\n",
      "phobic | hydrophilic | phenotypic | phobic | physical | plastic | public|\n",
      "person | adhesion | period | persistence | person | personal | pulmonary | understand|\n",
      "mode | blood | improve | long | mode | model | role | smoke | tool|\n",
      "infect | affect | difference | impact | infect | infection | inform|\n",
      "implementation | implementation|\n",
      "immunity | community | immune | immunity|\n",
      "epidemiological | epidemiological|\n",
      "environment | environment | environmental | equipment|\n",
      "effective | effective | effectiveness | protective | reproductive|\n",
      "decontamination | decontamination|\n",
      "coronavirus | contagious | coronavirus|\n"
     ]
    }
   ],
   "source": [
    "lev_similarity = -1*np.array([[distance.levenshtein(w1,w2) for w1 in words] for w2 in words])\n",
    "affprop = sklearn.cluster.AffinityPropagation(affinity=\"precomputed\", damping=0.75)\n",
    "affprop.fit(lev_similarity)\n",
    "for cluster_id in np.unique(affprop.labels_):\n",
    "    exemplar = words[affprop.cluster_centers_indices_[cluster_id]]\n",
    "    cluster = np.unique(words[np.nonzero(affprop.labels_==cluster_id)])\n",
    "    cluster_str = \" | \".join(cluster)\n",
    "    print('%s' % ' | '.join(map(str,(exemplar, cluster_str))).lower()+'|')\n"
   ]
  },
  {
   "cell_type": "code",
   "execution_count": 93,
   "metadata": {},
   "outputs": [
    {
     "data": {
      "text/plain": [
       "'contagious, coronavirus'"
      ]
     },
     "execution_count": 93,
     "metadata": {},
     "output_type": "execute_result"
    }
   ],
   "source": [
    "cluster_str"
   ]
  },
  {
   "cell_type": "code",
   "execution_count": null,
   "metadata": {},
   "outputs": [],
   "source": [
    "# use clustering for each Event Type"
   ]
  },
  {
   "cell_type": "code",
   "execution_count": 115,
   "metadata": {},
   "outputs": [
    {
     "name": "stdout",
     "output_type": "stream",
     "text": [
      "2019-ncov | 2019 novel coronavirus | coronavirus 2019 | coronavirus disease 19 | covid-19 | covid 19 | ncov-2019 | sars-cov-2 | wuhan coronavirus | wuhan pneumonia | wuhan virus\n"
     ]
    }
   ],
   "source": [
    "# Printing list using map \n",
    "print('%s' % ' | '.join(map(str, covid_mention)))"
   ]
  },
  {
   "cell_type": "code",
   "execution_count": 13,
   "metadata": {},
   "outputs": [],
   "source": [
    "ex = \"We know that attracting and retaining \" \n",
    "ex1 = \" is essential to our success, so we are increasing our investment in them.\"\n"
   ]
  },
  {
   "cell_type": "code",
   "execution_count": 18,
   "metadata": {},
   "outputs": [],
   "source": [
    "ex = \"A sovereign government's \"\n",
    "ex1 = \" of macroeconomic, financial, monetary and fiscal strategy is important in establishing the government's credibility.\""
   ]
  },
  {
   "cell_type": "code",
   "execution_count": 32,
   "metadata": {},
   "outputs": [],
   "source": [
    "ex = \"This fundamental \" \n",
    "ex1 = \" constraint is a limiting factor to its credit profile, though one that is meaningfully offset by prudent fiscal policies, detailed longrange budgeting, and strengthened relationships with both the state and city.\"\n"
   ]
  },
  {
   "cell_type": "code",
   "execution_count": 116,
   "metadata": {},
   "outputs": [
    {
     "name": "stdout",
     "output_type": "stream",
     "text": [
      "This fundamental transmission constraint is a limiting factor to its credit profile, though one that is meaningfully offset by prudent fiscal policies, detailed longrange budgeting, and strengthened relationships with both the state and city.\n",
      "This fundamental virus constraint is a limiting factor to its credit profile, though one that is meaningfully offset by prudent fiscal policies, detailed longrange budgeting, and strengthened relationships with both the state and city.\n",
      "This fundamental risk constraint is a limiting factor to its credit profile, though one that is meaningfully offset by prudent fiscal policies, detailed longrange budgeting, and strengthened relationships with both the state and city.\n",
      "This fundamental disease constraint is a limiting factor to its credit profile, though one that is meaningfully offset by prudent fiscal policies, detailed longrange budgeting, and strengthened relationships with both the state and city.\n",
      "This fundamental infection constraint is a limiting factor to its credit profile, though one that is meaningfully offset by prudent fiscal policies, detailed longrange budgeting, and strengthened relationships with both the state and city.\n",
      "This fundamental health constraint is a limiting factor to its credit profile, though one that is meaningfully offset by prudent fiscal policies, detailed longrange budgeting, and strengthened relationships with both the state and city.\n",
      "This fundamental factor constraint is a limiting factor to its credit profile, though one that is meaningfully offset by prudent fiscal policies, detailed longrange budgeting, and strengthened relationships with both the state and city.\n",
      "This fundamental shed constraint is a limiting factor to its credit profile, though one that is meaningfully offset by prudent fiscal policies, detailed longrange budgeting, and strengthened relationships with both the state and city.\n",
      "This fundamental incubation constraint is a limiting factor to its credit profile, though one that is meaningfully offset by prudent fiscal policies, detailed longrange budgeting, and strengthened relationships with both the state and city.\n",
      "This fundamental include constraint is a limiting factor to its credit profile, though one that is meaningfully offset by prudent fiscal policies, detailed longrange budgeting, and strengthened relationships with both the state and city.\n",
      "This fundamental environmental constraint is a limiting factor to its credit profile, though one that is meaningfully offset by prudent fiscal policies, detailed longrange budgeting, and strengthened relationships with both the state and city.\n",
      "This fundamental control constraint is a limiting factor to its credit profile, though one that is meaningfully offset by prudent fiscal policies, detailed longrange budgeting, and strengthened relationships with both the state and city.\n",
      "This fundamental viral constraint is a limiting factor to its credit profile, though one that is meaningfully offset by prudent fiscal policies, detailed longrange budgeting, and strengthened relationships with both the state and city.\n",
      "This fundamental surface constraint is a limiting factor to its credit profile, though one that is meaningfully offset by prudent fiscal policies, detailed longrange budgeting, and strengthened relationships with both the state and city.\n",
      "This fundamental study constraint is a limiting factor to its credit profile, though one that is meaningfully offset by prudent fiscal policies, detailed longrange budgeting, and strengthened relationships with both the state and city.\n",
      "This fundamental stability constraint is a limiting factor to its credit profile, though one that is meaningfully offset by prudent fiscal policies, detailed longrange budgeting, and strengthened relationships with both the state and city.\n",
      "This fundamental specifically constraint is a limiting factor to its credit profile, though one that is meaningfully offset by prudent fiscal policies, detailed longrange budgeting, and strengthened relationships with both the state and city.\n",
      "This fundamental setting constraint is a limiting factor to its credit profile, though one that is meaningfully offset by prudent fiscal policies, detailed longrange budgeting, and strengthened relationships with both the state and city.\n",
      "This fundamental report constraint is a limiting factor to its credit profile, though one that is meaningfully offset by prudent fiscal policies, detailed longrange budgeting, and strengthened relationships with both the state and city.\n",
      "This fundamental potential constraint is a limiting factor to its credit profile, though one that is meaningfully offset by prudent fiscal policies, detailed longrange budgeting, and strengthened relationships with both the state and city.\n",
      "This fundamental persistence constraint is a limiting factor to its credit profile, though one that is meaningfully offset by prudent fiscal policies, detailed longrange budgeting, and strengthened relationships with both the state and city.\n",
      "This fundamental period constraint is a limiting factor to its credit profile, though one that is meaningfully offset by prudent fiscal policies, detailed longrange budgeting, and strengthened relationships with both the state and city.\n",
      "This fundamental patient constraint is a limiting factor to its credit profile, though one that is meaningfully offset by prudent fiscal policies, detailed longrange budgeting, and strengthened relationships with both the state and city.\n",
      "This fundamental natural constraint is a limiting factor to its credit profile, though one that is meaningfully offset by prudent fiscal policies, detailed longrange budgeting, and strengthened relationships with both the state and city.\n",
      "This fundamental model constraint is a limiting factor to its credit profile, though one that is meaningfully offset by prudent fiscal policies, detailed longrange budgeting, and strengthened relationships with both the state and city.\n",
      "This fundamental literature constraint is a limiting factor to its credit profile, though one that is meaningfully offset by prudent fiscal policies, detailed longrange budgeting, and strengthened relationships with both the state and city.\n",
      "This fundamental learn constraint is a limiting factor to its credit profile, though one that is meaningfully offset by prudent fiscal policies, detailed longrange budgeting, and strengthened relationships with both the state and city.\n",
      "This fundamental history constraint is a limiting factor to its credit profile, though one that is meaningfully offset by prudent fiscal policies, detailed longrange budgeting, and strengthened relationships with both the state and city.\n",
      "This fundamental exist constraint is a limiting factor to its credit profile, though one that is meaningfully offset by prudent fiscal policies, detailed longrange budgeting, and strengthened relationships with both the state and city.\n",
      "This fundamental effectiveness constraint is a limiting factor to its credit profile, though one that is meaningfully offset by prudent fiscal policies, detailed longrange budgeting, and strengthened relationships with both the state and city.\n",
      "This fundamental economic constraint is a limiting factor to its credit profile, though one that is meaningfully offset by prudent fiscal policies, detailed longrange budgeting, and strengthened relationships with both the state and city.\n",
      "This fundamental diagnostic constraint is a limiting factor to its credit profile, though one that is meaningfully offset by prudent fiscal policies, detailed longrange budgeting, and strengthened relationships with both the state and city.\n",
      "This fundamental community constraint is a limiting factor to its credit profile, though one that is meaningfully offset by prudent fiscal policies, detailed longrange budgeting, and strengthened relationships with both the state and city.\n",
      "This fundamental care constraint is a limiting factor to its credit profile, though one that is meaningfully offset by prudent fiscal policies, detailed longrange budgeting, and strengthened relationships with both the state and city.\n",
      "This fundamental woman constraint is a limiting factor to its credit profile, though one that is meaningfully offset by prudent fiscal policies, detailed longrange budgeting, and strengthened relationships with both the state and city.\n",
      "This fundamental virulent constraint is a limiting factor to its credit profile, though one that is meaningfully offset by prudent fiscal policies, detailed longrange budgeting, and strengthened relationships with both the state and city.\n",
      "This fundamental vary constraint is a limiting factor to its credit profile, though one that is meaningfully offset by prudent fiscal policies, detailed longrange budgeting, and strengthened relationships with both the state and city.\n",
      "This fundamental usefulness constraint is a limiting factor to its credit profile, though one that is meaningfully offset by prudent fiscal policies, detailed longrange budgeting, and strengthened relationships with both the state and city.\n",
      "This fundamental urine constraint is a limiting factor to its credit profile, though one that is meaningfully offset by prudent fiscal policies, detailed longrange budgeting, and strengthened relationships with both the state and city.\n",
      "This fundamental understand constraint is a limiting factor to its credit profile, though one that is meaningfully offset by prudent fiscal policies, detailed longrange budgeting, and strengthened relationships with both the state and city.\n",
      "This fundamental transmissible constraint is a limiting factor to its credit profile, though one that is meaningfully offset by prudent fiscal policies, detailed longrange budgeting, and strengthened relationships with both the state and city.\n",
      "This fundamental tool constraint is a limiting factor to its credit profile, though one that is meaningfully offset by prudent fiscal policies, detailed longrange budgeting, and strengthened relationships with both the state and city.\n",
      "This fundamental theme_transmission constraint is a limiting factor to its credit profile, though one that is meaningfully offset by prudent fiscal policies, detailed longrange budgeting, and strengthened relationships with both the state and city.\n",
      "This fundamental symptomatic constraint is a limiting factor to its credit profile, though one that is meaningfully offset by prudent fiscal policies, detailed longrange budgeting, and strengthened relationships with both the state and city.\n",
      "This fundamental susceptibility constraint is a limiting factor to its credit profile, though one that is meaningfully offset by prudent fiscal policies, detailed longrange budgeting, and strengthened relationships with both the state and city.\n",
      "This fundamental survival constraint is a limiting factor to its credit profile, though one that is meaningfully offset by prudent fiscal policies, detailed longrange budgeting, and strengthened relationships with both the state and city.\n",
      "This fundamental substrate constraint is a limiting factor to its credit profile, though one that is meaningfully offset by prudent fiscal policies, detailed longrange budgeting, and strengthened relationships with both the state and city.\n",
      "This fundamental strategy constraint is a limiting factor to its credit profile, though one that is meaningfully offset by prudent fiscal policies, detailed longrange budgeting, and strengthened relationships with both the state and city.\n",
      "This fundamental steel constraint is a limiting factor to its credit profile, though one that is meaningfully offset by prudent fiscal policies, detailed longrange budgeting, and strengthened relationships with both the state and city.\n",
      "This fundamental status constraint is a limiting factor to its credit profile, though one that is meaningfully offset by prudent fiscal policies, detailed longrange budgeting, and strengthened relationships with both the state and city.\n",
      "This fundamental stainless constraint is a limiting factor to its credit profile, though one that is meaningfully offset by prudent fiscal policies, detailed longrange budgeting, and strengthened relationships with both the state and city.\n",
      "This fundamental sputum constraint is a limiting factor to its credit profile, though one that is meaningfully offset by prudent fiscal policies, detailed longrange budgeting, and strengthened relationships with both the state and city.\n",
      "This fundamental source constraint is a limiting factor to its credit profile, though one that is meaningfully offset by prudent fiscal policies, detailed longrange budgeting, and strengthened relationships with both the state and city.\n",
      "This fundamental socio constraint is a limiting factor to its credit profile, though one that is meaningfully offset by prudent fiscal policies, detailed longrange budgeting, and strengthened relationships with both the state and city.\n",
      "This fundamental smoke constraint is a limiting factor to its credit profile, though one that is meaningfully offset by prudent fiscal policies, detailed longrange budgeting, and strengthened relationships with both the state and city.\n",
      "This fundamental severity constraint is a limiting factor to its credit profile, though one that is meaningfully offset by prudent fiscal policies, detailed longrange budgeting, and strengthened relationships with both the state and city.\n",
      "This fundamental serial constraint is a limiting factor to its credit profile, though one that is meaningfully offset by prudent fiscal policies, detailed longrange budgeting, and strengthened relationships with both the state and city.\n",
      "This fundamental secondary constraint is a limiting factor to its credit profile, though one that is meaningfully offset by prudent fiscal policies, detailed longrange budgeting, and strengthened relationships with both the state and city.\n",
      "This fundamental seasonality constraint is a limiting factor to its credit profile, though one that is meaningfully offset by prudent fiscal policies, detailed longrange budgeting, and strengthened relationships with both the state and city.\n",
      "This fundamental science constraint is a limiting factor to its credit profile, though one that is meaningfully offset by prudent fiscal policies, detailed longrange budgeting, and strengthened relationships with both the state and city.\n",
      "This fundamental role constraint is a limiting factor to its credit profile, though one that is meaningfully offset by prudent fiscal policies, detailed longrange budgeting, and strengthened relationships with both the state and city.\n",
      "This fundamental response constraint is a limiting factor to its credit profile, though one that is meaningfully offset by prudent fiscal policies, detailed longrange budgeting, and strengthened relationships with both the state and city.\n",
      "This fundamental respiratory constraint is a limiting factor to its credit profile, though one that is meaningfully offset by prudent fiscal policies, detailed longrange budgeting, and strengthened relationships with both the state and city.\n",
      "This fundamental reproductive constraint is a limiting factor to its credit profile, though one that is meaningfully offset by prudent fiscal policies, detailed longrange budgeting, and strengthened relationships with both the state and city.\n",
      "This fundamental reduce constraint is a limiting factor to its credit profile, though one that is meaningfully offset by prudent fiscal policies, detailed longrange budgeting, and strengthened relationships with both the state and city.\n",
      "This fundamental recovery constraint is a limiting factor to its credit profile, though one that is meaningfully offset by prudent fiscal policies, detailed longrange budgeting, and strengthened relationships with both the state and city.\n",
      "This fundamental range constraint is a limiting factor to its credit profile, though one that is meaningfully offset by prudent fiscal policies, detailed longrange budgeting, and strengthened relationships with both the state and city.\n",
      "This fundamental pulmonary constraint is a limiting factor to its credit profile, though one that is meaningfully offset by prudent fiscal policies, detailed longrange budgeting, and strengthened relationships with both the state and city.\n",
      "This fundamental public constraint is a limiting factor to its credit profile, though one that is meaningfully offset by prudent fiscal policies, detailed longrange budgeting, and strengthened relationships with both the state and city.\n",
      "This fundamental provide constraint is a limiting factor to its credit profile, though one that is meaningfully offset by prudent fiscal policies, detailed longrange budgeting, and strengthened relationships with both the state and city.\n",
      "This fundamental protective constraint is a limiting factor to its credit profile, though one that is meaningfully offset by prudent fiscal policies, detailed longrange budgeting, and strengthened relationships with both the state and city.\n",
      "This fundamental product constraint is a limiting factor to its credit profile, though one that is meaningfully offset by prudent fiscal policies, detailed longrange budgeting, and strengthened relationships with both the state and city.\n",
      "This fundamental process constraint is a limiting factor to its credit profile, though one that is meaningfully offset by prudent fiscal policies, detailed longrange budgeting, and strengthened relationships with both the state and city.\n",
      "This fundamental prevention constraint is a limiting factor to its credit profile, though one that is meaningfully offset by prudent fiscal policies, detailed longrange budgeting, and strengthened relationships with both the state and city.\n",
      "This fundamental prevent constraint is a limiting factor to its credit profile, though one that is meaningfully offset by prudent fiscal policies, detailed longrange budgeting, and strengthened relationships with both the state and city.\n",
      "This fundamental prevalence constraint is a limiting factor to its credit profile, though one that is meaningfully offset by prudent fiscal policies, detailed longrange budgeting, and strengthened relationships with both the state and city.\n",
      "This fundamental pregnant constraint is a limiting factor to its credit profile, though one that is meaningfully offset by prudent fiscal policies, detailed longrange budgeting, and strengthened relationships with both the state and city.\n",
      "This fundamental pre constraint is a limiting factor to its credit profile, though one that is meaningfully offset by prudent fiscal policies, detailed longrange budgeting, and strengthened relationships with both the state and city.\n",
      "This fundamental ppe constraint is a limiting factor to its credit profile, though one that is meaningfully offset by prudent fiscal policies, detailed longrange budgeting, and strengthened relationships with both the state and city.\n",
      "This fundamental population constraint is a limiting factor to its credit profile, though one that is meaningfully offset by prudent fiscal policies, detailed longrange budgeting, and strengthened relationships with both the state and city.\n",
      "This fundamental plastic constraint is a limiting factor to its credit profile, though one that is meaningfully offset by prudent fiscal policies, detailed longrange budgeting, and strengthened relationships with both the state and city.\n",
      "This fundamental physical constraint is a limiting factor to its credit profile, though one that is meaningfully offset by prudent fiscal policies, detailed longrange budgeting, and strengthened relationships with both the state and city.\n",
      "This fundamental phobic constraint is a limiting factor to its credit profile, though one that is meaningfully offset by prudent fiscal policies, detailed longrange budgeting, and strengthened relationships with both the state and city.\n",
      "This fundamental phenotypic constraint is a limiting factor to its credit profile, though one that is meaningfully offset by prudent fiscal policies, detailed longrange budgeting, and strengthened relationships with both the state and city.\n",
      "This fundamental personal constraint is a limiting factor to its credit profile, though one that is meaningfully offset by prudent fiscal policies, detailed longrange budgeting, and strengthened relationships with both the state and city.\n",
      "This fundamental person constraint is a limiting factor to its credit profile, though one that is meaningfully offset by prudent fiscal policies, detailed longrange budgeting, and strengthened relationships with both the state and city.\n",
      "This fundamental origin constraint is a limiting factor to its credit profile, though one that is meaningfully offset by prudent fiscal policies, detailed longrange budgeting, and strengthened relationships with both the state and city.\n",
      "This fundamental numb constraint is a limiting factor to its credit profile, though one that is meaningfully offset by prudent fiscal policies, detailed longrange budgeting, and strengthened relationships with both the state and city.\n",
      "This fundamental neonate constraint is a limiting factor to its credit profile, though one that is meaningfully offset by prudent fiscal policies, detailed longrange budgeting, and strengthened relationships with both the state and city.\n",
      "This fundamental nasal constraint is a limiting factor to its credit profile, though one that is meaningfully offset by prudent fiscal policies, detailed longrange budgeting, and strengthened relationships with both the state and city.\n",
      "This fundamental multitude constraint is a limiting factor to its credit profile, though one that is meaningfully offset by prudent fiscal policies, detailed longrange budgeting, and strengthened relationships with both the state and city.\n",
      "This fundamental movement constraint is a limiting factor to its credit profile, though one that is meaningfully offset by prudent fiscal policies, detailed longrange budgeting, and strengthened relationships with both the state and city.\n",
      "This fundamental morbidity constraint is a limiting factor to its credit profile, though one that is meaningfully offset by prudent fiscal policies, detailed longrange budgeting, and strengthened relationships with both the state and city.\n",
      "This fundamental monitor constraint is a limiting factor to its credit profile, though one that is meaningfully offset by prudent fiscal policies, detailed longrange budgeting, and strengthened relationships with both the state and city.\n",
      "This fundamental mode constraint is a limiting factor to its credit profile, though one that is meaningfully offset by prudent fiscal policies, detailed longrange budgeting, and strengthened relationships with both the state and city.\n",
      "This fundamental mitigation constraint is a limiting factor to its credit profile, though one that is meaningfully offset by prudent fiscal policies, detailed longrange budgeting, and strengthened relationships with both the state and city.\n",
      "This fundamental measure constraint is a limiting factor to its credit profile, though one that is meaningfully offset by prudent fiscal policies, detailed longrange budgeting, and strengthened relationships with both the state and city.\n",
      "This fundamental matter constraint is a limiting factor to its credit profile, though one that is meaningfully offset by prudent fiscal policies, detailed longrange budgeting, and strengthened relationships with both the state and city.\n",
      "This fundamental material constraint is a limiting factor to its credit profile, though one that is meaningfully offset by prudent fiscal policies, detailed longrange budgeting, and strengthened relationships with both the state and city.\n",
      "This fundamental long constraint is a limiting factor to its credit profile, though one that is meaningfully offset by prudent fiscal policies, detailed longrange budgeting, and strengthened relationships with both the state and city.\n",
      "This fundamental interval constraint is a limiting factor to its credit profile, though one that is meaningfully offset by prudent fiscal policies, detailed longrange budgeting, and strengthened relationships with both the state and city.\n",
      "This fundamental information constraint is a limiting factor to its credit profile, though one that is meaningfully offset by prudent fiscal policies, detailed longrange budgeting, and strengthened relationships with both the state and city.\n",
      "This fundamental inform constraint is a limiting factor to its credit profile, though one that is meaningfully offset by prudent fiscal policies, detailed longrange budgeting, and strengthened relationships with both the state and city.\n",
      "This fundamental infect constraint is a limiting factor to its credit profile, though one that is meaningfully offset by prudent fiscal policies, detailed longrange budgeting, and strengthened relationships with both the state and city.\n",
      "This fundamental individual constraint is a limiting factor to its credit profile, though one that is meaningfully offset by prudent fiscal policies, detailed longrange budgeting, and strengthened relationships with both the state and city.\n",
      "This fundamental improve constraint is a limiting factor to its credit profile, though one that is meaningfully offset by prudent fiscal policies, detailed longrange budgeting, and strengthened relationships with both the state and city.\n",
      "This fundamental implementation constraint is a limiting factor to its credit profile, though one that is meaningfully offset by prudent fiscal policies, detailed longrange budgeting, and strengthened relationships with both the state and city.\n",
      "This fundamental impact constraint is a limiting factor to its credit profile, though one that is meaningfully offset by prudent fiscal policies, detailed longrange budgeting, and strengthened relationships with both the state and city.\n",
      "This fundamental immunity constraint is a limiting factor to its credit profile, though one that is meaningfully offset by prudent fiscal policies, detailed longrange budgeting, and strengthened relationships with both the state and city.\n",
      "This fundamental immune constraint is a limiting factor to its credit profile, though one that is meaningfully offset by prudent fiscal policies, detailed longrange budgeting, and strengthened relationships with both the state and city.\n",
      "This fundamental hydrophilic constraint is a limiting factor to its credit profile, though one that is meaningfully offset by prudent fiscal policies, detailed longrange budgeting, and strengthened relationships with both the state and city.\n",
      "This fundamental human constraint is a limiting factor to its credit profile, though one that is meaningfully offset by prudent fiscal policies, detailed longrange budgeting, and strengthened relationships with both the state and city.\n",
      "This fundamental hospitalize constraint is a limiting factor to its credit profile, though one that is meaningfully offset by prudent fiscal policies, detailed longrange budgeting, and strengthened relationships with both the state and city.\n",
      "This fundamental high constraint is a limiting factor to its credit profile, though one that is meaningfully offset by prudent fiscal policies, detailed longrange budgeting, and strengthened relationships with both the state and city.\n",
      "This fundamental group constraint is a limiting factor to its credit profile, though one that is meaningfully offset by prudent fiscal policies, detailed longrange budgeting, and strengthened relationships with both the state and city.\n",
      "This fundamental genetics constraint is a limiting factor to its credit profile, though one that is meaningfully offset by prudent fiscal policies, detailed longrange budgeting, and strengthened relationships with both the state and city.\n",
      "This fundamental fecal constraint is a limiting factor to its credit profile, though one that is meaningfully offset by prudent fiscal policies, detailed longrange budgeting, and strengthened relationships with both the state and city.\n",
      "This fundamental fatality constraint is a limiting factor to its credit profile, though one that is meaningfully offset by prudent fiscal policies, detailed longrange budgeting, and strengthened relationships with both the state and city.\n",
      "This fundamental evolution constraint is a limiting factor to its credit profile, though one that is meaningfully offset by prudent fiscal policies, detailed longrange budgeting, and strengthened relationships with both the state and city.\n",
      "This fundamental equipment constraint is a limiting factor to its credit profile, though one that is meaningfully offset by prudent fiscal policies, detailed longrange budgeting, and strengthened relationships with both the state and city.\n",
      "This fundamental epidemiological constraint is a limiting factor to its credit profile, though one that is meaningfully offset by prudent fiscal policies, detailed longrange budgeting, and strengthened relationships with both the state and city.\n",
      "This fundamental epidemic constraint is a limiting factor to its credit profile, though one that is meaningfully offset by prudent fiscal policies, detailed longrange budgeting, and strengthened relationships with both the state and city.\n",
      "This fundamental environment constraint is a limiting factor to its credit profile, though one that is meaningfully offset by prudent fiscal policies, detailed longrange budgeting, and strengthened relationships with both the state and city.\n",
      "This fundamental effort constraint is a limiting factor to its credit profile, though one that is meaningfully offset by prudent fiscal policies, detailed longrange budgeting, and strengthened relationships with both the state and city.\n",
      "This fundamental effective constraint is a limiting factor to its credit profile, though one that is meaningfully offset by prudent fiscal policies, detailed longrange budgeting, and strengthened relationships with both the state and city.\n",
      "This fundamental dynamic constraint is a limiting factor to its credit profile, though one that is meaningfully offset by prudent fiscal policies, detailed longrange budgeting, and strengthened relationships with both the state and city.\n",
      "This fundamental distribution constraint is a limiting factor to its credit profile, though one that is meaningfully offset by prudent fiscal policies, detailed longrange budgeting, and strengthened relationships with both the state and city.\n",
      "This fundamental discharge constraint is a limiting factor to its credit profile, though one that is meaningfully offset by prudent fiscal policies, detailed longrange budgeting, and strengthened relationships with both the state and city.\n",
      "This fundamental difference constraint is a limiting factor to its credit profile, though one that is meaningfully offset by prudent fiscal policies, detailed longrange budgeting, and strengthened relationships with both the state and city.\n",
      "This fundamental determine constraint is a limiting factor to its credit profile, though one that is meaningfully offset by prudent fiscal policies, detailed longrange budgeting, and strengthened relationships with both the state and city.\n",
      "This fundamental decontamination constraint is a limiting factor to its credit profile, though one that is meaningfully offset by prudent fiscal policies, detailed longrange budgeting, and strengthened relationships with both the state and city.\n",
      "This fundamental datum constraint is a limiting factor to its credit profile, though one that is meaningfully offset by prudent fiscal policies, detailed longrange budgeting, and strengthened relationships with both the state and city.\n",
      "This fundamental covid constraint is a limiting factor to its credit profile, though one that is meaningfully offset by prudent fiscal policies, detailed longrange budgeting, and strengthened relationships with both the state and city.\n",
      "This fundamental coronavirus constraint is a limiting factor to its credit profile, though one that is meaningfully offset by prudent fiscal policies, detailed longrange budgeting, and strengthened relationships with both the state and city.\n",
      "This fundamental copper constraint is a limiting factor to its credit profile, though one that is meaningfully offset by prudent fiscal policies, detailed longrange budgeting, and strengthened relationships with both the state and city.\n",
      "This fundamental contagious constraint is a limiting factor to its credit profile, though one that is meaningfully offset by prudent fiscal policies, detailed longrange budgeting, and strengthened relationships with both the state and city.\n",
      "This fundamental clinical constraint is a limiting factor to its credit profile, though one that is meaningfully offset by prudent fiscal policies, detailed longrange budgeting, and strengthened relationships with both the state and city.\n",
      "This fundamental child constraint is a limiting factor to its credit profile, though one that is meaningfully offset by prudent fiscal policies, detailed longrange budgeting, and strengthened relationships with both the state and city.\n",
      "This fundamental charge constraint is a limiting factor to its credit profile, though one that is meaningfully offset by prudent fiscal policies, detailed longrange budgeting, and strengthened relationships with both the state and city.\n",
      "This fundamental change constraint is a limiting factor to its credit profile, though one that is meaningfully offset by prudent fiscal policies, detailed longrange budgeting, and strengthened relationships with both the state and city.\n",
      "This fundamental blood constraint is a limiting factor to its credit profile, though one that is meaningfully offset by prudent fiscal policies, detailed longrange budgeting, and strengthened relationships with both the state and city.\n",
      "This fundamental behavioral constraint is a limiting factor to its credit profile, though one that is meaningfully offset by prudent fiscal policies, detailed longrange budgeting, and strengthened relationships with both the state and city.\n",
      "This fundamental basic constraint is a limiting factor to its credit profile, though one that is meaningfully offset by prudent fiscal policies, detailed longrange budgeting, and strengthened relationships with both the state and city.\n",
      "This fundamental asymptomatic constraint is a limiting factor to its credit profile, though one that is meaningfully offset by prudent fiscal policies, detailed longrange budgeting, and strengthened relationships with both the state and city.\n",
      "This fundamental area constraint is a limiting factor to its credit profile, though one that is meaningfully offset by prudent fiscal policies, detailed longrange budgeting, and strengthened relationships with both the state and city.\n",
      "This fundamental animal constraint is a limiting factor to its credit profile, though one that is meaningfully offset by prudent fiscal policies, detailed longrange budgeting, and strengthened relationships with both the state and city.\n",
      "This fundamental age constraint is a limiting factor to its credit profile, though one that is meaningfully offset by prudent fiscal policies, detailed longrange budgeting, and strengthened relationships with both the state and city.\n",
      "This fundamental affect constraint is a limiting factor to its credit profile, though one that is meaningfully offset by prudent fiscal policies, detailed longrange budgeting, and strengthened relationships with both the state and city.\n",
      "This fundamental adhesion constraint is a limiting factor to its credit profile, though one that is meaningfully offset by prudent fiscal policies, detailed longrange budgeting, and strengthened relationships with both the state and city.\n",
      "This fundamental adaptation constraint is a limiting factor to its credit profile, though one that is meaningfully offset by prudent fiscal policies, detailed longrange budgeting, and strengthened relationships with both the state and city.\n"
     ]
    }
   ],
   "source": [
    "for i in range(len(task_term_active['term'])):\n",
    "    print(ex + task_term_active['term'][i] +ex1)"
   ]
  },
  {
   "cell_type": "code",
   "execution_count": null,
   "metadata": {},
   "outputs": [],
   "source": [
    "real, time, development, test"
   ]
  },
  {
   "cell_type": "code",
   "execution_count": null,
   "metadata": {},
   "outputs": [],
   "source": []
  },
  {
   "cell_type": "code",
   "execution_count": null,
   "metadata": {},
   "outputs": [],
   "source": []
  },
  {
   "cell_type": "code",
   "execution_count": null,
   "metadata": {},
   "outputs": [],
   "source": [
    "# Read in corpus "
   ]
  },
  {
   "cell_type": "code",
   "execution_count": 3,
   "metadata": {},
   "outputs": [],
   "source": [
    "# Defining a grammar & Parser\n",
    "NP = \"NP: {(<V\\w+>|<NN\\w?>)+.*<NN\\w?>}\"\n",
    "\n",
    "chunker = RegexpParser(NP)\n",
    "\n",
    "\n",
    "def get_continuous_chunks(text, chunk_func=ne_chunk):\n",
    "    \"\"\"\n",
    "    Function from:\n",
    "    https://stackoverflow.com/questions/49564176/python-nltk-more-efficient-way-to-extract-noun-phrases\n",
    "    Used to identify, and extract, noun-phrases in the training text\n",
    "    \"\"\"\n",
    "    chunked = chunk_func(pos_tag(word_tokenize(text)))\n",
    "    continuous_chunk = []\n",
    "    current_chunk = []\n",
    "\n",
    "    for subtree in chunked:\n",
    "        if type(subtree) == Tree:\n",
    "            current_chunk.append(\" \".join([token for token, pos in subtree.leaves()]))\n",
    "        elif current_chunk:\n",
    "            named_entity = \" \".join(current_chunk)\n",
    "            if named_entity not in continuous_chunk:\n",
    "                continuous_chunk.append(named_entity)\n",
    "                current_chunk = []\n",
    "        else:\n",
    "            continue\n",
    "\n",
    "    return continuous_chunk"
   ]
  },
  {
   "cell_type": "code",
   "execution_count": 4,
   "metadata": {},
   "outputs": [],
   "source": [
    "def FrequencyCounter(df, n, sub_event):\n",
    "    \"\"\"Function to output term frequency\n",
    "    input: dataframe, sample size, Event Type\n",
    "    output: frequency table of noun phrases with proportion of total extractions for the Event Type\n",
    "    \"\"\"\n",
    "    s = pd.DataFrame(df[df['Event Type']==sub_event]['Sentence'])\n",
    "    s_test =s[:n]\n",
    "    freq = pd.DataFrame(s_test['Sentence'].apply(lambda sent: get_continuous_chunks(sent, chunker.parse)))\n",
    "    \n",
    "    wordlist = freq.Sentence.sum()\n",
    "    counter = collections.Counter(wordlist)\n",
    "    df_temp = pd.DataFrame(counter.most_common())\n",
    "    df_temp['prop'] = df_temp[1]/df[df['Event Type']==sub_event].shape[0]\n",
    "    df_temp.columns = ['Term', 'Count of Events', 'Proportion of Term in Event']\n",
    "    return df_temp"
   ]
  },
  {
   "cell_type": "code",
   "execution_count": null,
   "metadata": {},
   "outputs": [],
   "source": [
    "#FrequencyCounter(df, 6000,'Access to Basic Service')"
   ]
  }
 ],
 "metadata": {
  "kernelspec": {
   "display_name": "Python 3",
   "language": "python",
   "name": "python3"
  },
  "language_info": {
   "codemirror_mode": {
    "name": "ipython",
    "version": 3
   },
   "file_extension": ".py",
   "mimetype": "text/x-python",
   "name": "python",
   "nbconvert_exporter": "python",
   "pygments_lexer": "ipython3",
   "version": "3.7.3"
  }
 },
 "nbformat": 4,
 "nbformat_minor": 2
}
