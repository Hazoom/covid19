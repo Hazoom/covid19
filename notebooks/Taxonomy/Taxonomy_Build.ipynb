{
 "cells": [
  {
   "cell_type": "code",
   "execution_count": 1,
   "metadata": {},
   "outputs": [],
   "source": [
    "import pandas as pd\n",
    "import re\n",
    "import matplotlib.pyplot as plt\n",
    "pd.options.display.max_colwidth = 100\n",
    "pd.set_option('display.max_columns', None)\n",
    "pd.set_option('display.max_rows', None)\n",
    "import pandas as pd\n",
    "from nltk import word_tokenize, pos_tag, ne_chunk\n",
    "from nltk import RegexpParser\n",
    "from nltk import Tree\n",
    "import nltk\n",
    "import numpy as np\n",
    "import collections\n",
    "import networkx as nx\n",
    "\n",
    "import numpy as np\n",
    "import sklearn.cluster\n",
    "import distance"
   ]
  },
  {
   "cell_type": "markdown",
   "metadata": {},
   "source": [
    "# Organize NERTag Taxonomy"
   ]
  },
  {
   "cell_type": "code",
   "execution_count": 17,
   "metadata": {},
   "outputs": [],
   "source": [
    "task_term_active = pd.read_csv(\"Terms/Kaggle_Task/active_form.csv\", sep=';', header=None,names=['term', 'count', 'pos'])"
   ]
  },
  {
   "cell_type": "code",
   "execution_count": 18,
   "metadata": {},
   "outputs": [
    {
     "data": {
      "text/html": [
       "<div>\n",
       "<style scoped>\n",
       "    .dataframe tbody tr th:only-of-type {\n",
       "        vertical-align: middle;\n",
       "    }\n",
       "\n",
       "    .dataframe tbody tr th {\n",
       "        vertical-align: top;\n",
       "    }\n",
       "\n",
       "    .dataframe thead th {\n",
       "        text-align: right;\n",
       "    }\n",
       "</style>\n",
       "<table border=\"1\" class=\"dataframe\">\n",
       "  <thead>\n",
       "    <tr style=\"text-align: right;\">\n",
       "      <th></th>\n",
       "      <th>term</th>\n",
       "      <th>count</th>\n",
       "      <th>pos</th>\n",
       "    </tr>\n",
       "  </thead>\n",
       "  <tbody>\n",
       "    <tr>\n",
       "      <th>0</th>\n",
       "      <td>transmission</td>\n",
       "      <td>10</td>\n",
       "      <td>nom</td>\n",
       "    </tr>\n",
       "  </tbody>\n",
       "</table>\n",
       "</div>"
      ],
      "text/plain": [
       "           term  count  pos\n",
       "0  transmission     10  nom"
      ]
     },
     "execution_count": 18,
     "metadata": {},
     "output_type": "execute_result"
    }
   ],
   "source": [
    "task_term_active.head(1)"
   ]
  },
  {
   "cell_type": "code",
   "execution_count": 21,
   "metadata": {},
   "outputs": [],
   "source": [
    "# input list from active_form sheet\n",
    "s = []\n",
    "for i in task_term_active['term']:\n",
    "    s.append(i.rstrip().lower()+'|')"
   ]
  },
  {
   "cell_type": "code",
   "execution_count": null,
   "metadata": {},
   "outputs": [],
   "source": [
    "# output for VSA"
   ]
  },
  {
   "cell_type": "code",
   "execution_count": 56,
   "metadata": {},
   "outputs": [
    {
     "data": {
      "text/plain": [
       "'transmission |  virus |  risk |  disease |  infection |  health |  factor |  shed |  incubation |  include |  environmental |  control |  viral |  surface |  study |  stability |  specifically |  setting |  report |  potential |  persistence |  period |  patient |  natural |  model |  literature |  learn |  history |  exist |  effectiveness |  economic |  diagnostic |  community |  care |  woman |  virulent |  vary |  usefulness |  urine |  understand |  transmissible |  tool |  theme_transmission |  symptomatic |  susceptibility |  survival |  substrate |  strategy |  steel |  status |  stainless |  sputum |  source |  socio |  smoke |  severity |  serial |  secondary |  seasonality |  science |  role |  response |  respiratory |  reproductive |  reduce |  recovery |  range |  pulmonary |  public |  provide |  protective |  product |  process |  prevention |  prevent |  prevalence |  pregnant |  pre |  ppe |  population |  plastic |  physical |  phobic |  phenotypic |  personal |  person |  origin |  numb |  neonate |  nasal |  multitude |  movement |  morbidity |  monitor |  mode |  mitigation |  measure |  matter |  material |  long |  interval |  information |  inform |  infect |  individual |  improve |  implementation |  impact |  immunity |  immune |  hydrophilic |  human |  hospitalize |  high |  group |  genetics |  fecal |  fatality |  evolution |  equipment |  epidemiological |  epidemic |  environment |  effort |  effective |  dynamic |  distribution |  discharge |  difference |  determine |  decontamination |  datum |  covid |  coronavirus |  copper |  contagious |  clinical |  child |  charge |  change |  blood |  behavioral |  basic |  asymptomatic |  area |  animal |  age |  affect |  adhesion |  adaptation | '"
      ]
     },
     "execution_count": 56,
     "metadata": {},
     "output_type": "execute_result"
    }
   ],
   "source": [
    "\" \".join(s)"
   ]
  },
  {
   "cell_type": "code",
   "execution_count": 71,
   "metadata": {},
   "outputs": [],
   "source": [
    "# Printing list using map \n",
    "#print (\"Output for NERTag List:\", '\\n%s' % ' \\n'.join(map(str, task_term_active['term'])))"
   ]
  },
  {
   "cell_type": "code",
   "execution_count": 84,
   "metadata": {},
   "outputs": [],
   "source": [
    "# Printing list using map \n",
    "words = ('%s' % ' '.join(map(str, task_term_active['term'])))"
   ]
  },
  {
   "cell_type": "code",
   "execution_count": null,
   "metadata": {},
   "outputs": [],
   "source": [
    "#https://stats.stackexchange.com/questions/123060/clustering-a-long-list-of-strings-words-into-similarity-groups"
   ]
  },
  {
   "cell_type": "code",
   "execution_count": 86,
   "metadata": {},
   "outputs": [],
   "source": [
    "words = words.split(\" \") #Replace this line\n",
    "words = np.asarray(words) #So that indexing with a list will work"
   ]
  },
  {
   "cell_type": "code",
   "execution_count": 97,
   "metadata": {
    "scrolled": true
   },
   "outputs": [
    {
     "name": "stdout",
     "output_type": "stream",
     "text": [
      " - *transmission:* theme_transmission, transmissible, transmission\n",
      " - *factor:* control, factor, health, history, matter, monitor, socio\n",
      " - *incubation:* adaptation, distribution, evolution, incubation, information, mitigation, population\n",
      " - *viral:* animal, behavioral, clinical, disease, fecal, high, hospitalize, human, individual, nasal, natural, steel, viral, virulent, virus, woman\n",
      " - *stability:* fatality, morbidity, seasonality, stability, stainless, susceptibility\n",
      " - *report:* effort, exist, neonate, recovery, reduce, report, respiratory, response\n",
      " - *economic:* diagnostic, dynamic, economic, epidemic, genetics, secondary\n",
      " - *care:* age, area, basic, care, change, charge, child, copper, covid, discharge, include, learn, measure, numb, ppe, pre, range, shed, source, vary\n",
      " - *urine:* determine, group, multitude, origin, provide, risk, science, substrate, surface, urine, usefulness\n",
      " - *symptomatic:* asymptomatic, symptomatic\n",
      " - *status:* datum, literature, sputum, status, strategy, study\n",
      " - *serial:* interval, material, potential, serial, setting, severity, specifically, survival\n",
      " - *prevent:* movement, patient, pregnant, prevalence, prevent, prevention, process, product\n",
      " - *phobic:* hydrophilic, phenotypic, phobic, physical, plastic, public\n",
      " - *person:* adhesion, period, persistence, person, personal, pulmonary, understand\n",
      " - *mode:* blood, improve, long, mode, model, role, smoke, tool\n",
      " - *infect:* affect, difference, impact, infect, infection, inform\n",
      " - *implementation:* implementation\n",
      " - *immunity:* community, immune, immunity\n",
      " - *epidemiological:* epidemiological\n",
      " - *environment:* environment, environmental, equipment\n",
      " - *effective:* effective, effectiveness, protective, reproductive\n",
      " - *decontamination:* decontamination\n",
      " - *coronavirus:* contagious, coronavirus\n"
     ]
    }
   ],
   "source": [
    "lev_similarity = -1*np.array([[distance.levenshtein(w1,w2) for w1 in words] for w2 in words])\n",
    "affprop = sklearn.cluster.AffinityPropagation(affinity=\"precomputed\", damping=0.75)\n",
    "affprop.fit(lev_similarity)\n",
    "for cluster_id in np.unique(affprop.labels_):\n",
    "    exemplar = words[affprop.cluster_centers_indices_[cluster_id]]\n",
    "    cluster = np.unique(words[np.nonzero(affprop.labels_==cluster_id)])\n",
    "    cluster_str = \", \".join(cluster)\n",
    "    print(\" - *%s:* %s\" % (exemplar, cluster_str))"
   ]
  },
  {
   "cell_type": "code",
   "execution_count": 112,
   "metadata": {},
   "outputs": [
    {
     "name": "stdout",
     "output_type": "stream",
     "text": [
      "transmission | theme_transmission | transmissible | transmission|\n",
      "factor | control | factor | health | history | matter | monitor | socio|\n",
      "incubation | adaptation | distribution | evolution | incubation | information | mitigation | population|\n",
      "viral | animal | behavioral | clinical | disease | fecal | high | hospitalize | human | individual | nasal | natural | steel | viral | virulent | virus | woman|\n",
      "stability | fatality | morbidity | seasonality | stability | stainless | susceptibility|\n",
      "report | effort | exist | neonate | recovery | reduce | report | respiratory | response|\n",
      "economic | diagnostic | dynamic | economic | epidemic | genetics | secondary|\n",
      "care | age | area | basic | care | change | charge | child | copper | covid | discharge | include | learn | measure | numb | ppe | pre | range | shed | source | vary|\n",
      "urine | determine | group | multitude | origin | provide | risk | science | substrate | surface | urine | usefulness|\n",
      "symptomatic | asymptomatic | symptomatic|\n",
      "status | datum | literature | sputum | status | strategy | study|\n",
      "serial | interval | material | potential | serial | setting | severity | specifically | survival|\n",
      "prevent | movement | patient | pregnant | prevalence | prevent | prevention | process | product|\n",
      "phobic | hydrophilic | phenotypic | phobic | physical | plastic | public|\n",
      "person | adhesion | period | persistence | person | personal | pulmonary | understand|\n",
      "mode | blood | improve | long | mode | model | role | smoke | tool|\n",
      "infect | affect | difference | impact | infect | infection | inform|\n",
      "implementation | implementation|\n",
      "immunity | community | immune | immunity|\n",
      "epidemiological | epidemiological|\n",
      "environment | environment | environmental | equipment|\n",
      "effective | effective | effectiveness | protective | reproductive|\n",
      "decontamination | decontamination|\n",
      "coronavirus | contagious | coronavirus|\n"
     ]
    }
   ],
   "source": [
    "lev_similarity = -1*np.array([[distance.levenshtein(w1,w2) for w1 in words] for w2 in words])\n",
    "affprop = sklearn.cluster.AffinityPropagation(affinity=\"precomputed\", damping=0.75)\n",
    "affprop.fit(lev_similarity)\n",
    "for cluster_id in np.unique(affprop.labels_):\n",
    "    exemplar = words[affprop.cluster_centers_indices_[cluster_id]]\n",
    "    cluster = np.unique(words[np.nonzero(affprop.labels_==cluster_id)])\n",
    "    cluster_str = \" | \".join(cluster)\n",
    "    print('%s' % ' | '.join(map(str,(exemplar, cluster_str))).lower()+'|')\n"
   ]
  },
  {
   "cell_type": "code",
   "execution_count": 93,
   "metadata": {},
   "outputs": [
    {
     "data": {
      "text/plain": [
       "'contagious, coronavirus'"
      ]
     },
     "execution_count": 93,
     "metadata": {},
     "output_type": "execute_result"
    }
   ],
   "source": [
    "cluster_str"
   ]
  },
  {
   "cell_type": "code",
   "execution_count": null,
   "metadata": {},
   "outputs": [],
   "source": [
    "# use clustering for each Event Type"
   ]
  },
  {
   "cell_type": "code",
   "execution_count": 115,
   "metadata": {},
   "outputs": [
    {
     "name": "stdout",
     "output_type": "stream",
     "text": [
      "2019-ncov | 2019 novel coronavirus | coronavirus 2019 | coronavirus disease 19 | covid-19 | covid 19 | ncov-2019 | sars-cov-2 | wuhan coronavirus | wuhan pneumonia | wuhan virus\n"
     ]
    }
   ],
   "source": [
    "# Printing list using map \n",
    "print('%s' % ' | '.join(map(str, covid_mention)))"
   ]
  },
  {
   "cell_type": "code",
   "execution_count": null,
   "metadata": {},
   "outputs": [],
   "source": [
    "# Read in output from above terms"
   ]
  },
  {
   "cell_type": "code",
   "execution_count": 4,
   "metadata": {},
   "outputs": [
    {
     "name": "stderr",
     "output_type": "stream",
     "text": [
      "C:\\ProgramData\\Anaconda3\\lib\\site-packages\\IPython\\core\\interactiveshell.py:3049: DtypeWarning: Columns (0,1,2,3,4,5,6,7,8,9,10) have mixed types. Specify dtype option on import or set low_memory=False.\n",
      "  interactivity=interactivity, compiler=compiler, result=result)\n"
     ]
    }
   ],
   "source": [
    "results = pd.read_csv(\"C:/Users/Sarah/Documents/VIPProjects/POC/COVID/Corpus/\\\n",
    "vip_clean_articles_sample_batch_clean_final_v0.csv\")"
   ]
  },
  {
   "cell_type": "code",
   "execution_count": 17,
   "metadata": {},
   "outputs": [
    {
     "data": {
      "text/html": [
       "<div>\n",
       "<style scoped>\n",
       "    .dataframe tbody tr th:only-of-type {\n",
       "        vertical-align: middle;\n",
       "    }\n",
       "\n",
       "    .dataframe tbody tr th {\n",
       "        vertical-align: top;\n",
       "    }\n",
       "\n",
       "    .dataframe thead th {\n",
       "        text-align: right;\n",
       "    }\n",
       "</style>\n",
       "<table border=\"1\" class=\"dataframe\">\n",
       "  <thead>\n",
       "    <tr style=\"text-align: right;\">\n",
       "      <th></th>\n",
       "      <th>Main Company</th>\n",
       "      <th>Event Type</th>\n",
       "      <th>Date</th>\n",
       "      <th>Event Target</th>\n",
       "      <th>Extraction</th>\n",
       "      <th>Polarity</th>\n",
       "      <th>Other</th>\n",
       "      <th>Sentence</th>\n",
       "      <th>Paragraph</th>\n",
       "      <th>URL</th>\n",
       "      <th>Sentence(Inc. Annotations)</th>\n",
       "      <th>Sentence_Len</th>\n",
       "    </tr>\n",
       "  </thead>\n",
       "  <tbody>\n",
       "    <tr>\n",
       "      <th>0</th>\n",
       "      <td>Amenity Analytics</td>\n",
       "      <td>Care Policy</td>\n",
       "      <td>2/28/2010</td>\n",
       "      <td>Amenity Analytics</td>\n",
       "      <td>including</td>\n",
       "      <td>NEUTRAL</td>\n",
       "      <td>{LIABILITIESEXPENSEDATA:\"including\", LIABILITIESEXPENSEDATA:\"measures\", ORG:\"Amenity Analytics\"}</td>\n",
       "      <td>The adverse events, including death, bleeding, and PTE recurrence, were also evaluated. were ana...</td>\n",
       "      <td>In this study, we compared the effi cacy and safety of the rt-PA at 50 mg/2 h with the rt-PA at ...</td>\n",
       "      <td>Elsevier</td>\n",
       "      <td>&lt;sa.sent&gt;&lt;RULES rulelines=\"13328_13330_13356_15260_204507_206541\" etrulelines=\"47830_47832_47850...</td>\n",
       "      <td>150.0</td>\n",
       "    </tr>\n",
       "  </tbody>\n",
       "</table>\n",
       "</div>"
      ],
      "text/plain": [
       "        Main Company   Event Type       Date       Event Target Extraction  \\\n",
       "0  Amenity Analytics  Care Policy  2/28/2010  Amenity Analytics  including   \n",
       "\n",
       "  Polarity  \\\n",
       "0  NEUTRAL   \n",
       "\n",
       "                                                                                              Other  \\\n",
       "0  {LIABILITIESEXPENSEDATA:\"including\", LIABILITIESEXPENSEDATA:\"measures\", ORG:\"Amenity Analytics\"}   \n",
       "\n",
       "                                                                                              Sentence  \\\n",
       "0  The adverse events, including death, bleeding, and PTE recurrence, were also evaluated. were ana...   \n",
       "\n",
       "                                                                                             Paragraph  \\\n",
       "0  In this study, we compared the effi cacy and safety of the rt-PA at 50 mg/2 h with the rt-PA at ...   \n",
       "\n",
       "        URL  \\\n",
       "0  Elsevier   \n",
       "\n",
       "                                                                            Sentence(Inc. Annotations)  \\\n",
       "0  <sa.sent><RULES rulelines=\"13328_13330_13356_15260_204507_206541\" etrulelines=\"47830_47832_47850...   \n",
       "\n",
       "   Sentence_Len  \n",
       "0         150.0  "
      ]
     },
     "execution_count": 17,
     "metadata": {},
     "output_type": "execute_result"
    }
   ],
   "source": [
    "results.head(1)"
   ]
  },
  {
   "cell_type": "code",
   "execution_count": 8,
   "metadata": {},
   "outputs": [],
   "source": [
    "# add length of sentence as variable\n",
    "results['Sentence_Len'] = results['Sentence'].str.len()"
   ]
  },
  {
   "cell_type": "code",
   "execution_count": 12,
   "metadata": {},
   "outputs": [
    {
     "data": {
      "text/plain": [
       "9.0"
      ]
     },
     "execution_count": 12,
     "metadata": {},
     "output_type": "execute_result"
    }
   ],
   "source": [
    "results['Sentence_Len'].min()"
   ]
  },
  {
   "cell_type": "code",
   "execution_count": 11,
   "metadata": {},
   "outputs": [
    {
     "data": {
      "text/plain": [
       "252.93403057119872"
      ]
     },
     "execution_count": 11,
     "metadata": {},
     "output_type": "execute_result"
    }
   ],
   "source": [
    "results['Sentence_Len'].mean()"
   ]
  },
  {
   "cell_type": "code",
   "execution_count": null,
   "metadata": {},
   "outputs": [],
   "source": [
    "results.head"
   ]
  },
  {
   "cell_type": "code",
   "execution_count": 72,
   "metadata": {},
   "outputs": [
    {
     "data": {
      "text/html": [
       "<div>\n",
       "<style scoped>\n",
       "    .dataframe tbody tr th:only-of-type {\n",
       "        vertical-align: middle;\n",
       "    }\n",
       "\n",
       "    .dataframe tbody tr th {\n",
       "        vertical-align: top;\n",
       "    }\n",
       "\n",
       "    .dataframe thead th {\n",
       "        text-align: right;\n",
       "    }\n",
       "</style>\n",
       "<table border=\"1\" class=\"dataframe\">\n",
       "  <thead>\n",
       "    <tr style=\"text-align: right;\">\n",
       "      <th></th>\n",
       "      <th>Sentence</th>\n",
       "    </tr>\n",
       "  </thead>\n",
       "  <tbody>\n",
       "    <tr>\n",
       "      <th>1904</th>\n",
       "      <td>reported.</td>\n",
       "    </tr>\n",
       "    <tr>\n",
       "      <th>2616</th>\n",
       "      <td>Prevention</td>\n",
       "    </tr>\n",
       "    <tr>\n",
       "      <th>450</th>\n",
       "      <td>Data sources</td>\n",
       "    </tr>\n",
       "    <tr>\n",
       "      <th>1738</th>\n",
       "      <td>Weather data.</td>\n",
       "    </tr>\n",
       "    <tr>\n",
       "      <th>3063</th>\n",
       "      <td>Epidemic model</td>\n",
       "    </tr>\n",
       "    <tr>\n",
       "      <th>1963</th>\n",
       "      <td>Global response</td>\n",
       "    </tr>\n",
       "    <tr>\n",
       "      <th>1724</th>\n",
       "      <td>Data and Methods</td>\n",
       "    </tr>\n",
       "    <tr>\n",
       "      <th>493</th>\n",
       "      <td>Funding of source</td>\n",
       "    </tr>\n",
       "    <tr>\n",
       "      <th>3007</th>\n",
       "      <td>Modeling strategy</td>\n",
       "    </tr>\n",
       "    <tr>\n",
       "      <th>2804</th>\n",
       "      <td>Global Trend Model</td>\n",
       "    </tr>\n",
       "  </tbody>\n",
       "</table>\n",
       "</div>"
      ],
      "text/plain": [
       "                Sentence\n",
       "1904           reported.\n",
       "2616          Prevention\n",
       "450         Data sources\n",
       "1738       Weather data.\n",
       "3063      Epidemic model\n",
       "1963     Global response\n",
       "1724    Data and Methods\n",
       "493    Funding of source\n",
       "3007   Modeling strategy\n",
       "2804  Global Trend Model"
      ]
     },
     "execution_count": 72,
     "metadata": {},
     "output_type": "execute_result"
    }
   ],
   "source": [
    "results.sort_values('Sentence_Len', ascending=True)[['Sentence']].head(10)"
   ]
  },
  {
   "cell_type": "code",
   "execution_count": 23,
   "metadata": {},
   "outputs": [
    {
     "data": {
      "text/plain": [
       "array(['Care Policy', 'Economic Socioeconomic', 'General Diagnosis',\n",
       "       'Information Policy', 'Pathogen Diagnosis',\n",
       "       'Population Socioeconomic', 'Prevention Policy',\n",
       "       'Stability Socioeconomic', 'Transmission Policy',\n",
       "       'Viral Diagnosis', nan], dtype=object)"
      ]
     },
     "execution_count": 23,
     "metadata": {},
     "output_type": "execute_result"
    }
   ],
   "source": [
    "results['Event Type'].unique()"
   ]
  },
  {
   "cell_type": "code",
   "execution_count": 27,
   "metadata": {},
   "outputs": [
    {
     "data": {
      "text/plain": [
       "(1048575, 12)"
      ]
     },
     "execution_count": 27,
     "metadata": {},
     "output_type": "execute_result"
    }
   ],
   "source": [
    "results.shape"
   ]
  },
  {
   "cell_type": "code",
   "execution_count": 30,
   "metadata": {},
   "outputs": [],
   "source": [
    "results.dropna(inplace=True)"
   ]
  },
  {
   "cell_type": "code",
   "execution_count": 31,
   "metadata": {},
   "outputs": [
    {
     "data": {
      "text/plain": [
       "(3729, 12)"
      ]
     },
     "execution_count": 31,
     "metadata": {},
     "output_type": "execute_result"
    }
   ],
   "source": [
    "results.shape"
   ]
  },
  {
   "cell_type": "code",
   "execution_count": 33,
   "metadata": {
    "scrolled": true
   },
   "outputs": [
    {
     "name": "stdout",
     "output_type": "stream",
     "text": [
      "For Event Type: Care Policy\n"
     ]
    },
    {
     "data": {
      "image/png": "[encoded data removed]",
      "text/plain": [
       "<Figure size 432x288 with 1 Axes>"
      ]
     },
     "metadata": {
      "needs_background": "light"
     },
     "output_type": "display_data"
    },
    {
     "name": "stdout",
     "output_type": "stream",
     "text": [
      "For Event Type: Economic Socioeconomic\n"
     ]
    },
    {
     "data": {
      "image/png": "[encoded data removed]",
      "text/plain": [
       "<Figure size 432x288 with 1 Axes>"
      ]
     },
     "metadata": {
      "needs_background": "light"
     },
     "output_type": "display_data"
    },
    {
     "name": "stdout",
     "output_type": "stream",
     "text": [
      "For Event Type: General Diagnosis\n"
     ]
    },
    {
     "data": {
      "image/png": "[encoded data removed]",
      "text/plain": [
       "<Figure size 432x288 with 1 Axes>"
      ]
     },
     "metadata": {
      "needs_background": "light"
     },
     "output_type": "display_data"
    },
    {
     "name": "stdout",
     "output_type": "stream",
     "text": [
      "For Event Type: Information Policy\n"
     ]
    },
    {
     "data": {
      "image/png": "[encoded data removed]",
      "text/plain": [
       "<Figure size 432x288 with 1 Axes>"
      ]
     },
     "metadata": {
      "needs_background": "light"
     },
     "output_type": "display_data"
    },
    {
     "name": "stdout",
     "output_type": "stream",
     "text": [
      "For Event Type: Pathogen Diagnosis\n"
     ]
    },
    {
     "data": {
      "image/png": "[encoded data removed]",
      "text/plain": [
       "<Figure size 432x288 with 1 Axes>"
      ]
     },
     "metadata": {
      "needs_background": "light"
     },
     "output_type": "display_data"
    },
    {
     "name": "stdout",
     "output_type": "stream",
     "text": [
      "For Event Type: Population Socioeconomic\n"
     ]
    },
    {
     "data": {
      "image/png": "[encoded data removed]",
      "text/plain": [
       "<Figure size 432x288 with 1 Axes>"
      ]
     },
     "metadata": {
      "needs_background": "light"
     },
     "output_type": "display_data"
    },
    {
     "name": "stdout",
     "output_type": "stream",
     "text": [
      "For Event Type: Prevention Policy\n"
     ]
    },
    {
     "data": {
      "image/png": "[encoded data removed]",
      "text/plain": [
       "<Figure size 432x288 with 1 Axes>"
      ]
     },
     "metadata": {
      "needs_background": "light"
     },
     "output_type": "display_data"
    },
    {
     "name": "stdout",
     "output_type": "stream",
     "text": [
      "For Event Type: Stability Socioeconomic\n"
     ]
    },
    {
     "data": {
      "image/png": "[encoded data removed]",
      "text/plain": [
       "<Figure size 432x288 with 1 Axes>"
      ]
     },
     "metadata": {
      "needs_background": "light"
     },
     "output_type": "display_data"
    },
    {
     "name": "stdout",
     "output_type": "stream",
     "text": [
      "For Event Type: Transmission Policy\n"
     ]
    },
    {
     "data": {
      "image/png": "[encoded data removed]",
      "text/plain": [
       "<Figure size 432x288 with 1 Axes>"
      ]
     },
     "metadata": {
      "needs_background": "light"
     },
     "output_type": "display_data"
    },
    {
     "name": "stdout",
     "output_type": "stream",
     "text": [
      "For Event Type: Viral Diagnosis\n"
     ]
    },
    {
     "data": {
      "image/png": "[encoded data removed]",
      "text/plain": [
       "<Figure size 432x288 with 1 Axes>"
      ]
     },
     "metadata": {
      "needs_background": "light"
     },
     "output_type": "display_data"
    }
   ],
   "source": [
    "for i in range(len(results['Event Type'].unique())):\n",
    "    print(\"For Event Type: \" + results['Event Type'].unique()[i])\n",
    "    #print(i)\n",
    "    try:\n",
    "        df_1 = results[results['Event Type'] == results['Event Type'].unique()[i]]\n",
    "        df_2 = df_1['Extraction'].value_counts().head(10)\n",
    "        df_2.plot.bar(x='index', y='Extraction', rot=60, label='Number of Extractions')\n",
    "        plt.xlabel('Extraction', fontsize=10)\n",
    "        plt.ylabel('Count of Events', fontsize=10)  \n",
    "        plt.title(\"For Event Type: \" + results['Event Type'].unique()[i], fontsize=13)\n",
    "        plt.show()\n",
    "    except TypeError:\n",
    "        print('need mer dater')"
   ]
  },
  {
   "cell_type": "code",
   "execution_count": 6,
   "metadata": {},
   "outputs": [],
   "source": [
    "# Defining a grammar & Parser\n",
    "NP = \"NP: {(<V\\w+>|<NN\\w?>)+.*<NN\\w?>}\"\n",
    "\n",
    "chunker = RegexpParser(NP)\n",
    "\n",
    "\n",
    "def get_continuous_chunks(text, chunk_func=ne_chunk):\n",
    "    \"\"\"\n",
    "    Function from:\n",
    "    https://stackoverflow.com/questions/49564176/python-nltk-more-efficient-way-to-extract-noun-phrases\n",
    "    Used to identify, and extract, noun-phrases in the training text\n",
    "    \"\"\"\n",
    "    chunked = chunk_func(pos_tag(word_tokenize(text)))\n",
    "    continuous_chunk = []\n",
    "    current_chunk = []\n",
    "\n",
    "    for subtree in chunked:\n",
    "        if type(subtree) == Tree:\n",
    "            current_chunk.append(\" \".join([token for token, pos in subtree.leaves()]))\n",
    "        elif current_chunk:\n",
    "            named_entity = \" \".join(current_chunk)\n",
    "            if named_entity not in continuous_chunk:\n",
    "                continuous_chunk.append(named_entity)\n",
    "                current_chunk = []\n",
    "        else:\n",
    "            continue\n",
    "\n",
    "    return continuous_chunk"
   ]
  },
  {
   "cell_type": "code",
   "execution_count": 7,
   "metadata": {},
   "outputs": [],
   "source": [
    "def FrequencyCounter(df, n, sub_event):\n",
    "    \"\"\"Function to output term frequency\n",
    "    input: dataframe, sample size, Event Type\n",
    "    output: frequency table of noun phrases with proportion of total extractions for the Event Type\n",
    "    \"\"\"\n",
    "    s = pd.DataFrame(df[df['Event Type']==sub_event]['Sentence'])\n",
    "    s_test =s[:n]\n",
    "    freq = pd.DataFrame(s_test['Sentence'].apply(lambda sent: get_continuous_chunks(sent, chunker.parse)))\n",
    "    \n",
    "    wordlist = freq.Sentence.sum()\n",
    "    counter = collections.Counter(wordlist)\n",
    "    df_temp = pd.DataFrame(counter.most_common())\n",
    "    df_temp['prop'] = df_temp[1]/df[df['Event Type']==sub_event].shape[0]\n",
    "    df_temp.columns = ['Term', 'Count of Events', 'Proportion of Term in Event']\n",
    "    return df_temp"
   ]
  },
  {
   "cell_type": "code",
   "execution_count": 59,
   "metadata": {},
   "outputs": [
    {
     "data": {
      "text/plain": [
       "array(['Care Policy', 'Economic Socioeconomic', 'General Diagnosis',\n",
       "       'Information Policy', 'Pathogen Diagnosis',\n",
       "       'Population Socioeconomic', 'Prevention Policy',\n",
       "       'Stability Socioeconomic', 'Transmission Policy',\n",
       "       'Viral Diagnosis'], dtype=object)"
      ]
     },
     "execution_count": 59,
     "metadata": {},
     "output_type": "execute_result"
    }
   ],
   "source": [
    "results['Event Type'].unique()"
   ]
  },
  {
   "cell_type": "code",
   "execution_count": 67,
   "metadata": {
    "scrolled": true
   },
   "outputs": [
    {
     "data": {
      "text/html": [
       "<div>\n",
       "<style scoped>\n",
       "    .dataframe tbody tr th:only-of-type {\n",
       "        vertical-align: middle;\n",
       "    }\n",
       "\n",
       "    .dataframe tbody tr th {\n",
       "        vertical-align: top;\n",
       "    }\n",
       "\n",
       "    .dataframe thead th {\n",
       "        text-align: right;\n",
       "    }\n",
       "</style>\n",
       "<table border=\"1\" class=\"dataframe\">\n",
       "  <thead>\n",
       "    <tr style=\"text-align: right;\">\n",
       "      <th></th>\n",
       "      <th>Term</th>\n",
       "      <th>Count of Events</th>\n",
       "      <th>Proportion of Term in Event</th>\n",
       "    </tr>\n",
       "  </thead>\n",
       "  <tbody>\n",
       "    <tr>\n",
       "      <th>0</th>\n",
       "      <td>means taking measures</td>\n",
       "      <td>2</td>\n",
       "      <td>0.666667</td>\n",
       "    </tr>\n",
       "    <tr>\n",
       "      <th>1</th>\n",
       "      <td>nursing skill</td>\n",
       "      <td>2</td>\n",
       "      <td>0.666667</td>\n",
       "    </tr>\n",
       "    <tr>\n",
       "      <th>2</th>\n",
       "      <td>ones safety</td>\n",
       "      <td>2</td>\n",
       "      <td>0.666667</td>\n",
       "    </tr>\n",
       "    <tr>\n",
       "      <th>3</th>\n",
       "      <td>be integration</td>\n",
       "      <td>1</td>\n",
       "      <td>0.333333</td>\n",
       "    </tr>\n",
       "    <tr>\n",
       "      <th>4</th>\n",
       "      <td>nursing education</td>\n",
       "      <td>1</td>\n",
       "      <td>0.333333</td>\n",
       "    </tr>\n",
       "    <tr>\n",
       "      <th>5</th>\n",
       "      <td>health impacts</td>\n",
       "      <td>1</td>\n",
       "      <td>0.333333</td>\n",
       "    </tr>\n",
       "    <tr>\n",
       "      <th>6</th>\n",
       "      <td>nurses role</td>\n",
       "      <td>1</td>\n",
       "      <td>0.333333</td>\n",
       "    </tr>\n",
       "    <tr>\n",
       "      <th>7</th>\n",
       "      <td>health care</td>\n",
       "      <td>1</td>\n",
       "      <td>0.333333</td>\n",
       "    </tr>\n",
       "    <tr>\n",
       "      <th>8</th>\n",
       "      <td>McKinsey Global Institute</td>\n",
       "      <td>1</td>\n",
       "      <td>0.333333</td>\n",
       "    </tr>\n",
       "    <tr>\n",
       "      <th>9</th>\n",
       "      <td>nursing care</td>\n",
       "      <td>1</td>\n",
       "      <td>0.333333</td>\n",
       "    </tr>\n",
       "    <tr>\n",
       "      <th>10</th>\n",
       "      <td>improve patient care</td>\n",
       "      <td>1</td>\n",
       "      <td>0.333333</td>\n",
       "    </tr>\n",
       "  </tbody>\n",
       "</table>\n",
       "</div>"
      ],
      "text/plain": [
       "                         Term  Count of Events  Proportion of Term in Event\n",
       "0       means taking measures                2                     0.666667\n",
       "1               nursing skill                2                     0.666667\n",
       "2                 ones safety                2                     0.666667\n",
       "3              be integration                1                     0.333333\n",
       "4           nursing education                1                     0.333333\n",
       "5              health impacts                1                     0.333333\n",
       "6                 nurses role                1                     0.333333\n",
       "7                 health care                1                     0.333333\n",
       "8   McKinsey Global Institute                1                     0.333333\n",
       "9                nursing care                1                     0.333333\n",
       "10       improve patient care                1                     0.333333"
      ]
     },
     "execution_count": 67,
     "metadata": {},
     "output_type": "execute_result"
    }
   ],
   "source": [
    "FrequencyCounter(results[results['Sentence'].str.contains('nursing')], 3000,'Care Policy')"
   ]
  },
  {
   "cell_type": "code",
   "execution_count": 68,
   "metadata": {},
   "outputs": [
    {
     "data": {
      "text/html": [
       "<div>\n",
       "<style scoped>\n",
       "    .dataframe tbody tr th:only-of-type {\n",
       "        vertical-align: middle;\n",
       "    }\n",
       "\n",
       "    .dataframe tbody tr th {\n",
       "        vertical-align: top;\n",
       "    }\n",
       "\n",
       "    .dataframe thead th {\n",
       "        text-align: right;\n",
       "    }\n",
       "</style>\n",
       "<table border=\"1\" class=\"dataframe\">\n",
       "  <thead>\n",
       "    <tr style=\"text-align: right;\">\n",
       "      <th></th>\n",
       "      <th>Term</th>\n",
       "      <th>Count of Events</th>\n",
       "      <th>Proportion of Term in Event</th>\n",
       "    </tr>\n",
       "  </thead>\n",
       "  <tbody>\n",
       "    <tr>\n",
       "      <th>0</th>\n",
       "      <td>age groups</td>\n",
       "      <td>13</td>\n",
       "      <td>0.023810</td>\n",
       "    </tr>\n",
       "    <tr>\n",
       "      <th>1</th>\n",
       "      <td>reproduction number</td>\n",
       "      <td>11</td>\n",
       "      <td>0.020147</td>\n",
       "    </tr>\n",
       "    <tr>\n",
       "      <th>2</th>\n",
       "      <td>copyright holder</td>\n",
       "      <td>11</td>\n",
       "      <td>0.020147</td>\n",
       "    </tr>\n",
       "    <tr>\n",
       "      <th>3</th>\n",
       "      <td>incubation period</td>\n",
       "      <td>10</td>\n",
       "      <td>0.018315</td>\n",
       "    </tr>\n",
       "    <tr>\n",
       "      <th>4</th>\n",
       "      <td>age group</td>\n",
       "      <td>6</td>\n",
       "      <td>0.010989</td>\n",
       "    </tr>\n",
       "  </tbody>\n",
       "</table>\n",
       "</div>"
      ],
      "text/plain": [
       "                  Term  Count of Events  Proportion of Term in Event\n",
       "0           age groups               13                     0.023810\n",
       "1  reproduction number               11                     0.020147\n",
       "2     copyright holder               11                     0.020147\n",
       "3    incubation period               10                     0.018315\n",
       "4            age group                6                     0.010989"
      ]
     },
     "execution_count": 68,
     "metadata": {},
     "output_type": "execute_result"
    }
   ],
   "source": [
    "FrequencyCounter(results, 3000,'Care Policy').head(5)"
   ]
  },
  {
   "cell_type": "code",
   "execution_count": 69,
   "metadata": {},
   "outputs": [
    {
     "data": {
      "text/html": [
       "<div>\n",
       "<style scoped>\n",
       "    .dataframe tbody tr th:only-of-type {\n",
       "        vertical-align: middle;\n",
       "    }\n",
       "\n",
       "    .dataframe tbody tr th {\n",
       "        vertical-align: top;\n",
       "    }\n",
       "\n",
       "    .dataframe thead th {\n",
       "        text-align: right;\n",
       "    }\n",
       "</style>\n",
       "<table border=\"1\" class=\"dataframe\">\n",
       "  <thead>\n",
       "    <tr style=\"text-align: right;\">\n",
       "      <th></th>\n",
       "      <th>Term</th>\n",
       "      <th>Count of Events</th>\n",
       "      <th>Proportion of Term in Event</th>\n",
       "    </tr>\n",
       "  </thead>\n",
       "  <tbody>\n",
       "    <tr>\n",
       "      <th>0</th>\n",
       "      <td>containment strategies</td>\n",
       "      <td>4</td>\n",
       "      <td>0.050633</td>\n",
       "    </tr>\n",
       "    <tr>\n",
       "      <th>1</th>\n",
       "      <td>incubation period</td>\n",
       "      <td>3</td>\n",
       "      <td>0.037975</td>\n",
       "    </tr>\n",
       "    <tr>\n",
       "      <th>2</th>\n",
       "      <td>Hubei province</td>\n",
       "      <td>2</td>\n",
       "      <td>0.025316</td>\n",
       "    </tr>\n",
       "    <tr>\n",
       "      <th>3</th>\n",
       "      <td>data points</td>\n",
       "      <td>2</td>\n",
       "      <td>0.025316</td>\n",
       "    </tr>\n",
       "    <tr>\n",
       "      <th>4</th>\n",
       "      <td>hospital setting</td>\n",
       "      <td>2</td>\n",
       "      <td>0.025316</td>\n",
       "    </tr>\n",
       "  </tbody>\n",
       "</table>\n",
       "</div>"
      ],
      "text/plain": [
       "                     Term  Count of Events  Proportion of Term in Event\n",
       "0  containment strategies                4                     0.050633\n",
       "1       incubation period                3                     0.037975\n",
       "2          Hubei province                2                     0.025316\n",
       "3             data points                2                     0.025316\n",
       "4        hospital setting                2                     0.025316"
      ]
     },
     "execution_count": 69,
     "metadata": {},
     "output_type": "execute_result"
    }
   ],
   "source": [
    "FrequencyCounter(results, 3000,'Economic Socioeconomic').head(5)"
   ]
  },
  {
   "cell_type": "code",
   "execution_count": null,
   "metadata": {},
   "outputs": [],
   "source": [
    "# Connect clean data to source for rule writing"
   ]
  },
  {
   "cell_type": "code",
   "execution_count": 36,
   "metadata": {},
   "outputs": [],
   "source": [
    "corpus = pd.read_csv(\"C:/Users/Sarah/Documents/VIPProjects/POC/COVID/Corpus/\\\n",
    "sentences_with_metadata.csv\")"
   ]
  },
  {
   "cell_type": "code",
   "execution_count": 37,
   "metadata": {},
   "outputs": [
    {
     "data": {
      "text/plain": [
       "(217389, 10)"
      ]
     },
     "execution_count": 37,
     "metadata": {},
     "output_type": "execute_result"
    }
   ],
   "source": [
    "corpus.shape"
   ]
  },
  {
   "cell_type": "markdown",
   "metadata": {},
   "source": [
    "Topics from LDA model:\n",
    "\n",
    "[(0,\n",
    "  '0.079*\"•\" + 0.019*\"blood\" + 0.015*\"associated\" + 0.013*\"cells\" + '\n",
    "  '0.012*\"ace2\" + 0.012*\"protein\" + 0.011*\"important\" + 0.011*\"levels\" + '\n",
    "  '0.010*\"diseases\" + 0.010*\"cell\"'),\n",
    " (1,\n",
    "  '0.110*\"who\" + 0.088*\"it\" + 0.056*\"response\" + 0.043*\"could\" + 0.036*\"under\" '\n",
    "  '+ 0.035*\"available\" + 0.032*\"major\" + 0.032*\"as\" + 0.030*\"without\" + '\n",
    "  '0.024*\"muscle\"'),\n",
    " (2,\n",
    "  '0.173*\"■\" + 0.020*\"some\" + 0.013*\"drugs\" + 0.010*\"transmission\" + '\n",
    "  '0.009*\"surgery\" + 0.009*\"must\" + 0.009*\"drug\" + 0.009*\"there\" + '\n",
    "  '0.008*\"increased\" + 0.008*\"high\"'),\n",
    " (3,\n",
    "  '0.071*\"de\" + 0.036*\"were\" + 0.025*\"patient\" + 0.023*\"1\" + 0.022*\"after\" + '\n",
    "  '0.018*\"a\" + 0.018*\"more\" + 0.015*\"all\" + 0.015*\"when\" + 0.014*\"cause\"'),\n",
    " (4,\n",
    "  '0.044*\"the\" + 0.035*\"from\" + 0.028*\"should\" + 0.019*\"other\" + 0.018*\"risk\" '\n",
    "  '+ 0.017*\"oral\" + 0.017*\"which\" + 0.017*\"in\" + 0.013*\"use\" + 0.013*\"cases\"'),\n",
    " (5,\n",
    "  '0.069*\"may\" + 0.033*\"can\" + 0.031*\"have\" + 0.029*\"disease\" + 0.028*\"dental\" '\n",
    "  '+ 0.022*\"also\" + 0.020*\"has\" + 0.020*\"been\" + 0.018*\"health\" + '\n",
    "  '0.016*\"virus\"'),\n",
    " (6,\n",
    "  '0.051*\"la\" + 0.031*\"en\" + 0.025*\"2\" + 0.023*\"3\" + 0.016*\"que\" + 0.016*\"el\" '\n",
    "  '+ 0.016*\"y\" + 0.014*\"los\" + 0.014*\"4\" + 0.013*\"les\"'),\n",
    " (7,\n",
    "  '0.045*\"s\" + 0.041*\"et\" + 0.031*\"during\" + 0.023*\"al\" + 0.022*\"had\" + '\n",
    "  '0.021*\"people\" + 0.020*\"à\" + 0.018*\"local\" + 0.017*\"days\" + 0.016*\"2020\"'),\n",
    " (8,\n",
    "  '0.062*\"patients\" + 0.030*\"treatment\" + 0.028*\"care\" + 0.020*\"used\" + '\n",
    "  '0.014*\"clinical\" + 0.014*\"infection\" + 0.013*\"common\" + 0.013*\"severe\" + '\n",
    "  '0.013*\"respiratory\" + 0.012*\"dentistry\"'),\n",
    " (9,\n",
    "  '0.030*\"using\" + 0.020*\"areas\" + 0.018*\"ct\" + 0.014*\"described\" + '\n",
    "  '0.014*\"performed\" + 0.013*\"lesions\" + 0.013*\"above\" + 0.012*\"day\" + '\n",
    "  '0.011*\"learning\" + 0.011*\"reactions\"')]"
   ]
  },
  {
   "cell_type": "code",
   "execution_count": 70,
   "metadata": {
    "scrolled": true
   },
   "outputs": [
    {
     "data": {
      "text/html": [
       "<div>\n",
       "<style scoped>\n",
       "    .dataframe tbody tr th:only-of-type {\n",
       "        vertical-align: middle;\n",
       "    }\n",
       "\n",
       "    .dataframe tbody tr th {\n",
       "        vertical-align: top;\n",
       "    }\n",
       "\n",
       "    .dataframe thead th {\n",
       "        text-align: right;\n",
       "    }\n",
       "</style>\n",
       "<table border=\"1\" class=\"dataframe\">\n",
       "  <thead>\n",
       "    <tr style=\"text-align: right;\">\n",
       "      <th></th>\n",
       "      <th>Unnamed: 0</th>\n",
       "      <th>paper_id</th>\n",
       "      <th>cord_uid</th>\n",
       "      <th>source</th>\n",
       "      <th>publish_time</th>\n",
       "      <th>title</th>\n",
       "      <th>authors</th>\n",
       "      <th>section</th>\n",
       "      <th>sentence</th>\n",
       "      <th>cleaned_sentence</th>\n",
       "    </tr>\n",
       "  </thead>\n",
       "  <tbody>\n",
       "    <tr>\n",
       "      <th>0</th>\n",
       "      <td>0</td>\n",
       "      <td>00340eea543336d54adda18236424de6a5e91c9d</td>\n",
       "      <td>szg12wfa</td>\n",
       "      <td>medrxiv</td>\n",
       "      <td>2020-03-20</td>\n",
       "      <td>Analysis Title: Regaining perspective on SARS-CoV-2 molecular tracing and its implications</td>\n",
       "      <td>Carla Mavian, Simone Marini, Costanza Manes, Ilaria Capua, Mattia Prosperi, Marco Salemi</td>\n",
       "      <td>abstract</td>\n",
       "      <td>During the past three months, a new coronavirus (SARS-CoV-2) epidemic has been growing exponenti...</td>\n",
       "      <td>during past three months new coronavirus sarscov2 epidemic has been growing exponentially affect...</td>\n",
       "    </tr>\n",
       "  </tbody>\n",
       "</table>\n",
       "</div>"
      ],
      "text/plain": [
       "   Unnamed: 0                                  paper_id  cord_uid   source  \\\n",
       "0           0  00340eea543336d54adda18236424de6a5e91c9d  szg12wfa  medrxiv   \n",
       "\n",
       "  publish_time  \\\n",
       "0   2020-03-20   \n",
       "\n",
       "                                                                                        title  \\\n",
       "0  Analysis Title: Regaining perspective on SARS-CoV-2 molecular tracing and its implications   \n",
       "\n",
       "                                                                                    authors  \\\n",
       "0  Carla Mavian, Simone Marini, Costanza Manes, Ilaria Capua, Mattia Prosperi, Marco Salemi   \n",
       "\n",
       "    section  \\\n",
       "0  abstract   \n",
       "\n",
       "                                                                                              sentence  \\\n",
       "0  During the past three months, a new coronavirus (SARS-CoV-2) epidemic has been growing exponenti...   \n",
       "\n",
       "                                                                                      cleaned_sentence  \n",
       "0  during past three months new coronavirus sarscov2 epidemic has been growing exponentially affect...  "
      ]
     },
     "execution_count": 70,
     "metadata": {},
     "output_type": "execute_result"
    }
   ],
   "source": [
    "corpus.head(1)"
   ]
  },
  {
   "cell_type": "code",
   "execution_count": null,
   "metadata": {},
   "outputs": [],
   "source": [
    "# weird stuff about horses"
   ]
  },
  {
   "cell_type": "code",
   "execution_count": 63,
   "metadata": {},
   "outputs": [
    {
     "data": {
      "text/html": [
       "<div>\n",
       "<style scoped>\n",
       "    .dataframe tbody tr th:only-of-type {\n",
       "        vertical-align: middle;\n",
       "    }\n",
       "\n",
       "    .dataframe tbody tr th {\n",
       "        vertical-align: top;\n",
       "    }\n",
       "\n",
       "    .dataframe thead th {\n",
       "        text-align: right;\n",
       "    }\n",
       "</style>\n",
       "<table border=\"1\" class=\"dataframe\">\n",
       "  <thead>\n",
       "    <tr style=\"text-align: right;\">\n",
       "      <th></th>\n",
       "      <th>Unnamed: 0</th>\n",
       "      <th>paper_id</th>\n",
       "      <th>cord_uid</th>\n",
       "      <th>source</th>\n",
       "      <th>publish_time</th>\n",
       "      <th>title</th>\n",
       "      <th>authors</th>\n",
       "      <th>section</th>\n",
       "      <th>sentence</th>\n",
       "      <th>cleaned_sentence</th>\n",
       "    </tr>\n",
       "  </thead>\n",
       "  <tbody>\n",
       "    <tr>\n",
       "      <th>163339</th>\n",
       "      <td>77107</td>\n",
       "      <td>9d118e16908ed81fea07403ca6deef78623dd14d</td>\n",
       "      <td>j9kg00qf</td>\n",
       "      <td>Elsevier</td>\n",
       "      <td>2004-12-31</td>\n",
       "      <td>3.1-Examination for Disorders of the Gastrointestinal Tract Physical Examination</td>\n",
       "      <td>Jennifer L Davis, Samuel L Jones</td>\n",
       "      <td>body</td>\n",
       "      <td>Abdominal radiography is more useful in foals than in adult horses.</td>\n",
       "      <td>abdominal radiography more useful foals than adult horses</td>\n",
       "    </tr>\n",
       "  </tbody>\n",
       "</table>\n",
       "</div>"
      ],
      "text/plain": [
       "        Unnamed: 0                                  paper_id  cord_uid  \\\n",
       "163339       77107  9d118e16908ed81fea07403ca6deef78623dd14d  j9kg00qf   \n",
       "\n",
       "          source publish_time  \\\n",
       "163339  Elsevier   2004-12-31   \n",
       "\n",
       "                                                                                   title  \\\n",
       "163339  3.1-Examination for Disorders of the Gastrointestinal Tract Physical Examination   \n",
       "\n",
       "                                 authors section  \\\n",
       "163339  Jennifer L Davis, Samuel L Jones    body   \n",
       "\n",
       "                                                                   sentence  \\\n",
       "163339  Abdominal radiography is more useful in foals than in adult horses.   \n",
       "\n",
       "                                                  cleaned_sentence  \n",
       "163339  abdominal radiography more useful foals than adult horses   "
      ]
     },
     "execution_count": 63,
     "metadata": {},
     "output_type": "execute_result"
    }
   ],
   "source": [
    "corpus[corpus['sentence'].str.contains('Abdominal radiography is more useful in foals than in adult horses.')].head(10)"
   ]
  },
  {
   "cell_type": "code",
   "execution_count": 49,
   "metadata": {},
   "outputs": [],
   "source": [
    "#make directory to save random sample \n",
    "%mkdir sample"
   ]
  },
  {
   "cell_type": "code",
   "execution_count": 64,
   "metadata": {},
   "outputs": [],
   "source": [
    "# set different seed for new results\n",
    "np.random.seed(2)\n",
    "RandomCheck(corpus, 'nursing home', 30)"
   ]
  },
  {
   "cell_type": "code",
   "execution_count": 53,
   "metadata": {},
   "outputs": [],
   "source": [
    "def RandomCheck(df, term, n):\n",
    "    \"\"\"Create a random sample of extractions to test in VIP\n",
    "    input: dataframe, the event type, sample size\n",
    "    output: textfile with paragraphs for number of sample size and event type specified\"\"\"\n",
    "    \n",
    "    chosen_idx = np.random.choice(df[df['sentence'].str.contains(term,na=False)].shape[0], replace=False, size=n)\n",
    "    df_trimmed = df[df['sentence'].str.contains(term,na=False)].reset_index().iloc[chosen_idx]\n",
    "    np.savetxt('sample/randomSample{0}.txt'.format(term), df_trimmed.sentence,\\\n",
    "               encoding=\"utf-8\", fmt='%s', delimiter=\"\\t\")      "
   ]
  },
  {
   "cell_type": "code",
   "execution_count": null,
   "metadata": {},
   "outputs": [],
   "source": []
  }
 ],
 "metadata": {
  "kernelspec": {
   "display_name": "Python 3",
   "language": "python",
   "name": "python3"
  },
  "language_info": {
   "codemirror_mode": {
    "name": "ipython",
    "version": 3
   },
   "file_extension": ".py",
   "mimetype": "text/x-python",
   "name": "python",
   "nbconvert_exporter": "python",
   "pygments_lexer": "ipython3",
   "version": "3.7.3"
  }
 },
 "nbformat": 4,
 "nbformat_minor": 2
}
