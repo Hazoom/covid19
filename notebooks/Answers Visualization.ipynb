{
 "cells": [
  {
   "cell_type": "code",
   "execution_count": 56,
   "metadata": {},
   "outputs": [],
   "source": [
    "import json\n",
    "import os\n",
    "from pprint import pprint\n",
    "from sqlalchemy import create_engine\n",
    "from sqlalchemy.ext.declarative import declarative_base\n",
    "from sqlalchemy.orm import sessionmaker\n",
    "\n",
    "from resources.similarity import CovidSimilarityResource\n",
    "from corpus_index import load_corpus_index\n",
    "from encoders import get_encoder\n",
    "from db import get_session"
   ]
  },
  {
   "cell_type": "code",
   "execution_count": 57,
   "metadata": {},
   "outputs": [],
   "source": [
    "corpus_index_folder = '../../../workspace/kaggle/covid19/data/corpus_index'\n",
    "db_dir = '../../../workspace/kaggle/covid19/data/db'"
   ]
  },
  {
   "cell_type": "code",
   "execution_count": 58,
   "metadata": {},
   "outputs": [
    {
     "name": "stdout",
     "output_type": "stream",
     "text": [
      "env: W2V_PATH=../../../workspace/kaggle/covid19/data/fasttext_no_subwords_trigrams/word-vectors-100d.txt\n",
      "env: WC_PATH=../../../workspace/kaggle/covid19/data/fasttext_no_subwords_trigrams/word-counts.txt\n",
      "env: PC_PATH=../../../workspace/kaggle/covid19/data/corpus_index/simple-encoder-100d-components.npy\n",
      "env: DB_CONNECTION=sqlite:///../../../workspace/kaggle/covid19/data/db/covid19.sqlite\n"
     ]
    }
   ],
   "source": [
    "%env W2V_PATH=../../../workspace/kaggle/covid19/data/fasttext_no_subwords_trigrams/word-vectors-100d.txt\n",
    "%env WC_PATH=../../../workspace/kaggle/covid19/data/fasttext_no_subwords_trigrams/word-counts.txt\n",
    "%env PC_PATH=../../../workspace/kaggle/covid19/data/corpus_index/simple-encoder-100d-components.npy\n",
    "%env DB_CONNECTION=sqlite:///../../../workspace/kaggle/covid19/data/db/covid19.sqlite"
   ]
  },
  {
   "cell_type": "code",
   "execution_count": 59,
   "metadata": {},
   "outputs": [],
   "source": [
    "with open('../answers/1.json', 'r') as in_fp:\n",
    "    seed_sentences_json = json.load(in_fp)"
   ]
  },
  {
   "cell_type": "code",
   "execution_count": 60,
   "metadata": {},
   "outputs": [
    {
     "name": "stdout",
     "output_type": "stream",
     "text": [
      "What is known about transmission, incubation, and environmental stability?\n"
     ]
    }
   ],
   "source": [
    "print(seed_sentences_json['taskName'])"
   ]
  },
  {
   "cell_type": "code",
   "execution_count": 61,
   "metadata": {},
   "outputs": [],
   "source": [
    "sentence_encoder = get_encoder('simple_encoder')"
   ]
  },
  {
   "cell_type": "code",
   "execution_count": 62,
   "metadata": {},
   "outputs": [],
   "source": [
    "corpus_index_fname = os.path.join(corpus_index_folder, 'simple-encoder-nmslib-100d.bin')\n",
    "corpus_index = load_corpus_index(corpus_index_fname)"
   ]
  },
  {
   "cell_type": "code",
   "execution_count": 63,
   "metadata": {},
   "outputs": [],
   "source": [
    "def get_sqlite_session(conn):\n",
    "    connect_args = {}\n",
    "    if conn.startswith('sqlite:///'):\n",
    "        connect_args.update({'check_same_thread': False})\n",
    "    engine = create_engine(conn, connect_args=connect_args)\n",
    "    Session = sessionmaker(bind=engine)\n",
    "    return Session()"
   ]
  },
  {
   "cell_type": "code",
   "execution_count": 64,
   "metadata": {},
   "outputs": [],
   "source": [
    "db_session = get_sqlite_session(conn=f\"sqlite:///{os.path.join(db_dir, 'covid19.sqlite')}\")"
   ]
  },
  {
   "cell_type": "code",
   "execution_count": 65,
   "metadata": {},
   "outputs": [],
   "source": [
    "covid_resource = CovidSimilarityResource(corpus_index, sentence_encoder, db_session)"
   ]
  },
  {
   "cell_type": "code",
   "execution_count": 66,
   "metadata": {},
   "outputs": [],
   "source": [
    "def find_similar_sentences(sentences, method=\"union\", limit=10):\n",
    "    return covid_resource.similar_k(\n",
    "        sentences, covid_resource.sentence_encoder, covid_resource.corpus_index, covid_resource.db_session,\n",
    "        method=method, limit=limit\n",
    "    )"
   ]
  },
  {
   "cell_type": "code",
   "execution_count": 68,
   "metadata": {},
   "outputs": [
    {
     "data": {
      "text/plain": [
       "{'results': [{'id': 77703,\n",
       "   'text': 'General anesthesia and specific sedatives, such as xylazine, romifidine, or detomidine, also disturb motility.',\n",
       "   'paper_id': '9d118e16908ed81fea07403ca6deef78623dd14d',\n",
       "   'cord_uid': 'j9kg00qf',\n",
       "   'publish_time': '2004-12-31',\n",
       "   'nearest': -1905314997,\n",
       "   'dist': 0.4055670499801636},\n",
       "  {'id': 30592,\n",
       "   'text': 'The market sells many species including seafood, birds, snakes, marmots and bats (Gralinski and Menachery, 2020) .',\n",
       "   'paper_id': '7ab9f9fcea519ebce527c3ede8091beedbb26ad9',\n",
       "   'cord_uid': 'xa6kwguo',\n",
       "   'publish_time': '2020-02-18',\n",
       "   'nearest': -1905314997,\n",
       "   'dist': 0.4187812805175781},\n",
       "  {'id': 94506,\n",
       "   'text': 'The pH of the growth environment can influence stability and gene expression.',\n",
       "   'paper_id': 'bdca6cb34a68176f77ae340ef673557a3ad9bc08',\n",
       "   'cord_uid': 'os6f458c',\n",
       "   'publish_time': '1992-12-31',\n",
       "   'nearest': -1905314997,\n",
       "   'dist': 0.4377667307853699},\n",
       "  {'id': 79245,\n",
       "   'text': 'One should include appropriate diagnostic tests, such as culture of feces for pathogenic bacteria, in the workup to rule out other causes.',\n",
       "   'paper_id': '9d118e16908ed81fea07403ca6deef78623dd14d',\n",
       "   'cord_uid': 'j9kg00qf',\n",
       "   'publish_time': '2004-12-31',\n",
       "   'nearest': -1905314997,\n",
       "   'dist': 0.4394444227218628},\n",
       "  {'id': 73094,\n",
       "   'text': \"Service d'oto-rhino-laryngologie et de chirurgie cervicofaciale, hôpital G Montpied, rue Montalembert, 63003 Clermont-Ferrand cedex 1, France.\",\n",
       "   'paper_id': '93407d533b25bd1965b81d147749dfd4ff37ced2',\n",
       "   'cord_uid': '6ugr4q6c',\n",
       "   'publish_time': '2000-12-31',\n",
       "   'nearest': -1905314997,\n",
       "   'dist': 0.44203925132751465},\n",
       "  {'id': 77011,\n",
       "   'text': 'Endoscopy or contrast radiography aids in diagnosing gastric outflow obstruction.',\n",
       "   'paper_id': '9d118e16908ed81fea07403ca6deef78623dd14d',\n",
       "   'cord_uid': 'j9kg00qf',\n",
       "   'publish_time': '2004-12-31',\n",
       "   'nearest': -1905314997,\n",
       "   'dist': 0.44203925132751465},\n",
       "  {'id': 84812,\n",
       "   'text': 'Of the two deaths, one patient had OC43 (mortality rate 1.3%) and one patient had HKU1 (mortality rate 0.36%).',\n",
       "   'paper_id': 'a74f57ea275ecfa883dea7a62d6c286f8d3ac82c',\n",
       "   'cord_uid': '5nue46dm',\n",
       "   'publish_time': '2020-03-19',\n",
       "   'nearest': -1905314997,\n",
       "   'dist': 0.44203925132751465},\n",
       "  {'id': 42699,\n",
       "   'text': 'These included PRJNA573298 3 (pangolin), PRJNA597258 (fruit bats) and PRJNA379515 (bats).',\n",
       "   'paper_id': 'adb09e4e5c7331b2aa661b3d3bb0a643e00d11bc',\n",
       "   'cord_uid': 'dnxhtbxn',\n",
       "   'publish_time': '2020-02-13',\n",
       "   'nearest': -1905314997,\n",
       "   'dist': 0.4436548948287964},\n",
       "  {'id': 106409,\n",
       "   'text': 'We then performed HLA class I binding predictions using the Net MHC pan 4.0 EL algorithm available at the IEDB.',\n",
       "   'paper_id': 'd202a1d1765204bdba9fa46aa07293a30e9d2188',\n",
       "   'cord_uid': 'bc3108hi',\n",
       "   'publish_time': '2020-03-16',\n",
       "   'nearest': -1905314997,\n",
       "   'dist': 0.44773757457733154},\n",
       "  {'id': 30594,\n",
       "   'text': 'Origination of 2019-nCoV from bats has been strongly supported, but the presumed intermediate host remain to be identified; initial reports that 2019-nCoV had an origin in snakes have not been verified (Gralinski and Menachery, 2020; Zhou et al., 2020a) .',\n",
       "   'paper_id': '7ab9f9fcea519ebce527c3ede8091beedbb26ad9',\n",
       "   'cord_uid': 'xa6kwguo',\n",
       "   'publish_time': '2020-02-18',\n",
       "   'nearest': -1905314997,\n",
       "   'dist': 0.45438188314437866}],\n",
       " 'sentences': [{'id': -1905314997, 'text': 'Coronavirus came from bats'}]}"
      ]
     },
     "execution_count": 68,
     "metadata": {},
     "output_type": "execute_result"
    }
   ],
   "source": [
    "find_similar_sentences([\"Coronavirus came from bats\"])"
   ]
  },
  {
   "cell_type": "code",
   "execution_count": null,
   "metadata": {},
   "outputs": [],
   "source": []
  }
 ],
 "metadata": {
  "kernelspec": {
   "display_name": "covid19",
   "language": "python",
   "name": "covid19"
  },
  "language_info": {
   "codemirror_mode": {
    "name": "ipython",
    "version": 3
   },
   "file_extension": ".py",
   "mimetype": "text/x-python",
   "name": "python",
   "nbconvert_exporter": "python",
   "pygments_lexer": "ipython3",
   "version": "3.6.8"
  }
 },
 "nbformat": 4,
 "nbformat_minor": 2
}
