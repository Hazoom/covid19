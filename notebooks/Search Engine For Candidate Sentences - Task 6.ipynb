{
 "cells": [
  {
   "cell_type": "markdown",
   "metadata": {},
   "source": [
    "# Search Engine For Candidate Sentences"
   ]
  },
  {
   "cell_type": "markdown",
   "metadata": {},
   "source": [
    "### What do we know about non-pharmaceutical interventions?\n",
    "##### COVID-19 Open Research Dataset Challenge (CORD-19)\n",
    "\n",
    "Task Details\n",
    "What do we know about the effectiveness of non-pharmaceutical interventions? \n",
    "\n",
    "What is known about equity and barriers to compliance for non-pharmaceutical interventions?\n",
    "\n",
    "Specifically, we want to know what the literature reports about:\n",
    "- Guidance on ways to scale up NPIs in a more coordinated way (e.g., establish funding, infrastructure and authorities to support real time, authoritative (qualified participants) collaboration with all states to gain consensus on consistent guidance and to mobilize resources to geographic areas where critical shortfalls are identified) to give us time to enhance our health care delivery system capacity to respond to an increase in cases.\n",
    "- Rapid design and execution of experiments to examine and compare NPIs currently being implemented. DHS Centers for Excellence could potentially be leveraged to conduct these experiments.\n",
    "- Rapid assessment of the likely efficacy of school closures, travel bans, bans on mass gatherings of various sizes, and other social distancing approaches.\n",
    "- Methods to control the spread in communities, barriers to compliance and how these vary among different populations..\n",
    "- Models of potential interventions to predict costs and benefits that take account of such factors as race, income, disability, age, geographic location, immigration status, housing status, employment status, and health insurance status.\n",
    "- Policy changes necessary to enable the compliance of individuals with limited resources and the underserved with NPIs.\n",
    "- Research on why people fail to comply with public health advice, even if they want to do so (e.g., social or financial costs may be too high).\n",
    "- Research on the economic impact of this or any pandemic. This would include identifying policy and programmatic alternatives that lessen/mitigate risks to critical government services, food distribution and supplies, access to critical household supplies, and access to health diagnoses, treatment, and needed care, regardless of ability to pay.\n"
   ]
  },
  {
   "cell_type": "markdown",
   "metadata": {},
   "source": [
    "## Demonstration of how to use the simple search engine for fetching relevant sentences"
   ]
  },
  {
   "cell_type": "markdown",
   "metadata": {},
   "source": [
    "Let's import our search engine for `src` directory.\n",
    "\n",
    "First, one needs to set the Python source files environment variables for Juptyer Notebook. If you haven't done this, please run those two command BEFORE running Juptyer Notebook:\n",
    "1. `export PYTHONPATH=/path/to/covid19/src`\n",
    "2. `export JUPYTER_PATH=/path/to/covid19/src`"
   ]
  },
  {
   "cell_type": "code",
   "execution_count": 2,
   "metadata": {},
   "outputs": [],
   "source": [
    "from searchengine import SearchEngine\n",
    "from pprint import pprint\n",
    "import os"
   ]
  },
  {
   "cell_type": "code",
   "execution_count": 3,
   "metadata": {},
   "outputs": [],
   "source": [
    "data_dir = \"/Users/Sarah/Documents/VIPProjects/POC/COVID/Corpus/data/\""
   ]
  },
  {
   "cell_type": "markdown",
   "metadata": {},
   "source": [
    "Initialize out SearchEngine object with:\n",
    "1. Sentences metadata\n",
    "2. bi-gram model\n",
    "3. tri-gram model\n",
    "4. Trained FastText vectors"
   ]
  },
  {
   "cell_type": "code",
   "execution_count": 4,
   "metadata": {},
   "outputs": [
    {
     "name": "stdout",
     "output_type": "stream",
     "text": [
      "Loading CSV: /Users/Sarah/Documents/VIPProjects/POC/COVID/Corpus/data/sentences_with_metadata.csv and building mapping dictionary...\n",
      "Finished loading CSV: /Users/Sarah/Documents/VIPProjects/POC/COVID/Corpus/data/sentences_with_metadata.csv and building mapping dictionary\n",
      "Loaded 217389 sentences\n",
      "Loading bi-gram model: /Users/Sarah/Documents/VIPProjects/POC/COVID/Corpus/data/covid_bigram_model_v0.pkl\n"
     ]
    },
    {
     "name": "stderr",
     "output_type": "stream",
     "text": [
      "C:\\ProgramData\\Anaconda3\\lib\\site-packages\\smart_open\\smart_open_lib.py:398: UserWarning: This function is deprecated, use smart_open.open instead. See the migration notes for details: https://github.com/RaRe-Technologies/smart_open/blob/master/README.rst#migrating-to-the-new-open-function\n",
      "  'See the migration notes for details: %s' % _MIGRATION_NOTES_URL\n"
     ]
    },
    {
     "name": "stdout",
     "output_type": "stream",
     "text": [
      "Finished loading bi-gram model: /Users/Sarah/Documents/VIPProjects/POC/COVID/Corpus/data/covid_bigram_model_v0.pkl\n",
      "Loading tri-gram model: /Users/Sarah/Documents/VIPProjects/POC/COVID/Corpus/data/covid_trigram_model_v0.pkl\n",
      "Finished loading tri-gram model: /Users/Sarah/Documents/VIPProjects/POC/COVID/Corpus/data/covid_trigram_model_v0.pkl\n",
      "Loading fasttext model: /Users/Sarah/Documents/VIPProjects/POC/COVID/Corpus/data/fasttext_no_subwords_trigrams/word-vectors-100d.txt\n",
      "Finished loading fasttext model: /Users/Sarah/Documents/VIPProjects/POC/COVID/Corpus/data/fasttext_no_subwords_trigrams/word-vectors-100d.txt\n"
     ]
    }
   ],
   "source": [
    "search_engine = SearchEngine(\n",
    "    os.path.join(data_dir, \"sentences_with_metadata.csv\"),\n",
    "    os.path.join(data_dir, \"covid_bigram_model_v0.pkl\"),\n",
    "    os.path.join(data_dir, \"covid_trigram_model_v0.pkl\"),\n",
    "    os.path.join(data_dir, \"fasttext_no_subwords_trigrams/word-vectors-100d.txt\"),\n",
    ")"
   ]
  },
  {
   "cell_type": "markdown",
   "metadata": {},
   "source": [
    "Simple search function that gets a list of keywords to search:"
   ]
  },
  {
   "cell_type": "code",
   "execution_count": 5,
   "metadata": {},
   "outputs": [],
   "source": [
    "def search(keywords, optional_keywords=None, top_n=10, synonyms_threshold=0.8, only_sentences=False):\n",
    "    print(f\"\\nSearch for terms {keywords}\\n\\n\")\n",
    "    results = search_engine.search(\n",
    "        keywords, optional_keywords=optional_keywords, top_n=top_n, synonyms_threshold=synonyms_threshold\n",
    "    )\n",
    "    print(\"\\nResults:\\n\")\n",
    "    \n",
    "    if only_sentences:\n",
    "        for result in results:\n",
    "            print(result['sentence'] + \"\\n\")\n",
    "    else:\n",
    "        pprint(results)"
   ]
  },
  {
   "cell_type": "markdown",
   "metadata": {},
   "source": [
    "Guidance on ways to scale up NPIs in a more coordinated way (e.g., establish funding, infrastructure and authorities to support real time, authoritative (qualified participants) collaboration with all states to gain consensus on consistent guidance and to mobilize resources to geographic areas where critical shortfalls are identified) to give us time to enhance our health care delivery system capacity to respond to an increase in cases."
   ]
  },
  {
   "cell_type": "markdown",
   "metadata": {},
   "source": [
    "### Guidance on ways to scale up NPIs in a more coordinated way (e.g., establish funding, infrastructure and authorities to support real time, authoritative (qualified participants)"
   ]
  },
  {
   "cell_type": "code",
   "execution_count": 6,
   "metadata": {},
   "outputs": [
    {
     "name": "stdout",
     "output_type": "stream",
     "text": [
      "\n",
      "Search for terms ['non-pharmaceutical', 'equity', 'equal', 'compliance', 'balance']\n",
      "\n",
      "\n"
     ]
    },
    {
     "name": "stderr",
     "output_type": "stream",
     "text": [
      "C:\\ProgramData\\Anaconda3\\lib\\site-packages\\gensim\\models\\keyedvectors.py:2373: RuntimeWarning: invalid value encountered in true_divide\n",
      "  return (m / dist).astype(REAL)\n"
     ]
    },
    {
     "name": "stdout",
     "output_type": "stream",
     "text": [
      "Search terms after cleaning, bigrams, trigrams and synonym expansion: ['nonpharmaceutical', 'equity', 'equal', 'compliance', 'balance', 'school_closures_social_distancing', 'pharmaceutical_measures', 'nonpharmaceutical_measures', 'community_mitigation', 'nonpharmaceutical_public_health_interventions', 'nonpharmaceutical_intervention', 'nonpharmaceutical_interventions_eg', 'nonpharmaceutical_interventions_npi', 'nonpharmacological_interventions', 'use_nonpharmaceutical_interventions', 'health_equity', 'social_equity', 'demandside', 'public_goods', 'financing', 'financial_risk', 'access_essential_medicines', 'sustainability']\n",
      "Optional search terms after cleaning, bigrams, trigrams and synonym expansion: ['newcoronavirus', 'coronavirus_covid19', '2019ncov_covid19', 'outbreak_2019_novel', 'sarscov2_2019ncov', 'coronavirus_2019ncov', 'ongoing_outbreak_novel_coronavirus', 'since_late_december', 'ongoing_outbreak_covid19', 'originating_wuhan_china', 'novel_coronavirus_outbreak', 'wuhan_coronavirus']\n",
      "\n",
      "Results:\n",
      "\n",
      "[{'authors': 'Jagannath M Muzumdar, Richard R Cline',\n",
      "  'cord_uid': 'zkk5d6gd',\n",
      "  'paper_id': 'b90d85915f51ab637584d162d5bd78a7e02cdae3',\n",
      "  'publish_time': '2009-08-31',\n",
      "  'section': 'body',\n",
      "  'sentence': 'This problem, together with other supply-side (e.g., barriers '\n",
      "              'to entry) and demand-side (e.g., vaccine financing) issues have '\n",
      "              'resulted in market failure (i.e., a quantity and variety of '\n",
      "              'vaccine products supplied that is below the social optimum) in '\n",
      "              'the vaccine market.',\n",
      "  'source': 'Elsevier'},\n",
      " {'authors': 'Hanchu Zhou, Jiannan Yang, Kaicheng Tang, † , Qingpeng Zhang, '\n",
      "             'Zhidong Cao, Dirk Pfeiffer, Daniel Dajun Zeng',\n",
      "  'cord_uid': 'qbemfymp',\n",
      "  'paper_id': '004f0f8bb66cf446678dc13cf2701feec4f36d76',\n",
      "  'publish_time': '2020-02-12',\n",
      "  'section': 'body',\n",
      "  'sentence': 'Two critical questions of operational nature remain, which '\n",
      "              'cities, both in Hubei and other provinces, are most vulnerable '\n",
      "              'to localized outbreaks, and how the public health authorities '\n",
      "              'should balance the healthcare resources under stress to best '\n",
      "              'fight the epidemic and minimize the risks?',\n",
      "  'source': 'medrxiv'},\n",
      " {'authors': 'Xiaoyang Ji, Chunming Zhang, Yubo Zhai, Zhonghai Zhang, Chunli '\n",
      "             'Zhang, Yiqing Xue, Guangming Tan, Gang Niu',\n",
      "  'cord_uid': 'f21dknmb',\n",
      "  'paper_id': '01d162d7fae6aaba8e6e60e563ef4c2fca7b0e18',\n",
      "  'publish_time': '2020-02-26',\n",
      "  'section': 'body',\n",
      "  'sentence': 'By combining this system with generalized interaction '\n",
      "              'databases, we can reveal further associations that can provide '\n",
      "              'a deeper understanding of the biological mechanisms of the '\n",
      "              'disease phenotype caused by virus-host interactions. virus to '\n",
      "              'ACE2 may disrupt this balance, which causes a steady-state '\n",
      "              'imbalance of RAS, leading to subsequent pathological changes.',\n",
      "  'source': 'medrxiv'},\n",
      " {'authors': 'Milan Batista',\n",
      "  'cord_uid': 'h5zfmhqj',\n",
      "  'paper_id': '041bae0a6de2b69979d39460b3f2ee8946534ec2',\n",
      "  'publish_time': '2020-03-16',\n",
      "  'section': 'body',\n",
      "  'sentence': 'Before we proceed, we for convenience, introduce the following '\n",
      "              'epidemy phases (see Fig   2) :  The duration of the '\n",
      "              'fast-growing period is thus equal to 4 r \\uf074 \\uf03d .',\n",
      "  'source': 'medrxiv'},\n",
      " {'authors': 'Laurent Hébert-Dufresne, Benjamin M Althouse, Samuel V Scarpino, '\n",
      "             'Antoine Allard',\n",
      "  'cord_uid': 'zbqbogwu',\n",
      "  'paper_id': '06c1b3535b83251cf92c01258b5048beeab7a460',\n",
      "  'publish_time': '2020-02-12',\n",
      "  'section': 'body',\n",
      "  'sentence': 'Under these assumptions, Kermack and McKendrick show that an '\n",
      "              'epidemic with a given R 0 will infect a fixed fraction R(∞) of '\n",
      "              'the susceptible population by solving This solution describes a '\n",
      "              'final outbreak size equal to 0 when R 0 ≤ 1 and increasing as 1 '\n",
      "              '− exp(−R 0 ) when R 0 > 1.',\n",
      "  'source': 'medrxiv'},\n",
      " {'authors': 'Laurent Hébert-Dufresne, Benjamin M Althouse, Samuel V Scarpino, '\n",
      "             'Antoine Allard',\n",
      "  'cord_uid': 'zbqbogwu',\n",
      "  'paper_id': '06c1b3535b83251cf92c01258b5048beeab7a460',\n",
      "  'publish_time': '2020-02-12',\n",
      "  'section': 'body',\n",
      "  'sentence': 'The raw moments of a normal distribution are quite complicated, '\n",
      "              'but the cumulants are simple: κ 1 is equal to the mean R 0 , κ '\n",
      "              '2 is equal to the variance σ 2 , and all other cumulants are 0.',\n",
      "  'source': 'medrxiv'},\n",
      " {'authors': 'Shuai Wang, Bo Kang, Jinlu Ma, Xianjun Zeng, Mingming Xiao, Jia '\n",
      "             'Guo, Mengjiao Cai, Jingyi Yang, Yaodong Li, Xiangfei Meng, Bo Xu',\n",
      "  'cord_uid': 'u2uswgy3',\n",
      "  'paper_id': '080660f20f078c10524f6186bca263327094acbb',\n",
      "  'publish_time': '2020-02-17',\n",
      "  'section': 'body',\n",
      "  'sentence': 'This study is in compliance with the Institutional Review Board '\n",
      "              'of each participating institutes.',\n",
      "  'source': 'medrxiv'},\n",
      " {'authors': 'Shuai Wang, Bo Kang, Jinlu Ma, Xianjun Zeng, Mingming Xiao, Jia '\n",
      "             'Guo, Mengjiao Cai, Jingyi Yang, Yaodong Li, Xiangfei Meng, Bo Xu',\n",
      "  'cord_uid': 'u2uswgy3',\n",
      "  'paper_id': '080660f20f078c10524f6186bca263327094acbb',\n",
      "  'publish_time': '2020-02-17',\n",
      "  'section': 'body',\n",
      "  'sentence': 'The number of various types of pictures in the training set is '\n",
      "              'equal, with a total number of 320.',\n",
      "  'source': 'medrxiv'},\n",
      " {'authors': 'Juanjuan Zhang, Maria Litvinova, Yuxia Liang, Yan Wang, Wei '\n",
      "             'Wang, Shanlu Zhao, Qianhui Wu, Stefano Merler, Cecile Viboud, '\n",
      "             'Alessandro Vespignani, Marco Ajelli, Hongjie Yu',\n",
      "  'cord_uid': 'y8o5j2be',\n",
      "  'paper_id': '0a27cb2cd52229472fcfc3e49d3a3cb7179867e4',\n",
      "  'publish_time': '2020-03-20',\n",
      "  'section': 'body',\n",
      "  'sentence': 'Because we did not see age differences in the probability of '\n",
      "              'developing symptoms upon infection, we assumed equal '\n",
      "              'infectivity across all age groups.',\n",
      "  'source': 'medrxiv'},\n",
      " {'authors': 'Juanjuan Zhang, Maria Litvinova, Yuxia Liang, Yan Wang, Wei '\n",
      "             'Wang, Shanlu Zhao, Qianhui Wu, Stefano Merler, Cecile Viboud, '\n",
      "             'Alessandro Vespignani, Marco Ajelli, Hongjie Yu',\n",
      "  'cord_uid': 'y8o5j2be',\n",
      "  'paper_id': '0a27cb2cd52229472fcfc3e49d3a3cb7179867e4',\n",
      "  'publish_time': '2020-03-20',\n",
      "  'section': 'body',\n",
      "  'sentence': 'Our conclusions are robust to assuming equal susceptibility in '\n",
      "              'all age groups.',\n",
      "  'source': 'medrxiv'}]\n"
     ]
    }
   ],
   "source": [
    "search(keywords=[\"non-pharmaceutical\",\"equity\",\"equal\",\"compliance\",\"balance\"],\n",
    "       optional_keywords=[\"new_coronavirus\", \"coronavirus\", \"covid19\"],\n",
    "       top_n=20, only_sentences=True)"
   ]
  },
  {
   "cell_type": "markdown",
   "metadata": {},
   "source": [
    "#### collaboration with all states to gain consensus on consistent guidance"
   ]
  },
  {
   "cell_type": "code",
   "execution_count": 21,
   "metadata": {},
   "outputs": [
    {
     "name": "stdout",
     "output_type": "stream",
     "text": [
      "\n",
      "Search for terms ['non-pharmaceutical', 'national', 'consensus', 'guidance']\n",
      "\n",
      "\n",
      "Search terms after cleaning, bigrams, trigrams and synonym expansion: ['nonpharmaceutical', 'national', 'consensus', 'guidance', 'school_closures_social_distancing', 'pharmaceutical_measures', 'nonpharmaceutical_measures', 'community_mitigation', 'nonpharmaceutical_public_health_interventions', 'nonpharmaceutical_intervention', 'nonpharmaceutical_interventions_eg', 'nonpharmaceutical_interventions_npi', 'nonpharmacological_interventions', 'use_nonpharmaceutical_interventions', 'guidelines', 'international_guidelines']\n",
      "Optional search terms after cleaning, bigrams, trigrams and synonym expansion: ['newcoronavirus', 'coronavirus_covid19', '2019ncov_covid19', 'outbreak_2019_novel', 'sarscov2_2019ncov', 'coronavirus_2019ncov', 'ongoing_outbreak_novel_coronavirus', 'since_late_december', 'ongoing_outbreak_covid19', 'originating_wuhan_china', 'novel_coronavirus_outbreak', 'wuhan_coronavirus']\n",
      "\n",
      "Results:\n",
      "\n",
      "According to \"The Laboratory Technical Guidelines for Detection 2019-nCoV (Fourth Edition)\" issued by National Health and Commission of China and \"The Experts' Consensus on Nucleic Acid Detection of 2019-nCoV\" released by Chinese Society of Laboratory Medicine, the human samples must be placed under 56 o C or higher to inactivate the viruses in order to keep the inspectors from virus infection before the nucleic acids were isolated as the template of qRT-PCR.\n",
      "\n",
      "According to \"The Laboratory Technical Guidelines for Detection 2019-nCoV (Fourth Edition)\" issued by National Health and Commission of China [3] and \"The Experts' Consensus on Nucleic Acid Detection of 2019-nCoV\" released by Chinese Society of Laboratory Medicine [4] , the human samples must be placed in 56 o C for at least 45 minutes or higher for shorter time to inactivate the viruses in order to keep the inspectors from virus infection before the nucleic acids were isolated.\n",
      "\n",
      "Two randomised trials of ventilation during ECMO for patients with ARDS (EOLIA; 11 plateau pressure of ≤24 cm H 2 O while applying a positive end-expiratory pressure of at Panel: Key components in the planning and provision of ECMO during an outbreak of an emerging infectious disease ECMO resource planning and allocation Embed ECMO response into the broad epidemic response strategy; identify and engage all key stakeholders; maintain a log of multidisciplinary team members specifically trained in the care of patients receiving ECMO; maintain a contemporaneous log of ECMO machines serviced and ready to deploy; ensure supply of disposables and develop a regional tracking mechanism; prepare for surge of patients Establish chain of command at ECMO centre level and regional level; formulate minimum and ideal staffing requirements; allocate roles in the ECMO process and allow for staff attrition; develop urgent mechanisms for ECMO credentials across institutions Provide site-specific training and involve multidisciplinary team members; ensure correct use of PPE and the handling of infected bodily secretions; reinforce need for optimal conventional management of patients and review ECMO indications; simulate ECMO initiation and troubleshooting scenarios Group patients into cohorts for ECMO therapy and clearly mark all areas of increased precaution; ensure PPE stations are strategically placed to enhance compliance; strictly enforce all infection control protocols and PPE use for ECMO processes Transport of patients receiving ECMO Devise eligibility criteria for inter-hospital transfer and share them with referral centres; ensure effective communication and coordination; identify and address rate-limiting steps; strictly adhere to infection control protocols throughout patient transport ECMO weaning, decannulation, and rehabilitation Carry out ECMO weaning, decannulation and rehabilitation under strict infection control and personal protection measures; use caution while predicting native lung recovery on ECMO; arrange follow-up of patients who have been weaned from ECMO to ensure long-term outcomes Map capacity of mortuary facilities in ECMO centres and review guidelines for post-mortem care; carry out post-mortem decannulation and transport of deceased under strict infection control and personal protection measures; follow national and international guidelines on disposal of infectious biological hazardous materials Routinely monitor staff for their health and wellbeing; put in place protocols for contact tracing; ensure provision of a team of psychiatrists, psychologists, and social workers to monitor and treat the psychological effects on staff; ensure that sick personnel are quarantined for 2 weeks with a clear follow-up and escalation plan in place; provide protocols for contact tracing of staff members Use predetermined consensus criteria for rationing of ECMO if indicated; reassess all aspects of a patient's treatment plan regularly, including the need to continue or terminate ECMO; invoke distributive justice only in circumstances where rationing precludes the ability to care for each individual optimally; seek opinions from hospital ethics and medicolegal committees in ethically challenging scenarios Quality assurance and collaborative research Maintain quality assurance and clinical governance frameworks with frequent ECMO quality reviews; ensure collection and sharing of data to inform preparedness and patient care; aim to have ethics approval in place or develop mechanisms for expedient ethics review and approval processes ECMO=extracorporeal membrane oxygenation.\n",
      "\n",
      "China best exemplified this largescale quarantine by declaring epidemic zones and placing people under collective quarantine in villages, cities, or institutions. 21 In April 2003, the Chinese authorities gained full control of all activities to combat SARS, with guidelines and control measures that were national, unambiguous, rational, and widely followed, under central guidance.\n",
      "\n",
      "Guidance for the appropriate use of surgical antimicrobial prophylaxis in Australia is available via national prescribing guidelines and suggested principles of antimicrobial prescribing in regard to surgical procedures are: • only prescribe prophylaxis if there is a clear need • the use of topical antimicrobials is not recommended for surgical prophylaxis The use of topical antimicrobials for prophylaxis during surgical procedures has been a practice commonly utilised by surgeons with limited evidence of benefit.\n",
      "\n",
      "With the consensus of two deep learning models based on convolutional neural networks and multitask deep learning, we report the top 15 potentially highly potent anti-2019-nCoV 3CL inhibitors, which provide timely guidance for the further development of anti-2019nCoV drugs.\n",
      "\n",
      "A confirmed case should meet the criteria of notification for COVID-19 in Taiwan and be tested positive by real-time reverse transcriptase-polymerase chain reaction (RT-PCR) test. 12 Detailed information including demographic and clinical data was reported to the National Notifiable Disease Surveillance System. 13 The investigation team determined the clinical severity of the confirmed patients following the World Health Organization (WHO) interim guidance. 14 When the patient was laboratory-confirmed to have SARS-CoV-2 infection, a thorough epidemiological investigation including contact tracing was implemented by the outbreak investigation team of Taiwan CDC and local health authorities.\n",
      "\n",
      "Since testing began, local procedures and national guidelines have changed in response to changing understanding of the disease and demand for testing.\n",
      "\n",
      "As all care delivered to patients was routine, no ethical approval is necessary in keeping with UK national guidance that this is an evaluation of a current NHS service.\n",
      "\n",
      "Don't stick to national guidelines of NCP, based on professional opinion by respiratory professor and expert group, we focused on individualized treatment and timely adjustment of treatment and management strategies in working about COVID-19 patients.\n",
      "\n",
      "Don't stick to national guidelines of NCP, based on professional opinion by respiratory professor and expert groups we focused on individualized treatment and timely adjustment of treatment and management strategies in working about COVID-19 patients. can be isolated and diagnosed in time.\n",
      "\n",
      "Our positive samples were all collected from confirmed patients, following China's national diagnostic and treatment guidelines at the time of the diagnosis, which required positive results in NAT.\n",
      "\n",
      "Guidance on mode of delivery requires expert consensus until further information emerges.\n",
      "\n",
      "Consensus guidance from China advises \"delayed cord clamping is not recommended\" in order to reduce the risk of vertical transmission and that infants should be separated from mothers affected by COVID 19 (22) .\n",
      "\n",
      "Pragmatic choices will need to be made about achievable and acceptable levels of care with national guidance and local adaptation.\n",
      "\n",
      "We first assigned cases into two groups based on the severity of their COVID-19 pneumonia according to the Diagnostic and Treatment Guidelines of the National Health Commission of China (v6) 9 .\n",
      "\n",
      "According to the diagnostic and treatment guidelines for COVID-19 issued by the Chinese National Health Committee, severe COVID-19 was defined as All rights reserved.\n",
      "\n",
      "Diagnostic criteria and clinical classification of all confirmed COVID-19 cases were based on guidelines of National Health Commission. 5 Data collection and analysis of cases and close contacts were determined by the National Health Commission of the People's Republic of China (PRC) to be part of a continuing public health outbreak investigation and were thus considered exempt from 93% in resting state; (3) arterial oxygen partial pressure/fraction of inspired oxygen ≤300 mmHg; 4. critical type: any one condition of the followings: (1) respiratory failure need mechanical ventilation; (2) shock; (3) other organs failure need intensive care unit (ICU) monitoring and treatment.\n",
      "\n",
      "COVID-19 case was defined in accordance with the WHO interim guidelines and the National Guidelines in Diagnosis and Treatment Scheme for COVID-19 (Sixth edition) (8, 9) .\n",
      "\n",
      "Based on the National Guidelines in Diagnosis and Treatment Scheme for COVID-19 (9), the seriousness of clinical presentations of COVID-19 cases was categorized as mild, moderate, severe, and critical.\n",
      "\n"
     ]
    }
   ],
   "source": [
    "search(keywords=[\"non-pharmaceutical\",\"national\",\"consensus\",\"guidance\"],\n",
    "       optional_keywords=[\"new_coronavirus\", \"coronavirus\", \"covid19\"],\n",
    "       top_n=20, only_sentences=True)"
   ]
  },
  {
   "cell_type": "markdown",
   "metadata": {},
   "source": [
    "#### mobilize resources to geographic areas where critical shortfalls are identified)"
   ]
  },
  {
   "cell_type": "code",
   "execution_count": 29,
   "metadata": {
    "scrolled": false
   },
   "outputs": [
    {
     "name": "stdout",
     "output_type": "stream",
     "text": [
      "\n",
      "Search for terms ['mobilize resource', 'delivery system', 'health care']\n",
      "\n",
      "\n",
      "Search terms after cleaning, bigrams, trigrams and synonym expansion: ['mobilize', 'resource', 'delivery_system', 'health_care', 'resources', 'health_services', 'health_care_delivery', 'medical_care', 'healthcare', 'delivery_health_care', 'health_care_system', 'care', 'health_care_services']\n",
      "Optional search terms after cleaning, bigrams, trigrams and synonym expansion: ['newcoronavirus', 'coronavirus_covid19', '2019ncov_covid19', 'outbreak_2019_novel', 'sarscov2_2019ncov', 'coronavirus_2019ncov', 'ongoing_outbreak_novel_coronavirus', 'since_late_december', 'ongoing_outbreak_covid19', 'originating_wuhan_china', 'novel_coronavirus_outbreak', 'wuhan_coronavirus']\n",
      "\n",
      "Results:\n",
      "\n",
      "[7] [8] [9] [10] Infection transmission between COVID19 patients and healthcare workers has also been documented. 11 Given the current status of the COVID19 outbreak, the US Surgeon General, 12 Centers for Disease Control and Prevention (CDC), 13 American College of Surgeons (ACS), 14 American Society of Anesthesiologists (ASA), and Anesthesia Patient Safety Foundation (APSF) 15 have recommended considering rescheduling or postponing some elective surgeries with the goal of conserving limited resources, such as ventilators and ICU beds, and mitigating the risk of \"exposing other inpatients, outpatients, and health care providers to the risk of contracting COVID-19\" from asymptomatic but infectious patients. 14 However, the American Hospital Association, the Federation of American Hospitals, the Association of American Medical Colleges, and the Children's Hospital Association have written a joint letter opposing the surgeon general's advice. 12 Going along with the surgeon general's and ACS's recommendations, multiple hospitals, including several major hospital systems in WA, are canceling or postponing elective surgery procedures. 16 17 The goal of this study is to provide a quantitative analysis and model for preventable COVID19 infections from elective outpatient or ambulatory surgery cases.\n",
      "\n",
      "The media reported a significant shortage of hospital beds, intensive care unit (ICU) beds, and other healthcare resources.\n",
      "\n",
      "During the 2009 influenza A(H1N1) pandemic, inadequate surge capacity highlighted the need for intensive-care reserves and improved health-care resource planning at all levels. 17, 18 In an effort to improve ECMO preparedness 19 for an outbreak of an emerging infectious disease, we highlight the ten key components of an ECMO action plan (panel) based on these four categories, with practical recommendations for health centres to ensure appropriate training, capacity, and planning, depending on local priorities and resources.\n",
      "\n",
      "These permissions are granted for free by Elsevier for as long as the COVID-19 resource centre remains active. therapy for patients with acute myocardial infarction is to provide the best care, given the available resources, to such patients in a timely manner at any location.\n",
      "\n",
      "We hope that this model can be extended to other pediatric units to enhance the quality of care, reduce healthcare resource consumption and social costs, and ensure the safety of patients and healthcare workers.\n",
      "\n",
      "[3] [4] [5] [6] [7] [8] [9] However, there continues to be wide variability in hospital-based care for bronchiolitis both among US and international institutions. 2, 10, 11 Given the high financial and medical burden of bronchiolitis on families and healthcare facilities, it is prudent to continue reviewing evidence based management of this common disease in order to optimize resource utilization, decrease healthcare costs, and decrease unnecessary hospitalization. 11, 12 BACKGROUND Pathogenesis Bronchiolitis is a viral illness occurring in children under age 2 years characterized by an upper respiratory prodrome followed by a lower respiratory tract infection.\n",
      "\n",
      "Will other countries have the fortitude to implement even more drastic measures and mobilize resources to prevent the spread of the virus and to care for the sick?\n",
      "\n",
      "During the 2014-16 west African outbreak of Ebola virus disease, gendered norms meant that women were more likely to be infected by the virus, given their predominant roles as caregivers within families and as front-line health-care workers. 7 Women were less likely than men to have power in decision making around the outbreak, and their needs were largely unmet. 8 For example, resources for reproductive and sexual health were diverted to the emergency response, contributing to a rise in maternal mortality in a region with one of the highest rates in the world. 9 During the Zika virus outbreak, differences in power between men and women meant that women did not have autonomy over their sexual and reproductive lives, 10 which was compounded by their inadequate access to health care and insufficient financial resources to travel to hospitals for check-ups for their children, despite women doing most of the community vector control activities. 11 Given their front-line interaction with communities, it is concerning that women have not been fully incorporated into global health security surveillance, detection, and prevention mechanisms.\n",
      "\n",
      "The analysis at the micro-level may further specify the proposed measures and prescribe actions for: l the digital modernization of the system and the introduction of e-health, l the improvement of skills and competencies of human resources, l the development of modern procurement systems, analytical cost accounting, compensation methods, methods for preparing and monitoring the budget of hospitals, and l the introduction of internal control systems, quality management systems, one-day surgery, home health-care, distant care.\n",
      "\n",
      "The directions of the OMC for social protection and the basic indicators of an ongoing pan-European research should be expanded and revised regularly as for example, the indicators of material deprivation (digital exclusion), of affluent households, life expectancy, and the transition from work to retirement. 18 The directions of the OMC as an intergovernmental cooperation method on accessible, quality and sustainable health-care, and long-term care, focus on the following: l Access for all to adequate health-care and long-term care, ensuring that the need for care does not lead to poverty and financial dependency while at the same time addressing inequalities related to access to care and the results of health services. l Quality in health-care and long-term health care and adjustment, including preventive care, to the changing needs and preferences of society and individuals, primarily through the development of quality standards that meet international best practices and through the development of a higher sense of responsibility among health professionals and patients and recipients of care. l Sustainability of adequate and quality health-care and long-term care through the rational use of resources and mainly through appropriate incentives for users and providers, good governance and coordination between care systems and public and private entities.\n",
      "\n",
      "Problems to be addressed: Excessive increase in costs, low level of organization of health-care, low level of EU care, lack of individualized and comprehensive health-care, lack of use of tools to assess health-care technology and health-care with fewer resources, shortage of health professionals (generally, specifically), low cross-European cooperation, insufficient use of ICT, lack of interconnection functionality for the electronic patient records.\n",
      "\n",
      "The lack of IPC in developing countries with limited resources is a major dilemma that leads to high rates of healthcare-associated infections. 65 Hand hygiene is arguably, the most important infection control procedure, and is often neglected by health-care workers in these countries. 66 While developing countries still lack the equipment, expertise, and health infrastructure to detect and manage patients, 65 SARS-CoV-2 is spreading rapidly in these unprepared countries . 67 It has been recommended to promptly prioritize resources, precise surveillance, and capacity development in countries with low preparedness for diagnosing the virus and limiting transmission. 68 What is most essential is that regular care activities do not suffer because of a pandemic condition, and that control of the far more common (and far more deadly) pathogens hospitals deal with on a daily basis remains of utmost importance.\n",
      "\n",
      "Healthcare resources have become a major bottleneck in the response to this public health crisis.\n",
      "\n",
      "The sudden onset of the epidemic and the sheer size of the infection have caused significant shortage in healthcare resources across Hubei Province.\n",
      "\n",
      "Two critical questions of operational nature remain, which cities, both in Hubei and other provinces, are most vulnerable to localized outbreaks, and how the public health authorities should balance the healthcare resources under stress to best fight the epidemic and minimize the risks?\n",
      "\n",
      "This study is aimed to shed light on these questions by developing a vulnerability analysis framework integrating the human movement and healthcare resource data.\n",
      "\n",
      "In particular, Xinyang appears to be in a particular vulnerable situation because of the large number of people traveling from Wuhan and its insufficient healthcare resources.\n",
      "\n",
      "For the identified cities with high vulnerability, it is important to increase the reserve of healthcare resources or have contingent plans.\n",
      "\n",
      "In particular, some of these cities already contributed significant healthcare resources to Hubei, leaving themselves inadequately prepared for the localized outbreak.\n",
      "\n",
      "Our analysis revealed that several medium-sized cities, particularly those neighboring Hubei, are highly vulnerable due to the lack of healthcare resources.\n",
      "\n"
     ]
    }
   ],
   "source": [
    "search([\"mobilize resource\",\"delivery system\", \"health care\"],\n",
    "       optional_keywords=[\"new_coronavirus\", \"coronavirus\", \"covid19\"],\n",
    "       top_n=20, only_sentences=True)"
   ]
  },
  {
   "cell_type": "markdown",
   "metadata": {},
   "source": [
    "#### Rapid design and execution of experiments to examine and compare NPIs currently being implemented."
   ]
  },
  {
   "cell_type": "code",
   "execution_count": 45,
   "metadata": {
    "scrolled": false
   },
   "outputs": [
    {
     "name": "stdout",
     "output_type": "stream",
     "text": [
      "\n",
      "Search for terms ['non-pharmaceutical', 'rapid experiment', 'multidisciplinary', 'homeland security science']\n",
      "\n",
      "\n",
      "Search terms after cleaning, bigrams, trigrams and synonym expansion: ['nonpharmaceutical', 'rapid', 'experiment', 'multidisciplinary', 'homeland_security', 'science', 'school_closures_social_distancing', 'pharmaceutical_measures', 'nonpharmaceutical_measures', 'community_mitigation', 'nonpharmaceutical_public_health_interventions', 'nonpharmaceutical_intervention', 'nonpharmaceutical_interventions_eg', 'nonpharmaceutical_interventions_npi', 'nonpharmacological_interventions', 'use_nonpharmaceutical_interventions', 'interdisciplinary', 'collaborative_approach', 'pccm', 'multidisciplinary_teams', 'specialty_society', 'applied_epidemiology', 'multidisciplinary_research', 'interdisciplinary_team', 'community_practice', 'multidisciplinary_team', 's_emergency_operations', 'departments_health', 'response_system_mmrs', 'citizen_corps', 'euroatlantic', 'australian_cbrn_data', 'office_emergency_management', 'counterterrorism', 'key_partners', 'global_health_workforce']\n",
      "Optional search terms after cleaning, bigrams, trigrams and synonym expansion: ['newcoronavirus', 'coronavirus_covid19', '2019ncov_covid19', 'outbreak_2019_novel', 'sarscov2_2019ncov', 'coronavirus_2019ncov', 'ongoing_outbreak_novel_coronavirus', 'since_late_december', 'ongoing_outbreak_covid19', 'originating_wuhan_china', 'novel_coronavirus_outbreak', 'wuhan_coronavirus']\n",
      "\n",
      "Results:\n",
      "\n",
      "In recent years, the rapid development of epidemiology, bioinformatics, computer science, measurement and statistics, systems engineering, environmental science, geography, medicine, veterinary science, artificial intelligence, and other surveillance-related interdisciplinary theories and technologies have boosted the rapid development of surveillance and early warning technologies with an increasingly important role in controlling infectious diseases. surveillance is often the earliest and most commonly used field.\n",
      "\n",
      "To address the need for rapid quantification of risk, while acknowledging the shortcomings of R 0 , we use network science methods to derive both the probability of an epidemic and its final size.\n",
      "\n",
      "In NCP department, there are core members of Pulmonary and Critical Care Medicine (PCCM) specialist and multidisciplinary team.\n",
      "\n",
      "Finally, it is worth stressing that these projections only inform about early phase of the outbreak in the absence of controls; the rapid and effective use of non-pharmaceutical interventions (contact-tracing, self-isolation and movement controls) can substantially reduce the reproductive ratio.\n",
      "\n",
      "Other effective measures include One health approach, implementation of effective prevention and control strategies, rapid communication and networking, and exploring advances in science and technology for developing rapid and confirmatory diagnostics, enhancing disease surveillance and monitoring, implementation of strict biosecurity measures, and timely efforts toward designing appropriate and effective vaccines and therapeutics (Cheng et al. 2020; Cohen 2020; Cyranoski 2020; Lu 2020; Munjal et al. 2017; Singh et al. 2017) .\n",
      "\n",
      "With the rapid expansion of the health care epidemiology, infection control, and patient safety literature, it is increasingly difficult to stay up to date with the latest science in the field and to identify promptly and implement lifesaving prevention interventions.\n",
      "\n",
      "Progress has been facilitated by: 1) application of principles of reliability science (in which failures to adhere to best practice are regarded as \"defects\" in care); 2) development of concise \"bundles\" of evidence-based practices (culled from exhaustive and somewhat cumbersome guidelines); 3) application of an \"execution framework\" (including clear aims supported by leadership, multi-disciplinary teams employing quality improvement methods at the bedside in clinical microsystems, clear measures of outcomes and success, and a parsimonious set of \"drivers\" required to achieve these outcomes); and 4) advances in technology.\n",
      "\n",
      "Along with the rapid development of science and technology and the enhanced international collaborations, respiratory medicine in China has achieved great progress in various disciplines in recent years.\n",
      "\n",
      "Rapid development in science and technology offers new approaches to achieve this goal.\n",
      "\n",
      "Methods: Twenty-seven experts from 15 countries participated in a European Science Foundation workshop with plenary sessions and smaller work groups and building on the interdisciplinary expertise within ESPRIT (ESCMID Study Group on Primary Care Topics), EuroDURG (European Drug Utilisation Research Group), WHO (World Health Organisation), ESAC and other experts in this field.\n",
      "\n",
      "Recently, an editorial published on Science 6 has also highlighted how unsupported or misleading claims circulating in forums, social media, and even peer-reviewed articles, have been led by a substantial over interpretation of the available data.\n",
      "\n",
      "Despite its humble origins as a cluster of cases restricted to Wuhan, China in Nov. and Dec. of 2019, COVID-19 spread explosively across the globe and was officially declared a pandemic by the WHO on March 11, 2020. 1 In the United States, the number of confirmed cases has spiked from just 1 case between Jan. 20, 2020 to 4661 confirmed positives and 85 deaths as of March 16, 2020. 2 Washington state, the epicenter of the US outbreak and the location of the first American case, has had 904 COVID19+ patients as of March 16, 2020. 3 Given its rapid spread and 3.4% mortality rate, 4 countries like Italy and China have been forced to ration limited healthcare resources, and there are concerns that the US may need to do so as well. 5 Person-to-person transmission by asymptomatic individuals and pre-symptomatic individuals during the up-to-14 day incubation period 6 may play a significant role in this pandemic.\n",
      "\n",
      "However, the growth rate of COVID19 in the US has been rapid, increasing from 69 cases on 2/29/20 to 4661 confirmed cases just 17 days later. 2 Due to the current state of COVID19 testing, US statistics on confirmed COVID19 cases may not be the most reliable, either.\n",
      "\n",
      "The demand for rapid and accurate 37 diagnosis of this novel pathogen brought significant clinical and technological challenges. 38 Currently, metagenomic next-generation sequencing (mNGS) and reverse-transcription PCR 39 (RT-PCR) are the most widely used molecular diagnostics for 2019-nCoV. 40 Methods 41 2019-nCoV infections were confirmed in 52 specimens by mNGS.\n",
      "\n",
      "The copyright holder for this preprint (which was not peer-reviewed) is Here, to address this question and the expanding clinical needs, we developed CRISPR-nCoV, 78 a rapid assay for 2019-nCoV detection, and compared the diagnostic performance among 79 three different technological platforms: metagenomic sequencing, RT-PCR and CRISPR.\n",
      "\n",
      "The copyright holder for this preprint (which was not peer-reviewed) is 191 We seek to develop a rapid, highly sensitive and simple-to-use assay by taking advantage 192 of both the polymerase-mediated DNA amplification by RPA and the CRISPR/Cas-mediated 193 enzymatic signal amplification for improved sensitivity (Figure 2A) .\n",
      "\n",
      "Through the use of crRNA pools targeting different regions of the same virus or different strains of coronavirus, this system could possibly buffer against viral evolution and escape, as well as enable rapid development and deployment against emerging viruses.\n",
      "\n",
      "While this strategy is a proof-of-concept and will require further testing using replication-competent SARS-CoV-2 viruses and validation in animal models before clinical tests in humans, it represents a unique approach to implement a rapid and broad antiviral defense in humans against emerging pathogens for which there are no effective vaccines.\n",
      "\n",
      "For example, Hualiang Jiang and collaborators identified 30 drugs and compounds as the M pro inhibitors via protein modelling and virtual screening, which is a rapid progress in the way to cope with the crisis.\n",
      "\n",
      "To facilitate rapid determination of outbreak risk, we propose a reformulation of a classic result from random network theory that relies on contact tracing data to simultaneously determine the first moment (R 0 ) and the higher moments (representing the heterogeneity) in the distribution of secondary infections.\n",
      "\n"
     ]
    }
   ],
   "source": [
    "search([\"non-pharmaceutical\", \"rapid experiment\",\"multidisciplinary\",\"homeland security science\"],\n",
    "       optional_keywords=[\"new_coronavirus\", \"coronavirus\", \"covid19\"],\n",
    "       top_n=20, only_sentences=True)"
   ]
  },
  {
   "cell_type": "markdown",
   "metadata": {},
   "source": [
    "#### Rapid assessment of the likely efficacy of school closures, travel bans, bans on mass gatherings of various sizes, and other social distancing approaches."
   ]
  },
  {
   "cell_type": "code",
   "execution_count": 57,
   "metadata": {},
   "outputs": [
    {
     "name": "stdout",
     "output_type": "stream",
     "text": [
      "\n",
      "Search for terms ['travel_ban', 'school', 'social_distance']\n",
      "\n",
      "\n",
      "Search terms after cleaning, bigrams, trigrams and synonym expansion: ['travelban', 'school', 'socialdistance']\n",
      "Optional search terms after cleaning, bigrams, trigrams and synonym expansion: ['efficacy', 'effective', 'assesment', 'control', 'effectiveness', 'most_effective', 'very_effective', 'highly_effective', 'symptom_scoring', 'yos', 'sinus_imaging', 'determination_etiology', 'prehct_screening', 'feasible_clinical_practice', 'rulingout', 'quantify_degree', 'can_used_processofcare', 'need_intravenous_fluid']\n",
      "\n",
      "Results:\n",
      "\n",
      "Incorporating social mixing patterns in different contexts and at different times of the week (weekend vs weekday) into mathematical models, it is possible to evaluate the potential effectiveness of a range of control measures targeting respiratory infections, including school closures [4, 14] and social distancing [11] .\n",
      "\n",
      "Earlier studies on the effectiveness of spread control measures during infectious disease pandemic showed large-scale strategies, such as closure of school closure, case isolation, household quarantine, internal travel restrictions and border control, were able to delay the spread and/or reduce incidence rate at certain periods through the outbreak season.\n",
      "\n",
      "Mathematical models can help us understand how SARS-CoV-2 would spread across the population and inform control measures that may mitigate future transmission. 24, 25 Here, we simulated the trajectory of the ongoing outbreak of COVID-19 in Wuhan, using an age-structured SEIR model. 17, 18 Because individuals' mixing patterns are non-random, they influence the transmission dynamics of the disease. 11 Models assessing the effectiveness of social distancing interventions, such as school closure, need to account for social structures and heterogeneities in mixing of individuals.\n",
      "\n",
      "Such models have been used previously to evaluate the effectiveness (and cost-effectiveness) of alternative infectious disease control and containment strategies, including social distancing, vaccination and antiviral drug treatment in an Australian setting.19 Four distinct social distancing measures are available to health authorities: a) school closure; b) workplace closure and non-attendance; b) case isolation; d) reduced community-wide contact.\n",
      "\n",
      "In the event that local containment is unsuccessful, our findings suggest that national outbreak control is feasible provided that R 0 is low (≤1•5), with a combination of the proposed inter vention measures (quarantine, school closure, and workplace distancing) being most effective.\n",
      "\n",
      "In a systematic review, focused on influenza and school closures, Jackson et al. find some evidence that school closures are effective, but that the empirical evidence does not resolve how or when to close schools. 4 Furthermore, they find school closure mostly reduces infection in school children.\n",
      "\n",
      "We do know that the segment of the healthcare work force most responsible for infection control in nursing homes is likely to be among the most highly impacted by school closure induced child care obligations.\n",
      "\n",
      "However, policymakers and the healthcare experts advising them need to understand that closing schools may have severe knock-on effects on the healthcare system and that there is substantial uncertainty about the effectiveness of school closures for preventing infection beyond school children and on the impact of reduction in the healthcare workforce on patient survival.\n",
      "\n",
      "In the United States, the healthcare system appears disproportionately exposed to school closure induced labor shortages, and the segment of that system that provides infection control in nursing homes even more so.\n",
      "\n",
      "Effective interventions include limiting population mobility (e.g. cancellation of mass gathering, school closures and work-from-home arrangements) and public education (e.g. use of face masks and improved personal hygiene) (1).\n",
      "\n"
     ]
    }
   ],
   "source": [
    "search(['travel_ban',\"school\",'social_distance'],\n",
    "       optional_keywords=[\"efficacy\", \"effective\", \"assesment\",\"control\"],\n",
    "       top_n=10, only_sentences=True)"
   ]
  },
  {
   "cell_type": "markdown",
   "metadata": {},
   "source": [
    "#### Methods to control the spread in communities, barriers to compliance and how these vary among different populations"
   ]
  },
  {
   "cell_type": "code",
   "execution_count": 60,
   "metadata": {},
   "outputs": [
    {
     "name": "stdout",
     "output_type": "stream",
     "text": [
      "\n",
      "Search for terms ['community', 'compliance', 'population', 'effective', 'control']\n",
      "\n",
      "\n",
      "Search terms after cleaning, bigrams, trigrams and synonym expansion: ['community', 'compliance', 'population', 'effective', 'control', 'communities', 'within_community', 'populations', 'most_effective', 'very_effective', 'highly_effective']\n",
      "Optional search terms after cleaning, bigrams, trigrams and synonym expansion: ['newcoronavirus', 'coronavirus_covid19', '2019ncov_covid19', 'outbreak_2019_novel', 'sarscov2_2019ncov', 'coronavirus_2019ncov', 'ongoing_outbreak_novel_coronavirus', 'since_late_december', 'ongoing_outbreak_covid19', 'originating_wuhan_china', 'novel_coronavirus_outbreak', 'wuhan_coronavirus']\n",
      "\n",
      "Results:\n",
      "\n",
      "Population migration from rural communities to urban areas for employment, as well as the wild animal protection policy changes in China in recent years, have led to a perceived overall reduction in activities such as household animal raising and wildlife trade. 30, 31 Protective attitudes, knowledge and a supportive social environment for disease prevention were reportedly being developed within the community. 31 Existing local preliminary programmes and policies around human and animal health, community development and conservation are considered effective resources to begin or continue developing cost-effective strategies to mitigate zoonotic risks.\n",
      "\n",
      "Since the outbreak of COVID-19, some countries have suspended flights to and from China, and prevented Chinese people from travelling to their countries; both of these actions violate WHO International Health Regulations. 6 Similarly, in community prevention and control of the disease, the measures taken by individual villages and communities to seal off roads are of no value. 7 Such measures could result in civil unrest and reduce compliance with infection prevention and control advice.\n",
      "\n",
      "The WHO's initial focus was on managing droplet and contact transmission, but it has since recognized the role fomites play as well. 2 Fomites are important because while populations generally protect themselves from clearly observable droplet transmissions (coughing, sneezing), being invisible, fomite transmission is regularly overlooked both in hospitals and communities. 3e5 Consequently, during the community saturation phase, fomite transmission may play a larger role than droplet transmission as a mechanism in emergent infectious diseases. 3e6 In this paper we argue that by implementing enhanced Traffic Control Bundling (eTCB), 6 an extension of the TCB deployed by Taiwan during the 2003 SARS outbreak, countries can interrupt the community-hospital-community transmission cycle, thereby limiting COVID-19's impact.\n",
      "\n",
      "Therefore, the next stage of SARS-CoV-2 prevention and control needs to focus on the screening of asymptomatic patients in the community with a history of contact with the imported population, especially for children and the elderly.  \n",
      "\n",
      "For instance, even if traffic restrictions are not effective on their own, they facilitate the control of the population and thus it would be easier to detect infected individuals and treat them.\n",
      "\n",
      "Considering that the Chinese Spring Festival began on January 23 and the Chinese government initiated effective prevention, control and quarantine measures for the whole people, it can be considered that there are few new imported cases in all provinces, and the impact of migrant population flow can be basically ignored.\n",
      "\n",
      "In particular, information and knowledge of COVID-19 from a migrant city with high population mobility like Shenzhen can inform effective prevention and control strategies in other similar settings.\n",
      "\n",
      "Previous modeling studies have shown that community level control measures are effective in reducing disease transmissibility, however, prolonged closures of schools and businesses, as well as limited public gatherings have negative socio-economic impacts that must be considered (30, 31) .\n",
      "\n",
      "Any plan for stopping the ongoing 2019-nCov epidemic must be based on a quantitative understanding of the proportion of the at-risk population that needs to be protected by effective control measures in order for transmission to decline sufficiently and quickly enough for the epidemic to end.\n",
      "\n",
      "Any plan for stopping the ongoing 2019-nCov epidemic must be based on a quantitative understanding of the proportion of the at-risk population that needs to be protected by effective control measures in order for transmission to decline sufficiently and quickly enough for the epidemic to end.\n",
      "\n"
     ]
    }
   ],
   "source": [
    "search(['community',\"compliance\",'population',\"effective\",\"control\"],\n",
    "       optional_keywords=[ \"new_coronavirus\", \"coronavirus\", \"covid19\"],\n",
    "       top_n=10, only_sentences=True)"
   ]
  },
  {
   "cell_type": "markdown",
   "metadata": {},
   "source": [
    "#### Models of potential interventions to predict costs and benefits that take account of such factors as race, income, disability, age, geographic location, immigration status, housing status, employment status, and health insurance status."
   ]
  },
  {
   "cell_type": "code",
   "execution_count": 67,
   "metadata": {},
   "outputs": [
    {
     "name": "stdout",
     "output_type": "stream",
     "text": [
      "\n",
      "Search for terms ['intervention', 'benefit_cost', 'housing', 'demographic', 'income', 'age', 'immigration', 'census']\n",
      "\n",
      "\n",
      "Search terms after cleaning, bigrams, trigrams and synonym expansion: ['intervention', 'benefitcost', 'housing', 'demographic', 'income', 'age', 'immigration', 'census', 'interventions', 'formative_phase', 'fixed_transshipment_costs', 'industryspecific_factors', 'issue_relates', 'energy_carbon', 'feasibility_cost', 'public_pension_entitlement_unmet', 'tourism_demand_volatility', 'perceptionbased', 'airport_performance', 'demographics', 'demography', 'sociodemographic', 'incomes', 'household_income', 'earnings', 'premiums', 'disposable_income', 'individual_income', 'purchasing_power', 'chinese_visitors', 'outofpocket', 'family_income', 'emigration']\n",
      "Optional search terms after cleaning, bigrams, trigrams and synonym expansion: ['model', 'principalcomponent', 'data', 'models']\n",
      "\n",
      "Results:\n",
      "\n",
      "Ratio from aggregate case data Assuming homogeneous attack rates across the different age groups, the demographic distribution of cases by age across each location should broadly match the demography of the populations in Wuhan and across the rest of China.\n",
      "\n",
      "Respondents were asked about their demographics (including sex, age, living district, education 118 attainment, household income), self-perceived health status, travel history in the past month, occurrence 119 of respiratory symptoms in the past fourteen days and anxiety level using the Hospital, Anxiety and 120 Depression scale -Anxiety (HASD-A) (0-7 = Normal; 8-10 = Borderline abnormal; 11-21 = Abnormal).\n",
      "\n",
      "The model was developed using detailed census, workplace and mobility data using a model development methodology applied previously.11 Such models create realistic representations of the respective communities at an individual-byindividual level using the best available data sources, including from the Australian Bureau of Statistics (ABS).16 The Newcastle model represents 272,409 people in an urban area with a population which is representative of the Australian population as a whole, in terms of age distribution.\n",
      "\n",
      "The aim of this work is to evaluate the effectiveness of varied interventions and selfprotection measures, estimate the risk of partial lifting control measures and predict the epidemic trend of the virus in mainland China excluding Hubei province by establishing a COVID-19 transmission model incorporating the intervention measures implemented and fitting the data obtained from the National Health Commission of China (NHCC).\n",
      "\n",
      "The model is applied to the current epidemic in Spain, using the estimates of the epidemiological parameters and the mobility and demographic census data of the national institute of statistics (INE).\n",
      "\n",
      "The model is applied to the current epidemic in Spain, using the estimates of the epidemiological parameters and the mobility and demographic census data of the national institute of statistics (INE).\n",
      "\n",
      "Its model matches the real-world counterpart with respect to population size, household structure, age of individuals in each household (stratified from Australian census data into ten age bands), employment, schooling, and daily movement between these locations.\n",
      "\n",
      "The wide spread of the COVID-19 coronavirus and the lack or inefficiency of purposeful and result based intervention is a great call for other empirical and scientific interventions which seeks to review strategic models and recommendations of social and scientific research for disease control.\n",
      "\n",
      "Demographic data included gender, age, hospital classification, years of working, departments, professional titles, undertaking management work or not, educational background, marriage status, single child or not, and fertile or not.\n",
      "\n",
      "At this moment, few countries are routinely releasing their COVID-19 data with key demographic information such age, sex, or comorbidities.\n",
      "\n"
     ]
    }
   ],
   "source": [
    "search([\"intervention\", \"benefit_cost\",\"housing\", \"demographic\",\"income\", \"age\", \"immigration\",\"census\"],\n",
    "       optional_keywords=[\"model\", \"principal_component\",\"data\"],\n",
    "       top_n=10, only_sentences=True)"
   ]
  },
  {
   "cell_type": "markdown",
   "metadata": {},
   "source": [
    "#### Policy changes necessary to enable the compliance of individuals with limited resources and the underserved with NPIs."
   ]
  },
  {
   "cell_type": "code",
   "execution_count": 74,
   "metadata": {},
   "outputs": [
    {
     "name": "stdout",
     "output_type": "stream",
     "text": [
      "\n",
      "Search for terms ['access', 'policy', 'compliance', 'equitable']\n",
      "\n",
      "\n",
      "Search terms after cleaning, bigrams, trigrams and synonym expansion: ['access', 'policy', 'compliance', 'equitable', 'policies', 'sustainable_financing', 'equitable_distribution', 'aff_ordable_prices', 'equitable_access_health_care', 'promotion_health', 'fi_nancing', 'universal_access', 'access_affordable', 'propoor', 'shared_responsibility']\n",
      "Optional search terms after cleaning, bigrams, trigrams and synonym expansion: ['npis', 'nonpharmaceuticalintervention', 'npis', 'social_distancing', 'social_distancing_measures', 'pharmaceutical_interventions', 'school_closure_restraint', 'children_madang_attend_school', 'nonpharmaceutical_interventions', 'public_health_interventions', 'closing_schools', 'selfimposed_measures', 'quarantine_isolation', 'social_distancing', 'social_distancing_measures', 'pharmaceutical_interventions', 'school_closure_restraint', 'children_madang_attend_school', 'nonpharmaceutical_interventions', 'public_health_interventions', 'closing_schools', 'selfimposed_measures', 'quarantine_isolation']\n",
      "\n",
      "Results:\n",
      "\n",
      "To date, the U.S. government, in concert with private philanthro-VACCINE POLICY Reviews pies, has implemented a patchwork of policies to make the vaccine market more attractive for private firms and to increase access to these products for individuals.\n",
      "\n",
      "Therefore, equitable access to health services and goods is the second basic principle of health policy.\n",
      "\n",
      "Also, this research work will contribute significantly to recent research findings by Nesteruk (2020) and Ming and Zhang (2020) as well as inform government, non-government organizations as well as policy maker's decision on sustainable policies to prevent the spread of the disease based on specific age groups of the active population. .\n",
      "\n",
      "Responsive, open, and respectful communication with the US population by these agencies may improve public health compliance and safety. 3 Furthermore, although participants reported relatively low risk perception, many supported restrictive policies for infection prevention.\n",
      "\n",
      "Research is a key part of the COVID-19 response, and we believe that the government should act, with legislation and other means, to massively mobilise publicly accountable access to nationwide NHS health and social care data across a large number of data custodians for researchers, clinician and policy makers NHS data across the whole country.\n",
      "\n",
      "Social distancing policies may themselves influence the background mortality risks, as people may be less likely to access health and social care, and because social isolation has in many previous studies been shown to be associated with the onset and progression of cardiovascular and other diseases (34) .\n",
      "\n",
      "Population migration from rural communities to urban areas for employment, as well as the wild animal protection policy changes in China in recent years, have led to a perceived overall reduction in activities such as household animal raising and wildlife trade. 30, 31 Protective attitudes, knowledge and a supportive social environment for disease prevention were reportedly being developed within the community. 31 Existing local preliminary programmes and policies around human and animal health, community development and conservation are considered effective resources to begin or continue developing cost-effective strategies to mitigate zoonotic risks.\n",
      "\n",
      "Even purple yams my mum planted are eaten' (male peasant farmer, 50-y-old, Guangdong). the potential to spill over into the human population. 20, [32] [33] [34] [35] In addition, rural residents may face a higher risk because of their limited access to quality healthcare facilities for proper diagnosis and treatment compared with urban residents. 36 Enforcement of current wildlife protection policy and continued community infrastructure development appears to significantly reduce high-risk contact between humans, wildlife and livestock.\n",
      "\n",
      "A key measurable goal for the success of health policy is assessing Universal Health Coverage, including access to effective and safe medicines and other health targets within the UN's Sustainable Development Goals.\n",
      "\n",
      "A second concern should be rating the quality of the contents of the website based on availability of the names of the authors/editors of the material, the good referencing, and citation, being regularly updated with dates of publication clearly indicated, having a controllable access policy that requires subscription or prior registration, and displaying the names of the sponsoring and funding bodies (Grossman & Zerilli, 2013) .\n",
      "\n"
     ]
    }
   ],
   "source": [
    "search([ \"access\",\"policy\", \"compliance\",\"equitable\"],\n",
    "       optional_keywords=[\"NPIs\", \"non-pharmaceutical_intervention\",\"npis\"],\n",
    "       top_n=10, only_sentences=True)"
   ]
  },
  {
   "cell_type": "markdown",
   "metadata": {},
   "source": [
    "#### Research on why people fail to comply with public health advice, even if they want to do so (e.g., social or financial costs may be too high)."
   ]
  },
  {
   "cell_type": "code",
   "execution_count": 107,
   "metadata": {},
   "outputs": [
    {
     "name": "stdout",
     "output_type": "stream",
     "text": [
      "\n",
      "Search for terms ['fail_to_comply', 'social_burden', 'health_advice', 'financial_cost', 'socioeconomic']\n",
      "\n",
      "\n",
      "Search terms after cleaning, bigrams, trigrams and synonym expansion: ['failtocomply', 'socialburden', 'healthadvice', 'financialcost', 'socioeconomic', 'social_determinants', 'poverty_social', 'social_inequality', 'social_economic', 'societal_factors', 'socioeconomical', 'social_economic_factors', 'political_socioeconomic', 'socioeconomic_cultural', 'social_cultural_economic']\n",
      "Optional search terms after cleaning, bigrams, trigrams and synonym expansion: ['newcoronavirus', 'coronavirus_covid19', '2019ncov_covid19', 'outbreak_2019_novel', 'sarscov2_2019ncov', 'coronavirus_2019ncov', 'ongoing_outbreak_novel_coronavirus', 'since_late_december', 'ongoing_outbreak_covid19', 'originating_wuhan_china', 'novel_coronavirus_outbreak', 'wuhan_coronavirus']\n",
      "\n",
      "Results:\n",
      "\n",
      "Every location has a different socio-economic profile such that the growth rate of the epidemic (and hence R 0 ) might differ.\n",
      "\n",
      "Since the political and economic effects were not considered, further 288 studies on secondary impacts of the measure, like socioeconomic impacts, were also 289 warranted.\n",
      "\n",
      "Secondly, the influence of some 296 important factors, such as socioeconomic and demographic characteristics, were not 297 considered.\n",
      "\n",
      "6 At this time of severe crisis, policy makers are called to define containment measures which are often difficult to sustain in the long run and which have immense repercussions in terms of socio-economic sustainability.\n",
      "\n",
      "Individuals of lower socioeconomic status are more likely to find themselves in a dilemma between the need to work in high-risk locations and the lack of protective equipment.\n",
      "\n",
      "Previous modeling studies have shown that community level control measures are effective in reducing disease transmissibility, however, prolonged closures of schools and businesses, as well as limited public gatherings have negative socio-economic impacts that must be considered (30, 31) .\n",
      "\n",
      "The negative socio-economic impacts dictate that the community-level interventions can only last a finite amount of time.\n",
      "\n",
      "The evaluation of additional factors (demographic, socio-economic, political) included in the IDVI that may influence the overall potential impact of an unfolding epidemic identifies several countries that had a significant importation risk with a low to medium IDVI, such as Nigeria, Ethiopia, Egypt and Algeria.\n",
      "\n",
      "The emergence of a novel COVID-19 coronavirus pandemic has rapidly caused an enormous worldwide medical and socioeconomic impact since the first case emerged on November 16th 2019 [1] .\n",
      "\n",
      "Socio-economic differences may well be the reason for this: Ushuaia has one of the lowest poverty rates in the country, whereas Jujuy has one of the highest.\n",
      "\n"
     ]
    }
   ],
   "source": [
    "search([\"fail_to_comply\",\"social_burden\", \"health_advice\",\"financial_cost\", \"socioeconomic\"],\n",
    "       optional_keywords=[\"new_coronavirus\", \"coronavirus\", \"covid19\"],\n",
    "       top_n=10, only_sentences=True)"
   ]
  },
  {
   "cell_type": "markdown",
   "metadata": {},
   "source": [
    "#### Research on the economic impact of this or any pandemic."
   ]
  },
  {
   "cell_type": "code",
   "execution_count": 133,
   "metadata": {},
   "outputs": [
    {
     "name": "stdout",
     "output_type": "stream",
     "text": [
      "\n",
      "Search for terms ['basic service', 'economic_impact', 'total_cost', 'financial_cost', 'million']\n",
      "\n",
      "\n",
      "Search terms after cleaning, bigrams, trigrams and synonym expansion: ['basic', 'service', 'economicimpact', 'totalcost', 'financialcost', 'million', 'services', 'billion', '25_million', '10_million']\n",
      "Optional search terms after cleaning, bigrams, trigrams and synonym expansion: ['newcoronavirus', 'coronavirus_covid19', '2019ncov_covid19', 'outbreak_2019_novel', 'sarscov2_2019ncov', 'coronavirus_2019ncov', 'ongoing_outbreak_novel_coronavirus', 'since_late_december', 'ongoing_outbreak_covid19', 'originating_wuhan_china', 'novel_coronavirus_outbreak', 'wuhan_coronavirus']\n",
      "\n",
      "Results:\n",
      "\n",
      "It had allocated €2800 million to all regions for health services and created a new fund with €1000 million for priority health interventions. 4 However, these amounts need to be seen against the background of almost a decade of austerity from which the health system has yet to recover. 5 Third, in service delivery, the national Ministry of Health has developed a set of clinical protocols, published on its website.\n",
      "\n",
      "Workplace policies for management of staff wellbeing, including ensuring the presence of staff support services to provide basic amenities, such as meals and drinks, showering facilities, rest areas, and a laundry service for used scrubs or uniforms, could be introduced.\n",
      "\n",
      "A travel network-based stochastic susceptible-exposed-infectious-removed  Three population movement datasets, obtained from Baidu location-based services providing over 7 billion positioning requests per day, 35, 36 were used in this study to measure travel restrictions and social distancing across time and .\n",
      "\n",
      "The laboratory provides diagnostic services to six of seven major hospitals and approximately half of outpatient care in the Stockholm county (2.2 million inhabitants).\n",
      "\n",
      "A recent study estimated that pharmaceutical companies spent $2.6 billion in 2015, up from $802 million in 2003, in the development of an FDA-approved new chemical entity drug [7] .\n",
      "\n",
      "This phenomenon often introduces misperceptions in the general public and in media coverage as can again be seen in the current COVID-19 epidemic. 1 Reporting delay can be decomposed into several parts: (a) the time passing from symptom onset until the patient seeks medical service, (b) the time passing between this service and initiation of a laboratory test, (c) the time between this test initiation and completion of its result, (d) the time between test completion and its registration at the local health authority level and (e) the time passing from transmitting the case report from that local level to the (usually national) health authority level that will generate and publish the epidemic curve. 2 Technology and rapid procedures can minimize the delay occurring from the first contact with the health care system and appearance of a case in the daily case count at national level, but they can hardly reduce the delay between appearance of first symptoms and contact to the health care service. 2 The latter is subject to a variety of factors such as severity of the disease, public awareness for it, individual benefit to seek health services, accessibility to those services, some of which may also be subject to change during an epidemic.\n",
      "\n",
      "However, even full productivity (20 million facemasks per day) does not seem to meet the need of a population of 1·4 billion in China.\n",
      "\n",
      "Another relevant limitation was to consider that all primary health services 170 will have the same capacity in identifying the severity of clinical conditions, in a region with 171 more than 20 million people living with a GINI index ranging from 0.40 to 0.69 [25] , indicating, 172 among other factors, quite different levels of access to tertiary healthcare services.\n",
      "\n",
      "In addition to the thousands of lives lost, the economic costs of these outbreaks are estimated as $671 million, $40 billion, and $2.2 billion, respectively (5) (6) (7) (8) .\n",
      "\n",
      "In 2006, Dr. Larry Brilliant stated that 90% of the epidemiologists in his confidence agreed that there would be a large influenza pandemic within two generations, in which 1 billion people would sicken, 165 million would die, and the global economy would lose $1 to $3 trillion (11) (see Supplementary Materials for further discussion).\n",
      "\n"
     ]
    }
   ],
   "source": [
    "search([\"basic service\",\"economic_impact\", \"total_cost\",\"financial_cost\",\"million\"],\n",
    "       optional_keywords=[\"new_coronavirus\", \"coronavirus\", \"covid19\"],\n",
    "       top_n=10, only_sentences=True)"
   ]
  },
  {
   "cell_type": "markdown",
   "metadata": {},
   "source": [
    "#### This would include identifying policy and programmatic alternatives that lessen/mitigate risks to critical government services, food distribution and supplies, access to critical household supplies, and access to health diagnoses, treatment, and needed care, regardless of ability to pay."
   ]
  },
  {
   "cell_type": "code",
   "execution_count": 140,
   "metadata": {},
   "outputs": [
    {
     "name": "stdout",
     "output_type": "stream",
     "text": [
      "\n",
      "Search for terms ['mitigate risk', 'access to basic', 'food security', 'necessary resource', 'gini coefficient']\n",
      "\n",
      "\n",
      "Search terms after cleaning, bigrams, trigrams and synonym expansion: ['mitigate_risk', 'access_basic', 'food_security', 'necessary', 'resource', 'gini_coefficient', 'need_implemented', 'measures_should_taken', 'mitigating_strategies', 'limit_spread_disease', 'reduce_threat', 'reduce_risks_associated', 'measures_needed', 'should_implement', 'implement_preventive', 'avoid_spread', 'inequitable_access', 'weak_infrastructure', 'basic_primary_care', 'affordable_health_care', 'lack_investment', 'basic_health_services', 'basic_health_care', 'public_financing', 'clean_water_sanitation', 'safe_drinking_water_sanitation', 'livelihoods', 'human_health_wellbeing', 'environmental_sustainability', 'ecosystem_services', 'livelihood', 'food_security_nutrition', 'human_welfare', 'human_wellbeing', 'food_supply', 'biodiversity_conservation', 'required', 'needed', 'essential', 'resources', 'betweenprovince', 'per_capita_gdp', 'theil_t', 'offset_coefficients', 'output_correlations', 'healthcare_spending_per_capita', 'import_prices', 'proportion_ethnic_minorities', 'productionsharing_intensity_trade', 'growth_gdp']\n",
      "Optional search terms after cleaning, bigrams, trigrams and synonym expansion: ['newcoronavirus', 'coronavirus_covid19', '2019ncov_covid19', 'outbreak_2019_novel', 'sarscov2_2019ncov', 'coronavirus_2019ncov', 'ongoing_outbreak_novel_coronavirus', 'since_late_december', 'ongoing_outbreak_covid19', 'originating_wuhan_china', 'novel_coronavirus_outbreak', 'wuhan_coronavirus']\n",
      "\n",
      "Results:\n",
      "\n",
      "It is necessary to implement a community-based comprehensive intervention, which requires support from national polices, to ensure the availability of medical resources, such as essential drugs, equipment, and human resources, and to improve the affordability of COPD therapy for patients.\n",
      "\n",
      "Understanding the length of active monitoring needed to limit the risk for missing SARS-CoV-2 infections is necessary for health ORIGINAL RESEARCH departments to effectively use limited resources.\n",
      "\n",
      "A country's response capacity depends on the strength of its emergency preparedness and the regular testing and updating of national plans and capacities. 30 An effec tive response to an outbreak depends not only on the availability of adequate human resources and financing, but also on the ability to manage emergency logistics (including the handling of supply chains for essential products that are required during an emergency).\n",
      "\n",
      "Social planning and health policy explore, on the one hand, the type and quantity of health services and goods needed by the population and on the other, the human, material, and financial resources, i.e., the necessary inputs for the system to operate as well as the outputs and outcomes.\n",
      "\n",
      "Appropriate health care ■ Poorly controlled diabetics (whether Type I or II), with fasting glucose levels above 14mmol/L (250 mg/dL): • these patients should be referred for improved control of their blood sugar before non-emergency surgery is performed • if emergency surgery is needed, then prophylactic antibiotics are prudent, using the accepted principles of such use ■ Infections in diabetic patients: • regardless of the patient's diabetic control levels, infections should be managed aggressively, including possible early referral to oral and maxillofacial surgeon ■ Routine non-surgical procedures: • routine dental treatment or short minor surgical procedures under local anaesthesia can be carried out with no special precautions apart from ensuring that treatment does not interfere with eating ■ Surgical procedures: • the essential requirement is to avoid hypoglycaemia and also keep hyperglycaemia below levels which may be harmful because of delayed wound healing or phagocyte dysfunction; the desired whole blood glucose level is therefore ~5mmol/L • special management considerations apply to the diabetic who is to undergo anything more than simple dentoalveolar procedures under GA (Table 3 .45); the effects of stress and trauma may raise insulin requirements and precipitate ketosis • precautions required during oral surgery in diabetics depend mainly on: the type and severity of the diabetes and complications such as autonomic neuropathy that may predispose to hypotension or cardiac arrest, the type of anaesthetic, the extent of surgery, the extent of interference with normal feeding postoperatively ■ Many different management regimens have been suggested and each patient requires individual handling: the following therefore provides only general guidelines and the diabetic consultant should always decide the final regimen.\n",
      "\n",
      "To fight a potential pandemic like COVID-19, improved efficiency for resource allocation will be critical since a massive outbreak will rapidly consume public health and medical resources.\n",
      "\n",
      "The range of the values for the incubation period is essential to epidemiological case definitions, and is required to determine the appropriate duration of quarantine.\n",
      "\n",
      "There are also significant resource implications not just in terms of PPE use but predominantly in terms of the time required to don and doff PPE for every care interaction from bringing food to routine observations to clinical review.\n",
      "\n",
      "There are five essential genes in coronaviruses, the Spike protein (S), Membrane glycoprotein (M), Nucleocapsid (N), envelope protein (E) and the Orf1ab (a large polyprotein known as replicase/protease), all required to produce a structurally complete viral particle 13 .\n",
      "\n",
      "Other databases showing greater detail about many viruses, such as Virus Pathogen Resource (VIPR, https://www.viprbrc.org) and GSAID (https://www.gisaid.org) are very useful but these resources do not provide gene clustering or pan-genome analysis.\n",
      "\n"
     ]
    }
   ],
   "source": [
    "search([\"mitigate risk\", \"access to basic\",\"food security\",\"necessary resource\", \"gini coefficient\"],\n",
    "       optional_keywords=[\"new_coronavirus\", \"coronavirus\", \"covid19\"],\n",
    "       top_n=10, only_sentences=True)"
   ]
  },
  {
   "cell_type": "code",
   "execution_count": null,
   "metadata": {},
   "outputs": [],
   "source": []
  }
 ],
 "metadata": {
  "kernelspec": {
   "display_name": "Python 3",
   "language": "python",
   "name": "python3"
  },
  "language_info": {
   "codemirror_mode": {
    "name": "ipython",
    "version": 3
   },
   "file_extension": ".py",
   "mimetype": "text/x-python",
   "name": "python",
   "nbconvert_exporter": "python",
   "pygments_lexer": "ipython3",
   "version": "3.6.8"
  }
 },
 "nbformat": 4,
 "nbformat_minor": 2
}
