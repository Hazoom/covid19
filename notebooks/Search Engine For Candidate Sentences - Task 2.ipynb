{
 "cells": [
  {
   "cell_type": "markdown",
   "metadata": {},
   "source": [
    "# Search Engine For Candidate Sentences"
   ]
  },
  {
   "cell_type": "markdown",
   "metadata": {},
   "source": [
    "## Demonstration of how to use the simple search engine for fetching relevant sentences"
   ]
  },
  {
   "cell_type": "markdown",
   "metadata": {},
   "source": [
    "Let's import our search engine for `src` directory.\n",
    "\n",
    "First, one needs to set the Python source files environment variables for Juptyer Notebook. If you haven't done this, please run those two command BEFORE running Juptyer Notebook:\n",
    "1. `export PYTHONPATH=/path/to/covid19/src`\n",
    "2. `export JUPYTER_PATH=/path/to/covid19/src`"
   ]
  },
  {
   "cell_type": "code",
   "execution_count": 1,
   "metadata": {},
   "outputs": [
    {
     "name": "stderr",
     "output_type": "stream",
     "text": [
      "unable to import 'smart_open.gcs', disabling that module\n"
     ]
    }
   ],
   "source": [
    "from search.searchengine import SearchEngine\n",
    "from pprint import pprint\n",
    "import os"
   ]
  },
  {
   "cell_type": "code",
   "execution_count": 2,
   "metadata": {},
   "outputs": [],
   "source": [
    "data_dir = \"../../../workspace/kaggle/covid19/data\""
   ]
  },
  {
   "cell_type": "markdown",
   "metadata": {},
   "source": [
    "Initialize out SearchEngine object with:\n",
    "1. Sentences metadata\n",
    "2. bi-gram model\n",
    "3. tri-gram model\n",
    "4. Trained FastText vectors"
   ]
  },
  {
   "cell_type": "code",
   "execution_count": 3,
   "metadata": {},
   "outputs": [
    {
     "name": "stdout",
     "output_type": "stream",
     "text": [
      "Loading CSV: ../../../workspace/kaggle/covid19/data/sentences_with_metadata.csv and building mapping dictionary...\n",
      "Finished loading CSV: ../../../workspace/kaggle/covid19/data/sentences_with_metadata.csv and building mapping dictionary\n",
      "Loaded 249343 sentences\n",
      "Loading bi-gram model: ../../../workspace/kaggle/covid19/data/covid_bigram_model_v0.pkl\n",
      "Finished loading bi-gram model: ../../../workspace/kaggle/covid19/data/covid_bigram_model_v0.pkl\n",
      "Loading tri-gram model: ../../../workspace/kaggle/covid19/data/covid_trigram_model_v0.pkl\n",
      "Finished loading tri-gram model: ../../../workspace/kaggle/covid19/data/covid_trigram_model_v0.pkl\n",
      "Loading fasttext model: ../../../workspace/kaggle/covid19/data/fasttext_no_subwords_trigrams/word-vectors-100d.txt\n",
      "Finished loading fasttext model: ../../../workspace/kaggle/covid19/data/fasttext_no_subwords_trigrams/word-vectors-100d.txt\n"
     ]
    }
   ],
   "source": [
    "search_engine = SearchEngine(\n",
    "    os.path.join(data_dir, \"sentences_with_metadata.csv\"),\n",
    "    os.path.join(data_dir, \"covid_bigram_model_v0.pkl\"),\n",
    "    os.path.join(data_dir, \"covid_trigram_model_v0.pkl\"),\n",
    "    os.path.join(data_dir, \"fasttext_no_subwords_trigrams/word-vectors-100d.txt\"),\n",
    ")"
   ]
  },
  {
   "cell_type": "markdown",
   "metadata": {},
   "source": [
    "Simple search function that gets a list of keywords to search:"
   ]
  },
  {
   "cell_type": "code",
   "execution_count": 4,
   "metadata": {},
   "outputs": [],
   "source": [
    "def search(keywords, optional_keywords=None, top_n=10, synonyms_threshold=0.8, only_sentences=False):\n",
    "    print(f\"\\nSearch for terms {keywords}\\n\\n\")\n",
    "    results = search_engine.search(\n",
    "        keywords, optional_keywords=optional_keywords, top_n=top_n, synonyms_threshold=synonyms_threshold\n",
    "    )\n",
    "    print(\"\\nResults:\\n\")\n",
    "    \n",
    "    if only_sentences:\n",
    "        for result in results:\n",
    "            print(result['sentence'] + \"\\n\")\n",
    "    else:\n",
    "        pprint(results)"
   ]
  },
  {
   "cell_type": "markdown",
   "metadata": {},
   "source": [
    "Let's see some examples:"
   ]
  },
  {
   "cell_type": "code",
   "execution_count": 6,
   "metadata": {},
   "outputs": [
    {
     "name": "stdout",
     "output_type": "stream",
     "text": [
      "\n",
      "Search for terms ['risk_factor', 'Smoking', 'pulmonary disease']\n",
      "\n",
      "\n",
      "Search terms after cleaning, bigrams, trigrams and synonym expansion: ['riskfactor', 'smoking', 'pulmonary_disease', 'adjust_potential_confounding', 'important_confounders', 'causal_pathway', 'order_identify_factors', 'veal_calf_mortality', 'demographic_factors_eg', 'factors_age_sex', 'possible_confounding_factors', 'gender_comorbidities', 'probable_risk_factors', 'cigarette_smoking']\n",
      "Optional search terms after cleaning, bigrams, trigrams and synonym expansion: ['newcoronavirus', 'coronavirus_covid19', '2019ncov_covid19', 'outbreak_2019_novel', 'sarscov2_2019ncov', 'coronavirus_2019ncov', 'ongoing_outbreak_novel_coronavirus', 'since_late_december', 'ongoing_outbreak_covid19', 'originating_wuhan_china', 'novel_coronavirus_outbreak', 'wuhan_coronavirus']\n",
      "\n",
      "Results:\n",
      "\n",
      "■ Smoking may cause mucosal keratinisation and pigmentary incompetence and is linked to oral cancer ■ Oral snuff dipping and chewing tobacco predispose to leukoplakia and oral cancer ■ Smoking also predisposes to periodontal disease (particularly necrotising gingivitis), dry socket, candidosis, halitosis and xerostomia ■ Cigarette smoking is the most common cause of extrinsic staining of teeth ■ Stopping smoking reduces the risk of oral cancer so that by 5 years it is down to that of a non-smoker ■ However, stopping smoking is not merely difficult but may bring other problems: • aggravation or the onset of recurrent aphthae • increased consumption of sweets as a substitute for smoking, leading to caries and/or weight gain • use of nicotine-containing chewing gum may reduce the risk of aphthae but may produce hypersalivation.\n",
      "\n",
      "We note however our analyses do not control for potential confounding factors such as smoking or chronic obstructive pulmonary disease (COPD). .\n",
      "\n",
      "It is perhaps not surprising that chronic respiratory diseases such as Chronic Obstructive Pulmonary Disease (COPD), and indeed active TB, could predispose susceptibility to SARS-CoV-2.\n",
      "\n",
      "Patients who progressed to severe NCP were more likely to have underlying hypertension (P = 0.004), but did not otherwise have significant differences in other co-morbidities including diabetes, chronic obstructive pulmonary disease (COPD), cardiovascular disease, cerebrovascular disease and chronic hepatitis B infection.\n",
      "\n",
      "CT severity score 6 (4-10) 6 (3-9) 10 (7-15) 0.003 COPD, chronic obstructive pulmonary disease; CT, computed tomography; GGO, ground-glass opacities; NCP, 2019 novel coronavirus pneumonia; NLR, neutrophil-to-lymphocyte ratio. .\n",
      "\n",
      "Adjusted by other factors (age, gender, race and platforms) in multivariate analysis, smoking still shows a significant disparity in ACE2 gene expression (p-value=0.01, Fig. 1B) .\n",
      "\n",
      "We also identified a smoking related basal cell subpopulation which might be pro-goblet precursor cells and has been discussed in the study of Duclos G et.al.\n",
      "\n",
      "In addition, we observed an expression of MUSC5AC (the marker of goblet cells) in a subpopulation of club cells of current smokers, indicating the smoking related tissue remodelling with club cell loss and goblet cell hyperplasia (Fig. S5 top) .\n",
      "\n",
      "Besides, based on the expression of ACE2 in smoking individuals, we inferred that long-term smoking might be a risk factor for 2019-nCoV. Analyzing the ACE2 in SARS-CoV infected cells suggested that ACE2 was more than just a receptor but also participated in post-infection regulation, including immune response, cytokine secretion, and viral genome replication.\n",
      "\n",
      "However, the p-value between baseline and post-acute smoke exposure (ASE) group (24 hours after smoking 3 cigarettes) was 0.073 ( Figure 1E ).\n",
      "\n"
     ]
    }
   ],
   "source": [
    "search([\"risk_factor\", \"Smoking\", \"pulmonary disease\"],\n",
    "       optional_keywords=[\"new_coronavirus\", \"coronavirus\", \"covid19\"],\n",
    "       top_n=10, only_sentences=True)"
   ]
  },
  {
   "cell_type": "code",
   "execution_count": 7,
   "metadata": {},
   "outputs": [
    {
     "name": "stdout",
     "output_type": "stream",
     "text": [
      "\n",
      "Search for terms ['risk_factor', 'Co-infections', 'viral infections', 'co-morbidities']\n",
      "\n",
      "\n",
      "Search terms after cleaning, bigrams, trigrams and synonym expansion: ['riskfactor', 'coinfections', 'viral_infections', 'comorbidities', 'adjust_potential_confounding', 'important_confounders', 'causal_pathway', 'order_identify_factors', 'veal_calf_mortality', 'demographic_factors_eg', 'factors_age_sex', 'possible_confounding_factors', 'gender_comorbidities', 'probable_risk_factors', 'coinfection', 'mixed_infections', 'respiratory_viral_infections', 'comorbidity', 'comorbid_conditions', 'underlying_conditions', 'underlying_diseases', 'underlying_comorbidities', 'comorbid_diseases', 'preexisting_medical_conditions', 'underlying_medical_conditions', 'underlying_illness', 'presence_comorbidities']\n",
      "Optional search terms after cleaning, bigrams, trigrams and synonym expansion: ['newcoronavirus', 'coronavirus_covid19', '2019ncov_covid19', 'outbreak_2019_novel', 'sarscov2_2019ncov', 'coronavirus_2019ncov', 'ongoing_outbreak_novel_coronavirus', 'since_late_december', 'ongoing_outbreak_covid19', 'originating_wuhan_china', 'novel_coronavirus_outbreak', 'wuhan_coronavirus']\n",
      "\n",
      "Results:\n",
      "\n",
      "Unlike the China CDC study (19) that presented case fatality rates for different groups, our findings compare those with particular comorbidities to those without, allowing us to estimate the effect of a particular comorbidity on COVID-19 severity.\n",
      "\n",
      "Comorbidities' empirical prevalence can be computed from China CDC report for all subjects, but does not allow different values for each age interval and gender and, for that reason, we considered that prevalence values for each comorbidity were constant across age groups and gender.\n",
      "\n",
      "Finally, comorbidities classes were assumed to be exclusive, i.e., no subject could have more than one comorbidity.\n",
      "\n",
      "The ages of severe patients are older, and the proportion of underlying diseases is higher, and co-infection also occurs in severe patients.\n",
      "\n",
      "All death in patients (5 imported cases and 1 local case) have a kind of comorbidity, 2 of them have two comorbidities.\n",
      "\n",
      "Presumably, age should be more likely to correlate with underlying medical conditions and comorbidities.\n",
      "\n",
      "Information recorded included demographic data, underlying conditions, symptoms, and laboratory and chest radiograph findings, comorbidities, intubation rates, ventilator settings prior to and during ICU therapy.\n",
      "\n",
      "The aim of the meta-analysis was to assess the prevalence of comorbidities in the COVID-19 infection patients and the risk of underlying diseases in severe patients compared to non-severe patients.\n",
      "\n",
      "To get a more convincing result, we will provide a systematic evaluation and detail not only estimate the Prevalence of comorbidities in all patients, also assess the risk of underlying diseases in severe patients compared to non-severe patients.\n",
      "\n",
      "87 In other researches that conducted about the antiviral essential oils and their active constitutions indicated that Laurus nobilis essential oil which was characterized by the presence of β-ocimene (32), 1,8-cineole (6), α-pinene (4), and β-pinene (5), as the main constituents, showed interesting activity against SARS-CoV. 88 This overview caused the development of commercial therapeutics based on monoterpens compounds for viral infections especially in respiratory viral infections (Fig. 16.3) .\n",
      "\n"
     ]
    }
   ],
   "source": [
    "search([\"risk_factor\", \"Co-infections\", \"viral infections\", \"co-morbidities\"],\n",
    "       optional_keywords=[\"new_coronavirus\", \"coronavirus\", \"covid19\"],\n",
    "       top_n=10, only_sentences=True)"
   ]
  },
  {
   "cell_type": "code",
   "execution_count": 13,
   "metadata": {},
   "outputs": [
    {
     "name": "stdout",
     "output_type": "stream",
     "text": [
      "\n",
      "Search for terms ['risk_factors', 'pregnant women', 'covid19']\n",
      "\n",
      "\n",
      "Search terms after cleaning, bigrams, trigrams and synonym expansion: ['riskfactors', 'pregnant_women_covid19', 'iliarti', 'presenting_emergency_departments', 'differences_age_sex', 'hrv_species_genotypes', 'risk_factors_presenting_ed', 'diagnoses_pneumonia', 'risk_factors_hospitalization', 'rhinitis_asthma_respiratory', 'hivpositive_negative', 'antihistamine_prescription', 'premorbid_conditions', 'shortand_longterm_outcomes', 'however_paucity_data', 'obstetrical_outcomes', 'sarscov2related', 'bad_outcomes', 'risk_factors_poor_prognosis', 'confounding_indication', 'childhood_cancer_survivors', 'risk_factors_severe_illness']\n",
      "Optional search terms after cleaning, bigrams, trigrams and synonym expansion: []\n",
      "\n",
      "Results:\n",
      "\n",
      "According to most recent US Centers for Disease Control and Prevention (CDC) guidance, risk factors for severe illness are not yet clear, although older patients and those with chronic medical conditions may be at higher risk.\n",
      "\n",
      "Statistical modelling analyses further confirmed differences in age and sex associations according to sCoV type, and a greater chance of sCoV detection among GP attendees than patients admitted to hospital (supplementary Tables S5-S7).\n",
      "\n",
      "While confirmation of SARS-CoV-2-related myocarditis has been hampered by its heterogeneous clinical presentations and complexity of definitive diagnose, PCR technology have enabled detection of many other virus within the myocardium of affected patients [12] .\n",
      "\n",
      "Early identification of risk factors for severe illness facilitated appropriate supportive care and promptly access to the intensive care unit (ICU) if necessary.\n",
      "\n",
      "More specifically, we excluded GWAS data of diseases or traits related to the following: eye or hearing problems, orthopedic and trauma-related conditions (except autoimmune diseases), skin problems (except systemic or autoimmune diseases), perinatal and obstetric problems, operation history, medication history (as confounding by indication is common and may affect the validity of results 22 ), diet/exercise habit (as accuracy of information .\n",
      "\n",
      "However, there is a paucity of data concerning fecal shedding of the virus in pediatric patients.\n",
      "\n",
      "According to this system, we further categorized 54 strains of SARS-CoV-2-related virus (Fig 3C) .\n",
      "\n",
      "The Public Health Microbiology Laboratory in Bavaria was confronted with SARS-CoV-2-related events very early: once the assays and control materials arrived and the PCR assays were performed for the first time, a large contact investigation around the first German COVID-19 patient (data not shown) was immediately started, with so far more than 700 samples.\n",
      "\n",
      "In order to assess the potential of the Wuhan 2019-nCoV to cause maternal, fetal and neonatal morbidity and other poor obstetrical outcomes, this communication reviews the published data addressing the epidemiological and clinical effects of SARS, MERS, and other coronavirus infections on pregnant women and their infants.\n",
      "\n",
      "It is certain that 2019-nCoV will infect women who are pregnant, leaving the question open as to whether the novel coronavirus will have a similar or different effect on them compared with SARS-CoV and MERS-CoV. In order to address the potential obstetrical outcomes of infection to both mother and infant, the present communication describes the current state of knowledge regarding the effects of other coronavirus infections in pregnancy.\n",
      "\n"
     ]
    }
   ],
   "source": [
    "search([\"risk_factors\", \"pregnant women\", \"covid19\"],\n",
    "       optional_keywords=[\"new_coronavirus\", \"coronavirus\", \"covid19\"],\n",
    "       top_n=10, only_sentences=True)"
   ]
  },
  {
   "cell_type": "code",
   "execution_count": 15,
   "metadata": {},
   "outputs": [
    {
     "name": "stdout",
     "output_type": "stream",
     "text": [
      "\n",
      "Search for terms ['risk_factors', 'Socio-economic']\n",
      "\n",
      "\n",
      "Search terms after cleaning, bigrams, trigrams and synonym expansion: ['riskfactors', 'socioeconomic', 'iliarti', 'presenting_emergency_departments', 'differences_age_sex', 'hrv_species_genotypes', 'risk_factors_presenting_ed', 'diagnoses_pneumonia', 'risk_factors_hospitalization', 'rhinitis_asthma_respiratory', 'hivpositive_negative', 'antihistamine_prescription', 'social_determinants', 'poverty_social', 'social_inequality', 'social_economic', 'societal_factors', 'socioeconomical', 'social_economic_factors', 'political_socioeconomic', 'socioeconomic_cultural', 'social_cultural_economic']\n",
      "Optional search terms after cleaning, bigrams, trigrams and synonym expansion: ['newcoronavirus', 'coronavirus_covid19', '2019ncov_covid19', 'outbreak_2019_novel', 'sarscov2_2019ncov', 'coronavirus_2019ncov', 'ongoing_outbreak_novel_coronavirus', 'since_late_december', 'ongoing_outbreak_covid19', 'originating_wuhan_china', 'novel_coronavirus_outbreak', 'wuhan_coronavirus']\n",
      "\n",
      "Results:\n",
      "\n",
      "Every location has a different socio-economic profile such that the growth rate of the epidemic (and hence R 0 ) might differ.\n",
      "\n",
      "Statistical modelling analyses further confirmed differences in age and sex associations according to sCoV type, and a greater chance of sCoV detection among GP attendees than patients admitted to hospital (supplementary Tables S5-S7).\n",
      "\n",
      "\" 6 At this time of severe crisis, policy makers are called to define containment measures which are often difficult to sustain in the long run and which have immense repercussions in terms of socio-economic sustainability.\n",
      "\n",
      "The COVID-19 pandemic may cause excess mortality over the next year in the population both because of deaths among those infected, and because people who are not infected are experiencing social and economic upheaval; meanwhile the ability of health services to provide high quality of care for both infected and uninfected patients is increasingly threatened.\n",
      "\n",
      "The prediction is expected to provide practical significance on social and economic application.\n",
      "\n",
      "The ongoing outbreak is accompanied by many human casualties and significant socio-economic losses globally and has now reached the proportions of a pandemic, with more than 81,000 COVID-19 confirmed cases and more than 2,760 related fatalities worldwide (February 26, 2020) .\n",
      "\n",
      "A main objective of this paper is to quantify the effect of various social and economic factors in mediating the transmission rates of the virus, which may help identify potential behavioral and socioeconomic risk factors for infections.\n",
      "\n",
      "We investigate the impacts of many social, economic and environmental variables in mediating the transmission rates (Eq. (3)).\n",
      "\n",
      "Tailored and sustainable approaches should be adopted in a different situation, striking a balance among the control of infection and death number, confining epidemic regions, and maintaining socioeconomic vitality.\n",
      "\n",
      "The universality of this behavior indicates that, in spite of social, regional, demographical, geographical, and socio-economical heterogeneities of affected Chinese provinces, this outbreak is dominated by fundamental mechanisms that are not captured by standard epidemiological models.\n",
      "\n"
     ]
    }
   ],
   "source": [
    "search([\"risk_factors\", \"Socio-economic\"],\n",
    "       optional_keywords=[\"new_coronavirus\", \"coronavirus\", \"covid19\"],\n",
    "       top_n=10, only_sentences=True)"
   ]
  },
  {
   "cell_type": "code",
   "execution_count": 18,
   "metadata": {},
   "outputs": [
    {
     "name": "stdout",
     "output_type": "stream",
     "text": [
      "\n",
      "Search for terms ['risk_factors', 'Transmission dynamics', 'reproductive number', 'incubation period', 'serial interval']\n",
      "\n",
      "\n",
      "Search terms after cleaning, bigrams, trigrams and synonym expansion: ['riskfactors', 'transmission_dynamics', 'reproductive_number', 'incubation_period_serial_interval', 'iliarti', 'presenting_emergency_departments', 'differences_age_sex', 'hrv_species_genotypes', 'risk_factors_presenting_ed', 'diagnoses_pneumonia', 'risk_factors_hospitalization', 'rhinitis_asthma_respiratory', 'hivpositive_negative', 'antihistamine_prescription', 'disease_dynamics', 'epidemiological_dynamics', 'spatiotemporal_spread', 'transmission_patterns', 'spatiotemporal_variation', 'disease_transmission_dynamics', 'human_mobility_patterns', 'spatial_transmission', 'simulate_spread', 'epidemic_dynamics', 'reproduction_number', 'basic_reproductive_number', 'basic_reproduction_number', 'epidemic_growth_rate', 'effective_reproductive_number', 'basic_reproduction', 'value_r_0', 'effective_reproduction_number', 'reproductive_number_r_0', 'r_0', 'timings_symptom', 'distribution_incubation_period', 'we_fitted_lognormal', 'serial_interval_estimates', 'fitted_parametric', 'admissiontodischarge', 'onsettodeath_distribution', 'distribution_cluster_sizes', 'assuming_poisson', 'early_phase_covid19_outbreak']\n",
      "Optional search terms after cleaning, bigrams, trigrams and synonym expansion: ['newcoronavirus', 'coronavirus_covid19', '2019ncov_covid19', 'outbreak_2019_novel', 'sarscov2_2019ncov', 'coronavirus_2019ncov', 'ongoing_outbreak_novel_coronavirus', 'since_late_december', 'ongoing_outbreak_covid19', 'originating_wuhan_china', 'novel_coronavirus_outbreak', 'wuhan_coronavirus']\n",
      "\n",
      "Results:\n",
      "\n",
      "We assume that at time t after 23 January, an increasing control function u(t) represents the fraction of the transmissions that are prevented, thus the effective reproduction number becomes R(t) = (1 − u(t))R 0 S(t)/N. Based on the previous estimates from the literature (see Table 1 ), we chose an incubation period α −1 = 5.1 days [30] , basic reproduction number R 0 = 2.6 (2.1-3.1) with the corresponding infectious period γ −1 = 3.3 (1.7-5.6) days [19] .\n",
      "\n",
      "Results: Results suggest that the basic reproduction number, R 0, before VEC introduced as 2.50 with a 95% confidence interval (CI) was [2.43, 2.55] and the effective reproduction number, R v, after VEC introduced as 1.\n",
      "\n",
      "To quantify the relative contribution of immunity versus seasonal forcing on the transmission dynamics of the betacoronaviruses, we adopted a regression model (22) that expressed the effective reproduction number for each strain (HKU1 and OC43) as the product of a baseline transmissibility constant (related to the basic reproduction number and the proportion of the population susceptible at the start of the season), the depletion of susceptibles due to infection with the same strain, the depletion of susceptibles due to infection with the other strain, and a spline to capture further unexplained seasonal variation in transmission strength (seasonal forcing).\n",
      "\n",
      "Estimating the basic reproduction number ( R 0 ) Given an epidemic growth rate r and normally distributed generation times with mean ( ) and standard deviation ( ), the basic reproduction number is given by .\n",
      "\n",
      "In our model formulation, the transmission probability is denoted by β and the contact rate is denoted by c. By enforcing contact tracing, a proportion, , of individuals exposed is quarantined, and can either move to the compartment or with rate of (or -), depending on whether they are effectively infected or not 18, 19 , while the other proportion, 1q, consists of individuals exposed to the virus who are missed from contact tracing and move to the exposed  The effective reproduction number is given by In epidemiology, the basic reproduction number (R 0 ), used to measure the transmission potential of a disease, is the average number of secondary infections produced by a typical case of an infection in a population where everyone is susceptible.\n",
      "\n",
      "With the model, on 95% confidence level, we estimate the basic reproduction number, R 0 = 2.82 ± 0.11, time between March 19 and March 21 when the effective reproduction number becoming less than one, the epidemic ending after April 2 and the total number of confirmed cases approaching 14408 ± 429 on the Chinese mainland excluding Hubei province.\n",
      "\n",
      "Comparing with the classic SIR model, we extract the basic reproduction number, R 0 , and make predictions on the time when the effective reproduction number will become less than one and on the total number of confirmed cases in the end.\n",
      "\n",
      "Unimpeded exponential epidemic growth driven by the basic reproductive number ( ) can be R 0 reduced by individual quarantine or active monitoring as measured by the effective reproductive number and , respectively.\n",
      "\n",
      "Results: Results suggest that the basic reproduction number, R 0, before VEC introduced as 2.29 with a 95% confidence interval (CI) was [2.19, 2.37] and the effective reproduction number, R v, after VEC introduced as 1. 99; its 95% CI was [1.71,2.23].\n",
      "\n",
      "The basic reproductive number -R 0 -is one of the most common and most commonly misapplied numbers in public health.\n",
      "\n"
     ]
    }
   ],
   "source": [
    "search([\"risk_factors\", \"Transmission dynamics\", \"reproductive number\", \"incubation period\", \"serial interval\"],\n",
    "       optional_keywords=[\"new_coronavirus\", \"coronavirus\", \"covid19\"],\n",
    "       top_n=10, only_sentences=True)"
   ]
  },
  {
   "cell_type": "code",
   "execution_count": 20,
   "metadata": {},
   "outputs": [
    {
     "name": "stdout",
     "output_type": "stream",
     "text": [
      "\n",
      "Search for terms ['risk_factors', 'Severity of disease', 'fatality', 'symptomatic hospitalized patients', 'high-risk']\n",
      "\n",
      "\n",
      "Search terms after cleaning, bigrams, trigrams and synonym expansion: ['riskfactors', 'severity_disease', 'fatality', 'symptomatic', 'hospitalized_patients', 'highrisk', 'iliarti', 'presenting_emergency_departments', 'differences_age_sex', 'hrv_species_genotypes', 'risk_factors_presenting_ed', 'diagnoses_pneumonia', 'risk_factors_hospitalization', 'rhinitis_asthma_respiratory', 'hivpositive_negative', 'antihistamine_prescription', 'severity_illness', 'disease_severity', 'fatality_rate', 'asymptomatic', 'hospitalised_patients', 'patients_admitted_hospital', 'patients_hospitalized', 'patients_requiring_hospitalization', 'inpatients', 'hospital_inpatients', 'hospitalized_patients_who', 'children_admitted_pediatric_intensive', 'outpatients', 'patients_requiring_admission', 'high_risk', 'lowrisk']\n",
      "Optional search terms after cleaning, bigrams, trigrams and synonym expansion: ['newcoronavirus', 'coronavirus_covid19', '2019ncov_covid19', 'outbreak_2019_novel', 'sarscov2_2019ncov', 'coronavirus_2019ncov', 'ongoing_outbreak_novel_coronavirus', 'since_late_december', 'ongoing_outbreak_covid19', 'originating_wuhan_china', 'novel_coronavirus_outbreak', 'wuhan_coronavirus']\n",
      "\n",
      "Results:\n",
      "\n",
      "Because significant intranational and international spread from Wuhan has already occurred, a very large number of airline travellers (6.5 million under the scenario of 50% travel reduction as usual, 3.3 million under 75% reduction, and 1.3 million under 90% reduction, respectively) would be required to be screened at origin high-risk cities in China ( Figure 5 ) and destinations across the globe for the following three months of February to April, 2020 (Table 1 and  Supplementary Tables S9 and S10) , to ensure that all travellers from high risk cities were covered.\n",
      "\n",
      "In other words, if someone is symptomatic and confirmed to be COVID19+ on any of the days between t+1 to t+14, then s/he was infected but asymptomatic on day t. Using publicly available data for the state of Washington for dates Feb. 28-March 16, 2020, our math shows that on Feb. 28, 2020, there were at least 567 asymptomatic infected cases, despite there being only 1 officially confirmed case reported for that day.\n",
      "\n",
      "Distinct periods are shown as unexposed (gray), exposed (white), infected but asymptomatic (pink), symptomatic (purple) and reported (blue).\n",
      "\n",
      "If a patient presented after many days of being symptomatic, this may have affected disease severity, compared with an earlier clinical presentation.\n",
      "\n",
      "Among 84,957 episodes of respiratory illness, 79.0% were sampled at secondary/tertiary healthcare services (hospital inpatients and outpatients), and 21.0% from primary healthcare services (general practice [GP]).\n",
      "\n",
      "Statistical modelling analyses further confirmed differences in age and sex associations according to sCoV type, and a greater chance of sCoV detection among GP attendees than patients admitted to hospital (supplementary Tables S5-S7).\n",
      "\n",
      "18.20037101 doi: medRxiv preprint Hospital=inpatients and outpatients. .\n",
      "\n",
      "18.20037101 doi: medRxiv preprint GP=General Practice (primary care); Hospital=inpatients and outpatients (secondary/tertiary care); F=female; M=male.\n",
      "\n",
      "Of note, the asymptomatic group was significantly younger than the symptomatic group, with median ages of 34 and 44 years (P=0.02), respectively.\n",
      "\n",
      "First it was a retrospective study including only 27 inpatients, while outpatients and suspected but undiagnosed cases for deficiency of detection kits of 2019-nCoV and potential false negative results were ruled out.\n",
      "\n",
      "From this analysis, we also speculate that the presence of country specific mutation spectrum may also be able to explain the current scenario in these countries like severity of illness, containment of the outbreak, the extent and timing of exposures to a symptomatic carrier etc.\n",
      "\n",
      "Whether an individual was symptomatic was R α 0 0, ] α ∈ [ 1 determined by a Bernoulli trial with probability equal to the proportion of infections that were asymptomatic in that replicate.\n",
      "\n",
      "Recent investigation showed that the viral load that was determined in the asymptomatic patient was similar to that in the symptomatic patients 16 , implying that the viral load in respiratory specimens may not be able to objectively reflect the disease severity.\n",
      "\n",
      "β1 is the transmission coefficient of the asymptomatic infected cases, β2 is the transmission coefficient of the symptomatic infected cases (mild infected person and severe patients) to the susceptible, β3 is the transmission coefficient of the hospitalized cases to the susceptible, 1/ is the mean incubation period, 1/ is the mean time between symptom onset to hospitalization, 1/k1 is the mean infectious period of asymptomatic infected person for survivors, 1/k2 is the mean duration for hospitalized cases for survivors, 1/ is the mean time from hospitalization to death, γ is the clinical outbreak rate in all the infected cases.\n",
      "\n",
      "Our model incorporates the following essential ingredients of COVID-19 epidemics: (1) the number of asymptomatic infectious individuals (with very mild or no symptoms), (2) the number of symptomatic reported infectious individuals (with severe symptoms) and (3) the number of symptomatic unreported infectious individuals (with mild symptoms).\n",
      "\n"
     ]
    }
   ],
   "source": [
    "search([\"risk_factors\", \"Severity of disease\", \"fatality\", \"symptomatic hospitalized patients\", \"high-risk\"],\n",
    "       optional_keywords=[\"new_coronavirus\", \"coronavirus\", \"covid19\"],\n",
    "       top_n=15, only_sentences=True)"
   ]
  },
  {
   "cell_type": "code",
   "execution_count": 26,
   "metadata": {},
   "outputs": [
    {
     "name": "stdout",
     "output_type": "stream",
     "text": [
      "\n",
      "Search for terms ['risk_factors', 'population susceptibility']\n",
      "\n",
      "\n",
      "Search terms after cleaning, bigrams, trigrams and synonym expansion: ['riskfactors', 'population', 'susceptibility', 'iliarti', 'presenting_emergency_departments', 'differences_age_sex', 'hrv_species_genotypes', 'risk_factors_presenting_ed', 'diagnoses_pneumonia', 'risk_factors_hospitalization', 'rhinitis_asthma_respiratory', 'hivpositive_negative', 'antihistamine_prescription', 'populations']\n",
      "Optional search terms after cleaning, bigrams, trigrams and synonym expansion: ['newcoronavirus', 'coronavirus_covid19', '2019ncov_covid19', 'outbreak_2019_novel', 'sarscov2_2019ncov', 'coronavirus_2019ncov', 'ongoing_outbreak_novel_coronavirus', 'since_late_december', 'ongoing_outbreak_covid19', 'originating_wuhan_china', 'novel_coronavirus_outbreak', 'wuhan_coronavirus']\n",
      "\n",
      "Results:\n",
      "\n",
      "Thus, given the dataset x and an estimate R 0 of the associated basic reproductive ratio, the matrix R should satisfy If we look at the ith row of this set of equations, we have The age-specific susceptibility z i can thus be estimated as To estimate the equivalent of the matrix R for some new population with age-structured contact matrix k = (k i,j ), we assume that z i is constant across populations (i.e. in every population we see the same dependence of susceptibility on age).\n",
      "\n",
      "56 Another case-control study among the Han population in southwest China failed to obtain evidence of the contribution of SERPINE2 polymorphism to COPD susceptibility, 57 although it has been accepted as a candidate gene in other populations.\n",
      "\n",
      "Indeed, even though some populations were closed after Jan. 23rd, 2020, using these values for 2019 correctly describes the return of the population that had left for the Spring Festival.\n",
      "\n",
      "In discrete time, more appropriate to daily reported infection cases, the logistic model becomes where P(t) and P(t+1) are populations on consecutive days, R0 * is the growth rate (basic reproduction number in epidemiology) at the beginning of the logistic growth, and K is the limiting population.\n",
      "\n",
      "Fig. 2) , which indicates that different susceptibility to this virus may exist between differential populations.\n",
      "\n",
      "All countries have adopted isolation measures for imported populations from areas or countries with severe SARS-CoV-2 infection, and treated patients with symptoms who have a history of contact with this imported population 1 .\n",
      "\n",
      "Such population susceptibility may be difficult to define due to pre-existing cross-protective immunity in individuals previously exposed to antigenically related pathogens, as demonstrated for pandemic influenza A H1N1 in 2009 [5] .\n",
      "\n",
      "A good epidemiological understanding of cocirculating viruses will provide valuable information on the potential for immune, or otherwise mediated, virus-virus interactions and consequences for population susceptibility.\n",
      "\n",
      "In the absence of setting-specific data, an epidemiological understanding of related and unrelated co-circulating pathogens is prudent to guide preliminary estimates of who is at risk and when, and to develop research priorities pertaining to population susceptibility.\n",
      "\n",
      "Our findings suggest continued monitoring of cocirculating respiratory viruses will be important for guiding accurate case ascertainment, research priorities surrounding population susceptibility, and for assessing the comparative population and healthcare burden of COVID-19 in the context of multiple cocirculating respiratory pathogens.\n",
      "\n",
      "While population age structure is crucial for understanding the populations at the highest risk of mortality both across and within countries, it is also vital for understanding how much social distancing measures are required in each population to reduce the number of most critical cases and overload on the health system-aka \"flattening the curve\"(13).\n",
      "\n",
      "This stylized example may serve, once more, to show why while population age structure is crucial for understanding the populations at the highest risk of mortality both across and within countries, it is also important for understanding how much social distancing measures are required in each population to reduce the number of most critical cases and overload on the health system-aka \"flattening the curve.\n",
      "\n",
      "Uncontrolled outbreaks of EIDs, defined as infections that have \"recently appeared within a population, or those whose incidence or geographic range is rapidly increasing or threatens to increase in the near future\" (5) , have the potential to devastate populations globally, both in terms of lives lost and economic value destroyed.\n",
      "\n",
      "It is a measure of how many secondary carriers an average infectious case will infect, regardless of the susceptibility of the population.\n",
      "\n",
      "1, 2 We believe that the susceptibility to the novel 2019-nCov is also different among population groups.\n",
      "\n"
     ]
    }
   ],
   "source": [
    "search([\"risk_factors\", \"population susceptibility\"],\n",
    "       optional_keywords=[\"new_coronavirus\", \"coronavirus\", \"covid19\"],\n",
    "       top_n=15, only_sentences=True)"
   ]
  },
  {
   "cell_type": "code",
   "execution_count": 28,
   "metadata": {},
   "outputs": [
    {
     "name": "stdout",
     "output_type": "stream",
     "text": [
      "\n",
      "Search for terms ['risk_factors', 'public health', 'mitigation', 'measure']\n",
      "\n",
      "\n",
      "Search terms after cleaning, bigrams, trigrams and synonym expansion: ['riskfactors', 'public_health', 'mitigation', 'measure', 'iliarti', 'presenting_emergency_departments', 'differences_age_sex', 'hrv_species_genotypes', 'risk_factors_presenting_ed', 'diagnoses_pneumonia', 'risk_factors_hospitalization', 'rhinitis_asthma_respiratory', 'hivpositive_negative', 'antihistamine_prescription', 'medical_public_health']\n",
      "Optional search terms after cleaning, bigrams, trigrams and synonym expansion: ['newcoronavirus', 'coronavirus_covid19', '2019ncov_covid19', 'outbreak_2019_novel', 'sarscov2_2019ncov', 'coronavirus_2019ncov', 'ongoing_outbreak_novel_coronavirus', 'since_late_december', 'ongoing_outbreak_covid19', 'originating_wuhan_china', 'novel_coronavirus_outbreak', 'wuhan_coronavirus']\n",
      "\n",
      "Results:\n",
      "\n",
      "Public health and healthcare experts agree that mitigation is required in order to slow the spread of COVID-19 and prevent the collapse of healthcare systems.\n",
      "\n",
      "School closures have been enacted as a measure of mitigation during the ongoing COVID-19 pandemic due to their ability to reduce transmission.\n",
      "\n",
      "For contact tracing to be an effective public health measure requires secondary cases to be discovered before they become infectious; hence the time from the primary case becoming infectious to the tracing of their contacts needs to be shorter than the incubation period.\n",
      "\n",
      "One example is Kwong Wing Catering, a pro-movement restaurant chain, which in a Facebook announcement on Jan 28, 2020, said it would only serve English or Cantonesespeaking but not Mandarin-speaking customers as a public health measure.\n",
      "\n",
      "Social distancing (e.g., cancellation of large gathering, school closures) is an essential part of public health measure for infection control [3] .\n",
      "\n",
      "In the first season of 2020, an outbreak of atypical pneumonia (COVID-19) caused by a novel coronavirus (SARS-CoV2 or 2019-nCoV) 1 has spread all over the world and had a great impact on public health and worldwide economy.\n",
      "\n",
      "The mass quarantine measure implemented in the epidemic's epicenter, Wuhan, Hubei Province, China, on January 23, 2020, has stopped the human migration between Wuhan and other places.\n",
      "\n",
      "The epidemiological parameters may have changed after January 23, 2020, when the lockdown measure was implemented.\n",
      "\n",
      "Of additional concern is that the anticipated destinations of hundreds of thousands of travellers departing China are to low-income or lower-middle income countries, where inadequately resourced medical and public health systems might be unable to detect and adequately manage an imported case of 2019n-CoV, including possible subsequent community spread.\n",
      "\n",
      "We searched for article abstracts containing the keyword \"public health\" and compiled the abstract set into a random corpus, and then compiled them into a randomized control dictionary, which contains a wide range of proteins, genes, and related biological entities.\n",
      "\n",
      "Furthermore, given the controversy over the appropriate handling of elective surgical cases during this pandemic, we hope that our results may have a positive impact on health policy and public health.\n",
      "\n",
      "Furthermore, given the controversy over the appropriate handling of elective surgical cases during this pandemic, we hope that our results may have a positive impact on health policy and public health.\n",
      "\n",
      "All of these could potentially be used both as a therapeutic and as a prophylactic measure.\n",
      "\n",
      "The basic reproductive number -R 0 -is one of the most common and most commonly misapplied numbers in public health.\n",
      "\n",
      "The basic reproductive number -R 0 -is one of the most common and most commonly misapplied numbers in public health.\n",
      "\n"
     ]
    }
   ],
   "source": [
    "search([\"risk_factors\", \"public health\", \"mitigation\", \"measure\"],\n",
    "       optional_keywords=[\"new_coronavirus\", \"coronavirus\", \"covid19\"],\n",
    "       top_n=15, only_sentences=True)"
   ]
  },
  {
   "cell_type": "code",
   "execution_count": null,
   "metadata": {},
   "outputs": [],
   "source": []
  }
 ],
 "metadata": {
  "kernelspec": {
   "display_name": "covid19",
   "language": "python",
   "name": "covid19"
  },
  "language_info": {
   "codemirror_mode": {
    "name": "ipython",
    "version": 3
   },
   "file_extension": ".py",
   "mimetype": "text/x-python",
   "name": "python",
   "nbconvert_exporter": "python",
   "pygments_lexer": "ipython3",
   "version": "3.6.8"
  }
 },
 "nbformat": 4,
 "nbformat_minor": 2
}
