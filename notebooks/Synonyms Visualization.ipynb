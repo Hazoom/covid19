{
 "cells": [
  {
   "cell_type": "markdown",
   "metadata": {},
   "source": [
    "# Synonym Visualization"
   ]
  },
  {
   "cell_type": "markdown",
   "metadata": {},
   "source": [
    "## This notebook helps for researching cadidate synonyms for keywords"
   ]
  },
  {
   "cell_type": "markdown",
   "metadata": {},
   "source": [
    "Let's import our syonyms model for `src` directory.\n",
    "\n",
    "First, one needs to set the Python source files environment variables for Juptyer Notebook. If you haven't done this, please run those two command BEFORE running Juptyer Notebook:\n",
    "1. `export PYTHONPATH=/path/to/covid19/src`\n",
    "2. `export JUPYTER_PATH=/path/to/covid19/src`"
   ]
  },
  {
   "cell_type": "code",
   "execution_count": 23,
   "metadata": {},
   "outputs": [],
   "source": [
    "from w2v.synonyms import Synonyms\n",
    "from pprint import pprint\n",
    "import os"
   ]
  },
  {
   "cell_type": "code",
   "execution_count": 17,
   "metadata": {},
   "outputs": [],
   "source": [
    "data_dir = \"../../../workspace/kaggle/covid19/data/\""
   ]
  },
  {
   "cell_type": "markdown",
   "metadata": {},
   "source": [
    "Initialize our synonyms models with trained FastText vectors:"
   ]
  },
  {
   "cell_type": "code",
   "execution_count": 18,
   "metadata": {},
   "outputs": [
    {
     "name": "stdout",
     "output_type": "stream",
     "text": [
      "Loading fasttext model: ../../../workspace/kaggle/covid19/data/fasttext_no_subwords_trigrams/word-vectors-100d.txt\n",
      "Finished loading fasttext model: ../../../workspace/kaggle/covid19/data/fasttext_no_subwords_trigrams/word-vectors-100d.txt\n"
     ]
    }
   ],
   "source": [
    "synonyms_model = Synonyms(os.path.join(data_dir, \"fasttext_no_subwords_trigrams/word-vectors-100d.txt\"))"
   ]
  },
  {
   "cell_type": "code",
   "execution_count": 24,
   "metadata": {},
   "outputs": [],
   "source": [
    "def most_similar(search_term):\n",
    "    print(f'\\nSynonyms of \"{search_term}\":')\n",
    "    synonyms = synonyms_model.get_synonyms(search_term)\n",
    "    pprint(synonyms)"
   ]
  },
  {
   "cell_type": "markdown",
   "metadata": {},
   "source": [
    "Let's explose synonyms!"
   ]
  },
  {
   "cell_type": "code",
   "execution_count": 26,
   "metadata": {},
   "outputs": [
    {
     "name": "stdout",
     "output_type": "stream",
     "text": [
      "\n",
      "Synonyms of \"incubation\":\n",
      "[('further_incubation', 0.712449312210083),\n",
      " ('incubations', 0.7017797231674194),\n",
      " ('incubation_37_°_c', 0.695845365524292),\n",
      " ('after_incubation', 0.6942660808563232),\n",
      " ('incubation_time', 0.6793362498283386),\n",
      " ('4hour_incubation', 0.6753908395767212),\n",
      " ('hour_incubation', 0.6727705597877502),\n",
      " ('1_hr_incubation', 0.6719043850898743),\n",
      " ('agj', 0.6714835166931152),\n",
      " ('incubated', 0.6714398264884949)]\n"
     ]
    }
   ],
   "source": [
    "most_similar(\"incubation\")"
   ]
  },
  {
   "cell_type": "code",
   "execution_count": 28,
   "metadata": {},
   "outputs": [
    {
     "name": "stdout",
     "output_type": "stream",
     "text": [
      "\n",
      "Synonyms of \"asymptomatic\":\n",
      "[('symptomatic', 0.8395066261291504),\n",
      " ('even_asymptomatic', 0.7858569622039795),\n",
      " ('asymptomatic_infection', 0.7782117128372192),\n",
      " ('asymptomatic_symptomatic', 0.7592982649803162),\n",
      " ('remain_asymptomatic', 0.7574341297149658),\n",
      " ('minimally_symptomatic', 0.7565105557441711),\n",
      " ('subclinical_infection', 0.7535786628723145),\n",
      " ('asymptomatically_infected', 0.7528817057609558),\n",
      " ('asymptomatic_infections', 0.7432496547698975),\n",
      " ('asymptomatic_carriers', 0.7408742308616638)]\n"
     ]
    }
   ],
   "source": [
    "most_similar(\"asymptomatic\")"
   ]
  },
  {
   "cell_type": "code",
   "execution_count": null,
   "metadata": {},
   "outputs": [],
   "source": []
  }
 ],
 "metadata": {
  "kernelspec": {
   "display_name": "covid19",
   "language": "python",
   "name": "covid19"
  },
  "language_info": {
   "codemirror_mode": {
    "name": "ipython",
    "version": 3
   },
   "file_extension": ".py",
   "mimetype": "text/x-python",
   "name": "python",
   "nbconvert_exporter": "python",
   "pygments_lexer": "ipython3",
   "version": "3.6.8"
  }
 },
 "nbformat": 4,
 "nbformat_minor": 2
}
