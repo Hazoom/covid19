{
 "cells": [
  {
   "cell_type": "markdown",
   "metadata": {},
   "source": [
    "# Synonym Visualization"
   ]
  },
  {
   "cell_type": "markdown",
   "metadata": {},
   "source": [
    "## This notebook helps for researching cadidate synonyms for keywords"
   ]
  },
  {
   "cell_type": "markdown",
   "metadata": {},
   "source": [
    "Let's import our syonyms model for `src` directory.\n",
    "\n",
    "First, one needs to set the Python source files environment variables for Juptyer Notebook. If you haven't done this, please run those two command BEFORE running Juptyer Notebook:\n",
    "1. `export PYTHONPATH=/path/to/covid19/src`\n",
    "2. `export JUPYTER_PATH=/path/to/covid19/src`"
   ]
  },
  {
   "cell_type": "code",
   "execution_count": 1,
   "metadata": {},
   "outputs": [
    {
     "name": "stderr",
     "output_type": "stream",
     "text": [
      "unable to import 'smart_open.gcs', disabling that module\n"
     ]
    }
   ],
   "source": [
    "from w2v.synonyms import Synonyms\n",
    "from pprint import pprint\n",
    "import os"
   ]
  },
  {
   "cell_type": "code",
   "execution_count": 2,
   "metadata": {},
   "outputs": [],
   "source": [
    "data_dir = \"../../../workspace/kaggle/covid19/data/\""
   ]
  },
  {
   "cell_type": "markdown",
   "metadata": {},
   "source": [
    "Initialize our synonyms models with trained FastText vectors:"
   ]
  },
  {
   "cell_type": "code",
   "execution_count": 3,
   "metadata": {},
   "outputs": [
    {
     "name": "stdout",
     "output_type": "stream",
     "text": [
      "Loading fasttext model: ../../../workspace/kaggle/covid19/data/fasttext_no_subwords_trigrams/word-vectors-100d.txt\n",
      "Finished loading fasttext model: ../../../workspace/kaggle/covid19/data/fasttext_no_subwords_trigrams/word-vectors-100d.txt\n"
     ]
    }
   ],
   "source": [
    "synonyms_model = Synonyms(os.path.join(data_dir, \"fasttext_no_subwords_trigrams/word-vectors-100d.txt\"))"
   ]
  },
  {
   "cell_type": "code",
   "execution_count": 4,
   "metadata": {},
   "outputs": [],
   "source": [
    "def most_similar(search_term):\n",
    "    print(f'\\nSynonyms of \"{search_term}\":')\n",
    "    synonyms = synonyms_model.get_synonyms(search_term)\n",
    "    pprint(synonyms)"
   ]
  },
  {
   "cell_type": "markdown",
   "metadata": {},
   "source": [
    "Let's explose synonyms!"
   ]
  },
  {
   "cell_type": "code",
   "execution_count": 5,
   "metadata": {},
   "outputs": [
    {
     "name": "stdout",
     "output_type": "stream",
     "text": [
      "\n",
      "Synonyms of \"incubation\":\n"
     ]
    },
    {
     "name": "stderr",
     "output_type": "stream",
     "text": [
      "/mnt/c/Users/Moshe/Documents/repos/covid19/.venv/lib/python3.6/site-packages/gensim/models/keyedvectors.py:2377: RuntimeWarning: invalid value encountered in true_divide\n",
      "  return (m / dist).astype(REAL)\n"
     ]
    },
    {
     "name": "stdout",
     "output_type": "stream",
     "text": [
      "[('further_incubation', 0.712449312210083),\n",
      " ('incubations', 0.7017797231674194),\n",
      " ('incubation_37_°_c', 0.695845365524292),\n",
      " ('after_incubation', 0.6942660808563232),\n",
      " ('incubation_time', 0.6793362498283386),\n",
      " ('4hour_incubation', 0.6753908395767212),\n",
      " ('hour_incubation', 0.6727705597877502),\n",
      " ('1_hr_incubation', 0.6719043850898743),\n",
      " ('agj', 0.6714835166931152),\n",
      " ('incubated', 0.6714398264884949)]\n"
     ]
    }
   ],
   "source": [
    "most_similar(\"incubation\")"
   ]
  },
  {
   "cell_type": "code",
   "execution_count": 6,
   "metadata": {},
   "outputs": [
    {
     "name": "stdout",
     "output_type": "stream",
     "text": [
      "\n",
      "Synonyms of \"charge distribution\":\n",
      "[]\n"
     ]
    }
   ],
   "source": [
    "most_similar(\"charge distribution\")"
   ]
  },
  {
   "cell_type": "code",
   "execution_count": 7,
   "metadata": {},
   "outputs": [
    {
     "name": "stdout",
     "output_type": "stream",
     "text": [
      "\n",
      "Synonyms of \"risk_factor\":\n",
      "[('significant_risk_factor', 0.8255794644355774),\n",
      " ('risk_factor_development', 0.8222134709358215),\n",
      " ('potential_risk_factor', 0.8197356462478638),\n",
      " ('important_risk_factor', 0.8102374076843262),\n",
      " ('independent_risk_factor', 0.8009101748466492),\n",
      " ('major_risk_factor', 0.7981187105178833),\n",
      " ('risk_factors', 0.7840019464492798),\n",
      " ('main_risk_factors', 0.7663663625717163),\n",
      " ('known_risk_factor', 0.7652851343154907),\n",
      " ('risk_factors_development', 0.7513973712921143)]\n"
     ]
    }
   ],
   "source": [
    "most_similar(\"risk_factor\")"
   ]
  },
  {
   "cell_type": "code",
   "execution_count": null,
   "metadata": {},
   "outputs": [],
   "source": []
  }
 ],
 "metadata": {
  "kernelspec": {
   "display_name": "covid19",
   "language": "python",
   "name": "covid19"
  },
  "language_info": {
   "codemirror_mode": {
    "name": "ipython",
    "version": 3
   },
   "file_extension": ".py",
   "mimetype": "text/x-python",
   "name": "python",
   "nbconvert_exporter": "python",
   "pygments_lexer": "ipython3",
   "version": "3.6.8"
  }
 },
 "nbformat": 4,
 "nbformat_minor": 2
}
