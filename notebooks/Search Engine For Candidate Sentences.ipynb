{
 "cells": [
  {
   "cell_type": "markdown",
   "metadata": {},
   "source": [
    "# Search Engine For Candidate Sentences"
   ]
  },
  {
   "cell_type": "markdown",
   "metadata": {},
   "source": [
    "## Demonstration of how to use the simple search engine for fetching relevant sentences"
   ]
  },
  {
   "cell_type": "markdown",
   "metadata": {},
   "source": [
    "Let's import our search engine for `src` directory.\n",
    "\n",
    "First, one needs to set the Python source files environment variables for Juptyer Notebook. If you haven't done this, please run those two command BEFORE running Juptyer Notebook:\n",
    "1. `export PYTHONPATH=/path/to/covid19/src`\n",
    "2. `export JUPYTER_PATH=/path/to/covid19/src`"
   ]
  },
  {
   "cell_type": "code",
   "execution_count": 8,
   "metadata": {},
   "outputs": [],
   "source": [
    "from search.searchengine import SearchEngine\n",
    "from pprint import pprint\n",
    "import os"
   ]
  },
  {
   "cell_type": "code",
   "execution_count": 9,
   "metadata": {},
   "outputs": [],
   "source": [
    "data_dir = \"../../../workspace/kaggle/covid19/data\""
   ]
  },
  {
   "cell_type": "markdown",
   "metadata": {},
   "source": [
    "Initialize out SearchEngine object with:\n",
    "1. Sentences metadata\n",
    "2. bi-gram model\n",
    "3. tri-gram model\n",
    "4. Trained FastText vectors"
   ]
  },
  {
   "cell_type": "code",
   "execution_count": 12,
   "metadata": {},
   "outputs": [
    {
     "name": "stdout",
     "output_type": "stream",
     "text": [
      "Loading CSV: ../../../workspace/kaggle/covid19/data/sentences_with_metadata.csv and building mapping dictionary...\n",
      "Finished loading CSV: ../../../workspace/kaggle/covid19/data/sentences_with_metadata.csv and building mapping dictionary\n",
      "Loaded 249343 sentences\n",
      "Loading bi-gram model: ../../../workspace/kaggle/covid19/data/covid_bigram_model_v0.pkl\n",
      "Finished loading bi-gram model: ../../../workspace/kaggle/covid19/data/covid_bigram_model_v0.pkl\n",
      "Loading tri-gram model: ../../../workspace/kaggle/covid19/data/covid_trigram_model_v0.pkl\n",
      "Finished loading tri-gram model: ../../../workspace/kaggle/covid19/data/covid_trigram_model_v0.pkl\n",
      "Loading fasttext model: ../../../workspace/kaggle/covid19/data/fasttext_no_subwords_trigrams/word-vectors-100d.txt\n",
      "Finished loading fasttext model: ../../../workspace/kaggle/covid19/data/fasttext_no_subwords_trigrams/word-vectors-100d.txt\n"
     ]
    }
   ],
   "source": [
    "search_engine = SearchEngine(\n",
    "    os.path.join(data_dir, \"sentences_with_metadata.csv\"),\n",
    "    os.path.join(data_dir, \"covid_bigram_model_v0.pkl\"),\n",
    "    os.path.join(data_dir, \"covid_trigram_model_v0.pkl\"),\n",
    "    os.path.join(data_dir, \"fasttext_no_subwords_trigrams/word-vectors-100d.txt\"),\n",
    ")"
   ]
  },
  {
   "cell_type": "markdown",
   "metadata": {},
   "source": [
    "Simple search function that gets a list of keywords to search:"
   ]
  },
  {
   "cell_type": "code",
   "execution_count": 13,
   "metadata": {},
   "outputs": [],
   "source": [
    "def search(keywords, optional_keywords=None, top_n=10, synonyms_threshold=0.8):\n",
    "    print(f\"\\nSearch for terms {keywords}\\n\\n\")\n",
    "    result = search_engine.search(\n",
    "        keywords, optional_keywords=optional_keywords, top_n=10, synonyms_threshold=synonyms_threshold\n",
    "    )\n",
    "    print(\"\\nResults:\")\n",
    "    pprint(result)"
   ]
  },
  {
   "cell_type": "markdown",
   "metadata": {},
   "source": [
    "Let's see some examples:"
   ]
  },
  {
   "cell_type": "code",
   "execution_count": 14,
   "metadata": {},
   "outputs": [
    {
     "name": "stdout",
     "output_type": "stream",
     "text": [
      "\n",
      "Search for terms ['animals', 'zoonotic', 'spillover', 'animal to human', 'bats', 'snakes', 'exotic animals', 'seafood']\n",
      "\n",
      "\n",
      "Search terms after cleaning, bigrams, trigrams and synonym expansion: ['spillover_humans', 'hostswitching_events', 'battohuman', 'host_switching_events', 'from_dromedaries_humans', 'interspecies_jumping', 'animaltoanimal_animaltohuman', 'humantohuman_transmission_events', 'emergence_events', 'zoonotic_spillover_events', 'human_animal', 'bat_species', 'fruit_bats', 'insectivorous_bats', 'species_bats', 'bat', 'exotic_pets', 'wild_animal_species', 'consumption_raw', 'salads', 'ice_cream', 'dairy_products', 'cold_cuts', 'contaminated_beef', 'beef_products', 'meats', 'improperly_cooked', 'raw_undercooked']\n",
      "Optional search terms after cleaning, bigrams, trigrams and synonym expansion: ['2019ncov_covid19', 'outbreak_2019_novel', 'sarscov2_2019ncov', 'coronavirus_2019ncov', 'ongoing_outbreak_novel_coronavirus', 'since_late_december', 'ongoing_outbreak_covid19', 'originating_wuhan_china', 'novel_coronavirus_outbreak', 'wuhan_coronavirus']\n",
      "\n",
      "Results:\n",
      "[{'authors': 'Rodney James, Kirsty Buising, Karin Thursky ',\n",
      "  'cord_uid': 'ojmhkt5o',\n",
      "  'paper_id': '867ebb2be2d466bcb35e5a7319708eaff39c4799',\n",
      "  'publish_time': '2017-11-30',\n",
      "  'section': 'body',\n",
      "  'sentence': 'Risk factors included animal contact and consumption of raw '\n",
      "              'dairy products, which were significantly associated with '\n",
      "              'brucellosis, exposure to vectors in endemic areas,professional '\n",
      "              'exposure and travels outside the country.',\n",
      "  'source': 'Elsevier'},\n",
      " {'authors': 'Zehua Zeng, Zhi Luo, Hongwu Du',\n",
      "  'cord_uid': 'fvig79k3',\n",
      "  'paper_id': '11875dfda6cd04d5032611edf0e340582ceb620f',\n",
      "  'publish_time': '2020-03-02',\n",
      "  'section': 'body',\n",
      "  'sentence': 'According to the evolutionary analysis of coronavirus, '\n",
      "              '2019-nCov is probably originated from bat, and the Sprotein of '\n",
      "              '2019-nCoV may enter human cells by interacting with human ACE2 '\n",
      "              'receptor, which revealed the pathopoeia mechanism of 2019-nCoV '\n",
      "              '1 .',\n",
      "  'source': 'biorxiv'},\n",
      " {'authors': 'Sara Cleemput, Wim Dumon, Vagner Fonseca, Wasim Abdool Karim, '\n",
      "             'Marta Giovanetti, Carlos Alcantara, Koen Deforche, Tulio De '\n",
      "             'Oliveira',\n",
      "  'cord_uid': 'gxstlzuk',\n",
      "  'paper_id': '0c27c0ddaa4761f6155838df81a88d24619720f8',\n",
      "  'publish_time': '2020-02-02',\n",
      "  'section': 'body',\n",
      "  'sentence': 'Cluster 3 (named as Bat SARS-CoV HKU3) includes three WGS '\n",
      "              'sampled from Rhinolophus sinicus (i.e. Chinese rufous horseshoe '\n",
      "              'bats).',\n",
      "  'source': 'biorxiv'},\n",
      " {'authors': 'Sara Cleemput, Wim Dumon, Vagner Fonseca, Wasim Abdool Karim, '\n",
      "             'Marta Giovanetti, Carlos Alcantara, Koen Deforche, Tulio De '\n",
      "             'Oliveira',\n",
      "  'cord_uid': 'gxstlzuk',\n",
      "  'paper_id': '0c27c0ddaa4761f6155838df81a88d24619720f8',\n",
      "  'publish_time': '2020-02-02',\n",
      "  'section': 'body',\n",
      "  'sentence': 'Cluster 4 (Bat SARS-CoV ZXC21/ZC45) includes two SARSr-CoV '\n",
      "              'sampled from Rhinolophus sinicus bats in Zhoushan, China.',\n",
      "  'source': 'biorxiv'},\n",
      " {'authors': 'Sara Cleemput, Wim Dumon, Vagner Fonseca, Wasim Abdool Karim, '\n",
      "             'Marta Giovanetti, Carlos Alcantara, Koen Deforche, Tulio De '\n",
      "             'Oliveira',\n",
      "  'cord_uid': 'gxstlzuk',\n",
      "  'paper_id': '0c27c0ddaa4761f6155838df81a88d24619720f8',\n",
      "  'publish_time': '2020-02-02',\n",
      "  'section': 'body',\n",
      "  'sentence': 'For example, the WH_Human1_China_2019Dec (GenBank: MN908947) '\n",
      "              'the identity was 87.5% to the Bat sequence bat_SL_CoVZXC21 '\n",
      "              '(Genbank: MG772934).',\n",
      "  'source': 'biorxiv'},\n",
      " {'authors': 'Chenglong Xiong, Lufang Jiang, Yue Chen, Qingwu Jiang',\n",
      "  'cord_uid': 'ua6aeg5a',\n",
      "  'paper_id': '18dc6a67045d2687d2b5c11c85797f42824ed243',\n",
      "  'publish_time': '2020-01-30',\n",
      "  'section': 'body',\n",
      "  'sentence': 'In order to effectively control these EIDs, it is necessary to '\n",
      "              'strengthen interdisciplinary cooperation and communication '\n",
      "              'among human, animal and environmental health investigators '\n",
      "              'based on the One Health concept, so as to detect and identify '\n",
      "              'pathogens as early as possible, find patients and report '\n",
      "              'epidemics, and effectively control the spread of EIDs through '\n",
      "              'timely isolation and prevention measures and observation of '\n",
      "              'close contacts. .',\n",
      "  'source': 'biorxiv'},\n",
      " {'authors': 'Rajanish Giri, Taniya Bhardwaj, Meenakshi Shegane, Bhuvaneshwari '\n",
      "             'R Gehi, Prateek Kumar, Kundlik Gadhave',\n",
      "  'cord_uid': 'n7ylgqfu',\n",
      "  'paper_id': '1aa3e788fc6b03c147e37200c3b011ca7a289a5c',\n",
      "  'publish_time': '2020-03-14',\n",
      "  'section': 'body',\n",
      "  'sentence': 'ORF7b protein of SARS-CoV-2 is found to be closer with Human '\n",
      "              'SARS (81.40%) than Bat sequence with 79.07% sequence identity '\n",
      "              'figure 11D.',\n",
      "  'source': 'biorxiv'},\n",
      " {'authors': 'Haogao Gu, Daniel Chu, Malik Peiris, Leo L M Poon',\n",
      "  'cord_uid': '9aegg5sd',\n",
      "  'paper_id': '1df9ce60e358f6cef0be3f6e15fe2a9c6f93f39c',\n",
      "  'publish_time': '2020-02-20',\n",
      "  'section': 'body',\n",
      "  'sentence': 'The SARS-CoV-2 belongs to the genus Betacoronavirus, 35 which '\n",
      "              'also includes two highly virulent human coronaviruses, SARS-CoV '\n",
      "              'and MERS-CoV. 36 Apart from human, many animal species, such as '\n",
      "              'bat, rat, camel, swine and hedgehog, can be 37 infected by '\n",
      "              'different types of coronaviruses.',\n",
      "  'source': 'biorxiv'},\n",
      " {'authors': 'Haogao Gu, Daniel Chu, Malik Peiris, Leo L M Poon',\n",
      "  'cord_uid': '9aegg5sd',\n",
      "  'paper_id': '1df9ce60e358f6cef0be3f6e15fe2a9c6f93f39c',\n",
      "  'publish_time': '2020-02-20',\n",
      "  'section': 'body',\n",
      "  'sentence': '159 Of all the four correspondence analyses for the four genes, '\n",
      "              'the extracted first factors 160 explained more than 50% of the '\n",
      "              'total variance (see Supplementary Figure S4 The global codon '\n",
      "              'usages of bat RatG13 virus were found most similar to '\n",
      "              'SARS-CoV-2 in 196 orf1ab, spike and nucleocapsid genes, but not '\n",
      "              'in membrane gene ( Figure.',\n",
      "  'source': 'biorxiv'},\n",
      " {'authors': 'Haogao Gu, Daniel Chu, Malik Peiris, Leo L M Poon',\n",
      "  'cord_uid': '9aegg5sd',\n",
      "  'paper_id': '1df9ce60e358f6cef0be3f6e15fe2a9c6f93f39c',\n",
      "  'publish_time': '2020-02-20',\n",
      "  'section': 'body',\n",
      "  'sentence': '218 Results from the BCA suggested that the amino acid usage of '\n",
      "              'SARS-CoV-2 is closely related 219 to bat and human SARSr-CoVs '\n",
      "              'in all four genes ( Figure 3B and Figure 4B ).',\n",
      "  'source': 'biorxiv'}]\n"
     ]
    }
   ],
   "source": [
    "search(keywords=[\"animals\", \"zoonotic\", \"spillover\", \"animal to human\",\n",
    "             \"bats\", \"snakes\", \"exotic animals\", \"seafood\"],\n",
    "       optional_keywords=[\"new_coronavirus\", \"coronavirus\", \"covid19\"])"
   ]
  },
  {
   "cell_type": "code",
   "execution_count": 16,
   "metadata": {},
   "outputs": [
    {
     "name": "stdout",
     "output_type": "stream",
     "text": [
      "\n",
      "Search for terms ['seasonality', 'transmission', 'humidity', 'heat', 'summer']\n",
      "\n",
      "\n",
      "Search terms after cleaning, bigrams, trigrams and synonym expansion: ['seasonal_patterns', 'seasonal_variation', 'seasonal_pattern', 'seasonal_trends', 'seasonality_influenza', 'seasonal_variations', 'trans_mission', 'transmissions', 'disease_transmission', 'contact_transmission', 'overall_discomfort', 'microclimate_temperature_humidity', 'emotional_benefits', 'perceived_comfort', 'n95mask_combination', 'perceived_exertion', 'thermophysiological', 'nanofunctional', 'physical_discomfort', 'subjective_ratings', 'winter', 'autumn', 'during_winter', 'during_summer', 'rainy', 'winter_summer', 'summer_autumn', 'fall_winter', 'cold_winter', 'during_winter_spring']\n",
      "Optional search terms after cleaning, bigrams, trigrams and synonym expansion: ['2019ncov_covid19', 'outbreak_2019_novel', 'sarscov2_2019ncov', 'coronavirus_2019ncov', 'ongoing_outbreak_novel_coronavirus', 'since_late_december', 'ongoing_outbreak_covid19', 'originating_wuhan_china', 'novel_coronavirus_outbreak', 'wuhan_coronavirus']\n",
      "\n",
      "Results:\n",
      "[{'authors': 'Stephen Kissler, Christine Tedijanto, Marc Lipsitch, Yonatan H '\n",
      "             'Grad',\n",
      "  'cord_uid': 'nzat41wu',\n",
      "  'paper_id': '79622641e002b2574af9dc7f99d4fbbe192606e6',\n",
      "  'publish_time': '2020-03-24',\n",
      "  'section': 'body',\n",
      "  'sentence': 'This variation in transmission strength may be driven by a '\n",
      "              'variety of factors, including increased indoor crowding in the '\n",
      "              'winter, the onset of the school term in the autumn, and climate '\n",
      "              'factors (5) .',\n",
      "  'source': 'medrxiv'},\n",
      " {'authors': nan,\n",
      "  'cord_uid': '881eg8v3',\n",
      "  'paper_id': 'f503e38baf84fff63d5a4cb8be0fe503a2272ceb',\n",
      "  'publish_time': '2020-03-16',\n",
      "  'section': 'body',\n",
      "  'sentence': 'As the southern hemisphere moves from summer to autumn and '\n",
      "              'swiftly into winter, the transmission of all respiratory '\n",
      "              'viruses will increase, including SARS-CoV-2 if introduced into '\n",
      "              'that country.',\n",
      "  'source': 'Elsevier'},\n",
      " {'authors': 'Stephan Glöckner, Gérard Krause, Michael Höhle, Affiliations , '\n",
      "             'Corresponding Author',\n",
      "  'cord_uid': '4fyihdkv',\n",
      "  'paper_id': '28750ae423bceec7befb82f2b857f9d2ce989e90',\n",
      "  'publish_time': '2020-03-23',\n",
      "  'section': 'body',\n",
      "  'sentence': '3 Disease transmission models report a reporting delay larger '\n",
      "              'than ten days during the start of the novel coronavirus '\n",
      "              'outbreak and four days delay after the implementation of the '\n",
      "              'quarantine procedures on January 27 th .',\n",
      "  'source': 'medrxiv'},\n",
      " {'authors': 'Shengjie Lai, Isaac I Bogoch, Nick W Ruktanonchai, Alexander '\n",
      "             'Watts, Xin Lu, Weizhong Yang, Hongjie Yu, Kamran Khan, Andrew J '\n",
      "             'Tatem',\n",
      "  'cord_uid': 'iat80b4l',\n",
      "  'paper_id': '013d9d1cba8a54d5d3718c229b812d7cf91b6c89',\n",
      "  'publish_time': '2020-02-05',\n",
      "  'section': 'body',\n",
      "  'sentence': 'doi: medRxiv preprint As we used historial data to predict '\n",
      "              'travel patterns in 2020, to ensure that the seasonal patterns '\n",
      "              'observed over LNY and holidays more generally are consistent '\n",
      "              'over multiple years and countries, we collated country-level '\n",
      "              'domestic and international passenger statistics for air travel '\n",
      "              'from 2010 to 2018, and compared these against a comprehensive '\n",
      "              'time series of public and school holidays across the world '\n",
      "              'during the same period (Supplementary Note).',\n",
      "  'source': 'medrxiv'},\n",
      " {'authors': 'Leon Danon, Ellen Brooks-Pollock, Mick Bailey , Matt Keeling',\n",
      "  'cord_uid': 'x4qdiln9',\n",
      "  'paper_id': '05d99c07db59b6948e39bfa62c2cbbf62944059a',\n",
      "  'publish_time': '2020-02-14',\n",
      "  'section': 'body',\n",
      "  'sentence': 'Here, we adapt a metapopulation model of disease transmission '\n",
      "              'in England and Wales to capture the spread of CoVID-19 (10) .',\n",
      "  'source': 'medrxiv'},\n",
      " {'authors': 'Leon Danon, Ellen Brooks-Pollock, Mick Bailey , Matt Keeling',\n",
      "  'cord_uid': 'x4qdiln9',\n",
      "  'paper_id': '05d99c07db59b6948e39bfa62c2cbbf62944059a',\n",
      "  'publish_time': '2020-02-14',\n",
      "  'section': 'body',\n",
      "  'sentence': 'We use an existing national-scale stochastic metapopulation '\n",
      "              'model of disease transmission in England and Wales.',\n",
      "  'source': 'medrxiv'},\n",
      " {'authors': 'Leon Danon, Ellen Brooks-Pollock, Mick Bailey , Matt Keeling',\n",
      "  'cord_uid': 'x4qdiln9',\n",
      "  'paper_id': '05d99c07db59b6948e39bfa62c2cbbf62944059a',\n",
      "  'publish_time': '2020-02-14',\n",
      "  'section': 'body',\n",
      "  'sentence': 'A 50% reduction in transmission results in a smaller epidemic '\n",
      "              'before the summer, followed by a resurgence in cases in the '\n",
      "              'following winter.',\n",
      "  'source': 'medrxiv'},\n",
      " {'authors': 'Leon Danon, Ellen Brooks-Pollock, Mick Bailey , Matt Keeling',\n",
      "  'cord_uid': 'x4qdiln9',\n",
      "  'paper_id': '05d99c07db59b6948e39bfa62c2cbbf62944059a',\n",
      "  'publish_time': '2020-02-14',\n",
      "  'section': 'body',\n",
      "  'sentence': 'A combination of control measures and seasonal changes in '\n",
      "              'transmission rate could shift the peak of the outbreak to the '\n",
      "              'winter of 2020/21, with little effect on the final attack rate.',\n",
      "  'source': 'medrxiv'},\n",
      " {'authors': 'Leon Danon, Ellen Brooks-Pollock, Mick Bailey , Matt Keeling',\n",
      "  'cord_uid': 'x4qdiln9',\n",
      "  'paper_id': '05d99c07db59b6948e39bfa62c2cbbf62944059a',\n",
      "  'publish_time': '2020-02-14',\n",
      "  'section': 'body',\n",
      "  'sentence': 'If contact tracing and isolation efforts succeed in reducing '\n",
      "              'transmission, but are unable to control the epidemic (9), an '\n",
      "              'additional influx of severe CoVID-19 cases may exacerbate '\n",
      "              'existing challenges with winter healthcare demand.',\n",
      "  'source': 'medrxiv'},\n",
      " {'authors': 'P Wang, Y Lu,  Jin',\n",
      "  'cord_uid': '1mxjklgx',\n",
      "  'paper_id': '091a8e9a61e19e88caeb039f0e3888d111b20439',\n",
      "  'publish_time': '2020-02-23',\n",
      "  'section': 'body',\n",
      "  'sentence': 'The determination of incubation period has great implications '\n",
      "              'for disease transmission control and policy making.',\n",
      "  'source': 'medrxiv'}]\n"
     ]
    }
   ],
   "source": [
    "search(keywords=[\"seasonality\", \"transmission\", \"humidity\", \"heat\", \"summer\"],\n",
    "       optional_keywords=[\"new_coronavirus\", \"coronavirus\", \"covid19\"])"
   ]
  },
  {
   "cell_type": "code",
   "execution_count": null,
   "metadata": {},
   "outputs": [],
   "source": []
  }
 ],
 "metadata": {
  "kernelspec": {
   "display_name": "covid19",
   "language": "python",
   "name": "covid19"
  },
  "language_info": {
   "codemirror_mode": {
    "name": "ipython",
    "version": 3
   },
   "file_extension": ".py",
   "mimetype": "text/x-python",
   "name": "python",
   "nbconvert_exporter": "python",
   "pygments_lexer": "ipython3",
   "version": "3.6.8"
  }
 },
 "nbformat": 4,
 "nbformat_minor": 2
}
