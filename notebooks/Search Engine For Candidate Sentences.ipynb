{
 "cells": [
  {
   "cell_type": "markdown",
   "metadata": {},
   "source": [
    "# Search Engine For Candidate Sentences"
   ]
  },
  {
   "cell_type": "markdown",
   "metadata": {},
   "source": [
    "## Demonstration of how to use the simple search engine for fetching relevant sentences"
   ]
  },
  {
   "cell_type": "markdown",
   "metadata": {},
   "source": [
    "Let's import our search engine for `src` directory.\n",
    "\n",
    "First, one needs to set the Python source files environment variables for Juptyer Notebook. If you haven't done this, please run those two command BEFORE running Juptyer Notebook:\n",
    "1. `export PYTHONPATH=/path/to/covid19/src`\n",
    "2. `export JUPYTER_PATH=/path/to/covid19/src`"
   ]
  },
  {
   "cell_type": "code",
   "execution_count": 1,
   "metadata": {},
   "outputs": [
    {
     "name": "stderr",
     "output_type": "stream",
     "text": [
      "unable to import 'smart_open.gcs', disabling that module\n"
     ]
    }
   ],
   "source": [
    "from search.searchengine import SearchEngine\n",
    "from pprint import pprint\n",
    "import os"
   ]
  },
  {
   "cell_type": "code",
   "execution_count": 2,
   "metadata": {},
   "outputs": [],
   "source": [
    "data_dir = \"../../../workspace/kaggle/covid19/data\""
   ]
  },
  {
   "cell_type": "markdown",
   "metadata": {},
   "source": [
    "Initialize out SearchEngine object with:\n",
    "1. Sentences metadata\n",
    "2. bi-gram model\n",
    "3. tri-gram model\n",
    "4. Trained FastText vectors"
   ]
  },
  {
   "cell_type": "code",
   "execution_count": 3,
   "metadata": {},
   "outputs": [
    {
     "name": "stdout",
     "output_type": "stream",
     "text": [
      "Loading CSV: ../../../workspace/kaggle/covid19/data/sentences_with_metadata.csv and building mapping dictionary...\n",
      "Finished loading CSV: ../../../workspace/kaggle/covid19/data/sentences_with_metadata.csv and building mapping dictionary\n",
      "Loaded 249343 sentences\n",
      "Loading bi-gram model: ../../../workspace/kaggle/covid19/data/covid_bigram_model_v0.pkl\n",
      "Finished loading bi-gram model: ../../../workspace/kaggle/covid19/data/covid_bigram_model_v0.pkl\n",
      "Loading tri-gram model: ../../../workspace/kaggle/covid19/data/covid_trigram_model_v0.pkl\n",
      "Finished loading tri-gram model: ../../../workspace/kaggle/covid19/data/covid_trigram_model_v0.pkl\n",
      "Loading fasttext model: ../../../workspace/kaggle/covid19/data/fasttext_no_subwords_trigrams/word-vectors-100d.txt\n",
      "Finished loading fasttext model: ../../../workspace/kaggle/covid19/data/fasttext_no_subwords_trigrams/word-vectors-100d.txt\n"
     ]
    }
   ],
   "source": [
    "search_engine = SearchEngine(\n",
    "    os.path.join(data_dir, \"sentences_with_metadata.csv\"),\n",
    "    os.path.join(data_dir, \"covid_bigram_model_v0.pkl\"),\n",
    "    os.path.join(data_dir, \"covid_trigram_model_v0.pkl\"),\n",
    "    os.path.join(data_dir, \"fasttext_no_subwords_trigrams/word-vectors-100d.txt\"),\n",
    ")"
   ]
  },
  {
   "cell_type": "markdown",
   "metadata": {},
   "source": [
    "Simple search function that gets a list of keywords to search:"
   ]
  },
  {
   "cell_type": "code",
   "execution_count": 4,
   "metadata": {},
   "outputs": [],
   "source": [
    "def search(keywords, optional_keywords=None, top_n=10, synonyms_threshold=0.8, only_sentences=False):\n",
    "    print(f\"\\nSearch for terms {keywords}\\n\\n\")\n",
    "    results = search_engine.search(\n",
    "        keywords, optional_keywords=optional_keywords, top_n=top_n, synonyms_threshold=synonyms_threshold\n",
    "    )\n",
    "    print(\"\\nResults:\\n\")\n",
    "    \n",
    "    if only_sentences:\n",
    "        for result in results:\n",
    "            print(result['sentence'] + \"\\n\")\n",
    "    else:\n",
    "        pprint(results)"
   ]
  },
  {
   "cell_type": "markdown",
   "metadata": {},
   "source": [
    "Let's see some examples:"
   ]
  },
  {
   "cell_type": "code",
   "execution_count": 5,
   "metadata": {},
   "outputs": [
    {
     "name": "stdout",
     "output_type": "stream",
     "text": [
      "\n",
      "Search for terms ['animals', 'zoonotic', 'spillover', 'animal to human', 'bats', 'snakes', 'exotic animals', 'seafood']\n",
      "\n",
      "\n"
     ]
    },
    {
     "name": "stderr",
     "output_type": "stream",
     "text": [
      "/mnt/c/Users/Moshe/Documents/repos/covid19/.venv/lib/python3.6/site-packages/gensim/models/keyedvectors.py:2377: RuntimeWarning: invalid value encountered in true_divide\n",
      "  return (m / dist).astype(REAL)\n"
     ]
    },
    {
     "name": "stdout",
     "output_type": "stream",
     "text": [
      "Search terms after cleaning, bigrams, trigrams and synonym expansion: ['animals', 'zoonotic_spillover', 'animal_human', 'bats', 'snakes', 'exotic_animals', 'seafood', 'spillover_humans', 'hostswitching_events', 'battohuman', 'host_switching_events', 'from_dromedaries_humans', 'interspecies_jumping', 'animaltoanimal_animaltohuman', 'humantohuman_transmission_events', 'emergence_events', 'zoonotic_spillover_events', 'human_animal', 'bat_species', 'fruit_bats', 'insectivorous_bats', 'species_bats', 'bat', 'exotic_pets', 'wild_animal_species', 'consumption_raw', 'salads', 'ice_cream', 'dairy_products', 'cold_cuts', 'contaminated_beef', 'beef_products', 'meats', 'improperly_cooked', 'raw_undercooked']\n",
      "Optional search terms after cleaning, bigrams, trigrams and synonym expansion: ['newcoronavirus', 'coronavirus_covid19', '2019ncov_covid19', 'outbreak_2019_novel', 'sarscov2_2019ncov', 'coronavirus_2019ncov', 'ongoing_outbreak_novel_coronavirus', 'since_late_december', 'ongoing_outbreak_covid19', 'originating_wuhan_china', 'novel_coronavirus_outbreak', 'wuhan_coronavirus']\n",
      "\n",
      "Results:\n",
      "\n",
      "[{'authors': 'Javier A Jaimes, Nicole M André, Jean K Millet, Gary R Whittaker',\n",
      "  'cord_uid': 'xa6kwguo',\n",
      "  'paper_id': '7ab9f9fcea519ebce527c3ede8091beedbb26ad9',\n",
      "  'publish_time': '2020-02-18',\n",
      "  'section': 'body',\n",
      "  'sentence': 'The market sells many species including seafood, birds, snakes, '\n",
      "              'marmots and bats (Gralinski and Menachery, 2020) .',\n",
      "  'source': 'biorxiv'},\n",
      " {'authors': 'Tauseef Ahmad, Muhammad Khan, Taha Hussein Musa, Saima Nasir, '\n",
      "             'Jin Hui, D Katterine Bonilla-Aldana, Alfonso J Rodriguez-Morales',\n",
      "  'cord_uid': 'dei0xd1b',\n",
      "  'paper_id': '1a2c79e2b65d28508db35b7b72eb7c2edfed8ef0',\n",
      "  'publish_time': '2020-02-27',\n",
      "  'section': 'body',\n",
      "  'sentence': 'The Seafood market located at Wuhan, where different types of '\n",
      "              'wild (snakes and marmots) and domesticated (poultry and bats) '\n",
      "              'animals were sold illegally.',\n",
      "  'source': 'Elsevier'},\n",
      " {'authors': 'Mary A Lake, A ',\n",
      "  'cord_uid': 'sn72mkzq',\n",
      "  'paper_id': '200917c95e6477ab725eacda21ebdc3548c3fd95',\n",
      "  'publish_time': '2020-03-01',\n",
      "  'section': 'body',\n",
      "  'sentence': 'In keeping with this, the first cluster of cases were '\n",
      "              'identified in association with the South China Seafood Market, '\n",
      "              \"a 'wet' market at which a large range of live or freshly \"\n",
      "              'slaughtered animals were sold including poultry, bats, and '\n",
      "              'snakes.',\n",
      "  'source': 'PMC'},\n",
      " {'authors': 'J Ena, R P Wenzel',\n",
      "  'cord_uid': 'stjxfvou',\n",
      "  'paper_id': 'da75902f59044ff7ac9ca22af247cf85dde6a603',\n",
      "  'publish_time': '2020-03-31',\n",
      "  'section': 'body',\n",
      "  'sentence': 'Many patients were exposed to the seafood market to several '\n",
      "              'potential wildlife animals acting as reservoirs, such as '\n",
      "              'poultry, snakes, bats, and other farm animals.',\n",
      "  'source': 'Elsevier'},\n",
      " {'authors': 'Katri Jalava',\n",
      "  'cord_uid': 'he853mwa',\n",
      "  'paper_id': 'fdcd6d28e5d3836ebf047b6d2915611000d5615c',\n",
      "  'publish_time': '2020-05-31',\n",
      "  'section': 'body',\n",
      "  'sentence': 'In addition to seafood, live and slaughtered chicken, '\n",
      "              'pheasants, bats, marmots, deer, snakes and organs of rabbits '\n",
      "              'and other wild animals are sold (National Health Commission of '\n",
      "              \"the People's Republic of China, 2020; World Health \"\n",
      "              'Organization, 2020) .',\n",
      "  'source': 'Elsevier'},\n",
      " {'authors': 'Hong Zhou, Xing Chen, Tao Hu, Juan Li, Hao Song, Yanran Liu, '\n",
      "             'Peihan Wang,  Di,  Liu, Jing Yang, Edward C Holmes, Alice C '\n",
      "             'Hughes, Yuhai Bi, Weifeng Shi',\n",
      "  'cord_uid': 'dbowa5bt',\n",
      "  'paper_id': '7221cb14c12070a78e4ee5abe9484c40289fceea',\n",
      "  'publish_time': '2020-03-05',\n",
      "  'section': 'body',\n",
      "  'sentence': 'Notably, RaTG13 188 was identified from anal swabs and RmYN02 '\n",
      "              'was identified from feces, which is a simple, but 189 feasible '\n",
      "              'way for bats to spread the virus to other animals, especially '\n",
      "              'species that can utilize 190 cave environments.',\n",
      "  'source': 'biorxiv'},\n",
      " {'authors': 'Bishajit Sarkar,  Asad Ullah, Fatema Tuz Johora, Masuma Afrin '\n",
      "             'Taniya, Yusha Araf',\n",
      "  'cord_uid': '7vrm081c',\n",
      "  'paper_id': '73c8af41cfdbf52c0dfba37727e3b94cb56b495e',\n",
      "  'publish_time': '2020-02-11',\n",
      "  'section': 'body',\n",
      "  'sentence': 'that are common in many different species of animals, including '\n",
      "              'camels, cattle, cats, and bats [8] .',\n",
      "  'source': 'biorxiv'},\n",
      " {'authors': 'Javier A Jaimes, Nicole M André, Jean K Millet, Gary R Whittaker',\n",
      "  'cord_uid': 'xa6kwguo',\n",
      "  'paper_id': '7ab9f9fcea519ebce527c3ede8091beedbb26ad9',\n",
      "  'publish_time': '2020-02-18',\n",
      "  'section': 'body',\n",
      "  'sentence': 'Origination of 2019-nCoV from bats has been strongly supported, '\n",
      "              'but the presumed intermediate host remain to be identified; '\n",
      "              'initial reports that 2019-nCoV had an origin in snakes have not '\n",
      "              'been verified (Gralinski and Menachery, 2020; Zhou et al., '\n",
      "              '2020a) .',\n",
      "  'source': 'biorxiv'},\n",
      " {'authors': 'Chengxin Zhang, Wei Zheng, Xiaoqiang Huang, Eric W Bell, Xiaogen '\n",
      "             'Zhou, Yang Zhang',\n",
      "  'cord_uid': 'mtv80pjo',\n",
      "  'paper_id': '8a1fde8c65e439496ac5810504de23ef77312f28',\n",
      "  'publish_time': '2020-02-08',\n",
      "  'section': 'body',\n",
      "  'sentence': 'Among these vertebrates, snakes have the smallest codon usage '\n",
      "              'difference (squared Euclidiean distance of RSCU) from 2019-nCoV '\n",
      "              'and were therefore proposed by Ji et al. as the intermediate '\n",
      "              'hosts of 2019-nCoV. This conclusion is controversial among '\n",
      "              'virologists, mainly due to the lack of prior biological '\n",
      "              'evidence that coronavirus can infect animals other than mammals '\n",
      "              'and birds 15 .',\n",
      "  'source': 'biorxiv'},\n",
      " {'authors': 'Matthew C Wong, Sara J Javornik Cregeen, Nadim J Ajami, Joseph F '\n",
      "             'Petrosino',\n",
      "  'cord_uid': 'dnxhtbxn',\n",
      "  'paper_id': 'adb09e4e5c7331b2aa661b3d3bb0a643e00d11bc',\n",
      "  'publish_time': '2020-02-13',\n",
      "  'section': 'body',\n",
      "  'sentence': 'These included PRJNA573298 3 (pangolin), PRJNA597258 (fruit '\n",
      "              'bats) and PRJNA379515 (bats).',\n",
      "  'source': 'biorxiv'}]\n"
     ]
    }
   ],
   "source": [
    "search(keywords=[\"animals\", \"zoonotic\", \"spillover\", \"animal to human\",\n",
    "             \"bats\", \"snakes\", \"exotic animals\", \"seafood\"],\n",
    "       optional_keywords=[\"new_coronavirus\", \"coronavirus\", \"covid19\"])"
   ]
  },
  {
   "cell_type": "code",
   "execution_count": 6,
   "metadata": {},
   "outputs": [
    {
     "name": "stdout",
     "output_type": "stream",
     "text": [
      "\n",
      "Search for terms ['seasonality', 'transmission', 'humidity', 'heat', 'summer']\n",
      "\n",
      "\n",
      "Search terms after cleaning, bigrams, trigrams and synonym expansion: ['seasonality', 'transmission', 'humidity_heat', 'summer', 'seasonal_patterns', 'seasonal_variation', 'seasonal_pattern', 'seasonal_trends', 'seasonality_influenza', 'seasonal_variations', 'trans_mission', 'transmissions', 'disease_transmission', 'contact_transmission', 'overall_discomfort', 'microclimate_temperature_humidity', 'emotional_benefits', 'perceived_comfort', 'n95mask_combination', 'perceived_exertion', 'thermophysiological', 'nanofunctional', 'physical_discomfort', 'subjective_ratings', 'winter', 'autumn', 'during_winter', 'during_summer', 'rainy', 'winter_summer', 'summer_autumn', 'fall_winter', 'cold_winter', 'during_winter_spring']\n",
      "Optional search terms after cleaning, bigrams, trigrams and synonym expansion: ['newcoronavirus', 'coronavirus_covid19', '2019ncov_covid19', 'outbreak_2019_novel', 'sarscov2_2019ncov', 'coronavirus_2019ncov', 'ongoing_outbreak_novel_coronavirus', 'since_late_december', 'ongoing_outbreak_covid19', 'originating_wuhan_china', 'novel_coronavirus_outbreak', 'wuhan_coronavirus']\n",
      "\n",
      "Results:\n",
      "\n",
      "[{'authors': 'Leon Danon, Ellen Brooks-Pollock, Mick Bailey , Matt Keeling',\n",
      "  'cord_uid': 'x4qdiln9',\n",
      "  'paper_id': '05d99c07db59b6948e39bfa62c2cbbf62944059a',\n",
      "  'publish_time': '2020-02-14',\n",
      "  'section': 'body',\n",
      "  'sentence': 'A 50% reduction in transmission results in a smaller epidemic '\n",
      "              'before the summer, followed by a resurgence in cases in the '\n",
      "              'following winter.',\n",
      "  'source': 'medrxiv'},\n",
      " {'authors': 'Stephen Kissler, Christine Tedijanto, Marc Lipsitch, Yonatan H '\n",
      "             'Grad',\n",
      "  'cord_uid': 'nzat41wu',\n",
      "  'paper_id': '79622641e002b2574af9dc7f99d4fbbe192606e6',\n",
      "  'publish_time': '2020-03-24',\n",
      "  'section': 'body',\n",
      "  'sentence': 'This variation in transmission strength may be driven by a '\n",
      "              'variety of factors, including increased indoor crowding in the '\n",
      "              'winter, the onset of the school term in the autumn, and climate '\n",
      "              'factors (5) .',\n",
      "  'source': 'medrxiv'},\n",
      " {'authors': 'Nick Wilson, Lucy Telfar Barnard, Amanda Kvalsvig, Ayesha '\n",
      "             'Verrall, Michael Baker, Markus Schwehm',\n",
      "  'cord_uid': 'rxv5lgq8',\n",
      "  'paper_id': '8d07b32de2cd946099966ca7e46c3e9ee9659069',\n",
      "  'publish_time': '2020-03-23',\n",
      "  'section': 'body',\n",
      "  'sentence': 'Even though there are many uncertainties relating to '\n",
      "              'seasonality and this novel coronavirus [33] , it seems prudent '\n",
      "              'to assume some seasonal fluctuation so we increased the average '\n",
      "              'by 25% in winter and reduced it by 25% in summer (with a '\n",
      "              'sinusoidal variation throughout the simulated year), using a '\n",
      "              'mid-winter peak for Europe of 15 January (i.e., day 334 of the '\n",
      "              'simulation).',\n",
      "  'source': 'medrxiv'},\n",
      " {'authors': 'Clément Massonnaud, Jonathan Roux, Pascal Crépey',\n",
      "  'cord_uid': 'i46n70gb',\n",
      "  'paper_id': 'e1200121af466e437f3cf17aa10654b7725edb07',\n",
      "  'publish_time': '2020-03-20',\n",
      "  'section': 'body',\n",
      "  'sentence': '21 They estimated that a 50% reduction in transmission during '\n",
      "              'summer months would result in a smaller epidemic before the '\n",
      "              'summer, followed by a resurgence in cases in the following '\n",
      "              'winter.',\n",
      "  'source': 'medrxiv'},\n",
      " {'authors': 'Helen C Johnson, Céline M Gossner, Edoardo Colzani¹, John '\n",
      "             'Kinsman¹, Leonidas Alexakis¹, Julien Beauté¹, Andrea Würz¹, '\n",
      "             'Svetla Tsolova¹, Nick Bundle, Karl Ekdahl, Johnson Helen, C '\n",
      "             'Orcid, Colzani Edoardo, Kinsman John, Alexakis Leonidas, Beauté '\n",
      "             'Julien, Würz Andrea, Tsolova Svetla, Karl ',\n",
      "  'cord_uid': '3bqd2oih',\n",
      "  'paper_id': 'c118f8139e55632ad0f4d7267c40b0419126e874',\n",
      "  'publish_time': '2020-03-05',\n",
      "  'section': 'body',\n",
      "  'sentence': 'If SARS-CoV-2 demonstrates seasonality like influenza and other '\n",
      "              'respiratory tract viruses, a decline in cases during summer '\n",
      "              'would provide time to prepare for the following transmission '\n",
      "              'season.',\n",
      "  'source': 'PMC'},\n",
      " {'authors': nan,\n",
      "  'cord_uid': '881eg8v3',\n",
      "  'paper_id': 'f503e38baf84fff63d5a4cb8be0fe503a2272ceb',\n",
      "  'publish_time': '2020-03-16',\n",
      "  'section': 'body',\n",
      "  'sentence': 'As the southern hemisphere moves from summer to autumn and '\n",
      "              'swiftly into winter, the transmission of all respiratory '\n",
      "              'viruses will increase, including SARS-CoV-2 if introduced into '\n",
      "              'that country.',\n",
      "  'source': 'Elsevier'},\n",
      " {'authors': 'Leon Danon, Ellen Brooks-Pollock, Mick Bailey , Matt Keeling',\n",
      "  'cord_uid': 'x4qdiln9',\n",
      "  'paper_id': '05d99c07db59b6948e39bfa62c2cbbf62944059a',\n",
      "  'publish_time': '2020-02-14',\n",
      "  'section': 'body',\n",
      "  'sentence': 'We captured seasonal transmission by replacing the constant '\n",
      "              'transmission rate with a time-varying transmission rate given '\n",
      "              'by: is the magnitude of the seasonal difference in '\n",
      "              'transmission, ranging from (maximum seasonality with no '\n",
      "              'transmission at the peak of the summer).',\n",
      "  'source': 'medrxiv'},\n",
      " {'authors': 'Leon Danon, Ellen Brooks-Pollock, Mick Bailey , Matt Keeling',\n",
      "  'cord_uid': 'x4qdiln9',\n",
      "  'paper_id': '05d99c07db59b6948e39bfa62c2cbbf62944059a',\n",
      "  'publish_time': '2020-02-14',\n",
      "  'section': 'body',\n",
      "  'sentence': 'A 75% reduction in transmission over the summer resulted in a '\n",
      "              'delayed large outbreak, but with a similar attack rate.',\n",
      "  'source': 'medrxiv'},\n",
      " {'authors': 'Leon Danon, Ellen Brooks-Pollock, Mick Bailey , Matt Keeling',\n",
      "  'cord_uid': 'x4qdiln9',\n",
      "  'paper_id': '05d99c07db59b6948e39bfa62c2cbbf62944059a',\n",
      "  'publish_time': '2020-02-14',\n",
      "  'section': 'body',\n",
      "  'sentence': 'If transmission decreases to zero over the summer then the '\n",
      "              'resulting outbreak is much reduced, with an attack rate of less '\n",
      "              'than 1% ( Figure 5 , Table 2 ). .',\n",
      "  'source': 'medrxiv'},\n",
      " {'authors': 'Leon Danon, Ellen Brooks-Pollock, Mick Bailey , Matt Keeling',\n",
      "  'cord_uid': 'x4qdiln9',\n",
      "  'paper_id': '05d99c07db59b6948e39bfa62c2cbbf62944059a',\n",
      "  'publish_time': '2020-02-14',\n",
      "  'section': 'body',\n",
      "  'sentence': 'We predict that, in the absence of control measures and with no '\n",
      "              'seasonality in transmission, the introduction of CoVID-19 in '\n",
      "              'England and Wales has the potential to result in a synchronised '\n",
      "              'outbreak that peaks at around 4 months following the start of '\n",
      "              'person-to-person transmission.',\n",
      "  'source': 'medrxiv'}]\n"
     ]
    }
   ],
   "source": [
    "search(keywords=[\"seasonality\", \"transmission\", \"humidity\", \"heat\", \"summer\"],\n",
    "       optional_keywords=[\"new_coronavirus\", \"coronavirus\", \"covid19\"])"
   ]
  },
  {
   "cell_type": "code",
   "execution_count": 7,
   "metadata": {},
   "outputs": [
    {
     "name": "stdout",
     "output_type": "stream",
     "text": [
      "\n",
      "Search for terms ['incubation_time', 'incubation', 'age']\n",
      "\n",
      "\n",
      "Search terms after cleaning, bigrams, trigrams and synonym expansion: ['incubationtime', 'incubation', 'age']\n",
      "Optional search terms after cleaning, bigrams, trigrams and synonym expansion: ['newcoronavirus', 'coronavirus_covid19', '2019ncov_covid19', 'outbreak_2019_novel', 'sarscov2_2019ncov', 'coronavirus_2019ncov', 'ongoing_outbreak_novel_coronavirus', 'since_late_december', 'ongoing_outbreak_covid19', 'originating_wuhan_china', 'novel_coronavirus_outbreak', 'wuhan_coronavirus']\n",
      "\n",
      "Results:\n",
      "\n",
      "It suggests that age 40 can be a key age cutoff for the incubation of COVID-19 along with previous statistical analysis.  \n",
      "\n",
      "To estimate the asymptomatic infected population, we looked at publicly available data with at least 15 days of significant increase in confirmed COVID19 case numbers and back-calculated the population count that would have likely been in the pre-symptomatic incubation phase on previous dates.\n",
      "\n",
      "The following findings are obtained: 1) COVID-19 patients in Henan show gender (55% vs 45%) and age (81% aged between 21 and 60) preferences, possible causes were explored; 2) Statistical analysis on 483 patients reveals that the estimated average, mode and median incubation periods are 7.4, 4 and 7 days; Incubation periods of 92% patients were no more than 14 days; 3) The epidemic of COVID-19 in Henan has undergone three stages and showed high correlations with the numbers of patients that recently return from Wuhan; 4) Network analysis on the aggregate outbreak phenomena of COVID-19 revealed that 208 cases were clustering infected, and various people's Hospital are the main force in treating patients.\n",
      "\n",
      "Among the 1212 patients, we abstract the gender information of 1158 patients (95.54% of total samples) and the age information of 1156 patients (95.38% of total samples).\n",
      "\n",
      "The main reason may be that people aged between 21 and 60 years old are the social main labor forces, there are many migrant workers in this age interval.\n",
      "\n",
      "Specifically, the 483 confirmed patients were with average estimated incubation periodτ D = 7.4 days, the mode was 4 days (50 out of the 483 cases) and the median was 7 days (48 out of the 483 cases).\n",
      "\n",
      "As transmission intensifies in other countries, the interplay between age, contact patterns, social distancing, susceptibility to infection and disease, and COVID-19 dynamics remains unclear.\n",
      "\n",
      "also estimate age differences in susceptibility to infection and clinical disease based on contact tracing information gathered by the Hunan Provincial Center for Disease Control and Prevention (CDC), China.\n",
      "\n",
      "Based on those findings, we develop a mathematical transmission model to disentangle how transmission is affected by age differences in the biology of COVID-19 infection and disease, and altered mixing patterns due to social distancing.\n",
      "\n",
      "In Wuhan, the average daily number of contacts per participant was significantly reduced from 14.6 for a regular weekday (weighted mean contacts by age structure: 14.0) to 2.0 for the outbreak period (weighted mean contacts by age structure: 1.9) (p<0.001).\n",
      "\n",
      "A larger reduction was observed in Shanghai, where the average daily number of contacts declined from 20.6 (weighted mean contacts by age structure: 21.7) to 2.3 (weighted mean contacts by age structure: 2.1).\n",
      "\n",
      "Overall, contacts during the outbreak mostly occurred at home with household members (94.1% in Wuhan and 78.5% in Shanghai), thus the outbreak contact matrix nearly coincides with the within-household contact matrix in both study sites and the assortativity by age feature observed for regular days almost entirely disappear (see Supplementary Materials).\n",
      "\n",
      "To understand the interplay between social distancing interventions, changes in human mixing patterns, and outbreak dynamics, we also need to consider potential age differences in susceptibility to infection.\n",
      "\n",
      "This is currently a topic of debate, as little information on the age profile of asymptomatic cases is available (7, 8) .\n",
      "\n",
      "The total of symptomatic and asymptomatic infections was used to estimate the relative susceptibility to infection by age.\n",
      "\n",
      "We found age differences in susceptibility to SARS-CoV2 infection, where young individuals (aged 0-14 years) had a lower risk of infection than individual ages 65 years and over (OR=0.41 (95%CI: 0.18-0.93), p-value=0.026).\n",
      "\n",
      "These findings are in contrast with a previous study in Shenzhen, where susceptibility to infection did not change with age (7).\n",
      "\n",
      "Moreover, we found that the relative probability of developing symptoms also increased with age, however the difference was not statistically significant (Tab.\n",
      "\n",
      "Because we did not see age differences in the probability of developing symptoms upon infection, we assumed equal infectivity across all age groups.\n",
      "\n",
      "We used the same estimates of relative susceptibility to infection by age as in our main analysis (see Supplementary Material for a sensitivity analysis assuming equal susceptibility to infection).\n",
      "\n"
     ]
    }
   ],
   "source": [
    "search([\"incubation_time\", \"incubation\", \"age\"],\n",
    "       optional_keywords=[\"new_coronavirus\", \"coronavirus\", \"covid19\"],\n",
    "       top_n=20, only_sentences=True)"
   ]
  },
  {
   "cell_type": "code",
   "execution_count": 8,
   "metadata": {},
   "outputs": [
    {
     "name": "stdout",
     "output_type": "stream",
     "text": [
      "\n",
      "Search for terms ['Prevalence', 'asymptomatic', 'shedding', 'transmission', 'children']\n",
      "\n",
      "\n",
      "Search terms after cleaning, bigrams, trigrams and synonym expansion: ['prevalence', 'asymptomatic_shedding', 'transmission', 'children', 'prevalence_rates', 'prolonged_shedding', 'asymptomatic_persistence', 'persistent_shedding', 'trans_mission', 'transmissions', 'disease_transmission', 'contact_transmission', 'young_children', 'children_who', 'infants_children', 'older_children', 'infants', 'adults', 'children_adults', 'among_children', 'healthy_children']\n",
      "Optional search terms after cleaning, bigrams, trigrams and synonym expansion: ['newcoronavirus', 'coronavirus_covid19', '2019ncov_covid19', 'outbreak_2019_novel', 'sarscov2_2019ncov', 'coronavirus_2019ncov', 'ongoing_outbreak_novel_coronavirus', 'since_late_december', 'ongoing_outbreak_covid19', 'originating_wuhan_china', 'novel_coronavirus_outbreak', 'wuhan_coronavirus']\n",
      "\n",
      "Results:\n",
      "\n",
      "5 The prevalence of colonisation in children, which appears to be higher than that in adults, is considered clinically relevant since colonised children are postulated to be a reservoir for Pneumocystis.\n",
      "\n",
      "52 CAP of mixed etiology has been characterized less in adults than in children, and prevalence is estimated at less than 5%.\n",
      "\n",
      "Variation in transmission and migration rates can result in substantial variation in prevalence between regions.\n",
      "\n",
      "2 Bayham et al. show that schools are likely places for transmission among US children.\n",
      "\n",
      "A considerable degree of synchrony is observed in the timing of the peak prevalence of CoV-  The cocirculation of sCoVs with other common respiratory raises the potential for ecological interactions, altering infection risks and the dynamics of population transmission.\n",
      "\n",
      "While schools may be a hub of contact and virus transmission, school closings may inadvertently bring grandparents and children into closer contact if they become the default carers.\n",
      "\n",
      "Before 2002, 4 kinds of coronaviruses (CoVs, namely HCoV 229E, NL63, OC43, and HKU1) were known to infect humans, causing 10%-30% mild upper respiratory infection in adults, occasionally severe pneumonia in elders, infants, and immunodeficient persons.\n",
      "\n",
      "The population pryamid of Niger is dominated by young children; China has a relatively stable agestructure although there are more individuals in 30-54 age classes than in younger age-groups; the pryamid for Poland shows even fewer children and substantial proportions into older age-classes.\n",
      "\n",
      "Third, besides transmission between Wuhan and other cities, we do not consider other inter-city transmissions.\n",
      "\n",
      "We estimate metrics of disease transmission and analyze factors influencing transmission risk.\n",
      "\n",
      "The household secondary attack rate was 15%, and children were as likely to be infected as adults.\n",
      "\n",
      "We further show that children are at similar risk of infection as the general population, though less likely to have severe symptoms; hence should be considered in analyses of transmission and control.\n",
      "\n",
      "The COVID-19 seemed not have resulted in fatal outcome among young adults and children, however their role in disease transmission should be studies in near future.\n",
      "\n",
      "As shown in Table 2 , the proportion of male to female transmission in household is 44.0% (253 in 574 cases with disclosed information, with 98 husband-to-wife cases, 89 son to parents cases, 61 father to children cases and 24 brother to brother/sister cases), higher than cases of transmission from female to male cases (19.0%, with only 28 wife-to-husband cases) and between the same genders (36.9%).  \n",
      "\n",
      "doi: medRxiv preprint from Hubei province need to be quarantined and observed, with possible response options being ten days, twelve days, fourteen days and fifteen days; (3) which of the following masks can prevent COVID-19, with possible response options being activated carbon mask, cotton mask, sponge mask and medical surgical mask; (4) the known transmission routes of COVID-19 do not include which of the following, with possible response options being contact transmission, droplet transmission, soil transmission and aerosol transmission; (5)with regard to the disposal of discarded masks, what is incorrect about the following statement, with possible response options being throw it away at any time when you run out of it, masks worn by people with fever need to be disinfected, sealed and discarded, wash your hands immediately after handling the mask and discarded masks should be discarded into hazardous trash cans.\n",
      "\n",
      "We employed an SEIR-type transmission model [5] where the mean incubation period is 5 days, mean infectious period is 7 days, and the initial prevalence of the novel coronavirus (2019-nCov) infections is at 0.1% in a population of 10 million, roughly the population of Wuhan.\n",
      "\n",
      "One important benefit of using the proposed tvSVAR to model the transmissions is that the Granger causality matrix, B t , can provide both the direction and strength of the route on day t. For example, the ij th entry in B t measures the strength of the transmission from province i to province j on day\n",
      "\n",
      "Moreover, POLYMOD by design oversampled children, whereas the BBC data oversampled adults, and hence may have captured more of the tail of the contact distribution in older age groups.\n",
      "\n",
      "For a flu-like pathogen, this core group will be responsible for driving transmission in the wider population [2] which can be seen from indirect effects observed in other age-groups by targeting the vaccination of children [13] .\n",
      "\n",
      "Finally, by comparing the BBC mixing matrices to ones from POLYMOD we show that there are important differences in age-specific contributions to transmission with school-children driving transmission in POLYMOD, while in the BBC dataset adults are more responsible.\n",
      "\n"
     ]
    }
   ],
   "source": [
    "search([\"Prevalence\", \"asymptomatic\", \"shedding\", \"transmission\", \"children\"],\n",
    "       optional_keywords=[\"new_coronavirus\", \"coronavirus\", \"covid19\"],\n",
    "       top_n=20, only_sentences=True)"
   ]
  },
  {
   "cell_type": "code",
   "execution_count": 9,
   "metadata": {},
   "outputs": [
    {
     "name": "stdout",
     "output_type": "stream",
     "text": [
      "\n",
      "Search for terms ['seasonality', 'transmission', 'humidity', 'heat', 'summer']\n",
      "\n",
      "\n",
      "Search terms after cleaning, bigrams, trigrams and synonym expansion: ['seasonality', 'transmission', 'humidity_heat', 'summer', 'seasonal_patterns', 'seasonal_variation', 'seasonal_pattern', 'seasonal_trends', 'seasonality_influenza', 'seasonal_variations', 'trans_mission', 'transmissions', 'disease_transmission', 'contact_transmission', 'overall_discomfort', 'microclimate_temperature_humidity', 'emotional_benefits', 'perceived_comfort', 'n95mask_combination', 'perceived_exertion', 'thermophysiological', 'nanofunctional', 'physical_discomfort', 'subjective_ratings', 'winter', 'autumn', 'during_winter', 'during_summer', 'rainy', 'winter_summer', 'summer_autumn', 'fall_winter', 'cold_winter', 'during_winter_spring']\n",
      "Optional search terms after cleaning, bigrams, trigrams and synonym expansion: ['newcoronavirus', 'coronavirus_covid19', '2019ncov_covid19', 'outbreak_2019_novel', 'sarscov2_2019ncov', 'coronavirus_2019ncov', 'ongoing_outbreak_novel_coronavirus', 'since_late_december', 'ongoing_outbreak_covid19', 'originating_wuhan_china', 'novel_coronavirus_outbreak', 'wuhan_coronavirus']\n",
      "\n",
      "Results:\n",
      "\n",
      "A 50% reduction in transmission results in a smaller epidemic before the summer, followed by a resurgence in cases in the following winter.\n",
      "\n",
      "This variation in transmission strength may be driven by a variety of factors, including increased indoor crowding in the winter, the onset of the school term in the autumn, and climate factors (5) .\n",
      "\n",
      "Even though there are many uncertainties relating to seasonality and this novel coronavirus [33] , it seems prudent to assume some seasonal fluctuation so we increased the average by 25% in winter and reduced it by 25% in summer (with a sinusoidal variation throughout the simulated year), using a mid-winter peak for Europe of 15 January (i.e., day 334 of the simulation).\n",
      "\n",
      "21 They estimated that a 50% reduction in transmission during summer months would result in a smaller epidemic before the summer, followed by a resurgence in cases in the following winter.\n",
      "\n",
      "If SARS-CoV-2 demonstrates seasonality like influenza and other respiratory tract viruses, a decline in cases during summer would provide time to prepare for the following transmission season.\n",
      "\n",
      "As the southern hemisphere moves from summer to autumn and swiftly into winter, the transmission of all respiratory viruses will increase, including SARS-CoV-2 if introduced into that country.\n",
      "\n",
      "We captured seasonal transmission by replacing the constant transmission rate with a time-varying transmission rate given by: is the magnitude of the seasonal difference in transmission, ranging from (maximum seasonality with no transmission at the peak of the summer).\n",
      "\n",
      "A 75% reduction in transmission over the summer resulted in a delayed large outbreak, but with a similar attack rate.\n",
      "\n",
      "If transmission decreases to zero over the summer then the resulting outbreak is much reduced, with an attack rate of less than 1% ( Figure 5 , Table 2 ). .\n",
      "\n",
      "We predict that, in the absence of control measures and with no seasonality in transmission, the introduction of CoVID-19 in England and Wales has the potential to result in a synchronised outbreak that peaks at around 4 months following the start of person-to-person transmission.\n",
      "\n"
     ]
    }
   ],
   "source": [
    "search([\"seasonality\", \"transmission\", \"humidity\", \"heat\", \"summer\"],\n",
    "       optional_keywords=[\"new_coronavirus\", \"coronavirus\", \"covid19\"],\n",
    "       top_n=10, only_sentences=True)"
   ]
  },
  {
   "cell_type": "code",
   "execution_count": 10,
   "metadata": {},
   "outputs": [
    {
     "name": "stdout",
     "output_type": "stream",
     "text": [
      "\n",
      "Search for terms ['adhesion', 'hydrophilic', 'hydrophobic', 'surfaces', 'decontamination']\n",
      "\n",
      "\n",
      "Search terms after cleaning, bigrams, trigrams and synonym expansion: ['adhesion', 'hydrophilic_hydrophobic', 'surfaces', 'decontamination', 'hydrophobic_hydrophilic', 'ligand_shell', 'oppositely_charged', 'hydrophilichydrophobic', 'polar_nonpolar', 'adsorbent_surface', 'anionic_cationic', 'neutral_charged', 'both_hydrophilic_hydrophobic', 'micelles_liposomes', 'disinfection']\n",
      "Optional search terms after cleaning, bigrams, trigrams and synonym expansion: ['newcoronavirus', 'coronavirus_covid19', '2019ncov_covid19', 'outbreak_2019_novel', 'sarscov2_2019ncov', 'coronavirus_2019ncov', 'ongoing_outbreak_novel_coronavirus', 'since_late_december', 'ongoing_outbreak_covid19', 'originating_wuhan_china', 'novel_coronavirus_outbreak', 'wuhan_coronavirus']\n",
      "\n",
      "Results:\n",
      "\n",
      "Although the viral load of coronaviruses on inanimate surfaces is not known during an outbreak situation it seems plausible to reduce the viral load on surfaces by disinfection, especially on frequent touch surfaces in the immediate patient surrounding where the highest viral load can be expected.\n",
      "\n",
      "For the disinfection of small surfaces ethanol (62%e71%; carrier tests) revealed a similar efficacy against coronavirus [7] .\n",
      "\n",
      "Although the viral load of coronaviruses on inanimate surfaces is not known during an outbreak situation it seems plausible to reduce the viral load on surfaces by disinfection, especially on frequent touch surfaces in the immediate patient surrounding where the highest viral load can be expected.\n",
      "\n",
      "For the disinfection of small surfaces ethanol (62%e71%; carrier tests) revealed a similar efficacy against coronavirus [7] .\n",
      "\n",
      "b. Because prion infectivity is retained after drying and the dried material is harder to clean from surfaces, reusable instruments should be kept wet between time of use and disinfection.\n",
      "\n",
      "If indeed the virus is present in the tears of relatively asymptomatic patients or during the incubation period, we should be concerned that an eye examination could become an additional mode of transmission from patient to doctor, and then doctor to other patients, in the case of insufficient hand or surfaces disinfection, or if appropriate protective personal equipment is not worn.\n",
      "\n",
      "The process of decontamination of the virus-contaminated surfaces by the appropriate disinfectants or virucidal agents was successful in case of other respiratory viruses such as SARS-CoV and avian influenza [59] .\n",
      "\n",
      "Although the viral load of coronaviruses on inanimate surfaces is not known during an outbreak situation it seem plausible to reduce the viral load on surfaces by disinfection, especially of frequently touched surfaces in the immediate patient surrounding where the highest viral load can be expected.\n",
      "\n",
      "For the disinfection of small surfaces ethanol (62e71%; carrier tests) revealed a similar efficacy against coronavirus.\n",
      "\n",
      "ΔGgb and ΔGnp refer to polar and non-polar solvation free energies, respectively.\n",
      "\n"
     ]
    }
   ],
   "source": [
    "search([\"adhesion\", \"hydrophilic\", \"hydrophobic\", \"surfaces\", \"decontamination\"],\n",
    "       optional_keywords=[\"new_coronavirus\", \"coronavirus\", \"covid19\"],\n",
    "       top_n=10, only_sentences=True)"
   ]
  },
  {
   "cell_type": "code",
   "execution_count": 11,
   "metadata": {},
   "outputs": [
    {
     "name": "stdout",
     "output_type": "stream",
     "text": [
      "\n",
      "Search for terms ['Persistence', 'stability', 'nasal discharge', 'sputum', 'urine', 'fecal matter']\n",
      "\n",
      "\n",
      "Search terms after cleaning, bigrams, trigrams and synonym expansion: ['persistence', 'stability', 'nasal_discharge', 'sputum_urine', 'fecal_matter', 'sneezing_nasal', 'sneezing_nasal_discharge', 'ocular_discharge', 'watery_eyes', 'sneezing_cough', 'discharge_cough', 'cough_nasal', 'swollen_sinuses', 'eye_discharge', 'tracheal_rales', 'urine_sputum', 'lavage_specimen', 'sputum_endotracheal', 'pleural_tap', 'sputum_bal_fluid', 'fluid_pleural_fluid', 'antibiotic_treatment_commenced', 'sputum_bronchoalveolar_lavage_fluid', 'culture_sputum', 'sent_culture', 'secretions_feces', 'sweat_urine', 'saliva_nasal', 'contaminated_feces', 'other_body_secretions', 'secretions_urine', 'faecal_material', 'sweat_tears', 'animal_feces', 'fecally_contaminated']\n",
      "Optional search terms after cleaning, bigrams, trigrams and synonym expansion: ['newcoronavirus', 'coronavirus_covid19', '2019ncov_covid19', 'outbreak_2019_novel', 'sarscov2_2019ncov', 'coronavirus_2019ncov', 'ongoing_outbreak_novel_coronavirus', 'since_late_december', 'ongoing_outbreak_covid19', 'originating_wuhan_china', 'novel_coronavirus_outbreak', 'wuhan_coronavirus']\n",
      "\n",
      "Results:\n",
      "\n",
      "In Minnesota, lameness was the most commonly observed symptom followed by nasal or eye discharge, coughing, sneezing, and swollen sinuses in urban backyard flocks (Yendell et al., 2012) .\n",
      "\n",
      "We tested 15 epitope-HLA-binding prediction tools, and using an in vitro peptide MHC stability assay, we assessed 777 peptides that were predicted to be good binders across 11 MHC allotypes.\n",
      "\n",
      "In this investigation of potential SARS-CoV-2 epitopes we found that current prediction tools vary in performance when assessing binding stability, and they are highly dependent on the MHC allotype in question.\n",
      "\n",
      "(Sturniolo et al. 1999) To assess whether current peptide-HLA prediction tools could be suitable for identification of epitopes relevant in a vaccine against SARS-CoV-2, we tested predicted binders from the netMHC tools, using a new MHC:peptide complex stability assay NeoScreen Ⓡ .\n",
      "\n",
      "We found that algorithmically predicting binding between epitopes from SARS-CoV-2 and HLA outputs many complexes that turned out to exhibit low stability.\n",
      "\n",
      "To investigate if this finding was a result of the quality of available training data, we constructed a proof-of-concept prediction model, which we trained on 2,193 historic in-house stability data, and found that it outperforms other tools.\n",
      "\n",
      "We identified the top 94 predicted peptides for 11 HLA allotypes (94 x 11 = 1034), and went further to validate the binding of these 94 peptides to each allotype in an in vitro MHC:peptide complex stability assay (NeoScreen Ⓡ ).\n",
      "\n",
      "In order to first assess potential variability across the stability measurements we made replicate measurements ( n = 4) of 120 peptides on 8 HLA alleles.\n",
      "\n",
      "To further address whether alternative prediction tools would have higher concordance with measured stability, we performed predictions for all tools listed in Table 1 .\n",
      "\n",
      "Furthermore, using in-house stability data, we developed PrdX 1.0, a prediction tool for a single allele HLA-A*02:01, where all other tools performed most poorly.\n",
      "\n"
     ]
    }
   ],
   "source": [
    "search([\"Persistence\", \"stability\",\"nasal discharge\", \"sputum\", \"urine\", \"fecal matter\"],\n",
    "       optional_keywords=[\"new_coronavirus\", \"coronavirus\", \"covid19\"],\n",
    "       top_n=10, only_sentences=True)"
   ]
  },
  {
   "cell_type": "code",
   "execution_count": 12,
   "metadata": {},
   "outputs": [
    {
     "name": "stdout",
     "output_type": "stream",
     "text": [
      "\n",
      "Search for terms ['Persistence', 'materials', 'copper', 'stainless steel', 'plastic']\n",
      "\n",
      "\n",
      "Search terms after cleaning, bigrams, trigrams and synonym expansion: ['persistence', 'materials', 'copper', 'stainless_steel', 'plastic', 'stainless', 'galvanized_steel']\n",
      "Optional search terms after cleaning, bigrams, trigrams and synonym expansion: ['newcoronavirus', 'coronavirus_covid19', '2019ncov_covid19', 'outbreak_2019_novel', 'sarscov2_2019ncov', 'coronavirus_2019ncov', 'ongoing_outbreak_novel_coronavirus', 'since_late_december', 'ongoing_outbreak_covid19', 'originating_wuhan_china', 'novel_coronavirus_outbreak', 'wuhan_coronavirus']\n",
      "\n",
      "Results:\n",
      "\n",
      "HCoV-19 was most stable on plastic and stainless steel and viable virus could be detected up to 33 72 hours post application ( Figure 1A ), though the virus titer was greatly reduced (plastic from 10 3.7 to 34 10 0.6 TCID 50 /mL after 72 hours, stainless steel from 10 3.7 to 10 0.6 TCID 50 /mL after 48 hours).\n",
      "\n",
      "For example, aspects of the social contact network [27] , metapopulation structure [28, 29] , mobility [30, 31] , adaptive behavior [32, 33] , higher-order contact structure [34, 35] , and even other pathogens [36, 37] , all interact to cause complex patterns of disease emergence, spread, and persistence.\n",
      "\n",
      "Network analysis can provide us important information about patients, hospitals and their relationships; it can also provide valuable guidance for the distribution of epidemic prevention materials.\n",
      "\n",
      "To make use of advanced deep learning algorithms, we vectorize persistent homology barcodes by dividing them into bins and calculating persistence, birth, and death incidents in each bin.\n",
      "\n",
      "Materials.\n",
      "\n",
      "All data and materials used in this work were publicly available.\n",
      "\n",
      "Additional materials might also be required during the process of evaluation.\n",
      "\n",
      "To date, emergent zoonotic human coronaviruses associated with high case-fatality ratios have not achieved persistence in the human population.\n",
      "\n",
      "A key determinant governing the invasion and persistence success of a new pathogen is the abundance of susceptible hosts.\n",
      "\n",
      "All data and materials used in this work were publicly available.\n",
      "\n"
     ]
    }
   ],
   "source": [
    "search([\"Persistence\", \"materials\", \"copper\", \"stainless steel\", \"plastic\"],\n",
    "       optional_keywords=[\"new_coronavirus\", \"coronavirus\", \"covid19\"],\n",
    "       top_n=10, only_sentences=True)"
   ]
  },
  {
   "cell_type": "code",
   "execution_count": 13,
   "metadata": {},
   "outputs": [
    {
     "name": "stdout",
     "output_type": "stream",
     "text": [
      "\n",
      "Search for terms ['natural', 'history', 'virus', 'infected']\n",
      "\n",
      "\n",
      "Search terms after cleaning, bigrams, trigrams and synonym expansion: ['natural_history', 'virus', 'infected']\n",
      "Optional search terms after cleaning, bigrams, trigrams and synonym expansion: ['newcoronavirus', 'coronavirus_covid19', '2019ncov_covid19', 'outbreak_2019_novel', 'sarscov2_2019ncov', 'coronavirus_2019ncov', 'ongoing_outbreak_novel_coronavirus', 'since_late_december', 'ongoing_outbreak_covid19', 'originating_wuhan_china', 'novel_coronavirus_outbreak', 'wuhan_coronavirus']\n",
      "\n",
      "Results:\n",
      "\n",
      "In 1918, individuals infected with influenza typically passed on the virus to between 1 and 2 of their social contacts [1] .\n",
      "\n",
      "However, these symptoms are nonspecific, as there are isolated cases where, for example, in an asymptomatic infected family a chest CT scan revealed pneumonia and the pathogenic test for the virus came back positive.\n",
      "\n",
      "The initial symptoms of recently infected patients seem more insidious, indicating that the new coronavirus may gradually evolve into a virus similar to influenza and latent in asymptomatic carriers for a long time.\n",
      "\n",
      "Although we lack the knowledge on the first infected case, our inverse inference may still be helpful for understanding the epidemic of COVID-19 and preventing similar virus in the future.\n",
      "\n",
      "Let the transmission probability be β and the contact rate be c. With contact tracing, we assume a proportion, q, of individuals exposed to the virus is quarantined, and can either move to the compartment B or S q at a rate of βcq or (1 -β)cq), depending on whether they are infected or not, while the other proportion, 1 -q, consists of individuals exposed to the virus who are missed from contact tracing and move to the exposed compartment E at a rate of βc(1 − q) once infected or stay in compartment S otherwise.\n",
      "\n",
      "Based on the age distribution of patients across the country, all ages have no resistance to the novel coronavirus, and a person of any age can be infected as long as virus transmission conditions are met [14] .\n",
      "\n",
      "As of March 14th 2020, the virus has infected over 130,000 individuals in 122 countries, 3.7% of which had a fatal outcome (3) .\n",
      "\n",
      "Second, it is highly possible that infected cases spread the virus to their family members or relatives 7 .\n",
      "\n",
      "77 78 The central aim of our analysis is to assess the expected effectiveness of screening for nCoV, 79 taking account of current knowledge and uncertainties about the natural history and 80 epidemiology of the virus.\n",
      "\n",
      "Theoretically, viral antigen is the specific marker of the virus and precedes antibody appearance within the infected population.\n",
      "\n"
     ]
    }
   ],
   "source": [
    "search([\"natural\", \"history\", \"virus\", \"infected\"],\n",
    "       optional_keywords=[\"new_coronavirus\", \"coronavirus\", \"covid19\"],\n",
    "       top_n=10, only_sentences=True)"
   ]
  },
  {
   "cell_type": "code",
   "execution_count": 14,
   "metadata": {},
   "outputs": [
    {
     "name": "stdout",
     "output_type": "stream",
     "text": [
      "\n",
      "Search for terms ['implementation', 'diagnostics', 'product', 'clinical', 'process']\n",
      "\n",
      "\n",
      "Search terms after cleaning, bigrams, trigrams and synonym expansion: ['implementation', 'diagnostics', 'product', 'clinical', 'process', 'implementing', 'adoption', 'products']\n",
      "Optional search terms after cleaning, bigrams, trigrams and synonym expansion: ['newcoronavirus', 'coronavirus_covid19', '2019ncov_covid19', 'outbreak_2019_novel', 'sarscov2_2019ncov', 'coronavirus_2019ncov', 'ongoing_outbreak_novel_coronavirus', 'since_late_december', 'ongoing_outbreak_covid19', 'originating_wuhan_china', 'novel_coronavirus_outbreak', 'wuhan_coronavirus']\n",
      "\n",
      "Results:\n",
      "\n",
      "Effective teamwork can increase the efficiency of the work, in the process of care, while buy and use the new improved care products, not only more convenient and effective; the current hospital has been promoted to the implementation of the respiratory care ward, To share the unit to promote the implementation of experience, in order to achieve the purpose of maintaining patient safety and improve the quality of medical services.\n",
      "\n",
      "Stem Cell-based Products in Medicine: FDA Regulatory Considerations reviewed in the OCTGT, reviewers from three disciplines are assigned including (1) a product expert, (2) a pharmacology/ toxicology expert, and (3) a clinical expert.\n",
      "\n",
      "To simulate the process of applying the proposed DeCoVNet for clinical computeraided diagnosis (i.e., prospective clinical trials), we used the 499 CT scans collected from Dec 13, 2019 to Jan 23, 2020 for training and used the rest 131 CT volumes collected from Jan 24, 2020 to Feb. 06, 6 .\n",
      "\n",
      "The methodology not only included a library of models and training tools, but also the process for data collection, annotation, testing, user interaction design, and clinical deployment.\n",
      "\n",
      "There were some special characteristics in the clinical process.\n",
      "\n",
      "In addition, these patients were divided into ≤20day group and > 20-day group according the duration of release from quarantine, and the similarities and differences between the two groups in the clinical process were compared, in order to find the relevant factors of nucleic acid continued positive.\n",
      "\n",
      "Mobile phone apps implementing algorithmic contact tracing can speed up the process of tracing newly diagnosed individuals, spreading information instantaneously back through a past contact network to inform them that they are at risk of being infected, and thus allow them to take appropriate social distancing and testing measures.\n",
      "\n",
      "However, in the diagnosis and treatment process, it was found that the above diagnostic criteria could not fully meet the needs of clinical prevention and control, and some atypical clinical manifestations appeared [5, 7, 8] , which brought great difficulties and challenges to the prevention and control of the epidemic.\n",
      "\n",
      "The implementation of SARS-CoV-2 diagnostics does not replace nor exclude diagnostic capacity for other respiratory viruses.\n",
      "\n",
      "A questionnaire was designed to assess the capacity, quality and operational specifics related to 2019-nCoV diagnostics, as well as barriers against their implementation in laboratories that are part of the European Centre for Disease Control and Prevention (ECDC)-associated European expert laboratory network for emerging viral diseases (EVD-LabNet) and/or the European Reference Laboratory Network for Human Influenza (ERLI-Net).\n",
      "\n"
     ]
    }
   ],
   "source": [
    "search([\"implementation\", \"diagnostics\", \"product\", \"clinical\", \"process\"],\n",
    "       optional_keywords=[\"new_coronavirus\", \"coronavirus\", \"covid19\"],\n",
    "       top_n=10, only_sentences=True)"
   ]
  },
  {
   "cell_type": "code",
   "execution_count": 15,
   "metadata": {},
   "outputs": [
    {
     "name": "stdout",
     "output_type": "stream",
     "text": [
      "\n",
      "Search for terms ['disease models', 'animals', 'infection', 'transmission']\n",
      "\n",
      "\n",
      "Search terms after cleaning, bigrams, trigrams and synonym expansion: ['disease', 'models', 'animals', 'infection', 'transmission', 'model', 'infections', 'trans_mission', 'transmissions', 'disease_transmission', 'contact_transmission']\n",
      "Optional search terms after cleaning, bigrams, trigrams and synonym expansion: ['newcoronavirus', 'coronavirus_covid19', '2019ncov_covid19', 'outbreak_2019_novel', 'sarscov2_2019ncov', 'coronavirus_2019ncov', 'ongoing_outbreak_novel_coronavirus', 'since_late_december', 'ongoing_outbreak_covid19', 'originating_wuhan_china', 'novel_coronavirus_outbreak', 'wuhan_coronavirus']\n",
      "\n",
      "Results:\n",
      "\n",
      "Based on those findings, we develop a mathematical transmission model to disentangle how transmission is affected by age differences in the biology of COVID-19 infection and disease, and altered mixing patterns due to social distancing.\n",
      "\n",
      "The model generates an ensemble of possible epidemic scenarios described by the number of newly generated infections, times of disease arrival in each subpopulation, and the number of traveling infection carriers.\n",
      "\n",
      "using a transmission model, we estimate a basic reproductive number of 3.11 (95%CI, 2.39-4.13); 58-76% of transmissions must be prevented to stop increasing; Wuhan case ascertainment of 5.0% (3.6-7.4); 21022 (11090-33490) total infections in Wuhan 1 to 22 January.\n",
      "\n",
      "Using our parameterised transmission model, we simulated the impact of an ongoing outbreak in Wuhan to seed infections and outbreaks in other cities of China, and to generate infection in travellers to other countries/regions, through airline travel originating in China.\n",
      "\n",
      "In our model formulation, the transmission probability is denoted by β and the contact rate is denoted by c. By enforcing contact tracing, a proportion, , of individuals exposed is quarantined, and can either move to the compartment or with rate of (or -), depending on whether they are effectively infected or not 18, 19 , while the other proportion, 1q, consists of individuals exposed to the virus who are missed from contact tracing and move to the exposed  The effective reproduction number is given by In epidemiology, the basic reproduction number (R 0 ), used to measure the transmission potential of a disease, is the average number of secondary infections produced by a typical case of an infection in a population where everyone is susceptible.\n",
      "\n",
      "agent-based) and represent each individual in a specific community, matching recent census and other government data.7, 8 We previously developed individual-based simulation models for population centres in Australia, South Africa, Thailand, Vietnam and Papua New Guinea, all using the same underlying automata-theoretic modelling methodology, to capture the dynamics of both pathogen transmission and population mobility.9-13 This modelling methodology is presented in detail in previous publications.11 This approach to disease modelling allows us to explicitly simulate person-to-person virus transmission, the probability of such transmission, the location of transmission (e.g. school, workplace, home, community) and determines each individual's infection status through time.\n",
      "\n",
      "Aetiopathogenesis ■ TSEs were originally termed slow virus infections -although no virus has ever been associated with the disease ■ TSEs appear to be associated with an abnormal form of a host-encoded protein termed a prion (proteinaceous infectious particle) ■ Prions are composed of a cell surface glycoprotein ■ In prion diseases a protease resistant isoform (PrP sc or PrP TSE ) accumulates in the brain ■ Prions do not evoke a protective immune response ■ CNS and posterior orbit are the tissues 116 Special care in dentistry most likely to be infected ■ Transfusions of whole blood, component blood or blood derivatives have not been shown to transmit the classical CJD agent, but, to avoid the theoretical possibility of transmission, recipients of human growth hormone were excluded from blood donation in 1989, and recipients of other human-derived pituitary hormones have been excluded since 1993 in the UK ■ Cases of variant CJD have been reported in blood transfusion product recipients ■ Concern has been expressed over the use of human dura mater grafts and bovine products for periodontal reconstruction since theoretically they might be the source of prions ■ There may also be other potential but unproven sources of infection, such as products produced from cell lines grown in the presence of fetal bovine serum, some vaccines, and bovine products such as collagen.\n",
      "\n",
      "Objective: The goal of this study is to provide a quantitative analysis and model for preventable COVID19 infections from elective outpatient or ambulatory surgery cases, which can also be adapted to analyze COVID19 transmission in other healthcare settings.\n",
      "\n",
      "As transmission intensifies in other countries, the interplay between age, contact patterns, social distancing, susceptibility to infection and disease, and COVID-19 dynamics remains unclear.\n",
      "\n",
      "Many mild infections are typically not reported and, depending on their contagiousness, may support stealth transmission and the spread of documented infection.\n",
      "\n"
     ]
    }
   ],
   "source": [
    "search([\"disease models\", \"animals\", \"infection\", \"transmission\"],\n",
    "       optional_keywords=[\"new_coronavirus\", \"coronavirus\", \"covid19\"],\n",
    "       top_n=10, only_sentences=True)"
   ]
  },
  {
   "cell_type": "code",
   "execution_count": 17,
   "metadata": {},
   "outputs": [
    {
     "name": "stdout",
     "output_type": "stream",
     "text": [
      "\n",
      "Search for terms ['Tools', 'studies', 'monitor', 'phenotypic change', 'potential adaptation', 'virus', 'mutation']\n",
      "\n",
      "\n",
      "Search terms after cleaning, bigrams, trigrams and synonym expansion: ['tools', 'studies', 'monitor', 'phenotypic_change', 'potential', 'adaptation', 'virus', 'mutation', 'powerful_computational', 'adaption', 'mutations', 'point_mutation', 'point_mutations']\n",
      "Optional search terms after cleaning, bigrams, trigrams and synonym expansion: ['newcoronavirus', 'coronavirus_covid19', '2019ncov_covid19', 'outbreak_2019_novel', 'sarscov2_2019ncov', 'coronavirus_2019ncov', 'ongoing_outbreak_novel_coronavirus', 'since_late_december', 'ongoing_outbreak_covid19', 'originating_wuhan_china', 'novel_coronavirus_outbreak', 'wuhan_coronavirus']\n",
      "\n",
      "Results:\n",
      "\n",
      "Here, we analyzed the potential mutations that may have evolved after the virus became epidemic among humans and also the mutations resulting in the human adaptation.\n",
      "\n",
      "Thus, it is urgent to tightly monitor the mutation and adaptation of the virus.\n",
      "\n",
      "Thirty drug candidates, consisting of biologically active natural products and traditional Chinese medicine drugs, that have the potential to show therapeutic effects against 2019-nCoV, were chosen for testing for the clinical treatment of pneumonia in patients infected with 2019-nCoV. Based on previous anti-SARS studies and computer simulations, older drugs, like cinnamon thiamine and cyclosporin A (CsA), could be effective against 2019-nCoV. The immunosuppressive drug CsA prevents the nucleocapsid protein of the virus from binding to cyclophilin A (CypA) of the host cell, which has a peptidyl prolyl cis/trans isomerase (PPIase) activity, and a combination of interferon and CsA has been shown previously to significantly inhibit the replication and tissue damage caused by coronavirus infection in bronchi and lungs of humans.\n",
      "\n",
      "Based on the evidence gained from studies of SARS-CoV, and from the genetic identity of SARS-CoV-2, it could be postulated that the virus responsible for the recent outbreak is transmit ted from bats to humans either directly or indirectly through adaptation in an unidentified host [34, 35] .\n",
      "\n",
      "From studies of the rate that mutations have been fixed in these viruses, it has been estimated that the virus entered the human population around 1890.\n",
      "\n",
      "Due to current limited knowledge of the epidemiology of the virus at the time of writing (e.g. the proportion and infectiousness of asymptomatic or subclinical infections) and the rapidly changing situation of the outbreak, the simplicity of our approach to define importation risk can help to quickly update risk assessments, prioritise surveillance, target limited resources and understand the potential of 2019n-CoV introduction at specific destinations [32] .\n",
      "\n",
      "Fourth, compared with airline travellers leaving Wuhan prior to January 23 rd evacuees from Wuhan during the January 29 th -31 st period might have a higher risk of infection due to their longer stay in Wuhan during the potential continued spread of the virus since January 23 rd .\n",
      "\n",
      "We commenced by translating the reference sequence of SARS-CoV-2 ( ACCESSION MN908947, VERSION MN908947.3) to protein-coding sequence and predicted potential epitopes in a sliding window of 9 using netMHC tools (netMHC/II and \"-pan\" versions, when allotype was not available).\n",
      "\n",
      "Here we benchmark a number of tools to identify epitopes for SARS-CoV-2 virus, and validate via stability assay the binding of candidate epitopes to 10 allotypes of HLA class I and one allotype of HLA class II.\n",
      "\n",
      "We find that the false positive rate is high for all tested tools when testing for predicted HLA-binding peptides from SARS-CoV-2 virus.\n",
      "\n"
     ]
    }
   ],
   "source": [
    "search([\"Tools\", \"studies\", \"monitor\", \"phenotypic change\", \"potential adaptation\", \"virus\", \"mutation\"],\n",
    "       optional_keywords=[\"new_coronavirus\", \"coronavirus\", \"covid19\"],\n",
    "       top_n=10, only_sentences=True)"
   ]
  },
  {
   "cell_type": "code",
   "execution_count": 19,
   "metadata": {},
   "outputs": [
    {
     "name": "stdout",
     "output_type": "stream",
     "text": [
      "\n",
      "Search for terms ['Immune', 'Immunity', 'Immune response']\n",
      "\n",
      "\n",
      "Search terms after cleaning, bigrams, trigrams and synonym expansion: ['immune', 'immunity', 'immune_response', 'immunity_against', 'immune_responses', 'immune_responses', 'adaptive_immune_response', 'immune_response_against', 'cellular_immune_response', 'humoral_immune_response', 'innate_adaptive_immune_responses']\n",
      "Optional search terms after cleaning, bigrams, trigrams and synonym expansion: ['newcoronavirus', 'coronavirus_covid19', '2019ncov_covid19', 'outbreak_2019_novel', 'sarscov2_2019ncov', 'coronavirus_2019ncov', 'ongoing_outbreak_novel_coronavirus', 'since_late_december', 'ongoing_outbreak_covid19', 'originating_wuhan_china', 'novel_coronavirus_outbreak', 'wuhan_coronavirus']\n",
      "\n",
      "Results:\n",
      "\n",
      "It is currently considered that the lung injury is not only associated with direct virus-induced injury, but also COVID-19 invasion triggers the immune responses that lead to the activation of immune cells(monocyte, macrophage, T and B-lymphocyte) to release a large number of pro-and anti-inflammatory cytokines including TNF, IL-1β, IL-6 and so on.\n",
      "\n",
      "Here, vaccination-induced inflammation, although necessary for effective immunity, also generated strong counter-regulatory immune responses that were mediated primarily by inflammatory monocytes through suppression of T cell responses.\n",
      "\n",
      "6 Thus we can consider 3 separate but related areas: (1) the nature of the immune response, (2) the relationship between exposure and immune responses to mite allergens, and (3) the relevance of this immune response to the development of asthma.\n",
      "\n",
      "16 It is unlikely that sufficient mite allergen can be absorbed and cross the placenta when the quantity inhaled per day is only 10 to 100 ng, and it is not conceivable that the fetus makes an immune response when the mother is exposed to a quantity of antigen that is not associated with immune responses in children.\n",
      "\n",
      "Graphical Abstract Highlights d Ten experimentally defined regions within SARS-CoV have high homology with SARS-CoV-2 d Parallel bioinformatics predicted potential B and T cell epitopes for SARS-CoV-2 d Independent approaches identified the same immunodominant regions d The conserved immune regions have implications for vaccine design against multiple CoVs SUMMARY Effective countermeasures against the recent emergence and rapid expansion of the 2019 novel coronavirus (SARS-CoV-2) require the development of data and tools to understand and monitor its spread and immune responses to it.\n",
      "\n",
      "255 Clinical and experimental studies of immunity to HIV have led to the recognition that resident immune responses at exposed mucosal surfaces are likely critical components of host resistance to primary HIV infection, and achievement of potent mucosal immunity has emerged as an important consideration for the design of candidate HIV vaccines.\n",
      "\n",
      "The uterine serpins SERPING1 or SERPINA14 were also upregulated in the current study and could serve as immune suppressors against the complement-mediated immune responses.\n",
      "\n",
      "We then propose that an \"Sp/Nsp cocktail vaccine\" containing a structural 35 protein(s) (Sp) and a non-structural protein(s) (Nsp) would stimulate effective complementary 36 immune responses.\n",
      "\n",
      "Moreover, it has become increasingly clear that multiple 80 immune responses, including those induced by humoral or cell-mediated immunity, are 81 responsible for correlates of protection than antibody titers alone 9 .\n",
      "\n",
      "A cytokine storm was induced after SARS-CoV-2 infection, followed by large amounts of immune responses and changes in immune cells such as lymphocytes, which was same as people infected SARS-CoV 5,26 .\n",
      "\n"
     ]
    }
   ],
   "source": [
    "search([\"Immune\", \"Immunity\", \"Immune response\"],\n",
    "       optional_keywords=[\"new_coronavirus\", \"coronavirus\", \"covid19\"],\n",
    "       top_n=10, only_sentences=True)"
   ]
  },
  {
   "cell_type": "code",
   "execution_count": 21,
   "metadata": {},
   "outputs": [
    {
     "name": "stdout",
     "output_type": "stream",
     "text": [
      "\n",
      "Search for terms ['Effectiveness', 'movement control', 'restrictions', 'strategy', 'prevent secondary transmission']\n",
      "\n",
      "\n",
      "Search terms after cleaning, bigrams, trigrams and synonym expansion: ['effectiveness', 'movement', 'control', 'restrictions', 'strategy_prevent', 'secondary_transmission', 'efficacy', 'movements', 'strategy_preventing', 'secondary_cases', 'among_close_contacts', 'unrecognized_cases', 'superspreading_events_occurred']\n",
      "Optional search terms after cleaning, bigrams, trigrams and synonym expansion: ['newcoronavirus', 'coronavirus_covid19', '2019ncov_covid19', 'outbreak_2019_novel', 'sarscov2_2019ncov', 'coronavirus_2019ncov', 'ongoing_outbreak_novel_coronavirus', 'since_late_december', 'ongoing_outbreak_covid19', 'originating_wuhan_china', 'novel_coronavirus_outbreak', 'wuhan_coronavirus']\n",
      "\n",
      "Results:\n",
      "\n",
      "Since COVID-19 emerged in early December, 2019 in Wuhan and swept across China Mainland, a series of large-scale public health interventions, especially Wuhan lock-down combined with nationwide traffic restrictions and Stay At Home Movement, have been taken by the government to control the epidemic.\n",
      "\n",
      "The Chinese government has implemented a series of large-scale public health interventions to control the epidemic, many of which have far exceeded what International Health Regulations required, especially Wuhan lock-down, nationwide traffic restrictions and Stay At Home Movement.\n",
      "\n",
      "Our findings show that NPIs, inter-city travel restrictions, social distancing and contact reductions, as well as early case detection and isolations, have substantially reduced COVID-19 transmission across China, with the effectiveness of different interventions varying.\n",
      "\n",
      "In particular, we provided an alternative explanation for the result of Eaton and Hallett (2014) who used detailed mathematical modeling of HIV transmission to show that the amount of early transmission does not affect the effectiveness of the ART: we can control an outbreak if we can identify infected individuals and enroll them on ART faster than the observed rate at which new cases are generated, which does not depend on the estimates of the amount of early transmission.\n",
      "\n",
      "Decay rate reveals the effectiveness of government control and removal rate represents the promptness of medical treatment.\n",
      "\n",
      "Understanding the extent of community transmission has major implications for the effectiveness of different options for control ( 16 ) and for anticipating the trajectory and impact of the pandemic ( 17 ) .\n",
      "\n",
      "Human movement is a stochastic random process and should be similar to the movements of atoms, molecules, colloidal particles, and even granular powders, which have been studied extensively.\n",
      "\n",
      "doi: medRxiv preprint -7 -substantial proportion of secondary transmission occurring before illness onset 1 indicates that many transmissions cannot be prevented solely through isolation of 2 symptomatic cases, as by the time contacts are traced they may have already 3 become infectious themselves and generated secondary cases [7] .\n",
      "\n",
      "While mass restrictions on movements within cities have been implemented during this outbreak and are sometimes referred to as quarantines, here we focus on the effectiveness of quarantine and active monitoring on an individual basis based on contact tracing.\n",
      "\n",
      "The smallest values of the attack rates are achieved when control acts independently in each sub-population meaning that as soon as (I i + R i )(t) is larger than the threshold, the one-shot control is switched on in sub-population i. This is true independently of whether the efficacy or duration of control is kept fixed, while the other is varied, see figure 5(a,d) . .\n",
      "\n"
     ]
    }
   ],
   "source": [
    "search([\"Effectiveness\", \"movement control\", \"restrictions\", \"strategy\", \"prevent secondary transmission\"],\n",
    "       optional_keywords=[\"new_coronavirus\", \"coronavirus\", \"covid19\"],\n",
    "       top_n=10, only_sentences=True)"
   ]
  },
  {
   "cell_type": "code",
   "execution_count": 22,
   "metadata": {},
   "outputs": [
    {
     "name": "stdout",
     "output_type": "stream",
     "text": [
      "\n",
      "Search for terms ['Effectiveness', 'personal protective equipment', 'PPE', 'strategy', 'prevent transmission']\n",
      "\n",
      "\n",
      "Search terms after cleaning, bigrams, trigrams and synonym expansion: ['effectiveness', 'personal_protective_equipment_ppe', 'strategy_prevent', 'transmission', 'efficacy', 'personal_protective_equipment', 'appropriate_ppe', 'equipment_ppe', 'n95_higher', 'proper_personal_protective', 'proper_use_ppe', 'including_n95_masks', 'use_personal_protection', 'wearing_full', 'protective_gear', 'strategy_preventing', 'trans_mission', 'transmissions', 'disease_transmission', 'contact_transmission']\n",
      "Optional search terms after cleaning, bigrams, trigrams and synonym expansion: ['newcoronavirus', 'coronavirus_covid19', '2019ncov_covid19', 'outbreak_2019_novel', 'sarscov2_2019ncov', 'coronavirus_2019ncov', 'ongoing_outbreak_novel_coronavirus', 'since_late_december', 'ongoing_outbreak_covid19', 'originating_wuhan_china', 'novel_coronavirus_outbreak', 'wuhan_coronavirus']\n",
      "\n",
      "Results:\n",
      "\n",
      "Since COVID19 would not be suspected in these patients, healthcare workers interacting with them typically would not use the level of personal protective equipment (PPE) or precautions necessary to prevent COVID19 transmission, especially if there were also restrictions due to PPE shortages within the clinical institution.\n",
      "\n",
      "Our findings show that NPIs, inter-city travel restrictions, social distancing and contact reductions, as well as early case detection and isolations, have substantially reduced COVID-19 transmission across China, with the effectiveness of different interventions varying.\n",
      "\n",
      "Thus, the predicted effectiveness of the condom intervention will depend strongly on our estimate of the importance of early transmission: if early transmission is low, we expect disease spread to be too strong to be controlled completely by our intervention.\n",
      "\n",
      "Thus, the speed paradigm provides an intuitive underpinning for the originally surprising result of Eaton and Hallett (2014) : the effectiveness of test-and-treat interventions should not depend much on the proportion of early transmission.\n",
      "\n",
      "In particular, we provided an alternative explanation for the result of Eaton and Hallett (2014) who used detailed mathematical modeling of HIV transmission to show that the amount of early transmission does not affect the effectiveness of the ART: we can control an outbreak if we can identify infected individuals and enroll them on ART faster than the observed rate at which new cases are generated, which does not depend on the estimates of the amount of early transmission.\n",
      "\n",
      "Third, besides transmission between Wuhan and other cities, we do not consider other inter-city transmissions.\n",
      "\n",
      "We estimate metrics of disease transmission and analyze factors influencing transmission risk.\n",
      "\n",
      "If well tracked, early introductions of an emerging pathogen provide a unique opportunity to characterize its transmission, natural history, and the effectiveness of screening.\n",
      "\n",
      "This analyses is a first insight into the effectiveness of travel restrictions for COVID-19 outbreak, supports the effectiveness of the Australian response, informs gradual lifting of the bans or placing of new bans on other countries, and could inform other countries in reducing the burden of importations and resulting domestic transmission of COVID-19.\n",
      "\n",
      "doi: medRxiv preprint from Hubei province need to be quarantined and observed, with possible response options being ten days, twelve days, fourteen days and fifteen days; (3) which of the following masks can prevent COVID-19, with possible response options being activated carbon mask, cotton mask, sponge mask and medical surgical mask; (4) the known transmission routes of COVID-19 do not include which of the following, with possible response options being contact transmission, droplet transmission, soil transmission and aerosol transmission; (5)with regard to the disposal of discarded masks, what is incorrect about the following statement, with possible response options being throw it away at any time when you run out of it, masks worn by people with fever need to be disinfected, sealed and discarded, wash your hands immediately after handling the mask and discarded masks should be discarded into hazardous trash cans.\n",
      "\n"
     ]
    }
   ],
   "source": [
    "search([\"Effectiveness\", \"personal protective equipment\", \"PPE\", \"strategy\", \"prevent transmission\"],\n",
    "       optional_keywords=[\"new_coronavirus\", \"coronavirus\", \"covid19\"],\n",
    "       top_n=10, only_sentences=True)"
   ]
  },
  {
   "cell_type": "code",
   "execution_count": null,
   "metadata": {},
   "outputs": [],
   "source": [
    "search([\"transm\"],\n",
    "       optional_keywords=[\"new_coronavirus\", \"coronavirus\", \"covid19\"],\n",
    "       top_n=10, only_sentences=True)"
   ]
  }
 ],
 "metadata": {
  "kernelspec": {
   "display_name": "covid19",
   "language": "python",
   "name": "covid19"
  },
  "language_info": {
   "codemirror_mode": {
    "name": "ipython",
    "version": 3
   },
   "file_extension": ".py",
   "mimetype": "text/x-python",
   "name": "python",
   "nbconvert_exporter": "python",
   "pygments_lexer": "ipython3",
   "version": "3.6.8"
  }
 },
 "nbformat": 4,
 "nbformat_minor": 2
}
