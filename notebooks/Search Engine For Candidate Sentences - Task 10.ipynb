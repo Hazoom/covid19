{
 "cells": [
  {
   "cell_type": "markdown",
   "metadata": {},
   "source": [
    "# Search Engine For Candidate Sentences"
   ]
  },
  {
   "cell_type": "markdown",
   "metadata": {},
   "source": [
    "## Demonstration of how to use the simple search engine for fetching relevant sentences"
   ]
  },
  {
   "cell_type": "markdown",
   "metadata": {},
   "source": [
    "Let's import our search engine for `src` directory.\n",
    "\n",
    "First, one needs to set the Python source files environment variables for Juptyer Notebook. If you haven't done this, please run those two command BEFORE running Juptyer Notebook:\n",
    "1. `export PYTHONPATH=/path/to/covid19/src`\n",
    "2. `export JUPYTER_PATH=/path/to/covid19/src`"
   ]
  },
  {
   "cell_type": "code",
   "execution_count": 1,
   "metadata": {},
   "outputs": [
    {
     "name": "stderr",
     "output_type": "stream",
     "text": [
      "unable to import 'smart_open.gcs', disabling that module\n"
     ]
    }
   ],
   "source": [
    "from search.searchengine import SearchEngine\n",
    "from pprint import pprint\n",
    "import os"
   ]
  },
  {
   "cell_type": "code",
   "execution_count": 2,
   "metadata": {},
   "outputs": [],
   "source": [
    "data_dir = \"../../../workspace/kaggle/covid19/data\""
   ]
  },
  {
   "cell_type": "markdown",
   "metadata": {},
   "source": [
    "Initialize out SearchEngine object with:\n",
    "1. Sentences metadata\n",
    "2. bi-gram model\n",
    "3. tri-gram model\n",
    "4. Trained FastText vectors"
   ]
  },
  {
   "cell_type": "code",
   "execution_count": 3,
   "metadata": {},
   "outputs": [
    {
     "name": "stdout",
     "output_type": "stream",
     "text": [
      "Loading CSV: ../../../workspace/kaggle/covid19/data/sentences_with_metadata.csv and building mapping dictionary...\n",
      "Finished loading CSV: ../../../workspace/kaggle/covid19/data/sentences_with_metadata.csv and building mapping dictionary\n",
      "Loaded 249343 sentences\n",
      "Loading bi-gram model: ../../../workspace/kaggle/covid19/data/covid_bigram_model_v0.pkl\n",
      "Finished loading bi-gram model: ../../../workspace/kaggle/covid19/data/covid_bigram_model_v0.pkl\n",
      "Loading tri-gram model: ../../../workspace/kaggle/covid19/data/covid_trigram_model_v0.pkl\n",
      "Finished loading tri-gram model: ../../../workspace/kaggle/covid19/data/covid_trigram_model_v0.pkl\n",
      "Loading fasttext model: ../../../workspace/kaggle/covid19/data/fasttext_no_subwords_trigrams/word-vectors-100d.txt\n",
      "Finished loading fasttext model: ../../../workspace/kaggle/covid19/data/fasttext_no_subwords_trigrams/word-vectors-100d.txt\n"
     ]
    }
   ],
   "source": [
    "search_engine = SearchEngine(\n",
    "    os.path.join(data_dir, \"sentences_with_metadata.csv\"),\n",
    "    os.path.join(data_dir, \"covid_bigram_model_v0.pkl\"),\n",
    "    os.path.join(data_dir, \"covid_trigram_model_v0.pkl\"),\n",
    "    os.path.join(data_dir, \"fasttext_no_subwords_trigrams/word-vectors-100d.txt\"),\n",
    ")"
   ]
  },
  {
   "cell_type": "markdown",
   "metadata": {},
   "source": [
    "Simple search function that gets a list of keywords to search:"
   ]
  },
  {
   "cell_type": "code",
   "execution_count": 4,
   "metadata": {},
   "outputs": [],
   "source": [
    "def search(keywords, optional_keywords=None, top_n=10, synonyms_threshold=0.8, only_sentences=False):\n",
    "    print(f\"\\nSearch for terms {keywords}\\n\\n\")\n",
    "    results = search_engine.search(\n",
    "        keywords, optional_keywords=optional_keywords, top_n=top_n, synonyms_threshold=synonyms_threshold\n",
    "    )\n",
    "    print(\"\\nResults:\\n\")\n",
    "    \n",
    "    if only_sentences:\n",
    "        for result in results:\n",
    "            print(result['sentence'] + \"\\n\")\n",
    "    else:\n",
    "        pprint(results)"
   ]
  },
  {
   "cell_type": "markdown",
   "metadata": {},
   "source": [
    "Let's see some examples:"
   ]
  },
  {
   "cell_type": "code",
   "execution_count": 13,
   "metadata": {},
   "outputs": [
    {
     "name": "stdout",
     "output_type": "stream",
     "text": [
      "\n",
      "Search for terms ['coordinate', 'local', 'public health', 'emergency response']\n",
      "\n",
      "\n",
      "Search terms after cleaning, bigrams, trigrams and synonym expansion: ['coordinate', 'local_public_health', 'emergency_response', 'local_state', 'health_departments', 'state_local_health_departments', 'local_state_federal', 'local_county', 'local_health', 'public_health_departments', 'local_health_authorities', 'state_local_health', 'health_department', 'disaster_response', 'disaster_emergency', 'command_control', 'hospital_preparedness', 'emergency_preparedness', 'preparedness', 'responding_public_health', 'hospital_emergency_management', 'contingency_plan', 'preparedness_efforts']\n",
      "Optional search terms after cleaning, bigrams, trigrams and synonym expansion: ['newcoronavirus', 'coronavirus_covid19', '2019ncov_covid19', 'outbreak_2019_novel', 'sarscov2_2019ncov', 'coronavirus_2019ncov', 'ongoing_outbreak_novel_coronavirus', 'since_late_december', 'ongoing_outbreak_covid19', 'originating_wuhan_china', 'novel_coronavirus_outbreak', 'wuhan_coronavirus']\n",
      "\n",
      "Results:\n",
      "\n",
      "A level-1 response means that during the occurrence of a particularly serious public health emergency, the provincial headquarters shall organize and coordinate the emergency response work within its administrative area according to the decision deployment and unified command of the State Council [22] .\n",
      "\n",
      "Any concern for possible COVID-19 should immediately prompt notification of institutional infection prevention and control as well as local or state health departments.\n",
      "\n",
      "These mechanisms include the Emergency Operations Centre (EOC), the Standard Operating Procedure for Regional Standby Arrangements and Coordination of Joint Disaster Relief and Emergency Response Operations (SASOP), the ASEAN Joint Disaster Response Plan (AJDRP), the Disaster Emergency Logistics System for ASEAN (DELSA), the Emergency Response and Assessment Team (ERAT), the ASEAN Regional Disaster Emergency Response Simulation Exercise (ARDEX), ASEAN-ERAT (ASEAN-Emergency Response and Assessment Team) and the AHA Centre Executive (ACE) Programme (REF).\n",
      "\n",
      "As we know, preparedness for the epidemic spread is a primary public health concern for any health department.\n",
      "\n",
      "Substantial preparedness efforts at destination cities should be taken to prevent further international seeding and transmission, otherwise the local establishment of epidemics, and even a pandemic, might become inevitable.\n",
      "\n",
      "Despite the potential for genome sequencing to revolutionize outbreak response, the global public health community still struggles to coordinate data sharing across international borders, between academic researchers, and with private companies [51] [52] [53] .\n",
      "\n",
      "14 When the patient was laboratory-confirmed to have SARS-CoV-2 infection, a thorough epidemiological investigation including contact tracing was implemented by the outbreak investigation team of Taiwan CDC and local health authorities.\n",
      "\n",
      "In CH-CDF plot of the proteins of (D) SARS-CoV-2 (E) Human SARS and (F) Bat CoV, the Y coordinate of each protein spot signifies distance of corresponding protein from the boundary in CH plot and the X coordinate value corresponds to the average distance of the CDF curve for the respective protein from the CDF boundary.\n",
      "\n",
      "Bat CoV, the Y coordinate of each protein spot signifies distance of corresponding protein from the boundary in CH plot and the X coordinate value corresponds to the average distance of the CDF curve for the respective protein from the CDF boundary.\n",
      "\n",
      "Thus, setting up reference panels is a vital element in our preparedness approaches to emerging viruses.\n",
      "\n"
     ]
    }
   ],
   "source": [
    "search([\"coordinate\", \"local\", \"public health\", \"emergency response\"],\n",
    "       optional_keywords=[\"new_coronavirus\", \"coronavirus\", \"covid19\"],\n",
    "       top_n=10, only_sentences=True)"
   ]
  },
  {
   "cell_type": "code",
   "execution_count": 14,
   "metadata": {},
   "outputs": [
    {
     "name": "stdout",
     "output_type": "stream",
     "text": [
      "\n",
      "Search for terms ['federal', 'state', 'local', 'public health', 'emergency response', 'surveillance']\n",
      "\n",
      "\n",
      "Search terms after cleaning, bigrams, trigrams and synonym expansion: ['federal_state_local', 'public_health_emergency_response', 'surveillance', 'local_state_federal', 'response_agencies', 'local_regional_state', 'federal_agencies', 'local_provincial', 'federal_level', 'state_local_public_health', 'departments_agencies', 'other_federal_agencies', 'local_state', 'health_emergency_response', 'skills_techniques', 'national_subnational_levels', 'response_disasters', 'leadership_training_program', 'ihr_2005_implementation', 'accreditation_process', 'national_coordination', 'coordination_communication', 'risk_assessment_risk_communication']\n",
      "Optional search terms after cleaning, bigrams, trigrams and synonym expansion: ['newcoronavirus', 'coronavirus_covid19', '2019ncov_covid19', 'outbreak_2019_novel', 'sarscov2_2019ncov', 'coronavirus_2019ncov', 'ongoing_outbreak_novel_coronavirus', 'since_late_december', 'ongoing_outbreak_covid19', 'originating_wuhan_china', 'novel_coronavirus_outbreak', 'wuhan_coronavirus']\n",
      "\n",
      "Results:\n",
      "\n",
      "Therefore, ensuring that surveillance and health systems around the world are ready and sufficiently strong to detect and deal with cases seen is a priority.\n",
      "\n",
      "Due to current limited knowledge of the epidemiology of the virus at the time of writing (e.g. the proportion and infectiousness of asymptomatic or subclinical infections) and the rapidly changing situation of the outbreak, the simplicity of our approach to define importation risk can help to quickly update risk assessments, prioritise surveillance, target limited resources and understand the potential of 2019n-CoV introduction at specific destinations [32] .\n",
      "\n",
      "Clearly, we are in dire need of contact tracing data and/or high-resolution pathogen genome surveillance for this outbreak.\n",
      "\n",
      "This virus represents an emerging significant public health concern and expanding the scope of diagnostic utility to applications outside of traditional laboratories will enable greater prevention and surveillance approaches.\n",
      "\n",
      "At the same time, municipalities responded differently, regarding timeliness and adequacy of measures (including declarations of public health emergency, holiday extension, event cancelation, and surveillance using infrared thermometers in public spaces.\n",
      "\n",
      "With appropriate and sustained disease prevention and control measures (e.g. suspension public transportation, cancellation of mass gatherings, implementation of surveillance, and promotion of wearing face masks and personal hygiene), the outbreak is unlikely to spread out in those cities.\n",
      "\n",
      "Even with this unknown, seasonal variation in transmissibility of SARS-CoV-2 and underlying differences in migration, introduction times, and attack rate should thus be taken into account when monitoring and projecting global transmission, planning further surveillance of the epidemic, and developing pandemic prevention and containment strategies.\n",
      "\n",
      "In addition, we excluded from our Specifically, we use the Early Detection and Reporting Epidemics of Potential International Concern component of the Index 3 , henceforth referred to as simply the GHS index, and define high surveillance locations as those whose GHS index is greater than the 75th quantile.\n",
      "\n",
      "We assumed that across the n =49 high surveillance locations the case counts follow a Poisson distribution, and that the expected case count is linearly proportional to the daily air travel volume: where C i denotes the reported case count in the i -th location, λ i denotes the expected case count in the i -th location, β denotes the regression coefficient, x i denotes the daily air travel volume of the i -th location.\n",
      "\n",
      "The model was fitted in R (version 3.6.1) 5 to compute , the maximum likelihood estimate of β, and β ︿ thus the expected case count given high surveillance (Figure 1, solid grey line) .\n",
      "\n"
     ]
    }
   ],
   "source": [
    "search([\"federal\", \"state\", \"local\", \"public health\", \"emergency response\", \"surveillance\"],\n",
    "       optional_keywords=[\"new_coronavirus\", \"coronavirus\", \"covid19\"],\n",
    "       top_n=10, only_sentences=True)"
   ]
  },
  {
   "cell_type": "code",
   "execution_count": 16,
   "metadata": {},
   "outputs": [
    {
     "name": "stdout",
     "output_type": "stream",
     "text": [
      "\n",
      "Search for terms ['investments', 'baseline', 'public health', 'response', 'infrastructure preparedness']\n",
      "\n",
      "\n",
      "Search terms after cleaning, bigrams, trigrams and synonym expansion: ['investments', 'baseline', 'public_health_response', 'infrastructure', 'preparedness', 'investment', 'investments_health', 'public_investment', 'publicprivate_partnerships', 'maternal_neonatal_child', 'investments_made', 'international_donors', 'pledges', 'fiscal_space', 'economic_diversification', 'response_efforts', 'response_plans', 'public_health_actions', 'response_plan', 'outbreak_control_measures', 'preparedness_efforts', 'emergencies_international_concern', 'preparedness_planning', 'public_health_crisis', 'timely_response', 'infrastructures', 'infrastructure_support', 'physical_infrastructure', 'communications_infrastructure', 'resources_infrastructure', 'emergency_preparedness', 'preparedness_response', 'preparedness_efforts', 'preparedness_planning', 'disaster_preparedness', 'level_preparedness', 'emergency_response', 'disaster_response', 'hospital_preparedness', 'overall_preparedness']\n",
      "Optional search terms after cleaning, bigrams, trigrams and synonym expansion: ['newcoronavirus', 'coronavirus_covid19', '2019ncov_covid19', 'outbreak_2019_novel', 'sarscov2_2019ncov', 'coronavirus_2019ncov', 'ongoing_outbreak_novel_coronavirus', 'since_late_december', 'ongoing_outbreak_covid19', 'originating_wuhan_china', 'novel_coronavirus_outbreak', 'wuhan_coronavirus']\n",
      "\n",
      "Results:\n",
      "\n",
      "The Lancet Infectious Diseases Commission will discuss disruptive factors and how preparedness planning must consider this new ecology by exploring current preparedness platforms and their vulnerability to disruptive factors; by addressing key disruptions, iden tifying possible solutions, and providing recommendations for countries to strengthen preparedness; by developing a multidisciplinary approach including National governments; international agencies; non-governmental organisations and charities; corporate entities; academic institutions Weakness in behavioural change guidance from national and international organisations; scarcity of sustainable leadership and financing in failed states leading to neglected or uncoordinated health systems; increasing duration and frequency of insecurity or conflict zones hindering efforts to recognise and respond to health threats; failure of countries to report disease outbreaks because of fear of economic consequences Social Travel patterns, migration, and interconnectivity; trade; technology and digital revolution, including those that affect human interaction; expansion and control of information; patterns of communication including social media; expectations and definition of expertise; social conflict and privacy Failure of host countries to protect the health of refugees and migrants; epidemic of devastating rumours and fake news on social media due to increased digital connectivity; emergence of social influencers exerting influence on politicians and institutions; increased resistance and hesitancy within communities to health interventions because of opposition by local experts Environment Geography affecting biological diversity; planned and unplanned urbanisation; climate change; interaction between humans, animals, and vectors; human development; state of the economy; state of health systems Climate change resulting in increased flooding with failed sanitation and safe water; altered distribution of zoonotic disease reservoirs and vectors; emerging zoonosis with increased agricultural production and human encroachment into animal environments; changing national priorities resulting in sharply reduced investment in health systems Pathogenesis Changing disease biomes; relationship between hosts and pathogens; pathogen evolution and changes; technologies such as synthetic biology, and the risks of manufacturing pathogens and their accidental or deliberate release; characteristics of a population such as underlying disease condition Increased opportunities for mutation or reassortment of infectious agents; increasingly reduced effectiveness of conventional vaccines and therapeutics for prevention and treatment of diseases; failure of conventional control measures to break the chain of transmission of infectious agents To tackle the wide-ranging issues, the Commission has brought together experts from academic, public health, policy making, international, non-governmental, and corporate institutions.\n",
      "\n",
      "Substantial preparedness efforts at destination cities should be taken to prevent further international seeding and transmission, otherwise the local establishment of epidemics, and even a pandemic, might become inevitable.\n",
      "\n",
      "Nevertheless, investments in preparedness for biological threats remain underfunded, leaving the world vulnerable to catastrophic .\n",
      "\n",
      "If the investment is over a duration 1 year, the return is often annualized to simplify comparisons with other investments of different durations.\n",
      "\n",
      "We believe that using near real-time multi-modal mobility datasets and detailed disease surveillance with qualitative and quantitative inputs on ongoing interventions and preparedness efforts will aid in swift and efficient global response to such outbreaks.\n",
      "\n",
      "Through their retrospective public health response policy analysis of SARS and MERS in South Korea, Lee and Jung [23] showed that legislation and leadership influenced the overall emergency response process and the establishment of intergovernmental response systems and the success of risk communications during infectious-related events.\n",
      "\n",
      "However, major technical challenges remain to be addressed for effective preparedness from the standpoint of contamination and infrastructure.\n",
      "\n",
      "Preparedness is the key to navigating any public health crisis, and malariaendemic countries must be prepared for the challenges that COVID-19 might bring while minimising disruption to malaria control.\n",
      "\n",
      "In describing WHO preparedness planning for an infl uenza pandemic, Jai Narain (WHO Regional Offi ce for South-East Asia, New Delhi, India) emphasised the key role of national preparedness plans and of these plans being tested and refi ned through mock drills and tabletop exercises.\n",
      "\n",
      "Unfortunately, in resource-constrained settings, investment in this critical health protection infrastructure is a low priority compared with other health priorities.\n",
      "\n"
     ]
    }
   ],
   "source": [
    "search([\"investments\", \"baseline\", \"public health\", \"response\", \"infrastructure preparedness\"],\n",
    "       optional_keywords=[\"new_coronavirus\", \"coronavirus\", \"covid19\"],\n",
    "       top_n=10, only_sentences=True)"
   ]
  },
  {
   "cell_type": "code",
   "execution_count": 21,
   "metadata": {},
   "outputs": [
    {
     "name": "stdout",
     "output_type": "stream",
     "text": [
      "\n",
      "Search for terms ['communicate', 'talk', 'elders']\n",
      "\n",
      "\n",
      "Search terms after cleaning, bigrams, trigrams and synonym expansion: ['communicate', 'talk', 'elders', 'lower_income', 'lowincome_families', 'more_likely_live', 'vulnerable_group', 'poorly_educated', 'alaska_natives', 'higher_income', 'disabled_people', 'among_older_people', 'live_rural_areas']\n",
      "Optional search terms after cleaning, bigrams, trigrams and synonym expansion: ['newcoronavirus', 'coronavirus_covid19', '2019ncov_covid19', 'outbreak_2019_novel', 'sarscov2_2019ncov', 'coronavirus_2019ncov', 'ongoing_outbreak_novel_coronavirus', 'since_late_december', 'ongoing_outbreak_covid19', 'originating_wuhan_china', 'novel_coronavirus_outbreak', 'wuhan_coronavirus']\n",
      "\n",
      "Results:\n",
      "\n",
      "What we know about social distancing policies is based largely on models of influenza, 4,13 where children are a vulnerable group.\n",
      "\n",
      "As it is highly contagious, many people are frightened by it and even talk fearfully about coronavirus, which can also be observed in front-line medical staff.\n",
      "\n",
      "We found that macrophages frequently communicate with the CoVs targets through chemokine and phagocytosis signaling, highlighting the importance of tissue macrophages in immune defense and immune pathogenesis.\n",
      "\n",
      "Before 2002, 4 kinds of coronaviruses (CoVs, namely HCoV 229E, NL63, OC43, and HKU1) were known to infect humans, causing 10%-30% mild upper respiratory infection in adults, occasionally severe pneumonia in elders, infants, and immunodeficient persons.\n",
      "\n",
      "We will also add capabilities to communicate with smartphones to have access to the cloud so that the result of each diagnostic test can be passed to health agencies remotely.\n",
      "\n",
      "Ideally, this vulnerable group should be monitored regularly at community-based medical centers in situations when resources are available.\n",
      "\n",
      "A great number of death cases in our study were poorly-educated elders with chronic comorbidities, their illness deteriorated rapidly to severe ARDS within several days, presented as suddenly occurred severe hypoxaemia, malignant arrhythmia, cardiac and respiratory arrest, unfortunately death, despite of timely rescue including invasive ventilation and other advanced medical interventions.\n",
      "\n",
      "When suspected cases admitted to hospitals, involved physicians may mention Feidian and communicate in WeChat using this word.\n",
      "\n",
      "As the current study indicated, using WeChat data may perform better than using Baidu search query data in early detecting the outbreak of a new disease because people may communicate first in WeChat in the times of WeChat as a lifestyle of Chinese The main limitation of the study lies on its retrospective nature.\n",
      "\n",
      "doi: medRxiv preprint (5) Dyspnea: 1 = Not troubled by breathlessness except with strenuous exercise; 2 = Troubled by shortness of breath when hurrying on a level surface or walking up a slight hill; 3 = Walks slower than normal based on age on a level surface due to breathlessness or has to stop for breath when walking on level surface at own pace; 4 = Stops for breath after walking 100 meters or after a few minutes on a level surface; 5 = Too breathless to leave the house (6) Lack of strength: 1 = No lack of strength; 2 = Mild: Slightly lacked strength, able to do physical work, improves after rest but does not recover to normal; 3 = Moderate: Lacked strength, feels weak, able to persist in daily activities and work but light physical work is very tiring and does not recover to normal after long periods of rest; 4 = Severe: Extremely lacked strength, unable to conduct normal activities, feels tired at rest, cannot talk  We first obtained the corresponding symptoms from the 6 subjects under observation, then continuously added new symptoms to the online scale as we furthered our understanding of the disease.\n",
      "\n",
      "Nevertheless, given the potential of this virus to cause a global pandemic, we believe our study could be one of important clinical studies to guide the clinical diagnosis and treatment to this vulnerable group.\n",
      "\n",
      "Age is a risk factor 2 8 9 for a more severe disease outcome, because of the generally inferior 2 9 0 function of the immune system among older people.\n",
      "\n",
      "6 Based on the reported clinical characteristics of patients infected with SARS-CoV-2, the overall mortality ranges from 2% to 5%, which can be even higher in the elders with severe complications.\n",
      "\n",
      "proportion of the elders, while those cases outside of Wuhan are mostly young people who work or study in Wuhan but return home during the Spring Festival in January 2020.\n",
      "\n",
      "Correctly, there has recently been talk of a \"blind spot\" in the media regarding the spread of Covid-19 among prison inmates.\n",
      "\n"
     ]
    }
   ],
   "source": [
    "search([\"communicate\", \"talk\", \"elders\"],\n",
    "       optional_keywords=[\"new_coronavirus\", \"coronavirus\", \"covid19\"],\n",
    "       top_n=15, only_sentences=True)"
   ]
  },
  {
   "cell_type": "code",
   "execution_count": 22,
   "metadata": {},
   "outputs": [
    {
     "name": "stdout",
     "output_type": "stream",
     "text": [
      "\n",
      "Search for terms ['Risk communication', 'guidelines', 'simple', 'families']\n",
      "\n",
      "\n",
      "Search terms after cleaning, bigrams, trigrams and synonym expansion: ['risk_communication', 'guidelines', 'simple', 'families', 'risk_communications', 'crisis_emergency', 'health_communication', 'effective_risk_communication', 'communication_strategies', 'preparedness_planning', 'communicating_public', 'risk_communication_principles', 'emergency_responses', 'outbreak_communication', 'recommendations', 'international_guidelines', 'national_guidelines', 'published_guidelines', 'guideline', 'guidance', 'standards_guidelines', 'family']\n",
      "Optional search terms after cleaning, bigrams, trigrams and synonym expansion: ['newcoronavirus', 'coronavirus_covid19', '2019ncov_covid19', 'outbreak_2019_novel', 'sarscov2_2019ncov', 'coronavirus_2019ncov', 'ongoing_outbreak_novel_coronavirus', 'since_late_december', 'ongoing_outbreak_covid19', 'originating_wuhan_china', 'novel_coronavirus_outbreak', 'wuhan_coronavirus']\n",
      "\n",
      "Results:\n",
      "\n",
      "The Lancet Infectious Diseases Commission will discuss disruptive factors and how preparedness planning must consider this new ecology by exploring current preparedness platforms and their vulnerability to disruptive factors; by addressing key disruptions, iden tifying possible solutions, and providing recommendations for countries to strengthen preparedness; by developing a multidisciplinary approach including National governments; international agencies; non-governmental organisations and charities; corporate entities; academic institutions Weakness in behavioural change guidance from national and international organisations; scarcity of sustainable leadership and financing in failed states leading to neglected or uncoordinated health systems; increasing duration and frequency of insecurity or conflict zones hindering efforts to recognise and respond to health threats; failure of countries to report disease outbreaks because of fear of economic consequences Social Travel patterns, migration, and interconnectivity; trade; technology and digital revolution, including those that affect human interaction; expansion and control of information; patterns of communication including social media; expectations and definition of expertise; social conflict and privacy Failure of host countries to protect the health of refugees and migrants; epidemic of devastating rumours and fake news on social media due to increased digital connectivity; emergence of social influencers exerting influence on politicians and institutions; increased resistance and hesitancy within communities to health interventions because of opposition by local experts Environment Geography affecting biological diversity; planned and unplanned urbanisation; climate change; interaction between humans, animals, and vectors; human development; state of the economy; state of health systems Climate change resulting in increased flooding with failed sanitation and safe water; altered distribution of zoonotic disease reservoirs and vectors; emerging zoonosis with increased agricultural production and human encroachment into animal environments; changing national priorities resulting in sharply reduced investment in health systems Pathogenesis Changing disease biomes; relationship between hosts and pathogens; pathogen evolution and changes; technologies such as synthetic biology, and the risks of manufacturing pathogens and their accidental or deliberate release; characteristics of a population such as underlying disease condition Increased opportunities for mutation or reassortment of infectious agents; increasingly reduced effectiveness of conventional vaccines and therapeutics for prevention and treatment of diseases; failure of conventional control measures to break the chain of transmission of infectious agents To tackle the wide-ranging issues, the Commission has brought together experts from academic, public health, policy making, international, non-governmental, and corporate institutions.\n",
      "\n",
      "The official guidelines (the Guidelines of the National Health Commission of China for COVID-19, 5 th edition; 2 and the WHO interim guideline 3 ) currently recommend two laboratory parameters, \"normal/ decreased number of leukocytes\" or \"decreased number of lymphocytes\", as one of the criteria for diagnosis of COVID-19 infection.\n",
      "\n",
      "To this end, a hotline for psychological guidance can be set up, and guidelines for this hotline should be formulated to effectively alleviate the tension and panic of the public.\n",
      "\n",
      "In addition, prevention and treatment guidelines, and guidance on drug use and management of coronavirus patients can be accessed via the telemedicine cloud.\n",
      "\n",
      "164 165 Besides these families, we identified a fourth family of Ig domains from the same Alpha-CoVs which 166 contain the above-discussed ORF7a/8-like Ig family ( Figure 3A ).\n",
      "\n",
      "Health authorities, including the National Health Commission of the People's Republic of China, 11 WHO, 12 and U.S Centers for Disease Control and Prevention, 13 have issued safety recommendations for taking simple precautions to reduce exposure to and transmission of the virus.\n",
      "\n",
      "Health authorities, including the National Health Commission of the People's Republic of China, 11 WHO, 12 and U.S Centers for Disease Control and Prevention, 13 have issued safety recommendations for taking simple precautions to reduce exposure to and transmission of the virus.\n",
      "\n",
      "Health authorities, including the National Health Commission of the People's Republic of China, 11 WHO, 12 and U.S Centers for Disease Control and Prevention, 13 have issued safety recommendations for taking simple precautions to reduce exposure to and transmission of the virus.\n",
      "\n",
      "Comparing the two genome sequences with a nonredundant selection of representatives from all known CoV families by alignment [10] and phylogenetic tree ( Figure 1A ) [11] shows that they belong to the SARS family of betacoronaviruses and while related to SARS-CoV (80% genome identity), they were most closely related to SARS-like bat CoV from China (88% identity) as closest known sequence at the time of emergence.\n",
      "\n",
      "Comparing the two genome sequences with a nonredundant selection of representatives from all known CoV families by alignment [10] and phylogenetic tree ( Figure 1A ) [11] shows that they belong to the SARS family of betacoronaviruses and while related to SARS-CoV (80% genome identity), they were most closely related to SARS-like bat CoV from China (88% identity) as closest known sequence at the time of emergence.\n",
      "\n",
      "This guideline was prepared in accordance with the methodology and general rules of WHO Guideline Development and the WHO Rapid Advice Guidelines [1, 2] .\n",
      "\n",
      "Good communication strategies for preventive measures in the population, and in neighboring countries in addition to Brazil, will be essential and this response should be aligned with the recommendations of the WHO.\n",
      "\n",
      "This suspicion was first raised in 1989 by Strachan, 61 : '… declining family size, improvements in household amenities, and higher standards of personal cleanliness have reduced the opportunity for cross infection in young families.\n",
      "\n",
      "21 In April 2003, the Chinese authorities gained full control of all activities to combat SARS, with guidelines and control measures that were national, unambiguous, rational, and widely followed, under central guidance.\n",
      "\n",
      "The study participants were recruited by informing families through daycare centers, family daycare, health centers, well-baby clinics, and local media in the Turku area between February 1996 and April 1998.\n",
      "\n"
     ]
    }
   ],
   "source": [
    "search([\"Risk communication\", \"guidelines\", \"simple\", \"families\"],\n",
    "       optional_keywords=[\"new_coronavirus\", \"coronavirus\", \"covid19\"],\n",
    "       top_n=15, only_sentences=True)"
   ]
  },
  {
   "cell_type": "code",
   "execution_count": 29,
   "metadata": {},
   "outputs": [
    {
     "name": "stdout",
     "output_type": "stream",
     "text": [
      "\n",
      "Search for terms ['indications', 'risk', 'population groups']\n",
      "\n",
      "\n",
      "Search terms after cleaning, bigrams, trigrams and synonym expansion: ['indications', 'risk', 'population', 'groups', 'risks', 'populations', 'group']\n",
      "Optional search terms after cleaning, bigrams, trigrams and synonym expansion: ['newcoronavirus', 'coronavirus_covid19', '2019ncov_covid19', 'outbreak_2019_novel', 'sarscov2_2019ncov', 'coronavirus_2019ncov', 'ongoing_outbreak_novel_coronavirus', 'since_late_december', 'ongoing_outbreak_covid19', 'originating_wuhan_china', 'novel_coronavirus_outbreak', 'wuhan_coronavirus']\n",
      "\n",
      "Results:\n",
      "\n",
      "For these measures to be effective, special attention should be devoted to those population groups that are more at risk and patterns of intergenerational contact.\n",
      "\n",
      "For these measures to be effective, a special attention should be devoted to those population groups that are more at risk and to the strength of the connections across generations.\n",
      "\n",
      "Younger parts of a population present a much lower risk than older populations.\n",
      "\n",
      "Meta-analyses on the pooled data showed that blood group A had a significantly higher risk for COVID-19 (odds ratio-OR, 1.20; 95% confidence interval-CI 1.02~1.43, P = 0.02) compared with non-A blood groups, whereas blood group O had a significantly lower risk for the infectious disease (OR, 0.67; 95% CI 0.60~0.75, P < 0.001) compared with non-O blood groups.\n",
      "\n",
      "People with blood group A have a significantly higher risk for acquiring COVID-19 compared with non-A blood groups, whereas blood group O has a significantly lower risk for the infection compared with non-O blood groups.\n",
      "\n",
      "Again, the results showed that blood group A was associated with a significantly higher risk for COVID-19 (OR, 1.21; 95% CI 1.02~1.43, P = 0.027) compared with non-A blood groups, whereas blood group O was associated with a significantly lower risk for the infection (OR, 0.67; 95% CI 0.60~0.75, P < 0.001) compared with non-O blood groups.\n",
      "\n",
      "With regard to the two established risk groups, 502 (72.8%) children were assigned to the good prognosis group and 187 (27.2%) to the poor prognosis group (Figure 1) .\n",
      "\n",
      "Recently developed methods based on phylogenetic and population genetic models can be used to date the origin of HCV outbreaks, estimate past rates of transmission and track the migration of different strains among locations or risk groups.\n",
      "\n",
      "In terms of domestic connectivity and risk, the high population outflows from three counties in Wuhan with many colleges and universities in the first two weeks of January were likely college students leaving the city to avoid the peak traffic just one week before the New Year.\n",
      "\n",
      "Our findings suggest that the height of the epidemic and the attack rate is highly dependent on seasonality of transmission and that even small changes in transmission risk can lead to large changes in attack rate due to the spatial disaggregation of the population at risk.\n",
      "\n",
      "Further indications that the population has not yet reached the original distribution by region are provided in Figs. 1C and 1D , where we show the number of individuals living in each region at the beginning of the simulation (initial data obtained from the Chinese Yearbook, see Materials and Methods) and at the end according to our data.\n",
      "\n",
      "Indeed, even though some populations were closed after Jan. 23rd, 2020, using these values for 2019 correctly describes the return of the population that had left for the Spring Festival.\n",
      "\n",
      "There was no significant difference in sex between the two groups (χ 2 =1.744; P=0.187), age in COVIDpositive group significantly higher than that of COVID-negative group (t=17.09; P<0.001).\n",
      "\n",
      "Hypoxemia was a common complication that affected 19 (35.85%) of the 53 study patients, with a significant difference in the number of affected patients between the AMI (n=6, 100%) and non-definite AMI with cardiac marker abnormalities (n=10, 41.67%) groups and the without cardiac marker abnormalities group (n=3, 13.04%; p<0.001).\n",
      "\n",
      "We investigated how their risks depend on those parameters, and how the risk is increasing in time as the number of cases in China is growing.\n",
      "\n"
     ]
    }
   ],
   "source": [
    "search([\"indications\", \"risk\", \"population groups\"],\n",
    "       optional_keywords=[\"new_coronavirus\", \"coronavirus\", \"covid19\"],\n",
    "       top_n=15, only_sentences=True)"
   ]
  },
  {
   "cell_type": "code",
   "execution_count": 30,
   "metadata": {},
   "outputs": [
    {
     "name": "stdout",
     "output_type": "stream",
     "text": [
      "\n",
      "Search for terms ['Misunderstanding', 'containment', 'mitigation']\n",
      "\n",
      "\n",
      "Search terms after cleaning, bigrams, trigrams and synonym expansion: ['misunderstanding', 'containment_mitigation', 'unease', 'misunderstandings', 'hospitality_tourism_industry', 'dismissive', 'divergence_views', 'scaremongering', 'local_customs', 'raising_public', 'reporting_suicide', 'miscommunication', 'developing_policies', 'response_future_outbreaks', 'policies_interventions', 'infectious_diseases_threats', 'informing_policy', 'implementation_eff_ective', 'distribution_scarce_resources', 'risk_communication_efforts', 'current_future_outbreaks', 'pandemic_planning_response']\n",
      "Optional search terms after cleaning, bigrams, trigrams and synonym expansion: ['newcoronavirus', 'coronavirus_covid19', '2019ncov_covid19', 'outbreak_2019_novel', 'sarscov2_2019ncov', 'coronavirus_2019ncov', 'ongoing_outbreak_novel_coronavirus', 'since_late_december', 'ongoing_outbreak_covid19', 'originating_wuhan_china', 'novel_coronavirus_outbreak', 'wuhan_coronavirus']\n",
      "\n",
      "Results:\n",
      "\n",
      "The implications of misunderstanding the real dynamic of the COVID-19 pandemic are extremely dangerous.\n",
      "\n",
      "Notably, variation in reporting descriptive data may lead to the misunderstanding of COVID-9 characteristics.\n",
      "\n",
      "We therefore show results using the best estimates currently 81 available, in the hope of informing policy decisions in this fast-changing environment.\n",
      "\n",
      "Additionally, the model keeps track of four ways in which screening can miss infected 104 travellers: (1) due to imperfect sensitivity, symptom screening may fail to detect symptoms in 105 travellers that display symptoms; (2) questionnaires may fail to detect exposure risk in travellers 106 aware they have been exposed, owing to deliberate obfuscation or misunderstanding; (3)  107 screening may fail to detect both symptoms and known exposure risk in travellers who have 108 both and (4) travellers not exhibiting symptoms and with no knowledge of their exposure are 109 fundamentally undetectable.\n",
      "\n",
      "Line: We characterized epidemiological and clinical features of a large population-based sample of COVID-19 cases in the largest migrant city of China, and our findings could provide knowledge of SARS-CoV-2 transmission in the context of comprehensive containment and mitigation efforts in similar settings.\n",
      "\n",
      "For many countries around the world, the focus of public health officers on the COVID-19 epidemic has shifted 238 from containment to mitigation and delay.\n",
      "\n",
      "Even when control strategy is shifting away from containment to mitigation as the pandemic unfolds, contact tracing would still be an important measure, such as when there are superspreading events that may occur in frail and high-risk groups such as nursing homes or hospitals.\n",
      "\n",
      "However, testing capacity (having sufficient tests and laboratory throughput) to support these non-pharmaceutical interventions remains a challenge for containment and mitigation of COVID-19 infections.\n",
      "\n",
      "Based on genotyping, SARS-CoV-2 is unlikely to be significantly linked to SARS-CoV. Rather, SARS-CoV-2 may lead to the misunderstanding of the pathogenesis of the new coronavirus, which is less pathogenic compared with SARS-CoV. Human coronavirus (HCoV) is commonly referred to coronaviruses of low pathogenicity, with human beings being their primary natural host, as exemplified by HCoV-OC43, 229E, NL63, and HKU1.\n",
      "\n",
      "Depending on the CFR value, the government response toward COVID-19 may vary, and estimates of CFR can also influence the strictness of policy judgement and the extent of containment and mitigation measures.\n",
      "\n",
      "The other side of the coin is heroisation, the investment of hope and trust in a context of risk and unease.\n",
      "\n",
      "We therefore show results using the best estimates currently available, in the hope of informing policy decisions in this fast-changing environment.\n",
      "\n",
      "Additionally, building on the four detectability classes explained above, the model keeps track of four ways in which screening can miss infected travellers: (1) due to imperfect sensitivity, symptom screening may fail to detect symptoms in travellers that display symptoms; (2) questionnaires may fail to detect exposure risk in travellers aware they have been exposed, owing to deliberate obfuscation or misunderstanding; (3) screening may fail to detect both symptoms and known exposure risk in travellers who have both and (4) travellers not exhibiting symptoms and with no knowledge of their exposure are fundamentally undetectable.\n",
      "\n",
      "The other side of the coin is heroisation, the investment of hope and trust in a context of risk and unease.\n",
      "\n",
      "Scenarios for the potential spread and impact of COVID-19 in the EU/EEA, with suggested actions for containment and mitigation, March 2020 • Information about cases within the EU/EEA can be gathered and exchanged rapidly and securely using tools such as the Early Warning and Response System (EWRS) and The European Surveillance System (TESSy).\n",
      "\n"
     ]
    }
   ],
   "source": [
    "search([\"Misunderstanding\", \"containment\", \"mitigation\"],\n",
    "       optional_keywords=[\"new_coronavirus\", \"coronavirus\", \"covid19\"],\n",
    "       top_n=15, only_sentences=True)"
   ]
  },
  {
   "cell_type": "code",
   "execution_count": 32,
   "metadata": {},
   "outputs": [
    {
     "name": "stdout",
     "output_type": "stream",
     "text": [
      "\n",
      "Search for terms ['inequity', 'public health', 'access', 'information', 'available']\n",
      "\n",
      "\n",
      "Search terms after cleaning, bigrams, trigrams and synonym expansion: ['inequity', 'public_health', 'access', 'information_available', 'inequalities_access', 'health_inequality', 'social_inequality', 'social_inequalities', 'health_inequity', 'inequities_health', 'health_inequalities', 'inequities', 'disparities_health', 'china_faces', 'medical_public_health']\n",
      "Optional search terms after cleaning, bigrams, trigrams and synonym expansion: ['newcoronavirus', 'coronavirus_covid19', '2019ncov_covid19', 'outbreak_2019_novel', 'sarscov2_2019ncov', 'coronavirus_2019ncov', 'ongoing_outbreak_novel_coronavirus', 'since_late_december', 'ongoing_outbreak_covid19', 'originating_wuhan_china', 'novel_coronavirus_outbreak', 'wuhan_coronavirus']\n",
      "\n",
      "Results:\n",
      "\n",
      "This is why this chapter is focusing mainly on the issues related to the source, access, extent, and quality of medicines information available among pharmacists and pharmacy personnel.\n",
      "\n",
      "Access for all patients to medical expertise and quality of care is addressed by a number of policy measures for their safety, support for low-income patients and the socially excluded, citizens' access to health services across Europe, implementation of best practices, fighting antimicrobial resistance, high safety standards in the blood, organs, tissues, and cells for transplantation and generally reducing and eliminating disparities in health.\n",
      "\n",
      "In the first season of 2020, an outbreak of atypical pneumonia (COVID-19) caused by a novel coronavirus (SARS-CoV2 or 2019-nCoV) 1 has spread all over the world and had a great impact on public health and worldwide economy.\n",
      "\n",
      "Of additional concern is that the anticipated destinations of hundreds of thousands of travellers departing China are to low-income or lower-middle income countries, where inadequately resourced medical and public health systems might be unable to detect and adequately manage an imported case of 2019n-CoV, including possible subsequent community spread.\n",
      "\n",
      "The mobile phone datasets analysed during the current study are not publicly available since this would compromise the agreement with the data provider, but information on the process of requesting access to the data that support the findings of this study are available from Dr. Shengjie Lai (Shengjie.Lai@soton.ac.uk). .\n",
      "\n",
      "However, for human researchers studying the viruses and the hosts, the vast amount of information available cannot be processed effectively and in a timely manner, particularly when the scientific understanding may be limited, which can further lower the information processing efficiency.\n",
      "\n",
      "We searched for article abstracts containing the keyword \"public health\" and compiled the abstract set into a random corpus, and then compiled them into a randomized control dictionary, which contains a wide range of proteins, genes, and related biological entities.\n",
      "\n",
      "Furthermore, given the controversy over the appropriate handling of elective surgical cases during this pandemic, we hope that our results may have a positive impact on health policy and public health.\n",
      "\n",
      "Furthermore, given the controversy over the appropriate handling of elective surgical cases during this pandemic, we hope that our results may have a positive impact on health policy and public health.\n",
      "\n",
      "27 It is possible that many of our predicted new infections would not qualify for lab testing per the CDC's guidelines or would not be able to access it, and therefore would not be included in COVID19 case counts.\n",
      "\n",
      "The basic reproductive number -R 0 -is one of the most common and most commonly misapplied numbers in public health.\n",
      "\n",
      "The basic reproductive number -R 0 -is one of the most common and most commonly misapplied numbers in public health.\n",
      "\n",
      "This need for rapid situation awareness is why R 0 is so widely used in public health.\n",
      "\n",
      "Altogether, predicting outbreak size based on early data is an incredibly complex challenge but one that is increasingly within reach due to new mathematical analyses and faster communication of public health data. .\n",
      "\n",
      "Such drugs will be amenable to routine parenteral administration through currently established routes and additionally, direct to the respiratory tract via nasal administration, using nebulised heparin, which would be unlikely to gain significant access to the circulation.\n",
      "\n"
     ]
    }
   ],
   "source": [
    "search([\"inequity\", \"public health\", \"access\", \"information\", \"available\"],\n",
    "       optional_keywords=[\"new_coronavirus\", \"coronavirus\", \"covid19\"],\n",
    "       top_n=15, only_sentences=True)"
   ]
  },
  {
   "cell_type": "code",
   "execution_count": 33,
   "metadata": {},
   "outputs": [
    {
     "name": "stdout",
     "output_type": "stream",
     "text": [
      "\n",
      "Search for terms ['marginalized populations', 'disadvantaged populations', 'research priorities', 'minorities']\n",
      "\n",
      "\n",
      "Search terms after cleaning, bigrams, trigrams and synonym expansion: ['marginalized_populations', 'disadvantaged_populations', 'research_priorities', 'minorities', 'disenfranchised', 'disadvantaged_groups', 'poor_marginalized', 'socially_disadvantaged', 'socially_marginalized', 'hardtoreach_populations', 'unhealthy_behaviours', 'sexual_minorities', 'barriers_accessing', 'marginalised_communities', 'disadvantaged_groups', 'marginalized_populations', 'gender_norms', 'aboriginal_canadians', 'inequities_health', 'sexual_minorities', 'reproductive_rights', 'marginalised_communities', 'barriers_accessing', 'ethnic_diversity', 'priority_actions', 'intersectoral_collaboration', 'planning_preparedness', 'research_gaps', 'effective_intervention_strategies', 'environmental_health_sectors', 'implementation_strategies', 'suicide_suicide_attempts', 'oh_research', 'epidemic_preparedness', 'poorly_educated', 'minority_groups', 'socioeconomically', 'ethnoracial', 'tibetans', 'marginalized_populations', 'lower_income', 'ethnic_minorities', 'marginalized_groups', 'migrant_women']\n",
      "Optional search terms after cleaning, bigrams, trigrams and synonym expansion: ['newcoronavirus', 'coronavirus_covid19', '2019ncov_covid19', 'outbreak_2019_novel', 'sarscov2_2019ncov', 'coronavirus_2019ncov', 'ongoing_outbreak_novel_coronavirus', 'since_late_december', 'ongoing_outbreak_covid19', 'originating_wuhan_china', 'novel_coronavirus_outbreak', 'wuhan_coronavirus']\n",
      "\n",
      "Results:\n",
      "\n",
      "In this Special Issue on the health of marginalized people, we have gathered 15 papers from many countries, describing a wide range of physical and mental health issues, using a variety of advanced research methods to understand the health challenges faced by a diverse array of marginalized populations globally, and recommending interventions to improve the health of marginalized populations.\n",
      "\n",
      "In this Special Issue on the health of marginalized people, we have gathered 15 papers from many countries, describing a wide range of physical and mental health issues, using a variety of advanced research methods to understand the health challenges faced by a diverse array of marginalized populations globally, and recommending interventions to improve the health of marginalized populations.\n",
      "\n",
      "Sexual minorities, people with mental illness, migrants, refugees, the homeless, transient populations, transgender people, sex workers and many other groups who do not conform to existing social norms, or who have historically been marginalized and excluded, experience many often completely preventable illnesses.\n",
      "\n",
      "Sexual minorities, people with mental illness, migrants, refugees, the homeless, transient populations, transgender people, sex workers and many other groups who do not conform to existing social norms, or who have historically been marginalized and excluded, experience many often completely preventable illnesses.\n",
      "\n",
      "Second, once infected with severe acute respiratory syndrome coronavirus 2-which results in COVID-19-people with mental disorders can be exposed to more barriers in accessing timely health services, because of discrimination associated with mental ill-health in health-care settings.\n",
      "\n",
      "Compared with other international migrants (ie, international students), IMWs encounter more barriers in accessing health services in host countries (eg, inadequate health insurance), particularly migrant domestic workers.\n",
      "\n",
      "6 Health plans, employers, hospital systems, and media outlets should work to overcome these barriers by (1) educating people that TM is an effective alternative and safer under the current circumstances, (2) expanding network reimbursement coverage for physicians to see their patients through TM, (3) making people aware that a TM benefit exists, with step-by-step instructions on how it can be accessed, (4) helping people understand how TM works, and (5) continuing to reduce cost barriers to accessing TM.\n",
      "\n",
      "Alongside scalability, a need exists for inclusive tools that allow for genuine and meaningful engagement from children in rural areas, ethnic minorities, gender and sexual minorities, those exposed to poverty and violence, and those who experience health challenges.\n",
      "\n",
      "As such, COVID-19 outbreaks in custodial settings are of importance for public health, for at least two reasons: first, that explosive outbreaks in these settings have the potential to overwhelm prison health-care services and place additional demands on overburdened specialist facilities in the community; and second, that, with an estimated 30 million people released from custody each year globally, prisons are a vector for community transmission that will disproportionately impact marginalised communities.\n",
      "\n",
      "In the absence of setting-specific data, an epidemiological understanding of related and unrelated co-circulating pathogens is prudent to guide preliminary estimates of who is at risk and when, and to develop research priorities pertaining to population susceptibility.\n",
      "\n",
      "Our findings suggest continued monitoring of cocirculating respiratory viruses will be important for guiding accurate case ascertainment, research priorities surrounding population susceptibility, and for assessing the comparative population and healthcare burden of COVID-19 in the context of multiple cocirculating respiratory pathogens.\n",
      "\n",
      "On a different time scale, the answer also helps to define research priorities in virology and public health.\n",
      "\n",
      "There are more than 3000 Tibetans living here.\n",
      "\n",
      "All of them were Tibetans living in Qinghai-Tibetan plateau Twenty-six were members of one family ,34 had a history of attending a funeral or temple; however, none had visited Wuhan or had contact with Wuhan residents.\n",
      "\n",
      "The epidemic sizes projections are subject to model and parameter uncertainty, though the relative magnitude of predictions in other cities and countries/regions may be informative for planning and preparedness purposes.\n",
      "\n"
     ]
    }
   ],
   "source": [
    "search([\"marginalized populations\", \"disadvantaged populations\", \"research priorities\", \"minorities\"],\n",
    "       optional_keywords=[\"new_coronavirus\", \"coronavirus\", \"covid19\"],\n",
    "       top_n=15, only_sentences=True)"
   ]
  },
  {
   "cell_type": "code",
   "execution_count": 39,
   "metadata": {},
   "outputs": [
    {
     "name": "stdout",
     "output_type": "stream",
     "text": [
      "\n",
      "Search for terms ['prisoner', 'prison', 'information', 'lack', 'diagnosis', 'treatment']\n",
      "\n",
      "\n",
      "Search terms after cleaning, bigrams, trigrams and synonym expansion: ['prisoner', 'prison', 'information', 'lack', 'diagnosis_treatment', 'found_guilty', 'hackers', 'sadhus', 'really_bad', 'rnao_2003', 'protesting', 'jailed', 'lovers', 'compulsorily', 'protested', 'inmates', 'correctional_facilities', 'information_about', 'relevant_information', 'information_regarding', 'diagnosis_management']\n",
      "Optional search terms after cleaning, bigrams, trigrams and synonym expansion: ['newcoronavirus', 'coronavirus_covid19', '2019ncov_covid19', 'outbreak_2019_novel', 'sarscov2_2019ncov', 'coronavirus_2019ncov', 'ongoing_outbreak_novel_coronavirus', 'since_late_december', 'ongoing_outbreak_covid19', 'originating_wuhan_china', 'novel_coronavirus_outbreak', 'wuhan_coronavirus']\n",
      "\n",
      "Results:\n",
      "\n",
      "With SARS-CoV-2 being discovered very recently, there is currently a lack of immunological information available about the virus (e.g., information about immunogenic epitopes eliciting antibody or T cell responses).\n",
      "\n",
      "Despite these limitations, our study provides data from the first large cohort outside Wuhan and adds important laboratory information to the rapidly accumulating body of information about COVID-19.\n",
      "\n",
      "/2020 knowledge, relevant examinations for kidney diseases and medication, district and county-level hospitals could not meet their needs for medical treatment, revealing a problem related to a lack of diagnosis and treatment standards for CKD in basic pediatric departments.\n",
      "\n",
      "Similarly, we found in our survey that in the face of this serious epidemic, 76.7% of the parents of children with CKD showed a lack of prevention and infection control knowledge, as well as knowledge of channels for nutrition guidance and emergency coping and appeal making; 72.1% of the parents said that they lacked access to medical treatment and medication, suggesting that in major public health emergencies, the Chinese medical service system should give full play to the unique advantages of online hospitals and online diagnosis and treatment, encourage online follow-up consultation for some common diseases and chronic diseases, and reduce the risk of cross-infection among patients in offline treatment.\n",
      "\n",
      "Our findings may provide useful information for the diagnosis and treatment of COVID-19 and indicate the need for effective eye protection for COVID-19 patients.\n",
      "\n",
      "However, when the data does not provide sufficient information on directionality of transmission, this lack of auxiliary information may cause problems for estimation.\n",
      "\n",
      "Herein, we present on an overview of the currently available information on the pathogenesis, epidemiology, clinical presentation, diagnosis, and treatment of this virus.\n",
      "\n",
      "According to the media, the Chinese government reacted to the outbreak among inmates by locking down affected prisons, suspending the transportation of goods, testing inmates who were in contact with the diagnosed wardens, and also by dismissing the prison directors and setting up a commission to analyse the spread of the virus among detained individuals (Caixing Global 2019).\n",
      "\n",
      "According to the media, the Chinese government reacted to the outbreak among inmates by locking down affected prisons, suspending the transportation of goods, testing inmates who were in contact with the diagnosed wardens, and also by dismissing the prison directors and setting up a commission to analyse the spread of the virus among detained individuals (Caixing Global 2019).\n",
      "\n",
      "With SARS-CoV-2 being discovered very recently, there is currently a lack of immunological information available about the virus (e.g., information about immunogenic epitopes eliciting antibody or T cell responses).\n",
      "\n",
      "Similarly, though substantial data and information on the disease has been shared, Wetsman [26] acknowledges that there is a lack of some vital information, like the ease of spread of the virus from person-to-person, and this is a key to containing the disease as interactions between people from different parts of the globe are still active.\n",
      "\n",
      "An important goal was to provide information about the diffusion of a communicable disease without being dependent on centralised storage of information about individual patients or revealing patient-identifiable information.\n",
      "\n",
      "They may also lack important information items such as the onset date of a communicable disease.\n",
      "\n",
      "The reader should seek more current information on diagnosis, treatment and prevention.\n",
      "\n",
      "TAIR (The Arabidopsis Information Resource) is an online database/portal that can be used to search for information about the genome, source mutants amongst others.\n",
      "\n"
     ]
    }
   ],
   "source": [
    "search([\"prisoner\", \"prison\", \"access to information\", \"diagnosis\", \"treatment\"],\n",
    "       optional_keywords=[\"new_coronavirus\", \"coronavirus\", \"covid19\"],\n",
    "       top_n=15, only_sentences=True)"
   ]
  },
  {
   "cell_type": "code",
   "execution_count": 40,
   "metadata": {},
   "outputs": [
    {
     "name": "stdout",
     "output_type": "stream",
     "text": [
      "\n",
      "Search for terms ['coverage policies', 'diagnosis', 'treatment', 'care']\n",
      "\n",
      "\n",
      "Search terms after cleaning, bigrams, trigrams and synonym expansion: ['coverage', 'policies', 'diagnosis_treatment', 'care', 'policy', 'polices', 'national_policy', 'existing_laws', 'national_policies', 'diagnosis_management', 'health_care']\n",
      "Optional search terms after cleaning, bigrams, trigrams and synonym expansion: ['newcoronavirus', 'coronavirus_covid19', '2019ncov_covid19', 'outbreak_2019_novel', 'sarscov2_2019ncov', 'coronavirus_2019ncov', 'ongoing_outbreak_novel_coronavirus', 'since_late_december', 'ongoing_outbreak_covid19', 'originating_wuhan_china', 'novel_coronavirus_outbreak', 'wuhan_coronavirus']\n",
      "\n",
      "Results:\n",
      "\n",
      "Genereux, Schluter, Tamahashi et al. [4] argued that standardizing psychometrically robust instruments would also be urgently needed to identify at-risk patients throughout-before, during, and after emergencies and disasters-to ensure that mental and social health needs are addressed throughout the pathway of care (prevention, screening, diagnosis, treatment, and rehabilitation).\n",
      "\n",
      "Genereux, Schluter, Tamahashi et al. [4] argued that standardizing psychometrically robust instruments would also be urgently needed to identify at-risk patients throughout-before, during, and after emergencies and disasters-to ensure that mental and social health needs are addressed throughout the pathway of care (prevention, screening, diagnosis, treatment, and rehabilitation).\n",
      "\n",
      " Implement mechanisms and policies to promptly alert key facility staff, including infection control, health care epidemiology, facility leadership, occupational health, clinical laboratory, and frontline staff about known or suspected COVID-19 patients.\n",
      "\n",
      "We urge practitioners to promptly start adopting e-mental health care applications, both as methods to continue their care to current patients in need and as interventions to cope with the imminent upsurge in mental health symptoms due to the coronavirus.\n",
      "\n",
      "To date, the U.S. government, in concert with private philanthro-VACCINE POLICY Reviews pies, has implemented a patchwork of policies to make the vaccine market more attractive for private firms and to increase access to these products for individuals.\n",
      "\n",
      "In such a turbulent environment, the firms facing the epidemic outbreaks have a series of common questions to ask, i.e., how long can an SC sustain a disruption, how long does it take for an SC to recover after an epidemic outbreak, which SC operating policy (e.g., accepting the temporal shortages; using prepared contingency pandemic plans; reacting situationally by changing the operation policies during the epidemic time) is the most efficient to cope with disruptions at different levels of severity of the epidemic dispersal?\n",
      "\n",
      "• Which SC operating policy (e.g., accepting the temporal shortages; using prepared contingency pandemic plans; reacting situationally by changing the operation policies during the epidemic time) is the most efficient one to cope with disruptions at different levels of severity of the epidemic dispersal?\n",
      "\n",
      "The initial proposal must move within the limits and the general guidelines of the European policy for health and social care and take into account the changes that have occurred in the macroeconomic, legal, and organizationaladministrative level of the health systems.\n",
      "\n",
      "l Quality in health-care and long-term health care and adjustment, including preventive care, to the changing needs and preferences of society and individuals, primarily through the development of quality standards that meet international best practices and through the development of a higher sense of responsibility among health professionals and patients and recipients of care.\n",
      "\n",
      "Treatment Bedbound patients have basic personal-care needs including good skin care, adequate bowel and bladder function, and oral health care.\n",
      "\n",
      "Appropriate health care It has been recommended for the management of patients with confirmed CJD: ■ Clinicians must be vigilant in their care.\n",
      "\n",
      "Table 3 .53 Infective endocarditis prophylaxis and dental procedures Dental procedures Antibiotic regimens for antibiotic requiring antibiotic for endocarditis prophylaxis prophylaxis prophylaxis Previous infective All dental procedures Amoxicillin 3 g orally one hour endocarditis involving dento-before the dental procedure: gingival manipulation 5 < 10 years of age 1.5 g < 5 years of age 750 mg If allergic to penicillin: replacement surgery Clindamycin 600 mg orally i.e. mechanical or one hour before the dental biological prosthetic procedure: valves 5 < 10 years of age 300 mg < 5 years of age 150 mg Patients allergic to systemic or pulmonary penicillin or unable to shunt or conduit swallow capsules: Azithromycin 500 mg orally one hour before the dental procedure: 5 < 10 years of age 300 mg < 5 years of age 200 mg Patients at risk for endocarditis should receive intensive preventive oral health care, to try and minimise the need for dental intervention ■ There is no reliable evidence to suggest that electric toothbrushes pose a risk ■ The aim is to keep periodontal infection at its lowest possible level, to obviate the need for extractions or, if extractions are unavoidable, to lessen the severity of the bacteraemia by keeping the gingiva healthy ■ However, it must be appreciated that scaling also requires antibiotic cover ■ Unfortunately, this aspect of care is frequently neglected; a very high proportion of patients attending cardiology clinics have periodontal disease.\n",
      "\n",
      "Spec Care Dentist 13:241-244 • Griffiths J 2002 Guidelines for oral health care for people with a physical disability.\n",
      "\n",
      "In this latest epidemic and threat to those they care for, Chinese nurses showed their courage, wisdom and sense of responsibility amid the novel coronavirus outbreak and won the respect of the Chinese people.\n",
      "\n",
      "19 Since every center or healthcare institution has different holiday schedules and policies, we divided this number by 365 days/year for a lower bound of 131,506.85 cases per day nationally.\n",
      "\n"
     ]
    }
   ],
   "source": [
    "search([\"coverage policies\", \"diagnosis\", \"treatment\", \"care\"],\n",
    "       optional_keywords=[\"new_coronavirus\", \"coronavirus\", \"covid19\"],\n",
    "       top_n=15, only_sentences=True)"
   ]
  },
  {
   "cell_type": "code",
   "execution_count": null,
   "metadata": {},
   "outputs": [],
   "source": []
  }
 ],
 "metadata": {
  "kernelspec": {
   "display_name": "covid19",
   "language": "python",
   "name": "covid19"
  },
  "language_info": {
   "codemirror_mode": {
    "name": "ipython",
    "version": 3
   },
   "file_extension": ".py",
   "mimetype": "text/x-python",
   "name": "python",
   "nbconvert_exporter": "python",
   "pygments_lexer": "ipython3",
   "version": "3.6.8"
  }
 },
 "nbformat": 4,
 "nbformat_minor": 2
}
